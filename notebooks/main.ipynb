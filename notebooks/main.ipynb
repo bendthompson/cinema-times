{
 "cells": [
  {
   "cell_type": "markdown",
   "id": "57343b38",
   "metadata": {},
   "source": [
    "Adding abs path for importing"
   ]
  },
  {
   "cell_type": "code",
   "execution_count": 1,
   "id": "5ef49e3c",
   "metadata": {},
   "outputs": [],
   "source": [
    "import os\n",
    "import sys"
   ]
  },
  {
   "cell_type": "code",
   "execution_count": 2,
   "id": "f2650488",
   "metadata": {},
   "outputs": [],
   "source": [
    "import pandas as pd"
   ]
  },
  {
   "cell_type": "code",
   "execution_count": 3,
   "id": "08b27c53",
   "metadata": {},
   "outputs": [],
   "source": [
    "path = os.path.abspath('..')"
   ]
  },
  {
   "cell_type": "code",
   "execution_count": 4,
   "id": "59fbb581",
   "metadata": {},
   "outputs": [],
   "source": [
    "sys.path.append(path)"
   ]
  },
  {
   "cell_type": "markdown",
   "id": "f5de81f6",
   "metadata": {},
   "source": [
    "## IMDB Info and Pictures\n"
   ]
  },
  {
   "cell_type": "code",
   "execution_count": 12,
   "id": "8e5cc6e6",
   "metadata": {},
   "outputs": [],
   "source": [
    "from cinematimes import imdb"
   ]
  },
  {
   "cell_type": "code",
   "execution_count": 14,
   "id": "5fd9e188",
   "metadata": {},
   "outputs": [],
   "source": [
    "movieinfo = imdb.moviesearch('yourname')"
   ]
  },
  {
   "cell_type": "code",
   "execution_count": 15,
   "id": "f7f5851f",
   "metadata": {},
   "outputs": [
    {
     "data": {
      "text/plain": [
       "{'id': 'tt5311514',\n",
       " 'resultType': 'Title',\n",
       " 'image': 'https://imdb-api.com/images/original/MV5BODRmZDVmNzUtZDA4ZC00NjhkLWI2M2UtN2M0ZDIzNDcxYThjL2ltYWdlXkEyXkFqcGdeQXVyNTk0MzMzODA@._V1_Ratio0.7273_AL_.jpg',\n",
       " 'title': 'Your Name.',\n",
       " 'description': '(2016)'}"
      ]
     },
     "execution_count": 15,
     "metadata": {},
     "output_type": "execute_result"
    }
   ],
   "source": [
    "movieinfo"
   ]
  },
  {
   "cell_type": "code",
   "execution_count": 17,
   "id": "ce552ae6",
   "metadata": {},
   "outputs": [
    {
     "data": {
      "text/plain": [
       "'https://imdb-api.com/images/384x528/MV5BODRmZDVmNzUtZDA4ZC00NjhkLWI2M2UtN2M0ZDIzNDcxYThjL2ltYWdlXkEyXkFqcGdeQXVyNTk0MzMzODA@._V1_Ratio0.7273_AL_.jpg'"
      ]
     },
     "execution_count": 17,
     "metadata": {},
     "output_type": "execute_result"
    }
   ],
   "source": [
    "resizedimage = imdb.resizeimage(movieinfo['image'])\n",
    "resizedimage"
   ]
  },
  {
   "cell_type": "code",
   "execution_count": 19,
   "id": "ea3bfabc",
   "metadata": {},
   "outputs": [
    {
     "data": {
      "text/plain": [
       "'https://imdb-api.com/posters/original/q719jXXEzOoYaps6babgKnONONX.jpg'"
      ]
     },
     "execution_count": 19,
     "metadata": {},
     "output_type": "execute_result"
    }
   ],
   "source": [
    "mposter = imdb.poster(movieinfo['id'])\n",
    "mposter"
   ]
  },
  {
   "cell_type": "markdown",
   "id": "9ef39060",
   "metadata": {},
   "source": [
    "### "
   ]
  },
  {
   "cell_type": "markdown",
   "id": "894be20e",
   "metadata": {},
   "source": [
    "## HTML Scraping"
   ]
  },
  {
   "cell_type": "markdown",
   "id": "ceab1308",
   "metadata": {},
   "source": [
    "### Meguro"
   ]
  },
  {
   "cell_type": "code",
   "execution_count": 5,
   "id": "7ccf36cd",
   "metadata": {},
   "outputs": [],
   "source": [
    "from cinematimes import meguro"
   ]
  },
  {
   "cell_type": "code",
   "execution_count": 6,
   "id": "c40700a4",
   "metadata": {},
   "outputs": [],
   "source": [
    "soup = meguro.get_soup()"
   ]
  },
  {
   "cell_type": "code",
   "execution_count": 7,
   "id": "bcf4131d",
   "metadata": {},
   "outputs": [],
   "source": [
    "meguro_info = meguro.meguro_info(soup)"
   ]
  },
  {
   "cell_type": "code",
   "execution_count": 8,
   "id": "87e4d4e2",
   "metadata": {
    "scrolled": false
   },
   "outputs": [
    {
     "data": {
      "text/plain": [
       "[['5/7', '5/13'],\n",
       " {'engtitle': 'SPIDER-MAN: NO WAY HOME', 'jptitle': 'スパイダーマン：ノー・ウェイ・ホーム'},\n",
       " {'engtitle': 'UNCHARTED', 'jptitle': 'アンチャーテッド'},\n",
       " {'engtitle': 'SPIDER-MAN: INTO THE SPIDER-VERSE',\n",
       "  'jptitle': 'スパイダーマン：スパイダーバース'},\n",
       " ['5/14', '5/15'],\n",
       " {'engtitle': '', 'jptitle': 'ハッピーアワー'},\n",
       " ['5/14', '5/20'],\n",
       " {'engtitle': 'EL PLANETA', 'jptitle': 'エル プラネタ'},\n",
       " {'engtitle': 'LAS NINAS / SCHOOLGIRLS', 'jptitle': 'スクールガールズ'},\n",
       " ['5/21', '5/27'],\n",
       " {'engtitle': 'The Blues Brothers', 'jptitle': 'ブルース・ブラザース'},\n",
       " {'engtitle': '（あるいは、革命がテレビ放映されなかった時）\\nSUMMER OF SOUL (OR, WHEN THE REVOLUTION COULD NOT BE TELEVISED)\\n',\n",
       "  'jptitle': 'サマー・オブ・ソウル<span class=\"text_small\">（あるいは、革命がテレビ放映されなかった時）'},\n",
       " {'engtitle': 'BELUSHI', 'jptitle': 'ＢＥＬＵＳＨＩ ベルーシ'},\n",
       " ['5/28', '6/3'],\n",
       " {'engtitle': '', 'jptitle': '新幹線大爆破'},\n",
       " {'engtitle': '', 'jptitle': '家族ゲーム'},\n",
       " {'engtitle': '', 'jptitle': '太陽を盗んだ男'},\n",
       " {'engtitle': '', 'jptitle': '炎の肖像'},\n",
       " ['6/4', '6/10'],\n",
       " {'engtitle': '怒火・重案 / RAGING FIRE', 'jptitle': 'レイジング・ファイア'},\n",
       " {'engtitle': '肥龍過江 / ENTER THE FAT DRAGON',\n",
       "  'jptitle': '燃えよデブゴン ＴＯＫＹＯ ＭＩＳＳＩＯＮ'},\n",
       " ['6/18', '6/24'],\n",
       " {'engtitle': '', 'jptitle': 'ひらいて'},\n",
       " ['6/25', '7/1'],\n",
       " {'engtitle': '', 'jptitle': '私は白鳥'},\n",
       " {'engtitle': '', 'jptitle': 'くじらびと'},\n",
       " {'engtitle': 'THE TRUFFLE HUNTERS', 'jptitle': '白いトリュフの宿る森'},\n",
       " {'engtitle': 'FANTASTIC FUNGI', 'jptitle': '素晴らしき、きのこの世界'}]"
      ]
     },
     "execution_count": 8,
     "metadata": {},
     "output_type": "execute_result"
    }
   ],
   "source": [
    "meguro_info"
   ]
  },
  {
   "cell_type": "code",
   "execution_count": 130,
   "id": "0ee38c92",
   "metadata": {},
   "outputs": [],
   "source": [
    "meguro_infodict={}\n",
    "\n",
    "for item in meguro_info:\n",
    "    if type(item) == list:\n",
    "        key=item[0]+' - '+item[1]\n",
    "        infodict[key] = []\n",
    "    if type(item) == dict:\n",
    "        if item['engtitle'] == '':\n",
    "            item['engtitle'] = 'none'\n",
    "        value = item['engtitle']\n",
    "        infodict[key].append(value)"
   ]
  },
  {
   "cell_type": "code",
   "execution_count": 131,
   "id": "8a548365",
   "metadata": {},
   "outputs": [
    {
     "data": {
      "text/plain": [
       "{'5/7 - 5/13': ['SPIDER-MAN: NO WAY HOME',\n",
       "  'UNCHARTED',\n",
       "  'SPIDER-MAN: INTO THE SPIDER-VERSE'],\n",
       " '5/14 - 5/15': ['none'],\n",
       " '5/14 - 5/20': ['EL PLANETA', 'LAS NINAS / SCHOOLGIRLS'],\n",
       " '5/21 - 5/27': ['The Blues Brothers',\n",
       "  '（あるいは、革命がテレビ放映されなかった時）\\nSUMMER OF SOUL (OR, WHEN THE REVOLUTION COULD NOT BE TELEVISED)\\n',\n",
       "  'BELUSHI'],\n",
       " '5/28 - 6/3': ['none', 'none', 'none', 'none'],\n",
       " '6/4 - 6/10': ['怒火・重案 / RAGING FIRE', '肥龍過江 / ENTER THE FAT DRAGON'],\n",
       " '6/18 - 6/24': ['none'],\n",
       " '6/25 - 7/1': ['none', 'none', 'THE TRUFFLE HUNTERS', 'FANTASTIC FUNGI']}"
      ]
     },
     "execution_count": 131,
     "metadata": {},
     "output_type": "execute_result"
    }
   ],
   "source": [
    "infodict"
   ]
  },
  {
   "cell_type": "code",
   "execution_count": 135,
   "id": "3c1b8210",
   "metadata": {
    "scrolled": true
   },
   "outputs": [
    {
     "data": {
      "text/html": [
       "<div>\n",
       "<style scoped>\n",
       "    .dataframe tbody tr th:only-of-type {\n",
       "        vertical-align: middle;\n",
       "    }\n",
       "\n",
       "    .dataframe tbody tr th {\n",
       "        vertical-align: top;\n",
       "    }\n",
       "\n",
       "    .dataframe thead th {\n",
       "        text-align: right;\n",
       "    }\n",
       "</style>\n",
       "<table border=\"1\" class=\"dataframe\">\n",
       "  <thead>\n",
       "    <tr style=\"text-align: right;\">\n",
       "      <th></th>\n",
       "      <th>5/7 - 5/13</th>\n",
       "      <th>5/14 - 5/15</th>\n",
       "      <th>5/14 - 5/20</th>\n",
       "      <th>5/21 - 5/27</th>\n",
       "      <th>5/28 - 6/3</th>\n",
       "      <th>6/4 - 6/10</th>\n",
       "      <th>6/18 - 6/24</th>\n",
       "      <th>6/25 - 7/1</th>\n",
       "    </tr>\n",
       "  </thead>\n",
       "  <tbody>\n",
       "    <tr>\n",
       "      <th>0</th>\n",
       "      <td>SPIDER-MAN: NO WAY HOME</td>\n",
       "      <td>none</td>\n",
       "      <td>EL PLANETA</td>\n",
       "      <td>The Blues Brothers</td>\n",
       "      <td>none</td>\n",
       "      <td>怒火・重案 / RAGING FIRE</td>\n",
       "      <td>none</td>\n",
       "      <td>none</td>\n",
       "    </tr>\n",
       "    <tr>\n",
       "      <th>1</th>\n",
       "      <td>UNCHARTED</td>\n",
       "      <td>-</td>\n",
       "      <td>LAS NINAS / SCHOOLGIRLS</td>\n",
       "      <td>（あるいは、革命がテレビ放映されなかった時）\\nSUMMER OF SOUL (OR, WH...</td>\n",
       "      <td>none</td>\n",
       "      <td>肥龍過江 / ENTER THE FAT DRAGON</td>\n",
       "      <td>-</td>\n",
       "      <td>none</td>\n",
       "    </tr>\n",
       "    <tr>\n",
       "      <th>2</th>\n",
       "      <td>SPIDER-MAN: INTO THE SPIDER-VERSE</td>\n",
       "      <td>-</td>\n",
       "      <td>-</td>\n",
       "      <td>BELUSHI</td>\n",
       "      <td>none</td>\n",
       "      <td>-</td>\n",
       "      <td>-</td>\n",
       "      <td>THE TRUFFLE HUNTERS</td>\n",
       "    </tr>\n",
       "    <tr>\n",
       "      <th>3</th>\n",
       "      <td>-</td>\n",
       "      <td>-</td>\n",
       "      <td>-</td>\n",
       "      <td>-</td>\n",
       "      <td>none</td>\n",
       "      <td>-</td>\n",
       "      <td>-</td>\n",
       "      <td>FANTASTIC FUNGI</td>\n",
       "    </tr>\n",
       "  </tbody>\n",
       "</table>\n",
       "</div>"
      ],
      "text/plain": [
       "                          5/7 - 5/13 5/14 - 5/15              5/14 - 5/20  \\\n",
       "0            SPIDER-MAN: NO WAY HOME        none               EL PLANETA   \n",
       "1                          UNCHARTED           -  LAS NINAS / SCHOOLGIRLS   \n",
       "2  SPIDER-MAN: INTO THE SPIDER-VERSE           -                        -   \n",
       "3                                  -           -                        -   \n",
       "\n",
       "                                         5/21 - 5/27 5/28 - 6/3  \\\n",
       "0                                 The Blues Brothers       none   \n",
       "1  （あるいは、革命がテレビ放映されなかった時）\\nSUMMER OF SOUL (OR, WH...       none   \n",
       "2                                            BELUSHI       none   \n",
       "3                                                  -       none   \n",
       "\n",
       "                    6/4 - 6/10 6/18 - 6/24           6/25 - 7/1  \n",
       "0          怒火・重案 / RAGING FIRE        none                 none  \n",
       "1  肥龍過江 / ENTER THE FAT DRAGON           -                 none  \n",
       "2                            -           -  THE TRUFFLE HUNTERS  \n",
       "3                            -           -      FANTASTIC FUNGI  "
      ]
     },
     "execution_count": 135,
     "metadata": {},
     "output_type": "execute_result"
    }
   ],
   "source": [
    "mbd_to_df(infodict)"
   ]
  },
  {
   "cell_type": "code",
   "execution_count": 144,
   "id": "29c6149d",
   "metadata": {},
   "outputs": [
    {
     "data": {
      "text/plain": [
       "['SPIDER-MAN: NO WAY HOME',\n",
       " 'UNCHARTED',\n",
       " 'SPIDER-MAN: INTO THE SPIDER-VERSE',\n",
       " 'EL PLANETA',\n",
       " 'LAS NINAS / SCHOOLGIRLS',\n",
       " 'The Blues Brothers',\n",
       " '（あるいは、革命がテレビ放映されなかった時）\\nSUMMER OF SOUL (OR, WHEN THE REVOLUTION COULD NOT BE TELEVISED)\\n',\n",
       " 'BELUSHI',\n",
       " '怒火・重案 / RAGING FIRE',\n",
       " '肥龍過江 / ENTER THE FAT DRAGON',\n",
       " 'THE TRUFFLE HUNTERS',\n",
       " 'FANTASTIC FUNGI']"
      ]
     },
     "execution_count": 144,
     "metadata": {},
     "output_type": "execute_result"
    }
   ],
   "source": [
    "meguro_list = [movie for mlist in infodict.values() for movie in mlist if movie not in ['-','none']]\n",
    "\n",
    "meguro_list"
   ]
  },
  {
   "cell_type": "markdown",
   "id": "5618b178",
   "metadata": {},
   "source": [
    "## Google Search API"
   ]
  },
  {
   "cell_type": "code",
   "execution_count": 19,
   "id": "09791eca",
   "metadata": {},
   "outputs": [],
   "source": [
    "from cinematimes import google"
   ]
  },
  {
   "cell_type": "code",
   "execution_count": 20,
   "id": "6644cad8",
   "metadata": {},
   "outputs": [
    {
     "name": "stdout",
     "output_type": "stream",
     "text": [
      "Response :200\n"
     ]
    }
   ],
   "source": [
    "showtimes = google.search('united cinemas urawa')"
   ]
  },
  {
   "cell_type": "code",
   "execution_count": 8,
   "id": "4be0d60b",
   "metadata": {},
   "outputs": [
    {
     "data": {
      "text/plain": [
       "[{'day': 'Mon',\n",
       "  'date': 'May 9',\n",
       "  'movies': [{'name': 'Doctor Strange in the Multiverse of Madness',\n",
       "    'link': 'https://www.google.com/search?hl=en&gl=us&q=&si=AC1wQDAGEQiTPWsvhpPV4-xl97AcUfloRjKp4qat4I8-Kg1HxUZlh2hLOg8aj__svnrQzhOeuRt0XWQO0aQ5e0fgfdZ5oxQT-clYUo2VtNYfAz-3QHul_gW2_MxESJJx7PGoSMvHXsnkfZ8SAy_QWGpgJMmU8l6mC_NubXgZ2FtTl9rdM8fJN2Y48rTcmZwPppbDtsb_6HvS7Tz3fbiW03BGaEhgMK-tTclKJfHfYE8jt7pC-acWMDAL8gEgGV8KXbIcRDZ5A0TFpQRqgtiO3dXpdR5eg2PK-w%3D%3D&sa=X&ved=2ahUKEwjhv8b-htL3AhVNbs0KHc_nB5YQxyZ6BAgKEBA',\n",
       "    'showing': [{'time': ['7:40pm'], 'type': 'IMAX 3D'},\n",
       "     {'time': ['5:40pm', '8:20pm'], 'type': 'Standard'},\n",
       "     {'time': ['6:40pm', '8:40pm'], 'type': 'Standard'}]},\n",
       "   {'name': 'Detective Conan: The Bride Of Halloween',\n",
       "    'link': 'https://www.google.com/search?hl=en&gl=us&q=&si=AC1wQDAGEQiTPWsvhpPV4-xl97AcUfloRjKp4qat4I8-Kg1HxUvLo3gVdcM4Zhd-wA9e_tiTarn73YB7gitgsAIvryAGZHBRbil5g2wROM5AxMyDE6vDSRPBAep2rfWEllDRGgyzGiqiv7E42D0EC3gDacx6sheiV0yh8dIHrGFt6R1FIbc5ekvq_F0RP6jq-bVKYH_c5KVFPgo7V1ZYf58nD5O3YpGVpVey03b67UxqG8AVkWP124bz84avo7LBgTzrMwjG6htvM1C1YmNahkzcC4LMig79PA%3D%3D&sa=X&ved=2ahUKEwjhv8b-htL3AhVNbs0KHc_nB5YQxyZ6BAgKEBo',\n",
       "    'showing': [{'time': ['7:00pm', '8:10pm', '9:25pm'], 'type': 'Standard'}]},\n",
       "   {'name': 'Fantastic Beasts: The Secrets of Dumbledore',\n",
       "    'link': 'https://www.google.com/search?hl=en&gl=us&q=&si=AC1wQDAGEQiTPWsvhpPV4-xl97AcUfloRjKp4qat4I8-Kg1HxToG1fUDCzFoV9qNyABxtmi2MZsoHTDPMQ4tHmq4NvtOwYpNz96REEudP73sQK0wJIy2D83lob_11aA9DH1G21YwC_IcCzrcVlQS-oK8leZQ1Q2eYtup8fLC63OX4Vi1-WXgSIg1QDnhFnm-x41DJXxlYRnV-_v866rbvIIbssRjEWBsNMz5u6noj_vi4F3lfvj1-YvILAbuY6hf2Z58-9unQ3ktsfus4mYfyTaAiLZpx0-dAg%3D%3D&sa=X&ved=2ahUKEwjhv8b-htL3AhVNbs0KHc_nB5YQxyZ6BAgKECA',\n",
       "    'showing': [{'time': ['8:25pm'], 'type': 'Standard'},\n",
       "     {'time': ['5:50pm'], 'type': 'Standard'}]},\n",
       "   {'name': '劇場版ラジエーションハウス',\n",
       "    'link': 'https://www.google.com/search?hl=en&gl=us&q=&si=AC1wQDAGEQiTPWsvhpPV4-xl97AcUfloRjKp4qat4I8-Kg1HxdSWPSazo1k7_bkWdvqRhACJDr_gVhAiACEmBGWLk_I-LHDNN1dFs11hQYQhzQXiC3inVhHwRUGes6pWAp5LHsman5SciE2oM1Aw2pGSrPlSx2cvQDx7_BESx9IY8-mS5LvSwjIFVjYVq91jMIfToXooZqS11OOdTjofNhibdzF0N2HMHM0A_7SeZnZrX8B5qYs7p_mK0WszZ_B3WeAl1S7biDrCXZnwrtOt1dz3FDYrdeLnaA%3D%3D',\n",
       "    'showing': [{'time': ['6:20pm', '8:50pm'], 'type': 'Standard'}]},\n",
       "   {'name': 'ホリック xxxHOLiC',\n",
       "    'link': 'https://www.google.com/search?hl=en&gl=us&q=&si=AC1wQDAGEQiTPWsvhpPV4-xl97AcUfloRjKp4qat4I8-Kg1HxSHDFSwx2683f1Yl2XtMJJzF5xcHG8Ta2I07Ko3WaEd8fej5g4xjtEhp6e7Khz7zN6dbO7mTY0I9ehaOGUP0okOhlbM041Z-4A_Zk3XaotPmXUftCyk69OpztJKWiKoixf8rFrhCrGgwIujg0X4Ul1dyA_1xg6KZyC0m38pzEDk4_3UZSkzFIbrO3TDUX5diCqqpUrncmCmRSbHseR0vuy_f0SzMv_r8GkWYS6__PdOQojBOeQ%3D%3D',\n",
       "    'showing': [{'time': ['7:15pm', '9:20pm'], 'type': 'Standard'}]},\n",
       "   {'name': 'Free! – the Final Stroke – the first volume',\n",
       "    'link': 'https://www.google.com/search?hl=en&gl=us&q=&si=AC1wQDAGEQiTPWsvhpPV4-xl97AcUfloRjKp4qat4I8-Kg1HxRqH3QdP9qtVnm8M1wEpSxupQrMz32byGvSDPHNL5IMZpHu_dOd5VP3ZoP-SitGpJqssivE0zY-ZjvYWZfTargCovjNvpZh9LR5B3zbVv68M1ECOEDJrtKEKzH2ZaPy0ORg_mKJIBBlU6N5TA7pAdBOzI2dzRP7J2N8ruckyDgXlxfFXJy42HhrLZMM_juIAbce6mxFG-UEbyga7K_Fd5M2W3Un-umXMBg8WaPFHLZ0qFCUKKQ%3D%3D',\n",
       "    'showing': [{'time': ['6:05pm', '9:35pm'], 'type': 'Standard'}]}]},\n",
       " {'day': 'Tue',\n",
       "  'date': 'May 10',\n",
       "  'movies': [{'name': 'Doctor Strange in the Multiverse of Madness',\n",
       "    'link': 'https://www.google.com/search?hl=en&gl=us&q=&si=AC1wQDAGEQiTPWsvhpPV4-xl97AcUfloRjKp4qat4I8-Kg1HxUZlh2hLOg8aj__svnrQzhOeuRt0XWQO0aQ5e0fgfdZ5oxQT-clYUo2VtNYfAz-3QHul_gW2_MxESJJx7PGoSMvHXsnkfZ8SAy_QWGpgJMmU8l6mC_NubXgZ2FtTl9rdM8fJN2Y48rTcmZwPppbDtsb_6HvS7Tz3fbiW03BGaEhgMK-tTclKJfHfYE8jt7pC-acWMDAL8gEgGV8KXbIcRDZ5A0TFpQRqgtiO3dXpdR5eg2PK-w%3D%3D',\n",
       "    'showing': [{'time': ['11:15am', '2:00pm', '7:40pm'], 'type': 'IMAX 3D'},\n",
       "     {'time': ['9:40am', '12:20pm', '5:40pm', '8:20pm'], 'type': 'Standard'},\n",
       "     {'time': ['8:40am', '3:00pm', '4:35pm', '6:40pm', '8:40pm'],\n",
       "      'type': 'Standard'}]},\n",
       "   {'name': 'Detective Conan: The Bride Of Halloween',\n",
       "    'link': 'https://www.google.com/search?hl=en&gl=us&q=&si=AC1wQDAGEQiTPWsvhpPV4-xl97AcUfloRjKp4qat4I8-Kg1HxUvLo3gVdcM4Zhd-wA9e_tiTarn73YB7gitgsAIvryAGZHBRbil5g2wROM5AxMyDE6vDSRPBAep2rfWEllDRGgyzGiqiv7E42D0EC3gDacx6sheiV0yh8dIHrGFt6R1FIbc5ekvq_F0RP6jq-bVKYH_c5KVFPgo7V1ZYf58nD5O3YpGVpVey03b67UxqG8AVkWP124bz84avo7LBgTzrMwjG6htvM1C1YmNahkzcC4LMig79PA%3D%3D',\n",
       "    'showing': [{'time': ['10:30am',\n",
       "       '11:25am',\n",
       "       '12:55pm',\n",
       "       '2:10pm',\n",
       "       '3:20pm',\n",
       "       '4:35pm',\n",
       "       '7:00pm',\n",
       "       '8:10pm',\n",
       "       '9:25pm'],\n",
       "      'type': 'Standard'},\n",
       "     {'time': ['8:50am'], 'type': 'IMAX'}]},\n",
       "   {'name': 'Fantastic Beasts: The Secrets of Dumbledore',\n",
       "    'link': 'https://www.google.com/search?hl=en&gl=us&q=&si=AC1wQDAGEQiTPWsvhpPV4-xl97AcUfloRjKp4qat4I8-Kg1HxToG1fUDCzFoV9qNyABxtmi2MZsoHTDPMQ4tHmq4NvtOwYpNz96REEudP73sQK0wJIy2D83lob_11aA9DH1G21YwC_IcCzrcVlQS-oK8leZQ1Q2eYtup8fLC63OX4Vi1-WXgSIg1QDnhFnm-x41DJXxlYRnV-_v866rbvIIbssRjEWBsNMz5u6noj_vi4F3lfvj1-YvILAbuY6hf2Z58-9unQ3ktsfus4mYfyTaAiLZpx0-dAg%3D%3D',\n",
       "    'showing': [{'time': ['4:45pm'], 'type': 'IMAX'},\n",
       "     {'time': ['11:10am', '3:10pm', '8:25pm'], 'type': 'Standard'},\n",
       "     {'time': ['10:35am', '1:30pm', '5:50pm'], 'type': 'Standard'}]},\n",
       "   {'name': '劇場版ラジエーションハウス',\n",
       "    'link': 'https://www.google.com/search?hl=en&gl=us&q=&si=AC1wQDAGEQiTPWsvhpPV4-xl97AcUfloRjKp4qat4I8-Kg1HxdSWPSazo1k7_bkWdvqRhACJDr_gVhAiACEmBGWLk_I-LHDNN1dFs11hQYQhzQXiC3inVhHwRUGes6pWAp5LHsman5SciE2oM1Aw2pGSrPlSx2cvQDx7_BESx9IY8-mS5LvSwjIFVjYVq91jMIfToXooZqS11OOdTjofNhibdzF0N2HMHM0A_7SeZnZrX8B5qYs7p_mK0WszZ_B3WeAl1S7biDrCXZnwrtOt1dz3FDYrdeLnaA%3D%3D',\n",
       "    'showing': [{'time': ['10:45am', '1:20pm', '3:50pm', '6:20pm', '8:50pm'],\n",
       "      'type': 'Standard'}]},\n",
       "   {'name': 'Crayon Shin-chan: Mononoke Ninja Chinpūden',\n",
       "    'link': 'https://www.google.com/search?hl=en&gl=us&q=&si=AC1wQDAGEQiTPWsvhpPV4-xl97AcUfloRjKp4qat4I8-Kg1HxcYfLKw2cjvy4rxmZqX68DhEPAg2jVIDeDaX8WuECq2httymYvplIIE0Btc7Z0NBIQ3tbAwrzChY3Al4SRzs5leunIe4pOcuMOTnwEs5cXJrGo77955kD-y1VUxkScjhWkDyfreKIEwKqJvsC7nUD56S7lpIchC0LZYURqqYPyvEmAXGDE_dSdHRl_7av4tie-cfn9NYz5TyvOi-T-D0h7lHBaFC4leGutdr_EK4kwBapNuYEg%3D%3D',\n",
       "    'showing': [{'time': ['8:15am', '10:45am', '1:00pm', '3:15pm'],\n",
       "      'type': 'Standard'}]},\n",
       "   {'name': 'ホリック xxxHOLiC',\n",
       "    'link': 'https://www.google.com/search?hl=en&gl=us&q=&si=AC1wQDAGEQiTPWsvhpPV4-xl97AcUfloRjKp4qat4I8-Kg1HxSHDFSwx2683f1Yl2XtMJJzF5xcHG8Ta2I07Ko3WaEd8fej5g4xjtEhp6e7Khz7zN6dbO7mTY0I9ehaOGUP0okOhlbM041Z-4A_Zk3XaotPmXUftCyk69OpztJKWiKoixf8rFrhCrGgwIujg0X4Ul1dyA_1xg6KZyC0m38pzEDk4_3UZSkzFIbrO3TDUX5diCqqpUrncmCmRSbHseR0vuy_f0SzMv_r8GkWYS6__PdOQojBOeQ%3D%3D',\n",
       "    'showing': [{'time': ['8:50am', '12:50pm', '4:15pm', '7:15pm', '9:20pm'],\n",
       "      'type': 'Standard'}]},\n",
       "   {'name': 'Free! – the Final Stroke – the first volume',\n",
       "    'link': 'https://www.google.com/search?hl=en&gl=us&q=&si=AC1wQDAGEQiTPWsvhpPV4-xl97AcUfloRjKp4qat4I8-Kg1HxRqH3QdP9qtVnm8M1wEpSxupQrMz32byGvSDPHNL5IMZpHu_dOd5VP3ZoP-SitGpJqssivE0zY-ZjvYWZfTargCovjNvpZh9LR5B3zbVv68M1ECOEDJrtKEKzH2ZaPy0ORg_mKJIBBlU6N5TA7pAdBOzI2dzRP7J2N8ruckyDgXlxfFXJy42HhrLZMM_juIAbce6mxFG-UEbyga7K_Fd5M2W3Un-umXMBg8WaPFHLZ0qFCUKKQ%3D%3D',\n",
       "    'showing': [{'time': ['8:10am', '6:05pm', '9:35pm'], 'type': 'Standard'}]},\n",
       "   {'name': 'Sing 2',\n",
       "    'link': 'https://www.google.com/search?hl=en&gl=us&q=&si=AC1wQDAGEQiTPWsvhpPV4-xl97AcUfloRjKp4qat4I8-Kg1HxeE2N5MJ9cDAvfRJ-vTKs49yyU1F9AMfgC5xO6AunV5suN9ZEUoyglxTjLtUy3UjAjdG00Susc0reDUg06hqUfqKTUqIU3OcnbizAXVf2IKWCxDzVBiFAWZsk4ncgDoCkK237H3SoxeU-HqLRtlF3jueup8eGUAE1Xo0wIiZHBO40neojLjUUDvUEDYmRZDmdXQIXUCKuL4IIxyDP0oaiu7mBs5MNyRUV7-hCm2LfMcNv0XfAA%3D%3D',\n",
       "    'showing': [{'time': ['1:50pm'], 'type': 'Standard'}]},\n",
       "   {'name': 'Jujutsu Kaisen 0',\n",
       "    'link': 'https://www.google.com/search?hl=en&gl=us&q=&si=AC1wQDAGEQiTPWsvhpPV4-xl97AcUfloRjKp4qat4I8-Kg1HxYmedplKdB9u-mo2Ef8L1uLq2pHapE7lLZkPwn36c4dNyK9MN-hJJuhi6Gc2bCnlThZmMcMKMP7qLvbbooD3X3BjzVrWC2t8M5-8Xr56So2xOKO92HCbKNvoWzx2bRhGxOE0vCKpV2R7Avx052Z-EiaRydJua-5CP9CAuytSaA40jdFOseP_CGFqNP9uIQPg8DbEyaf9Ga1ai77B4k8DnxZ1Sh39nDWCzLD1RlB14joUrTV9-w%3D%3D',\n",
       "    'showing': [{'time': ['8:25am'], 'type': 'Standard'}]},\n",
       "   {'name': '余命10年',\n",
       "    'link': 'https://www.google.com/search?hl=en&gl=us&q=&si=AC1wQDAGEQiTPWsvhpPV4-xl97AcUfloRjKp4qat4I8-Kg1Hxf1lqhUApWsMXDIHDJG8aOETaefC4wJ2PdOhVFFzTA4w6DzS7D_1VgthW9m80QSowI840MoQ1_y1tw9YRexfsbM9IM35DRR8O_q0PSqD6Ku9WxHyF-t3wDmLktPLBnoe1y9VQ8aYbt047jcj0Aydcekp7q0aOEOSPwDh5F06p013-QVV2mU8js574wA6ylKy6RXhMPK99PtHHoMKlwtsQRWNQrZfrOQZQjNsgNdKULElVC-r7w%3D%3D',\n",
       "    'showing': [{'time': ['8:10am'], 'type': 'Standard'}]},\n",
       "   {'name': '映画 おそ松さん',\n",
       "    'link': 'https://www.google.com/search?hl=en&gl=us&q=&si=AC1wQDAGEQiTPWsvhpPV4-xl97AcUfloRjKp4qat4I8-Kg1HxXwZUpavb-ocyeOtfsRT3wRFqzGz2FApnKELKtCsS9uGx85W-ZJ1Zb6RR8jTGTqkwPCQ4EJsOH6zVTHi3mdAfAAqsfUiKZzXcGKcz89fh5z7bJ5J7r2-z6bVft1flCpNHo2IEkSsn6wjZfRUuBJYKgQAhrO6lCBBDWDRc40Agm9uRISBLacWGUA2VXVgxo1qybN7ZidIKtWAoJktGbcbheGspI_EM2rzphmxRqIsBMcJuyap1g%3D%3D',\n",
       "    'showing': [{'time': ['8:10am'], 'type': 'Standard'}]},\n",
       "   {'name': 'Tonbi',\n",
       "    'link': 'https://www.google.com/search?hl=en&gl=us&q=&si=AC1wQDAGEQiTPWsvhpPV4-xl97AcUfloRjKp4qat4I8-Kg1HxeIsYhSfl-N-6KRy7Gq7LOwGCrCeKh_aoFd_jsacD5z4p0UZ9VGTijnaCP_VblnUl8iPmr7dxe83R5OHECXoVS7JYi3WStjuv0rp_crIO3h27wQ1VQ-hfFK5Py12fgMfmNwKcbVkyUJMuv8PYFSaMRmzA_eTtOiIigVrkP88Y5nwgZvUChIH4aDi-cYR_PUbsnXlvq8E6onmC8dRPKQ2Ned5ZqMeiH9ieXHWZIDpXdRZ28A_lA%3D%3D',\n",
       "    'showing': [{'time': ['5:25pm'], 'type': 'Standard'}]},\n",
       "   {'name': \"C'mon C'mon\",\n",
       "    'link': 'https://www.google.com/search?hl=en&gl=us&q=&si=AC1wQDAGEQiTPWsvhpPV4-xl97AcUfloRjKp4qat4I8-Kg1HxR6_S1o0Xxkkf2vpYBJKU1OY14SCxkYD1GnpqHR2QeJnF4Shdthsk5wgnNNcOYrNS2k6dGyw73BlSWbKBtZqBJV9257Zaf8yewjg6xWiMsPM2-sm48teS1wvp6BgQ0YJwW6rfBee7NSOsYySzcBbgEi8iFLQRBa6Yxa5R_i-_ektaHVGtIaQIfG7XwtKnDgQIPJir-fJh66m0w8stqMcf6Sqy0h4ktYPXBMvLocOMCMZXCtEyw%3D%3D',\n",
       "    'showing': [{'time': ['10:25am'], 'type': 'Standard'}]}]},\n",
       " {'day': 'Wed',\n",
       "  'date': 'May 11',\n",
       "  'movies': [{'name': 'Doctor Strange in the Multiverse of Madness',\n",
       "    'link': 'https://www.google.com/search?hl=en&gl=us&q=&si=AC1wQDAGEQiTPWsvhpPV4-xl97AcUfloRjKp4qat4I8-Kg1HxUZlh2hLOg8aj__svnrQzhOeuRt0XWQO0aQ5e0fgfdZ5oxQT-clYUo2VtNYfAz-3QHul_gW2_MxESJJx7PGoSMvHXsnkfZ8SAy_QWGpgJMmU8l6mC_NubXgZ2FtTl9rdM8fJN2Y48rTcmZwPppbDtsb_6HvS7Tz3fbiW03BGaEhgMK-tTclKJfHfYE8jt7pC-acWMDAL8gEgGV8KXbIcRDZ5A0TFpQRqgtiO3dXpdR5eg2PK-w%3D%3D',\n",
       "    'showing': [{'time': ['11:15am', '2:00pm', '7:40pm'], 'type': 'IMAX 3D'},\n",
       "     {'time': ['9:40am', '12:20pm', '5:40pm', '8:20pm'], 'type': 'Standard'},\n",
       "     {'time': ['8:40am', '3:00pm', '4:35pm', '6:40pm', '8:40pm'],\n",
       "      'type': 'Standard'}]},\n",
       "   {'name': 'Detective Conan: The Bride Of Halloween',\n",
       "    'link': 'https://www.google.com/search?hl=en&gl=us&q=&si=AC1wQDAGEQiTPWsvhpPV4-xl97AcUfloRjKp4qat4I8-Kg1HxUvLo3gVdcM4Zhd-wA9e_tiTarn73YB7gitgsAIvryAGZHBRbil5g2wROM5AxMyDE6vDSRPBAep2rfWEllDRGgyzGiqiv7E42D0EC3gDacx6sheiV0yh8dIHrGFt6R1FIbc5ekvq_F0RP6jq-bVKYH_c5KVFPgo7V1ZYf58nD5O3YpGVpVey03b67UxqG8AVkWP124bz84avo7LBgTzrMwjG6htvM1C1YmNahkzcC4LMig79PA%3D%3D',\n",
       "    'showing': [{'time': ['10:30am',\n",
       "       '11:25am',\n",
       "       '12:55pm',\n",
       "       '2:10pm',\n",
       "       '3:20pm',\n",
       "       '4:35pm',\n",
       "       '7:00pm',\n",
       "       '8:10pm',\n",
       "       '9:25pm'],\n",
       "      'type': 'Standard'},\n",
       "     {'time': ['8:50am'], 'type': 'IMAX'}]},\n",
       "   {'name': 'Fantastic Beasts: The Secrets of Dumbledore',\n",
       "    'link': 'https://www.google.com/search?hl=en&gl=us&q=&si=AC1wQDAGEQiTPWsvhpPV4-xl97AcUfloRjKp4qat4I8-Kg1HxToG1fUDCzFoV9qNyABxtmi2MZsoHTDPMQ4tHmq4NvtOwYpNz96REEudP73sQK0wJIy2D83lob_11aA9DH1G21YwC_IcCzrcVlQS-oK8leZQ1Q2eYtup8fLC63OX4Vi1-WXgSIg1QDnhFnm-x41DJXxlYRnV-_v866rbvIIbssRjEWBsNMz5u6noj_vi4F3lfvj1-YvILAbuY6hf2Z58-9unQ3ktsfus4mYfyTaAiLZpx0-dAg%3D%3D',\n",
       "    'showing': [{'time': ['4:45pm'], 'type': 'IMAX'},\n",
       "     {'time': ['11:10am', '3:10pm', '8:25pm'], 'type': 'Standard'},\n",
       "     {'time': ['10:35am', '1:30pm', '5:50pm'], 'type': 'Standard'}]},\n",
       "   {'name': '劇場版ラジエーションハウス',\n",
       "    'link': 'https://www.google.com/search?hl=en&gl=us&q=&si=AC1wQDAGEQiTPWsvhpPV4-xl97AcUfloRjKp4qat4I8-Kg1HxdSWPSazo1k7_bkWdvqRhACJDr_gVhAiACEmBGWLk_I-LHDNN1dFs11hQYQhzQXiC3inVhHwRUGes6pWAp5LHsman5SciE2oM1Aw2pGSrPlSx2cvQDx7_BESx9IY8-mS5LvSwjIFVjYVq91jMIfToXooZqS11OOdTjofNhibdzF0N2HMHM0A_7SeZnZrX8B5qYs7p_mK0WszZ_B3WeAl1S7biDrCXZnwrtOt1dz3FDYrdeLnaA%3D%3D',\n",
       "    'showing': [{'time': ['10:45am', '1:20pm', '3:50pm', '6:20pm', '8:50pm'],\n",
       "      'type': 'Standard'}]},\n",
       "   {'name': 'Crayon Shin-chan: Mononoke Ninja Chinpūden',\n",
       "    'link': 'https://www.google.com/search?hl=en&gl=us&q=&si=AC1wQDAGEQiTPWsvhpPV4-xl97AcUfloRjKp4qat4I8-Kg1HxcYfLKw2cjvy4rxmZqX68DhEPAg2jVIDeDaX8WuECq2httymYvplIIE0Btc7Z0NBIQ3tbAwrzChY3Al4SRzs5leunIe4pOcuMOTnwEs5cXJrGo77955kD-y1VUxkScjhWkDyfreKIEwKqJvsC7nUD56S7lpIchC0LZYURqqYPyvEmAXGDE_dSdHRl_7av4tie-cfn9NYz5TyvOi-T-D0h7lHBaFC4leGutdr_EK4kwBapNuYEg%3D%3D',\n",
       "    'showing': [{'time': ['8:15am', '10:45am', '1:00pm', '3:15pm'],\n",
       "      'type': 'Standard'}]},\n",
       "   {'name': 'ホリック xxxHOLiC',\n",
       "    'link': 'https://www.google.com/search?hl=en&gl=us&q=&si=AC1wQDAGEQiTPWsvhpPV4-xl97AcUfloRjKp4qat4I8-Kg1HxSHDFSwx2683f1Yl2XtMJJzF5xcHG8Ta2I07Ko3WaEd8fej5g4xjtEhp6e7Khz7zN6dbO7mTY0I9ehaOGUP0okOhlbM041Z-4A_Zk3XaotPmXUftCyk69OpztJKWiKoixf8rFrhCrGgwIujg0X4Ul1dyA_1xg6KZyC0m38pzEDk4_3UZSkzFIbrO3TDUX5diCqqpUrncmCmRSbHseR0vuy_f0SzMv_r8GkWYS6__PdOQojBOeQ%3D%3D',\n",
       "    'showing': [{'time': ['8:50am', '12:50pm', '4:15pm', '7:15pm', '9:20pm'],\n",
       "      'type': 'Standard'}]},\n",
       "   {'name': 'Free! – the Final Stroke – the first volume',\n",
       "    'link': 'https://www.google.com/search?hl=en&gl=us&q=&si=AC1wQDAGEQiTPWsvhpPV4-xl97AcUfloRjKp4qat4I8-Kg1HxRqH3QdP9qtVnm8M1wEpSxupQrMz32byGvSDPHNL5IMZpHu_dOd5VP3ZoP-SitGpJqssivE0zY-ZjvYWZfTargCovjNvpZh9LR5B3zbVv68M1ECOEDJrtKEKzH2ZaPy0ORg_mKJIBBlU6N5TA7pAdBOzI2dzRP7J2N8ruckyDgXlxfFXJy42HhrLZMM_juIAbce6mxFG-UEbyga7K_Fd5M2W3Un-umXMBg8WaPFHLZ0qFCUKKQ%3D%3D',\n",
       "    'showing': [{'time': ['8:10am', '6:05pm', '9:35pm'], 'type': 'Standard'}]},\n",
       "   {'name': 'Sing 2',\n",
       "    'link': 'https://www.google.com/search?hl=en&gl=us&q=&si=AC1wQDAGEQiTPWsvhpPV4-xl97AcUfloRjKp4qat4I8-Kg1HxeE2N5MJ9cDAvfRJ-vTKs49yyU1F9AMfgC5xO6AunV5suN9ZEUoyglxTjLtUy3UjAjdG00Susc0reDUg06hqUfqKTUqIU3OcnbizAXVf2IKWCxDzVBiFAWZsk4ncgDoCkK237H3SoxeU-HqLRtlF3jueup8eGUAE1Xo0wIiZHBO40neojLjUUDvUEDYmRZDmdXQIXUCKuL4IIxyDP0oaiu7mBs5MNyRUV7-hCm2LfMcNv0XfAA%3D%3D',\n",
       "    'showing': [{'time': ['1:50pm'], 'type': 'Standard'}]},\n",
       "   {'name': 'Jujutsu Kaisen 0',\n",
       "    'link': 'https://www.google.com/search?hl=en&gl=us&q=&si=AC1wQDAGEQiTPWsvhpPV4-xl97AcUfloRjKp4qat4I8-Kg1HxYmedplKdB9u-mo2Ef8L1uLq2pHapE7lLZkPwn36c4dNyK9MN-hJJuhi6Gc2bCnlThZmMcMKMP7qLvbbooD3X3BjzVrWC2t8M5-8Xr56So2xOKO92HCbKNvoWzx2bRhGxOE0vCKpV2R7Avx052Z-EiaRydJua-5CP9CAuytSaA40jdFOseP_CGFqNP9uIQPg8DbEyaf9Ga1ai77B4k8DnxZ1Sh39nDWCzLD1RlB14joUrTV9-w%3D%3D',\n",
       "    'showing': [{'time': ['8:25am'], 'type': 'Standard'}]},\n",
       "   {'name': '余命10年',\n",
       "    'link': 'https://www.google.com/search?hl=en&gl=us&q=&si=AC1wQDAGEQiTPWsvhpPV4-xl97AcUfloRjKp4qat4I8-Kg1Hxf1lqhUApWsMXDIHDJG8aOETaefC4wJ2PdOhVFFzTA4w6DzS7D_1VgthW9m80QSowI840MoQ1_y1tw9YRexfsbM9IM35DRR8O_q0PSqD6Ku9WxHyF-t3wDmLktPLBnoe1y9VQ8aYbt047jcj0Aydcekp7q0aOEOSPwDh5F06p013-QVV2mU8js574wA6ylKy6RXhMPK99PtHHoMKlwtsQRWNQrZfrOQZQjNsgNdKULElVC-r7w%3D%3D',\n",
       "    'showing': [{'time': ['8:10am'], 'type': 'Standard'}]},\n",
       "   {'name': '映画 おそ松さん',\n",
       "    'link': 'https://www.google.com/search?hl=en&gl=us&q=&si=AC1wQDAGEQiTPWsvhpPV4-xl97AcUfloRjKp4qat4I8-Kg1HxXwZUpavb-ocyeOtfsRT3wRFqzGz2FApnKELKtCsS9uGx85W-ZJ1Zb6RR8jTGTqkwPCQ4EJsOH6zVTHi3mdAfAAqsfUiKZzXcGKcz89fh5z7bJ5J7r2-z6bVft1flCpNHo2IEkSsn6wjZfRUuBJYKgQAhrO6lCBBDWDRc40Agm9uRISBLacWGUA2VXVgxo1qybN7ZidIKtWAoJktGbcbheGspI_EM2rzphmxRqIsBMcJuyap1g%3D%3D',\n",
       "    'showing': [{'time': ['8:10am'], 'type': 'Standard'}]},\n",
       "   {'name': 'Tonbi',\n",
       "    'link': 'https://www.google.com/search?hl=en&gl=us&q=&si=AC1wQDAGEQiTPWsvhpPV4-xl97AcUfloRjKp4qat4I8-Kg1HxeIsYhSfl-N-6KRy7Gq7LOwGCrCeKh_aoFd_jsacD5z4p0UZ9VGTijnaCP_VblnUl8iPmr7dxe83R5OHECXoVS7JYi3WStjuv0rp_crIO3h27wQ1VQ-hfFK5Py12fgMfmNwKcbVkyUJMuv8PYFSaMRmzA_eTtOiIigVrkP88Y5nwgZvUChIH4aDi-cYR_PUbsnXlvq8E6onmC8dRPKQ2Ned5ZqMeiH9ieXHWZIDpXdRZ28A_lA%3D%3D',\n",
       "    'showing': [{'time': ['5:25pm'], 'type': 'Standard'}]},\n",
       "   {'name': \"C'mon C'mon\",\n",
       "    'link': 'https://www.google.com/search?hl=en&gl=us&q=&si=AC1wQDAGEQiTPWsvhpPV4-xl97AcUfloRjKp4qat4I8-Kg1HxR6_S1o0Xxkkf2vpYBJKU1OY14SCxkYD1GnpqHR2QeJnF4Shdthsk5wgnNNcOYrNS2k6dGyw73BlSWbKBtZqBJV9257Zaf8yewjg6xWiMsPM2-sm48teS1wvp6BgQ0YJwW6rfBee7NSOsYySzcBbgEi8iFLQRBa6Yxa5R_i-_ektaHVGtIaQIfG7XwtKnDgQIPJir-fJh66m0w8stqMcf6Sqy0h4ktYPXBMvLocOMCMZXCtEyw%3D%3D',\n",
       "    'showing': [{'time': ['10:25am'], 'type': 'Standard'}]}]},\n",
       " {'day': 'Thu',\n",
       "  'date': 'May 12',\n",
       "  'movies': [{'name': 'Doctor Strange in the Multiverse of Madness',\n",
       "    'link': 'https://www.google.com/search?hl=en&gl=us&q=&si=AC1wQDAGEQiTPWsvhpPV4-xl97AcUfloRjKp4qat4I8-Kg1HxUZlh2hLOg8aj__svnrQzhOeuRt0XWQO0aQ5e0fgfdZ5oxQT-clYUo2VtNYfAz-3QHul_gW2_MxESJJx7PGoSMvHXsnkfZ8SAy_QWGpgJMmU8l6mC_NubXgZ2FtTl9rdM8fJN2Y48rTcmZwPppbDtsb_6HvS7Tz3fbiW03BGaEhgMK-tTclKJfHfYE8jt7pC-acWMDAL8gEgGV8KXbIcRDZ5A0TFpQRqgtiO3dXpdR5eg2PK-w%3D%3D',\n",
       "    'showing': [{'time': ['11:15am', '2:00pm', '7:40pm'], 'type': 'IMAX 3D'},\n",
       "     {'time': ['9:40am', '12:20pm', '5:40pm', '8:20pm'], 'type': 'Standard'},\n",
       "     {'time': ['8:40am', '3:00pm', '4:35pm', '6:40pm', '8:40pm'],\n",
       "      'type': 'Standard'}]},\n",
       "   {'name': 'Detective Conan: The Bride Of Halloween',\n",
       "    'link': 'https://www.google.com/search?hl=en&gl=us&q=&si=AC1wQDAGEQiTPWsvhpPV4-xl97AcUfloRjKp4qat4I8-Kg1HxUvLo3gVdcM4Zhd-wA9e_tiTarn73YB7gitgsAIvryAGZHBRbil5g2wROM5AxMyDE6vDSRPBAep2rfWEllDRGgyzGiqiv7E42D0EC3gDacx6sheiV0yh8dIHrGFt6R1FIbc5ekvq_F0RP6jq-bVKYH_c5KVFPgo7V1ZYf58nD5O3YpGVpVey03b67UxqG8AVkWP124bz84avo7LBgTzrMwjG6htvM1C1YmNahkzcC4LMig79PA%3D%3D',\n",
       "    'showing': [{'time': ['10:30am',\n",
       "       '11:25am',\n",
       "       '12:55pm',\n",
       "       '2:10pm',\n",
       "       '3:20pm',\n",
       "       '4:35pm',\n",
       "       '7:00pm',\n",
       "       '8:10pm',\n",
       "       '9:25pm'],\n",
       "      'type': 'Standard'},\n",
       "     {'time': ['8:50am'], 'type': 'IMAX'}]},\n",
       "   {'name': 'Fantastic Beasts: The Secrets of Dumbledore',\n",
       "    'link': 'https://www.google.com/search?hl=en&gl=us&q=&si=AC1wQDAGEQiTPWsvhpPV4-xl97AcUfloRjKp4qat4I8-Kg1HxToG1fUDCzFoV9qNyABxtmi2MZsoHTDPMQ4tHmq4NvtOwYpNz96REEudP73sQK0wJIy2D83lob_11aA9DH1G21YwC_IcCzrcVlQS-oK8leZQ1Q2eYtup8fLC63OX4Vi1-WXgSIg1QDnhFnm-x41DJXxlYRnV-_v866rbvIIbssRjEWBsNMz5u6noj_vi4F3lfvj1-YvILAbuY6hf2Z58-9unQ3ktsfus4mYfyTaAiLZpx0-dAg%3D%3D',\n",
       "    'showing': [{'time': ['4:45pm'], 'type': 'IMAX'},\n",
       "     {'time': ['11:10am', '3:10pm', '8:25pm'], 'type': 'Standard'},\n",
       "     {'time': ['10:35am', '1:30pm', '5:50pm'], 'type': 'Standard'}]},\n",
       "   {'name': '劇場版ラジエーションハウス',\n",
       "    'link': 'https://www.google.com/search?hl=en&gl=us&q=&si=AC1wQDAGEQiTPWsvhpPV4-xl97AcUfloRjKp4qat4I8-Kg1HxdSWPSazo1k7_bkWdvqRhACJDr_gVhAiACEmBGWLk_I-LHDNN1dFs11hQYQhzQXiC3inVhHwRUGes6pWAp5LHsman5SciE2oM1Aw2pGSrPlSx2cvQDx7_BESx9IY8-mS5LvSwjIFVjYVq91jMIfToXooZqS11OOdTjofNhibdzF0N2HMHM0A_7SeZnZrX8B5qYs7p_mK0WszZ_B3WeAl1S7biDrCXZnwrtOt1dz3FDYrdeLnaA%3D%3D',\n",
       "    'showing': [{'time': ['10:45am', '1:20pm', '3:50pm', '6:20pm', '8:50pm'],\n",
       "      'type': 'Standard'}]},\n",
       "   {'name': 'Crayon Shin-chan: Mononoke Ninja Chinpūden',\n",
       "    'link': 'https://www.google.com/search?hl=en&gl=us&q=&si=AC1wQDAGEQiTPWsvhpPV4-xl97AcUfloRjKp4qat4I8-Kg1HxcYfLKw2cjvy4rxmZqX68DhEPAg2jVIDeDaX8WuECq2httymYvplIIE0Btc7Z0NBIQ3tbAwrzChY3Al4SRzs5leunIe4pOcuMOTnwEs5cXJrGo77955kD-y1VUxkScjhWkDyfreKIEwKqJvsC7nUD56S7lpIchC0LZYURqqYPyvEmAXGDE_dSdHRl_7av4tie-cfn9NYz5TyvOi-T-D0h7lHBaFC4leGutdr_EK4kwBapNuYEg%3D%3D',\n",
       "    'showing': [{'time': ['8:15am', '10:45am', '1:00pm', '3:15pm'],\n",
       "      'type': 'Standard'}]},\n",
       "   {'name': 'ホリック xxxHOLiC',\n",
       "    'link': 'https://www.google.com/search?hl=en&gl=us&q=&si=AC1wQDAGEQiTPWsvhpPV4-xl97AcUfloRjKp4qat4I8-Kg1HxSHDFSwx2683f1Yl2XtMJJzF5xcHG8Ta2I07Ko3WaEd8fej5g4xjtEhp6e7Khz7zN6dbO7mTY0I9ehaOGUP0okOhlbM041Z-4A_Zk3XaotPmXUftCyk69OpztJKWiKoixf8rFrhCrGgwIujg0X4Ul1dyA_1xg6KZyC0m38pzEDk4_3UZSkzFIbrO3TDUX5diCqqpUrncmCmRSbHseR0vuy_f0SzMv_r8GkWYS6__PdOQojBOeQ%3D%3D',\n",
       "    'showing': [{'time': ['8:50am', '12:50pm', '4:15pm', '7:15pm', '9:20pm'],\n",
       "      'type': 'Standard'}]},\n",
       "   {'name': 'Free! – the Final Stroke – the first volume',\n",
       "    'link': 'https://www.google.com/search?hl=en&gl=us&q=&si=AC1wQDAGEQiTPWsvhpPV4-xl97AcUfloRjKp4qat4I8-Kg1HxRqH3QdP9qtVnm8M1wEpSxupQrMz32byGvSDPHNL5IMZpHu_dOd5VP3ZoP-SitGpJqssivE0zY-ZjvYWZfTargCovjNvpZh9LR5B3zbVv68M1ECOEDJrtKEKzH2ZaPy0ORg_mKJIBBlU6N5TA7pAdBOzI2dzRP7J2N8ruckyDgXlxfFXJy42HhrLZMM_juIAbce6mxFG-UEbyga7K_Fd5M2W3Un-umXMBg8WaPFHLZ0qFCUKKQ%3D%3D',\n",
       "    'showing': [{'time': ['8:10am', '6:05pm', '9:35pm'], 'type': 'Standard'}]},\n",
       "   {'name': 'Sing 2',\n",
       "    'link': 'https://www.google.com/search?hl=en&gl=us&q=&si=AC1wQDAGEQiTPWsvhpPV4-xl97AcUfloRjKp4qat4I8-Kg1HxeE2N5MJ9cDAvfRJ-vTKs49yyU1F9AMfgC5xO6AunV5suN9ZEUoyglxTjLtUy3UjAjdG00Susc0reDUg06hqUfqKTUqIU3OcnbizAXVf2IKWCxDzVBiFAWZsk4ncgDoCkK237H3SoxeU-HqLRtlF3jueup8eGUAE1Xo0wIiZHBO40neojLjUUDvUEDYmRZDmdXQIXUCKuL4IIxyDP0oaiu7mBs5MNyRUV7-hCm2LfMcNv0XfAA%3D%3D',\n",
       "    'showing': [{'time': ['1:50pm'], 'type': 'Standard'}]},\n",
       "   {'name': 'Jujutsu Kaisen 0',\n",
       "    'link': 'https://www.google.com/search?hl=en&gl=us&q=&si=AC1wQDAGEQiTPWsvhpPV4-xl97AcUfloRjKp4qat4I8-Kg1HxYmedplKdB9u-mo2Ef8L1uLq2pHapE7lLZkPwn36c4dNyK9MN-hJJuhi6Gc2bCnlThZmMcMKMP7qLvbbooD3X3BjzVrWC2t8M5-8Xr56So2xOKO92HCbKNvoWzx2bRhGxOE0vCKpV2R7Avx052Z-EiaRydJua-5CP9CAuytSaA40jdFOseP_CGFqNP9uIQPg8DbEyaf9Ga1ai77B4k8DnxZ1Sh39nDWCzLD1RlB14joUrTV9-w%3D%3D',\n",
       "    'showing': [{'time': ['8:25am'], 'type': 'Standard'}]},\n",
       "   {'name': '余命10年',\n",
       "    'link': 'https://www.google.com/search?hl=en&gl=us&q=&si=AC1wQDAGEQiTPWsvhpPV4-xl97AcUfloRjKp4qat4I8-Kg1Hxf1lqhUApWsMXDIHDJG8aOETaefC4wJ2PdOhVFFzTA4w6DzS7D_1VgthW9m80QSowI840MoQ1_y1tw9YRexfsbM9IM35DRR8O_q0PSqD6Ku9WxHyF-t3wDmLktPLBnoe1y9VQ8aYbt047jcj0Aydcekp7q0aOEOSPwDh5F06p013-QVV2mU8js574wA6ylKy6RXhMPK99PtHHoMKlwtsQRWNQrZfrOQZQjNsgNdKULElVC-r7w%3D%3D',\n",
       "    'showing': [{'time': ['8:10am'], 'type': 'Standard'}]},\n",
       "   {'name': '映画 おそ松さん',\n",
       "    'link': 'https://www.google.com/search?hl=en&gl=us&q=&si=AC1wQDAGEQiTPWsvhpPV4-xl97AcUfloRjKp4qat4I8-Kg1HxXwZUpavb-ocyeOtfsRT3wRFqzGz2FApnKELKtCsS9uGx85W-ZJ1Zb6RR8jTGTqkwPCQ4EJsOH6zVTHi3mdAfAAqsfUiKZzXcGKcz89fh5z7bJ5J7r2-z6bVft1flCpNHo2IEkSsn6wjZfRUuBJYKgQAhrO6lCBBDWDRc40Agm9uRISBLacWGUA2VXVgxo1qybN7ZidIKtWAoJktGbcbheGspI_EM2rzphmxRqIsBMcJuyap1g%3D%3D',\n",
       "    'showing': [{'time': ['8:10am'], 'type': 'Standard'}]},\n",
       "   {'name': 'Tonbi',\n",
       "    'link': 'https://www.google.com/search?hl=en&gl=us&q=&si=AC1wQDAGEQiTPWsvhpPV4-xl97AcUfloRjKp4qat4I8-Kg1HxeIsYhSfl-N-6KRy7Gq7LOwGCrCeKh_aoFd_jsacD5z4p0UZ9VGTijnaCP_VblnUl8iPmr7dxe83R5OHECXoVS7JYi3WStjuv0rp_crIO3h27wQ1VQ-hfFK5Py12fgMfmNwKcbVkyUJMuv8PYFSaMRmzA_eTtOiIigVrkP88Y5nwgZvUChIH4aDi-cYR_PUbsnXlvq8E6onmC8dRPKQ2Ned5ZqMeiH9ieXHWZIDpXdRZ28A_lA%3D%3D',\n",
       "    'showing': [{'time': ['5:25pm'], 'type': 'Standard'}]},\n",
       "   {'name': \"C'mon C'mon\",\n",
       "    'link': 'https://www.google.com/search?hl=en&gl=us&q=&si=AC1wQDAGEQiTPWsvhpPV4-xl97AcUfloRjKp4qat4I8-Kg1HxR6_S1o0Xxkkf2vpYBJKU1OY14SCxkYD1GnpqHR2QeJnF4Shdthsk5wgnNNcOYrNS2k6dGyw73BlSWbKBtZqBJV9257Zaf8yewjg6xWiMsPM2-sm48teS1wvp6BgQ0YJwW6rfBee7NSOsYySzcBbgEi8iFLQRBa6Yxa5R_i-_ektaHVGtIaQIfG7XwtKnDgQIPJir-fJh66m0w8stqMcf6Sqy0h4ktYPXBMvLocOMCMZXCtEyw%3D%3D',\n",
       "    'showing': [{'time': ['10:25am'], 'type': 'Standard'}]}]}]"
      ]
     },
     "execution_count": 8,
     "metadata": {},
     "output_type": "execute_result"
    }
   ],
   "source": [
    "showtimes"
   ]
  },
  {
   "cell_type": "code",
   "execution_count": 9,
   "id": "8d0058ed",
   "metadata": {},
   "outputs": [
    {
     "data": {
      "text/plain": [
       "('Mon May 9', 'Thu May 12')"
      ]
     },
     "execution_count": 9,
     "metadata": {},
     "output_type": "execute_result"
    }
   ],
   "source": [
    "google.start_end(showtimes)"
   ]
  },
  {
   "cell_type": "code",
   "execution_count": 10,
   "id": "3e2bd8b5",
   "metadata": {},
   "outputs": [
    {
     "data": {
      "text/plain": [
       "{'9': ['Doctor Strange in the Multiverse of Madness',\n",
       "  'Detective Conan: The Bride Of Halloween',\n",
       "  'Fantastic Beasts: The Secrets of Dumbledore',\n",
       "  '劇場版ラジエーションハウス',\n",
       "  'ホリック xxxHOLiC',\n",
       "  'Free! – the Final Stroke – the first volume'],\n",
       " '10': ['Doctor Strange in the Multiverse of Madness',\n",
       "  'Detective Conan: The Bride Of Halloween',\n",
       "  'Fantastic Beasts: The Secrets of Dumbledore',\n",
       "  '劇場版ラジエーションハウス',\n",
       "  'Crayon Shin-chan: Mononoke Ninja Chinpūden',\n",
       "  'ホリック xxxHOLiC',\n",
       "  'Free! – the Final Stroke – the first volume',\n",
       "  'Sing 2',\n",
       "  'Jujutsu Kaisen 0',\n",
       "  '余命10年',\n",
       "  '映画 おそ松さん',\n",
       "  'Tonbi',\n",
       "  \"C'mon C'mon\"],\n",
       " '11': ['Doctor Strange in the Multiverse of Madness',\n",
       "  'Detective Conan: The Bride Of Halloween',\n",
       "  'Fantastic Beasts: The Secrets of Dumbledore',\n",
       "  '劇場版ラジエーションハウス',\n",
       "  'Crayon Shin-chan: Mononoke Ninja Chinpūden',\n",
       "  'ホリック xxxHOLiC',\n",
       "  'Free! – the Final Stroke – the first volume',\n",
       "  'Sing 2',\n",
       "  'Jujutsu Kaisen 0',\n",
       "  '余命10年',\n",
       "  '映画 おそ松さん',\n",
       "  'Tonbi',\n",
       "  \"C'mon C'mon\"],\n",
       " '12': ['Doctor Strange in the Multiverse of Madness',\n",
       "  'Detective Conan: The Bride Of Halloween',\n",
       "  'Fantastic Beasts: The Secrets of Dumbledore',\n",
       "  '劇場版ラジエーションハウス',\n",
       "  'Crayon Shin-chan: Mononoke Ninja Chinpūden',\n",
       "  'ホリック xxxHOLiC',\n",
       "  'Free! – the Final Stroke – the first volume',\n",
       "  'Sing 2',\n",
       "  'Jujutsu Kaisen 0',\n",
       "  '余命10年',\n",
       "  '映画 おそ松さん',\n",
       "  'Tonbi',\n",
       "  \"C'mon C'mon\"]}"
      ]
     },
     "execution_count": 10,
     "metadata": {},
     "output_type": "execute_result"
    }
   ],
   "source": [
    "google.movies_by_day(showtimes)"
   ]
  },
  {
   "cell_type": "code",
   "execution_count": 12,
   "id": "162d6dcf",
   "metadata": {},
   "outputs": [
    {
     "data": {
      "text/plain": [
       "['劇場版ラジエーションハウス',\n",
       " 'Free! – the Final Stroke – the first volume',\n",
       " 'Crayon Shin-chan: Mononoke Ninja Chinpūden',\n",
       " 'Sing 2',\n",
       " '余命10年',\n",
       " '映画 おそ松さん',\n",
       " \"C'mon C'mon\",\n",
       " 'Detective Conan: The Bride Of Halloween',\n",
       " 'ホリック xxxHOLiC',\n",
       " 'Jujutsu Kaisen 0',\n",
       " 'Tonbi',\n",
       " 'Fantastic Beasts: The Secrets of Dumbledore',\n",
       " 'Doctor Strange in the Multiverse of Madness']"
      ]
     },
     "execution_count": 12,
     "metadata": {},
     "output_type": "execute_result"
    }
   ],
   "source": [
    "google.movie_list(showtimes)"
   ]
  },
  {
   "cell_type": "code",
   "execution_count": 133,
   "id": "ce5aca36",
   "metadata": {},
   "outputs": [],
   "source": [
    "#dict to dataframe\n",
    "def mbd_to_df(mbd):\n",
    "    maxlength = max([len(movies) for movies in mbd.values()])\n",
    "    for key in mbd.keys():\n",
    "        while len(mbd[key]) < maxlength:\n",
    "            mbd[key].append('-')\n",
    "    return pd.DataFrame(mbd)"
   ]
  },
  {
   "cell_type": "markdown",
   "id": "0499aaf9",
   "metadata": {},
   "source": [
    "### United Urawa"
   ]
  },
  {
   "cell_type": "code",
   "execution_count": 21,
   "id": "5c4b4a48",
   "metadata": {},
   "outputs": [],
   "source": [
    "unitedquery = 'united cinemas urawa'"
   ]
  },
  {
   "cell_type": "code",
   "execution_count": 23,
   "id": "37e7c974",
   "metadata": {},
   "outputs": [
    {
     "name": "stdout",
     "output_type": "stream",
     "text": [
      "Response :200\n"
     ]
    }
   ],
   "source": [
    "ust = google.search(unitedquery)"
   ]
  },
  {
   "cell_type": "code",
   "execution_count": null,
   "id": "638e6566",
   "metadata": {},
   "outputs": [],
   "source": [
    "google.movie_list(ust)"
   ]
  },
  {
   "cell_type": "code",
   "execution_count": null,
   "id": "bd25812c",
   "metadata": {},
   "outputs": [],
   "source": [
    "google.movies_by_day(ust)"
   ]
  },
  {
   "cell_type": "code",
   "execution_count": 78,
   "id": "61f559c1",
   "metadata": {},
   "outputs": [],
   "source": [
    "umbd = google.movies_by_day(ust)"
   ]
  },
  {
   "cell_type": "code",
   "execution_count": 79,
   "id": "4e89f070",
   "metadata": {},
   "outputs": [
    {
     "data": {
      "text/html": [
       "<div>\n",
       "<style scoped>\n",
       "    .dataframe tbody tr th:only-of-type {\n",
       "        vertical-align: middle;\n",
       "    }\n",
       "\n",
       "    .dataframe tbody tr th {\n",
       "        vertical-align: top;\n",
       "    }\n",
       "\n",
       "    .dataframe thead th {\n",
       "        text-align: right;\n",
       "    }\n",
       "</style>\n",
       "<table border=\"1\" class=\"dataframe\">\n",
       "  <thead>\n",
       "    <tr style=\"text-align: right;\">\n",
       "      <th></th>\n",
       "      <th>9</th>\n",
       "      <th>10</th>\n",
       "      <th>11</th>\n",
       "      <th>12</th>\n",
       "    </tr>\n",
       "  </thead>\n",
       "  <tbody>\n",
       "    <tr>\n",
       "      <th>0</th>\n",
       "      <td>Doctor Strange in the Multiverse of Madness</td>\n",
       "      <td>Doctor Strange in the Multiverse of Madness</td>\n",
       "      <td>Doctor Strange in the Multiverse of Madness</td>\n",
       "      <td>Doctor Strange in the Multiverse of Madness</td>\n",
       "    </tr>\n",
       "    <tr>\n",
       "      <th>1</th>\n",
       "      <td>Detective Conan: The Bride Of Halloween</td>\n",
       "      <td>Detective Conan: The Bride Of Halloween</td>\n",
       "      <td>Detective Conan: The Bride Of Halloween</td>\n",
       "      <td>Detective Conan: The Bride Of Halloween</td>\n",
       "    </tr>\n",
       "    <tr>\n",
       "      <th>2</th>\n",
       "      <td>Fantastic Beasts: The Secrets of Dumbledore</td>\n",
       "      <td>Fantastic Beasts: The Secrets of Dumbledore</td>\n",
       "      <td>Fantastic Beasts: The Secrets of Dumbledore</td>\n",
       "      <td>Fantastic Beasts: The Secrets of Dumbledore</td>\n",
       "    </tr>\n",
       "    <tr>\n",
       "      <th>3</th>\n",
       "      <td>劇場版ラジエーションハウス</td>\n",
       "      <td>劇場版ラジエーションハウス</td>\n",
       "      <td>劇場版ラジエーションハウス</td>\n",
       "      <td>劇場版ラジエーションハウス</td>\n",
       "    </tr>\n",
       "    <tr>\n",
       "      <th>4</th>\n",
       "      <td>ホリック xxxHOLiC</td>\n",
       "      <td>Crayon Shin-chan: Mononoke Ninja Chinpūden</td>\n",
       "      <td>Crayon Shin-chan: Mononoke Ninja Chinpūden</td>\n",
       "      <td>Crayon Shin-chan: Mononoke Ninja Chinpūden</td>\n",
       "    </tr>\n",
       "    <tr>\n",
       "      <th>5</th>\n",
       "      <td>Free! – the Final Stroke – the first volume</td>\n",
       "      <td>ホリック xxxHOLiC</td>\n",
       "      <td>ホリック xxxHOLiC</td>\n",
       "      <td>ホリック xxxHOLiC</td>\n",
       "    </tr>\n",
       "    <tr>\n",
       "      <th>6</th>\n",
       "      <td>-</td>\n",
       "      <td>Free! – the Final Stroke – the first volume</td>\n",
       "      <td>Free! – the Final Stroke – the first volume</td>\n",
       "      <td>Free! – the Final Stroke – the first volume</td>\n",
       "    </tr>\n",
       "    <tr>\n",
       "      <th>7</th>\n",
       "      <td>-</td>\n",
       "      <td>Sing 2</td>\n",
       "      <td>Sing 2</td>\n",
       "      <td>Sing 2</td>\n",
       "    </tr>\n",
       "    <tr>\n",
       "      <th>8</th>\n",
       "      <td>-</td>\n",
       "      <td>Jujutsu Kaisen 0</td>\n",
       "      <td>Jujutsu Kaisen 0</td>\n",
       "      <td>Jujutsu Kaisen 0</td>\n",
       "    </tr>\n",
       "    <tr>\n",
       "      <th>9</th>\n",
       "      <td>-</td>\n",
       "      <td>余命10年</td>\n",
       "      <td>余命10年</td>\n",
       "      <td>余命10年</td>\n",
       "    </tr>\n",
       "    <tr>\n",
       "      <th>10</th>\n",
       "      <td>-</td>\n",
       "      <td>映画 おそ松さん</td>\n",
       "      <td>映画 おそ松さん</td>\n",
       "      <td>映画 おそ松さん</td>\n",
       "    </tr>\n",
       "    <tr>\n",
       "      <th>11</th>\n",
       "      <td>-</td>\n",
       "      <td>Tonbi</td>\n",
       "      <td>Tonbi</td>\n",
       "      <td>Tonbi</td>\n",
       "    </tr>\n",
       "    <tr>\n",
       "      <th>12</th>\n",
       "      <td>-</td>\n",
       "      <td>C'mon C'mon</td>\n",
       "      <td>C'mon C'mon</td>\n",
       "      <td>C'mon C'mon</td>\n",
       "    </tr>\n",
       "  </tbody>\n",
       "</table>\n",
       "</div>"
      ],
      "text/plain": [
       "                                              9  \\\n",
       "0   Doctor Strange in the Multiverse of Madness   \n",
       "1       Detective Conan: The Bride Of Halloween   \n",
       "2   Fantastic Beasts: The Secrets of Dumbledore   \n",
       "3                                 劇場版ラジエーションハウス   \n",
       "4                                 ホリック xxxHOLiC   \n",
       "5   Free! – the Final Stroke – the first volume   \n",
       "6                                             -   \n",
       "7                                             -   \n",
       "8                                             -   \n",
       "9                                             -   \n",
       "10                                            -   \n",
       "11                                            -   \n",
       "12                                            -   \n",
       "\n",
       "                                             10  \\\n",
       "0   Doctor Strange in the Multiverse of Madness   \n",
       "1       Detective Conan: The Bride Of Halloween   \n",
       "2   Fantastic Beasts: The Secrets of Dumbledore   \n",
       "3                                 劇場版ラジエーションハウス   \n",
       "4    Crayon Shin-chan: Mononoke Ninja Chinpūden   \n",
       "5                                 ホリック xxxHOLiC   \n",
       "6   Free! – the Final Stroke – the first volume   \n",
       "7                                        Sing 2   \n",
       "8                              Jujutsu Kaisen 0   \n",
       "9                                         余命10年   \n",
       "10                                     映画 おそ松さん   \n",
       "11                                        Tonbi   \n",
       "12                                  C'mon C'mon   \n",
       "\n",
       "                                             11  \\\n",
       "0   Doctor Strange in the Multiverse of Madness   \n",
       "1       Detective Conan: The Bride Of Halloween   \n",
       "2   Fantastic Beasts: The Secrets of Dumbledore   \n",
       "3                                 劇場版ラジエーションハウス   \n",
       "4    Crayon Shin-chan: Mononoke Ninja Chinpūden   \n",
       "5                                 ホリック xxxHOLiC   \n",
       "6   Free! – the Final Stroke – the first volume   \n",
       "7                                        Sing 2   \n",
       "8                              Jujutsu Kaisen 0   \n",
       "9                                         余命10年   \n",
       "10                                     映画 おそ松さん   \n",
       "11                                        Tonbi   \n",
       "12                                  C'mon C'mon   \n",
       "\n",
       "                                             12  \n",
       "0   Doctor Strange in the Multiverse of Madness  \n",
       "1       Detective Conan: The Bride Of Halloween  \n",
       "2   Fantastic Beasts: The Secrets of Dumbledore  \n",
       "3                                 劇場版ラジエーションハウス  \n",
       "4    Crayon Shin-chan: Mononoke Ninja Chinpūden  \n",
       "5                                 ホリック xxxHOLiC  \n",
       "6   Free! – the Final Stroke – the first volume  \n",
       "7                                        Sing 2  \n",
       "8                              Jujutsu Kaisen 0  \n",
       "9                                         余命10年  \n",
       "10                                     映画 おそ松さん  \n",
       "11                                        Tonbi  \n",
       "12                                  C'mon C'mon  "
      ]
     },
     "execution_count": 79,
     "metadata": {},
     "output_type": "execute_result"
    }
   ],
   "source": [
    "mbd_to_df(umbd)"
   ]
  },
  {
   "cell_type": "markdown",
   "id": "e89a15d3",
   "metadata": {},
   "source": [
    "### Movix Saitama"
   ]
  },
  {
   "cell_type": "code",
   "execution_count": 74,
   "id": "89833f19",
   "metadata": {},
   "outputs": [],
   "source": [
    "movixquery = 'movix saitama'"
   ]
  },
  {
   "cell_type": "code",
   "execution_count": 75,
   "id": "9a37c219",
   "metadata": {},
   "outputs": [
    {
     "name": "stdout",
     "output_type": "stream",
     "text": [
      "Response :200\n"
     ]
    }
   ],
   "source": [
    "mst = google.search(movixquery)"
   ]
  },
  {
   "cell_type": "code",
   "execution_count": 77,
   "id": "eac40845",
   "metadata": {},
   "outputs": [],
   "source": [
    "mmbd = google.movies_by_day(mst)"
   ]
  },
  {
   "cell_type": "code",
   "execution_count": 80,
   "id": "52b5426d",
   "metadata": {},
   "outputs": [
    {
     "data": {
      "text/html": [
       "<div>\n",
       "<style scoped>\n",
       "    .dataframe tbody tr th:only-of-type {\n",
       "        vertical-align: middle;\n",
       "    }\n",
       "\n",
       "    .dataframe tbody tr th {\n",
       "        vertical-align: top;\n",
       "    }\n",
       "\n",
       "    .dataframe thead th {\n",
       "        text-align: right;\n",
       "    }\n",
       "</style>\n",
       "<table border=\"1\" class=\"dataframe\">\n",
       "  <thead>\n",
       "    <tr style=\"text-align: right;\">\n",
       "      <th></th>\n",
       "      <th>9</th>\n",
       "      <th>10</th>\n",
       "      <th>11</th>\n",
       "      <th>12</th>\n",
       "    </tr>\n",
       "  </thead>\n",
       "  <tbody>\n",
       "    <tr>\n",
       "      <th>0</th>\n",
       "      <td>Doctor Strange in the Multiverse of Madness</td>\n",
       "      <td>Doctor Strange in the Multiverse of Madness</td>\n",
       "      <td>Doctor Strange in the Multiverse of Madness</td>\n",
       "      <td>Doctor Strange in the Multiverse of Madness</td>\n",
       "    </tr>\n",
       "    <tr>\n",
       "      <th>1</th>\n",
       "      <td>Detective Conan: The Bride Of Halloween</td>\n",
       "      <td>Detective Conan: The Bride Of Halloween</td>\n",
       "      <td>Detective Conan: The Bride Of Halloween</td>\n",
       "      <td>Detective Conan: The Bride Of Halloween</td>\n",
       "    </tr>\n",
       "    <tr>\n",
       "      <th>2</th>\n",
       "      <td>Fantastic Beasts: The Secrets of Dumbledore</td>\n",
       "      <td>Fantastic Beasts: The Secrets of Dumbledore</td>\n",
       "      <td>Fantastic Beasts: The Secrets of Dumbledore</td>\n",
       "      <td>Fantastic Beasts: The Secrets of Dumbledore</td>\n",
       "    </tr>\n",
       "    <tr>\n",
       "      <th>3</th>\n",
       "      <td>劇場版ラジエーションハウス</td>\n",
       "      <td>劇場版ラジエーションハウス</td>\n",
       "      <td>劇場版ラジエーションハウス</td>\n",
       "      <td>劇場版ラジエーションハウス</td>\n",
       "    </tr>\n",
       "    <tr>\n",
       "      <th>4</th>\n",
       "      <td>ホリック xxxHOLiC</td>\n",
       "      <td>Crayon Shin-chan: Mononoke Ninja Chinpūden</td>\n",
       "      <td>Crayon Shin-chan: Mononoke Ninja Chinpūden</td>\n",
       "      <td>Crayon Shin-chan: Mononoke Ninja Chinpūden</td>\n",
       "    </tr>\n",
       "    <tr>\n",
       "      <th>5</th>\n",
       "      <td>死刑にいたる病</td>\n",
       "      <td>ホリック xxxHOLiC</td>\n",
       "      <td>ホリック xxxHOLiC</td>\n",
       "      <td>ホリック xxxHOLiC</td>\n",
       "    </tr>\n",
       "    <tr>\n",
       "      <th>6</th>\n",
       "      <td>Free! – the Final Stroke – the first volume</td>\n",
       "      <td>死刑にいたる病</td>\n",
       "      <td>死刑にいたる病</td>\n",
       "      <td>死刑にいたる病</td>\n",
       "    </tr>\n",
       "    <tr>\n",
       "      <th>7</th>\n",
       "      <td>映画 おそ松さん</td>\n",
       "      <td>Free! – the Final Stroke – the first volume</td>\n",
       "      <td>Free! – the Final Stroke – the first volume</td>\n",
       "      <td>Free! – the Final Stroke – the first volume</td>\n",
       "    </tr>\n",
       "    <tr>\n",
       "      <th>8</th>\n",
       "      <td>Tonbi</td>\n",
       "      <td>Sing 2</td>\n",
       "      <td>Sing 2</td>\n",
       "      <td>Sing 2</td>\n",
       "    </tr>\n",
       "    <tr>\n",
       "      <th>9</th>\n",
       "      <td>Chernobyl: Abyss</td>\n",
       "      <td>Jujutsu Kaisen 0</td>\n",
       "      <td>Jujutsu Kaisen 0</td>\n",
       "      <td>Jujutsu Kaisen 0</td>\n",
       "    </tr>\n",
       "    <tr>\n",
       "      <th>10</th>\n",
       "      <td>My Salinger Year</td>\n",
       "      <td>余命10年</td>\n",
       "      <td>余命10年</td>\n",
       "      <td>余命10年</td>\n",
       "    </tr>\n",
       "    <tr>\n",
       "      <th>11</th>\n",
       "      <td>劇場版 舞台『刀剣乱舞』无伝 夕紅の士 -大坂夏の陣-</td>\n",
       "      <td>映画 おそ松さん</td>\n",
       "      <td>映画 おそ松さん</td>\n",
       "      <td>映画 おそ松さん</td>\n",
       "    </tr>\n",
       "    <tr>\n",
       "      <th>12</th>\n",
       "      <td>Marry Me</td>\n",
       "      <td>SEVENTEEN POWER OF LOVE : THE MOVIE</td>\n",
       "      <td>SEVENTEEN POWER OF LOVE : THE MOVIE</td>\n",
       "      <td>SEVENTEEN POWER OF LOVE : THE MOVIE</td>\n",
       "    </tr>\n",
       "    <tr>\n",
       "      <th>13</th>\n",
       "      <td>パリ13区</td>\n",
       "      <td>Doraemon: Nobita's Little Star Wars 2021</td>\n",
       "      <td>Doraemon: Nobita's Little Star Wars 2021</td>\n",
       "      <td>Doraemon: Nobita's Little Star Wars 2021</td>\n",
       "    </tr>\n",
       "    <tr>\n",
       "      <th>14</th>\n",
       "      <td>-</td>\n",
       "      <td>Tonbi</td>\n",
       "      <td>Tonbi</td>\n",
       "      <td>Tonbi</td>\n",
       "    </tr>\n",
       "    <tr>\n",
       "      <th>15</th>\n",
       "      <td>-</td>\n",
       "      <td>チェリまほ THE MOVIE ～３０歳まで童貞だと魔法使いになれるらしい～</td>\n",
       "      <td>チェリまほ THE MOVIE ～３０歳まで童貞だと魔法使いになれるらしい～</td>\n",
       "      <td>チェリまほ THE MOVIE ～３０歳まで童貞だと魔法使いになれるらしい～</td>\n",
       "    </tr>\n",
       "    <tr>\n",
       "      <th>16</th>\n",
       "      <td>-</td>\n",
       "      <td>Chernobyl: Abyss</td>\n",
       "      <td>Chernobyl: Abyss</td>\n",
       "      <td>Chernobyl: Abyss</td>\n",
       "    </tr>\n",
       "    <tr>\n",
       "      <th>17</th>\n",
       "      <td>-</td>\n",
       "      <td>My Salinger Year</td>\n",
       "      <td>My Salinger Year</td>\n",
       "      <td>My Salinger Year</td>\n",
       "    </tr>\n",
       "    <tr>\n",
       "      <th>18</th>\n",
       "      <td>-</td>\n",
       "      <td>Kikai Sentai Zenkaiger vs. Kiramager vs. Senpa...</td>\n",
       "      <td>Kikai Sentai Zenkaiger vs. Kiramager vs. Senpa...</td>\n",
       "      <td>Kikai Sentai Zenkaiger vs. Kiramager vs. Senpa...</td>\n",
       "    </tr>\n",
       "    <tr>\n",
       "      <th>19</th>\n",
       "      <td>-</td>\n",
       "      <td>劇場版 舞台『刀剣乱舞』无伝 夕紅の士 -大坂夏の陣-</td>\n",
       "      <td>劇場版 舞台『刀剣乱舞』无伝 夕紅の士 -大坂夏の陣-</td>\n",
       "      <td>劇場版 舞台『刀剣乱舞』无伝 夕紅の士 -大坂夏の陣-</td>\n",
       "    </tr>\n",
       "    <tr>\n",
       "      <th>20</th>\n",
       "      <td>-</td>\n",
       "      <td>劇場版 RE:cycle of the PENGUINDRUM ［前編］君の列車は生存戦略</td>\n",
       "      <td>劇場版 RE:cycle of the PENGUINDRUM ［前編］君の列車は生存戦略</td>\n",
       "      <td>劇場版 RE:cycle of the PENGUINDRUM ［前編］君の列車は生存戦略</td>\n",
       "    </tr>\n",
       "    <tr>\n",
       "      <th>21</th>\n",
       "      <td>-</td>\n",
       "      <td>Marry Me</td>\n",
       "      <td>Marry Me</td>\n",
       "      <td>Marry Me</td>\n",
       "    </tr>\n",
       "    <tr>\n",
       "      <th>22</th>\n",
       "      <td>-</td>\n",
       "      <td>《シネマ歌舞伎》桜姫東文章 下の巻</td>\n",
       "      <td>《シネマ歌舞伎》桜姫東文章 下の巻</td>\n",
       "      <td>《シネマ歌舞伎》桜姫東文章 下の巻</td>\n",
       "    </tr>\n",
       "    <tr>\n",
       "      <th>23</th>\n",
       "      <td>-</td>\n",
       "      <td>東西ジャニーズJr. ぼくらのサバイバルウォーズ</td>\n",
       "      <td>東西ジャニーズJr. ぼくらのサバイバルウォーズ</td>\n",
       "      <td>東西ジャニーズJr. ぼくらのサバイバルウォーズ</td>\n",
       "    </tr>\n",
       "    <tr>\n",
       "      <th>24</th>\n",
       "      <td>-</td>\n",
       "      <td>パリ13区</td>\n",
       "      <td>パリ13区</td>\n",
       "      <td>パリ13区</td>\n",
       "    </tr>\n",
       "  </tbody>\n",
       "</table>\n",
       "</div>"
      ],
      "text/plain": [
       "                                              9  \\\n",
       "0   Doctor Strange in the Multiverse of Madness   \n",
       "1       Detective Conan: The Bride Of Halloween   \n",
       "2   Fantastic Beasts: The Secrets of Dumbledore   \n",
       "3                                 劇場版ラジエーションハウス   \n",
       "4                                 ホリック xxxHOLiC   \n",
       "5                                       死刑にいたる病   \n",
       "6   Free! – the Final Stroke – the first volume   \n",
       "7                                      映画 おそ松さん   \n",
       "8                                         Tonbi   \n",
       "9                              Chernobyl: Abyss   \n",
       "10                             My Salinger Year   \n",
       "11                  劇場版 舞台『刀剣乱舞』无伝 夕紅の士 -大坂夏の陣-   \n",
       "12                                     Marry Me   \n",
       "13                                        パリ13区   \n",
       "14                                            -   \n",
       "15                                            -   \n",
       "16                                            -   \n",
       "17                                            -   \n",
       "18                                            -   \n",
       "19                                            -   \n",
       "20                                            -   \n",
       "21                                            -   \n",
       "22                                            -   \n",
       "23                                            -   \n",
       "24                                            -   \n",
       "\n",
       "                                                   10  \\\n",
       "0         Doctor Strange in the Multiverse of Madness   \n",
       "1             Detective Conan: The Bride Of Halloween   \n",
       "2         Fantastic Beasts: The Secrets of Dumbledore   \n",
       "3                                       劇場版ラジエーションハウス   \n",
       "4          Crayon Shin-chan: Mononoke Ninja Chinpūden   \n",
       "5                                       ホリック xxxHOLiC   \n",
       "6                                             死刑にいたる病   \n",
       "7         Free! – the Final Stroke – the first volume   \n",
       "8                                              Sing 2   \n",
       "9                                    Jujutsu Kaisen 0   \n",
       "10                                              余命10年   \n",
       "11                                           映画 おそ松さん   \n",
       "12                SEVENTEEN POWER OF LOVE : THE MOVIE   \n",
       "13           Doraemon: Nobita's Little Star Wars 2021   \n",
       "14                                              Tonbi   \n",
       "15             チェリまほ THE MOVIE ～３０歳まで童貞だと魔法使いになれるらしい～   \n",
       "16                                   Chernobyl: Abyss   \n",
       "17                                   My Salinger Year   \n",
       "18  Kikai Sentai Zenkaiger vs. Kiramager vs. Senpa...   \n",
       "19                        劇場版 舞台『刀剣乱舞』无伝 夕紅の士 -大坂夏の陣-   \n",
       "20      劇場版 RE:cycle of the PENGUINDRUM ［前編］君の列車は生存戦略   \n",
       "21                                           Marry Me   \n",
       "22                                  《シネマ歌舞伎》桜姫東文章 下の巻   \n",
       "23                           東西ジャニーズJr. ぼくらのサバイバルウォーズ   \n",
       "24                                              パリ13区   \n",
       "\n",
       "                                                   11  \\\n",
       "0         Doctor Strange in the Multiverse of Madness   \n",
       "1             Detective Conan: The Bride Of Halloween   \n",
       "2         Fantastic Beasts: The Secrets of Dumbledore   \n",
       "3                                       劇場版ラジエーションハウス   \n",
       "4          Crayon Shin-chan: Mononoke Ninja Chinpūden   \n",
       "5                                       ホリック xxxHOLiC   \n",
       "6                                             死刑にいたる病   \n",
       "7         Free! – the Final Stroke – the first volume   \n",
       "8                                              Sing 2   \n",
       "9                                    Jujutsu Kaisen 0   \n",
       "10                                              余命10年   \n",
       "11                                           映画 おそ松さん   \n",
       "12                SEVENTEEN POWER OF LOVE : THE MOVIE   \n",
       "13           Doraemon: Nobita's Little Star Wars 2021   \n",
       "14                                              Tonbi   \n",
       "15             チェリまほ THE MOVIE ～３０歳まで童貞だと魔法使いになれるらしい～   \n",
       "16                                   Chernobyl: Abyss   \n",
       "17                                   My Salinger Year   \n",
       "18  Kikai Sentai Zenkaiger vs. Kiramager vs. Senpa...   \n",
       "19                        劇場版 舞台『刀剣乱舞』无伝 夕紅の士 -大坂夏の陣-   \n",
       "20      劇場版 RE:cycle of the PENGUINDRUM ［前編］君の列車は生存戦略   \n",
       "21                                           Marry Me   \n",
       "22                                  《シネマ歌舞伎》桜姫東文章 下の巻   \n",
       "23                           東西ジャニーズJr. ぼくらのサバイバルウォーズ   \n",
       "24                                              パリ13区   \n",
       "\n",
       "                                                   12  \n",
       "0         Doctor Strange in the Multiverse of Madness  \n",
       "1             Detective Conan: The Bride Of Halloween  \n",
       "2         Fantastic Beasts: The Secrets of Dumbledore  \n",
       "3                                       劇場版ラジエーションハウス  \n",
       "4          Crayon Shin-chan: Mononoke Ninja Chinpūden  \n",
       "5                                       ホリック xxxHOLiC  \n",
       "6                                             死刑にいたる病  \n",
       "7         Free! – the Final Stroke – the first volume  \n",
       "8                                              Sing 2  \n",
       "9                                    Jujutsu Kaisen 0  \n",
       "10                                              余命10年  \n",
       "11                                           映画 おそ松さん  \n",
       "12                SEVENTEEN POWER OF LOVE : THE MOVIE  \n",
       "13           Doraemon: Nobita's Little Star Wars 2021  \n",
       "14                                              Tonbi  \n",
       "15             チェリまほ THE MOVIE ～３０歳まで童貞だと魔法使いになれるらしい～  \n",
       "16                                   Chernobyl: Abyss  \n",
       "17                                   My Salinger Year  \n",
       "18  Kikai Sentai Zenkaiger vs. Kiramager vs. Senpa...  \n",
       "19                        劇場版 舞台『刀剣乱舞』无伝 夕紅の士 -大坂夏の陣-  \n",
       "20      劇場版 RE:cycle of the PENGUINDRUM ［前編］君の列車は生存戦略  \n",
       "21                                           Marry Me  \n",
       "22                                  《シネマ歌舞伎》桜姫東文章 下の巻  \n",
       "23                           東西ジャニーズJr. ぼくらのサバイバルウォーズ  \n",
       "24                                              パリ13区  "
      ]
     },
     "execution_count": 80,
     "metadata": {},
     "output_type": "execute_result"
    }
   ],
   "source": [
    "mbd_to_df(mmbd)"
   ]
  },
  {
   "cell_type": "markdown",
   "id": "f5303f1a",
   "metadata": {},
   "source": [
    "### Toho Fujimi"
   ]
  },
  {
   "cell_type": "code",
   "execution_count": 82,
   "id": "faa58e51",
   "metadata": {},
   "outputs": [],
   "source": [
    "tohoquery = 'toho cinema lalaport fujimi'"
   ]
  },
  {
   "cell_type": "code",
   "execution_count": 83,
   "id": "84fbbdae",
   "metadata": {},
   "outputs": [
    {
     "name": "stdout",
     "output_type": "stream",
     "text": [
      "Response :200\n"
     ]
    }
   ],
   "source": [
    "tst = google.search(tohoquery)"
   ]
  },
  {
   "cell_type": "code",
   "execution_count": 86,
   "id": "a264d4ae",
   "metadata": {},
   "outputs": [
    {
     "data": {
      "text/plain": [
       "['Fantastic Beasts: The Secrets of Dumbledore',\n",
       " 'チェリまほ THE MOVIE ～３０歳まで童貞だと魔法使いになれるらしい～',\n",
       " 'Detective Conan: The Bride Of Halloween',\n",
       " '劇場版 舞台『刀剣乱舞』无伝 夕紅の士 -大坂夏の陣-',\n",
       " 'Two for the Road',\n",
       " 'ホリック xxxHOLiC',\n",
       " 'Jujutsu Kaisen 0',\n",
       " '劇場版ラジエーションハウス',\n",
       " 'Sing 2',\n",
       " \"Doraemon: Nobita's Little Star Wars 2021\",\n",
       " 'Free! – the Final Stroke – the first volume',\n",
       " '映画 おそ松さん',\n",
       " 'Crayon Shin-chan: Mononoke Ninja Chinpūden',\n",
       " 'Doctor Strange in the Multiverse of Madness']"
      ]
     },
     "execution_count": 86,
     "metadata": {},
     "output_type": "execute_result"
    }
   ],
   "source": [
    "google.movie_list(tst)"
   ]
  },
  {
   "cell_type": "code",
   "execution_count": 84,
   "id": "0dd36af1",
   "metadata": {},
   "outputs": [],
   "source": [
    "tmbd = google.movies_by_day(tst)"
   ]
  },
  {
   "cell_type": "code",
   "execution_count": 85,
   "id": "9e565e7e",
   "metadata": {},
   "outputs": [
    {
     "data": {
      "text/html": [
       "<div>\n",
       "<style scoped>\n",
       "    .dataframe tbody tr th:only-of-type {\n",
       "        vertical-align: middle;\n",
       "    }\n",
       "\n",
       "    .dataframe tbody tr th {\n",
       "        vertical-align: top;\n",
       "    }\n",
       "\n",
       "    .dataframe thead th {\n",
       "        text-align: right;\n",
       "    }\n",
       "</style>\n",
       "<table border=\"1\" class=\"dataframe\">\n",
       "  <thead>\n",
       "    <tr style=\"text-align: right;\">\n",
       "      <th></th>\n",
       "      <th>9</th>\n",
       "      <th>10</th>\n",
       "      <th>11</th>\n",
       "      <th>12</th>\n",
       "    </tr>\n",
       "  </thead>\n",
       "  <tbody>\n",
       "    <tr>\n",
       "      <th>0</th>\n",
       "      <td>Doctor Strange in the Multiverse of Madness</td>\n",
       "      <td>Doctor Strange in the Multiverse of Madness</td>\n",
       "      <td>Doctor Strange in the Multiverse of Madness</td>\n",
       "      <td>Doctor Strange in the Multiverse of Madness</td>\n",
       "    </tr>\n",
       "    <tr>\n",
       "      <th>1</th>\n",
       "      <td>Detective Conan: The Bride Of Halloween</td>\n",
       "      <td>Detective Conan: The Bride Of Halloween</td>\n",
       "      <td>Detective Conan: The Bride Of Halloween</td>\n",
       "      <td>Detective Conan: The Bride Of Halloween</td>\n",
       "    </tr>\n",
       "    <tr>\n",
       "      <th>2</th>\n",
       "      <td>Fantastic Beasts: The Secrets of Dumbledore</td>\n",
       "      <td>Fantastic Beasts: The Secrets of Dumbledore</td>\n",
       "      <td>Fantastic Beasts: The Secrets of Dumbledore</td>\n",
       "      <td>Fantastic Beasts: The Secrets of Dumbledore</td>\n",
       "    </tr>\n",
       "    <tr>\n",
       "      <th>3</th>\n",
       "      <td>劇場版ラジエーションハウス</td>\n",
       "      <td>劇場版ラジエーションハウス</td>\n",
       "      <td>劇場版ラジエーションハウス</td>\n",
       "      <td>劇場版ラジエーションハウス</td>\n",
       "    </tr>\n",
       "    <tr>\n",
       "      <th>4</th>\n",
       "      <td>ホリック xxxHOLiC</td>\n",
       "      <td>Crayon Shin-chan: Mononoke Ninja Chinpūden</td>\n",
       "      <td>Crayon Shin-chan: Mononoke Ninja Chinpūden</td>\n",
       "      <td>Crayon Shin-chan: Mononoke Ninja Chinpūden</td>\n",
       "    </tr>\n",
       "    <tr>\n",
       "      <th>5</th>\n",
       "      <td>Free! – the Final Stroke – the first volume</td>\n",
       "      <td>ホリック xxxHOLiC</td>\n",
       "      <td>ホリック xxxHOLiC</td>\n",
       "      <td>ホリック xxxHOLiC</td>\n",
       "    </tr>\n",
       "    <tr>\n",
       "      <th>6</th>\n",
       "      <td>Sing 2</td>\n",
       "      <td>Free! – the Final Stroke – the first volume</td>\n",
       "      <td>Free! – the Final Stroke – the first volume</td>\n",
       "      <td>Free! – the Final Stroke – the first volume</td>\n",
       "    </tr>\n",
       "    <tr>\n",
       "      <th>7</th>\n",
       "      <td>チェリまほ THE MOVIE ～３０歳まで童貞だと魔法使いになれるらしい～</td>\n",
       "      <td>Sing 2</td>\n",
       "      <td>Sing 2</td>\n",
       "      <td>Sing 2</td>\n",
       "    </tr>\n",
       "    <tr>\n",
       "      <th>8</th>\n",
       "      <td>-</td>\n",
       "      <td>Jujutsu Kaisen 0</td>\n",
       "      <td>Jujutsu Kaisen 0</td>\n",
       "      <td>Jujutsu Kaisen 0</td>\n",
       "    </tr>\n",
       "    <tr>\n",
       "      <th>9</th>\n",
       "      <td>-</td>\n",
       "      <td>映画 おそ松さん</td>\n",
       "      <td>映画 おそ松さん</td>\n",
       "      <td>映画 おそ松さん</td>\n",
       "    </tr>\n",
       "    <tr>\n",
       "      <th>10</th>\n",
       "      <td>-</td>\n",
       "      <td>Doraemon: Nobita's Little Star Wars 2021</td>\n",
       "      <td>Doraemon: Nobita's Little Star Wars 2021</td>\n",
       "      <td>Doraemon: Nobita's Little Star Wars 2021</td>\n",
       "    </tr>\n",
       "    <tr>\n",
       "      <th>11</th>\n",
       "      <td>-</td>\n",
       "      <td>チェリまほ THE MOVIE ～３０歳まで童貞だと魔法使いになれるらしい～</td>\n",
       "      <td>チェリまほ THE MOVIE ～３０歳まで童貞だと魔法使いになれるらしい～</td>\n",
       "      <td>チェリまほ THE MOVIE ～３０歳まで童貞だと魔法使いになれるらしい～</td>\n",
       "    </tr>\n",
       "    <tr>\n",
       "      <th>12</th>\n",
       "      <td>-</td>\n",
       "      <td>劇場版 舞台『刀剣乱舞』无伝 夕紅の士 -大坂夏の陣-</td>\n",
       "      <td>劇場版 舞台『刀剣乱舞』无伝 夕紅の士 -大坂夏の陣-</td>\n",
       "      <td>劇場版 舞台『刀剣乱舞』无伝 夕紅の士 -大坂夏の陣-</td>\n",
       "    </tr>\n",
       "    <tr>\n",
       "      <th>13</th>\n",
       "      <td>-</td>\n",
       "      <td>Two for the Road</td>\n",
       "      <td>Two for the Road</td>\n",
       "      <td>Two for the Road</td>\n",
       "    </tr>\n",
       "  </tbody>\n",
       "</table>\n",
       "</div>"
      ],
      "text/plain": [
       "                                              9  \\\n",
       "0   Doctor Strange in the Multiverse of Madness   \n",
       "1       Detective Conan: The Bride Of Halloween   \n",
       "2   Fantastic Beasts: The Secrets of Dumbledore   \n",
       "3                                 劇場版ラジエーションハウス   \n",
       "4                                 ホリック xxxHOLiC   \n",
       "5   Free! – the Final Stroke – the first volume   \n",
       "6                                        Sing 2   \n",
       "7        チェリまほ THE MOVIE ～３０歳まで童貞だと魔法使いになれるらしい～   \n",
       "8                                             -   \n",
       "9                                             -   \n",
       "10                                            -   \n",
       "11                                            -   \n",
       "12                                            -   \n",
       "13                                            -   \n",
       "\n",
       "                                             10  \\\n",
       "0   Doctor Strange in the Multiverse of Madness   \n",
       "1       Detective Conan: The Bride Of Halloween   \n",
       "2   Fantastic Beasts: The Secrets of Dumbledore   \n",
       "3                                 劇場版ラジエーションハウス   \n",
       "4    Crayon Shin-chan: Mononoke Ninja Chinpūden   \n",
       "5                                 ホリック xxxHOLiC   \n",
       "6   Free! – the Final Stroke – the first volume   \n",
       "7                                        Sing 2   \n",
       "8                              Jujutsu Kaisen 0   \n",
       "9                                      映画 おそ松さん   \n",
       "10     Doraemon: Nobita's Little Star Wars 2021   \n",
       "11       チェリまほ THE MOVIE ～３０歳まで童貞だと魔法使いになれるらしい～   \n",
       "12                  劇場版 舞台『刀剣乱舞』无伝 夕紅の士 -大坂夏の陣-   \n",
       "13                             Two for the Road   \n",
       "\n",
       "                                             11  \\\n",
       "0   Doctor Strange in the Multiverse of Madness   \n",
       "1       Detective Conan: The Bride Of Halloween   \n",
       "2   Fantastic Beasts: The Secrets of Dumbledore   \n",
       "3                                 劇場版ラジエーションハウス   \n",
       "4    Crayon Shin-chan: Mononoke Ninja Chinpūden   \n",
       "5                                 ホリック xxxHOLiC   \n",
       "6   Free! – the Final Stroke – the first volume   \n",
       "7                                        Sing 2   \n",
       "8                              Jujutsu Kaisen 0   \n",
       "9                                      映画 おそ松さん   \n",
       "10     Doraemon: Nobita's Little Star Wars 2021   \n",
       "11       チェリまほ THE MOVIE ～３０歳まで童貞だと魔法使いになれるらしい～   \n",
       "12                  劇場版 舞台『刀剣乱舞』无伝 夕紅の士 -大坂夏の陣-   \n",
       "13                             Two for the Road   \n",
       "\n",
       "                                             12  \n",
       "0   Doctor Strange in the Multiverse of Madness  \n",
       "1       Detective Conan: The Bride Of Halloween  \n",
       "2   Fantastic Beasts: The Secrets of Dumbledore  \n",
       "3                                 劇場版ラジエーションハウス  \n",
       "4    Crayon Shin-chan: Mononoke Ninja Chinpūden  \n",
       "5                                 ホリック xxxHOLiC  \n",
       "6   Free! – the Final Stroke – the first volume  \n",
       "7                                        Sing 2  \n",
       "8                              Jujutsu Kaisen 0  \n",
       "9                                      映画 おそ松さん  \n",
       "10     Doraemon: Nobita's Little Star Wars 2021  \n",
       "11       チェリまほ THE MOVIE ～３０歳まで童貞だと魔法使いになれるらしい～  \n",
       "12                  劇場版 舞台『刀剣乱舞』无伝 夕紅の士 -大坂夏の陣-  \n",
       "13                             Two for the Road  "
      ]
     },
     "execution_count": 85,
     "metadata": {},
     "output_type": "execute_result"
    }
   ],
   "source": [
    "mbd_to_df(tmbd)"
   ]
  },
  {
   "cell_type": "markdown",
   "id": "6a8c556f",
   "metadata": {},
   "source": [
    "## Detecting Japanese"
   ]
  },
  {
   "cell_type": "code",
   "execution_count": 88,
   "id": "6475bc68",
   "metadata": {},
   "outputs": [],
   "source": [
    "import re"
   ]
  },
  {
   "cell_type": "code",
   "execution_count": 114,
   "id": "eafdd111",
   "metadata": {},
   "outputs": [
    {
     "data": {
      "text/plain": [
       "True"
      ]
     },
     "execution_count": 114,
     "metadata": {},
     "output_type": "execute_result"
    }
   ],
   "source": [
    "pattern = r'[\\u3040-\\u30ff\\u3400-\\u4dbf\\u4e00-\\u9fff\\uf900-\\ufaff\\uff66-\\uff9f]' #unicode for chinese/jp chars\n",
    "title = 'Doraemon: チェリまほ THE MOVIE ～３０歳まで童貞だと魔法使いになれ Star Wars 2021'\n",
    "bool(re.search(pattern, title))\n"
   ]
  },
  {
   "cell_type": "code",
   "execution_count": 145,
   "id": "b47b62f5",
   "metadata": {},
   "outputs": [
    {
     "data": {
      "text/plain": [
       "'Doraemon:  THE MOVIE ～３０ Star Wars 2021'"
      ]
     },
     "execution_count": 145,
     "metadata": {},
     "output_type": "execute_result"
    }
   ],
   "source": [
    "pattern = r'[\\u3040-\\u30ff\\u3400-\\u4dbf\\u4e00-\\u9fff\\uf900-\\ufaff\\uff66-\\uff9f]' #unicode for chinese/jp chars\n",
    "title = 'Doraemon: チェリまほ THE MOVIE ～３０歳まで童貞だと魔法使いになれ Star Wars 2021'\n",
    "re.sub(pattern,'', title)\n"
   ]
  },
  {
   "cell_type": "markdown",
   "id": "c88d0935",
   "metadata": {},
   "source": [
    "## Compilation"
   ]
  },
  {
   "cell_type": "code",
   "execution_count": 115,
   "id": "579fb8c3",
   "metadata": {
    "scrolled": true
   },
   "outputs": [
    {
     "data": {
      "text/plain": [
       "{'5/7 - 5/13': {'engtitle': 'SPIDER-MAN: INTO THE SPIDER-VERSE',\n",
       "  'jptitle': 'スパイダーマン：スパイダーバース'},\n",
       " '5/14 - 5/15': {'engtitle': 'none', 'jptitle': 'ハッピーアワー'},\n",
       " '5/14 - 5/20': {'engtitle': 'LAS NINAS / SCHOOLGIRLS', 'jptitle': 'スクールガールズ'},\n",
       " '5/21 - 5/27': {'engtitle': 'BELUSHI', 'jptitle': 'ＢＥＬＵＳＨＩ ベルーシ'},\n",
       " '5/28 - 6/3': {'engtitle': 'none', 'jptitle': '炎の肖像'},\n",
       " '6/4 - 6/10': {'engtitle': '肥龍過江 / ENTER THE FAT DRAGON',\n",
       "  'jptitle': '燃えよデブゴン ＴＯＫＹＯ ＭＩＳＳＩＯＮ'},\n",
       " '6/18 - 6/24': {'engtitle': 'none', 'jptitle': 'ひらいて'},\n",
       " '6/25 - 7/1': {'engtitle': 'FANTASTIC FUNGI', 'jptitle': '素晴らしき、きのこの世界'}}"
      ]
     },
     "execution_count": 115,
     "metadata": {},
     "output_type": "execute_result"
    }
   ],
   "source": [
    "infodict"
   ]
  },
  {
   "cell_type": "code",
   "execution_count": null,
   "id": "7b3dd5cd",
   "metadata": {},
   "outputs": [],
   "source": []
  }
 ],
 "metadata": {
  "kernelspec": {
   "display_name": "Python 3 (ipykernel)",
   "language": "python",
   "name": "python3"
  },
  "language_info": {
   "codemirror_mode": {
    "name": "ipython",
    "version": 3
   },
   "file_extension": ".py",
   "mimetype": "text/x-python",
   "name": "python",
   "nbconvert_exporter": "python",
   "pygments_lexer": "ipython3",
   "version": "3.8.12"
  },
  "toc": {
   "base_numbering": 1,
   "nav_menu": {},
   "number_sections": true,
   "sideBar": true,
   "skip_h1_title": false,
   "title_cell": "Table of Contents",
   "title_sidebar": "Contents",
   "toc_cell": false,
   "toc_position": {},
   "toc_section_display": true,
   "toc_window_display": false
  }
 },
 "nbformat": 4,
 "nbformat_minor": 5
}
