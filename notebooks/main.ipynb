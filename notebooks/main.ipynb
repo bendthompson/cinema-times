{
 "cells": [
  {
   "cell_type": "markdown",
   "id": "57343b38",
   "metadata": {},
   "source": [
    "Adding abs path for importing"
   ]
  },
  {
   "cell_type": "code",
   "execution_count": 3,
   "id": "5ef49e3c",
   "metadata": {},
   "outputs": [],
   "source": [
    "import os\n",
    "import sys"
   ]
  },
  {
   "cell_type": "code",
   "execution_count": 4,
   "id": "d5888acc",
   "metadata": {},
   "outputs": [],
   "source": [
    "import pandas as pd"
   ]
  },
  {
   "cell_type": "code",
   "execution_count": 5,
   "id": "08b27c53",
   "metadata": {},
   "outputs": [],
   "source": [
    "path = os.path.abspath('..')"
   ]
  },
  {
   "cell_type": "code",
   "execution_count": 6,
   "id": "59fbb581",
   "metadata": {},
   "outputs": [],
   "source": [
    "sys.path.append(path)"
   ]
  },
  {
   "cell_type": "markdown",
   "id": "8d80af26",
   "metadata": {},
   "source": [
    "## IMDB Info and Pictures\n"
   ]
  },
  {
   "cell_type": "code",
   "execution_count": 12,
   "id": "d2fc67c0",
   "metadata": {},
   "outputs": [],
   "source": [
    "from cinematimes import imdb"
   ]
  },
  {
   "cell_type": "code",
   "execution_count": 14,
   "id": "e280cf1c",
   "metadata": {},
   "outputs": [],
   "source": [
    "movieinfo = imdb.moviesearch('yourname')"
   ]
  },
  {
   "cell_type": "code",
   "execution_count": 15,
   "id": "861be77a",
   "metadata": {},
   "outputs": [
    {
     "data": {
      "text/plain": [
       "{'id': 'tt5311514',\n",
       " 'resultType': 'Title',\n",
       " 'image': 'https://imdb-api.com/images/original/MV5BODRmZDVmNzUtZDA4ZC00NjhkLWI2M2UtN2M0ZDIzNDcxYThjL2ltYWdlXkEyXkFqcGdeQXVyNTk0MzMzODA@._V1_Ratio0.7273_AL_.jpg',\n",
       " 'title': 'Your Name.',\n",
       " 'description': '(2016)'}"
      ]
     },
     "execution_count": 15,
     "metadata": {},
     "output_type": "execute_result"
    }
   ],
   "source": [
    "movieinfo"
   ]
  },
  {
   "cell_type": "code",
   "execution_count": 17,
   "id": "e256cd46",
   "metadata": {},
   "outputs": [
    {
     "data": {
      "text/plain": [
       "'https://imdb-api.com/images/384x528/MV5BODRmZDVmNzUtZDA4ZC00NjhkLWI2M2UtN2M0ZDIzNDcxYThjL2ltYWdlXkEyXkFqcGdeQXVyNTk0MzMzODA@._V1_Ratio0.7273_AL_.jpg'"
      ]
     },
     "execution_count": 17,
     "metadata": {},
     "output_type": "execute_result"
    }
   ],
   "source": [
    "resizedimage = imdb.resizeimage(movieinfo['image'])\n",
    "resizedimage"
   ]
  },
  {
   "cell_type": "code",
   "execution_count": 19,
   "id": "25e1ddc3",
   "metadata": {},
   "outputs": [
    {
     "data": {
      "text/plain": [
       "'https://imdb-api.com/posters/original/q719jXXEzOoYaps6babgKnONONX.jpg'"
      ]
     },
     "execution_count": 19,
     "metadata": {},
     "output_type": "execute_result"
    }
   ],
   "source": [
    "mposter = imdb.poster(movieinfo['id'])\n",
    "mposter"
   ]
  },
  {
   "cell_type": "markdown",
   "id": "822152f3",
   "metadata": {},
   "source": [
    "### "
   ]
  },
  {
   "cell_type": "markdown",
   "id": "894be20e",
   "metadata": {},
   "source": [
    "## HTML Scraping"
   ]
  },
  {
   "cell_type": "markdown",
   "id": "ceab1308",
   "metadata": {},
   "source": [
    "### Meguro"
   ]
  },
  {
   "cell_type": "code",
   "execution_count": 7,
   "id": "7ccf36cd",
   "metadata": {},
   "outputs": [],
   "source": [
    "from cinematimes import meguro"
   ]
  },
  {
   "cell_type": "code",
   "execution_count": 8,
   "id": "c40700a4",
   "metadata": {},
   "outputs": [],
   "source": [
    "soup = meguro.get_soup()"
   ]
  },
  {
   "cell_type": "code",
   "execution_count": 9,
   "id": "bcf4131d",
   "metadata": {},
   "outputs": [],
   "source": [
    "meguro_info = meguro.meguro_info(soup)"
   ]
  },
  {
   "cell_type": "code",
   "execution_count": 10,
   "id": "87e4d4e2",
   "metadata": {},
   "outputs": [
    {
     "data": {
      "text/plain": [
       "[['5/7', '5/13'],\n",
       " {'engtitle': 'SPIDER-MAN: NO WAY HOME',\n",
       "  'jptitle': 'タイトル☆-->スパイダーマン：ノー・ウェイ・ホーム<!--☆ここまで'},\n",
       " {'engtitle': 'UNCHARTED', 'jptitle': 'タイトル☆-->アンチャーテッド<!--☆ここまで'},\n",
       " {'engtitle': 'SPIDER-MAN: INTO THE SPIDER-VERSE',\n",
       "  'jptitle': 'タイトル☆-->スパイダーマン：スパイダーバース<!--☆ここまで'},\n",
       " ['5/14', '5/15'],\n",
       " {'engtitle': '', 'jptitle': 'タイトル☆-->ハッピーアワー<!--☆ここまで'},\n",
       " ['5/14', '5/20'],\n",
       " {'engtitle': 'EL PLANETA', 'jptitle': 'タイトル☆-->エル プラネタ<!--☆ここまで'},\n",
       " {'engtitle': 'LAS NINAS / SCHOOLGIRLS',\n",
       "  'jptitle': 'タイトル☆-->スクールガールズ<!--☆ここまで'},\n",
       " ['5/21', '5/27'],\n",
       " {'engtitle': 'The Blues Brothers', 'jptitle': 'タイトル☆-->ブルース・ブラザース<!--☆ここまで'},\n",
       " {'engtitle': '（あるいは、革命がテレビ放映されなかった時）\\nSUMMER OF SOUL (OR, WHEN THE REVOLUTION COULD NOT BE TELEVISED)\\n',\n",
       "  'jptitle': 'タイトル☆-->サマー・オブ・ソウル<span class=\"text_small\">（あるいは、革命がテレビ放映されなかった時）<!--☆ここまで'},\n",
       " {'engtitle': 'BELUSHI', 'jptitle': 'タイトル☆-->ＢＥＬＵＳＨＩ ベルーシ<!--☆ここまで'},\n",
       " ['5/28', '6/3'],\n",
       " {'engtitle': '', 'jptitle': 'タイトル☆-->新幹線大爆破<!--☆ここまで'},\n",
       " {'engtitle': '', 'jptitle': 'タイトル☆-->家族ゲーム<!--☆ここまで'},\n",
       " {'engtitle': '', 'jptitle': 'タイトル☆-->太陽を盗んだ男<!--☆ここまで'},\n",
       " {'engtitle': '', 'jptitle': 'タイトル☆-->炎の肖像<!--☆ここまで'},\n",
       " ['6/4', '6/10'],\n",
       " {'engtitle': '怒火・重案 / RAGING FIRE', 'jptitle': 'タイトル☆-->レイジング・ファイア<!--☆ここまで'},\n",
       " {'engtitle': '肥龍過江 / ENTER THE FAT DRAGON',\n",
       "  'jptitle': 'タイトル☆-->燃えよデブゴン ＴＯＫＹＯ ＭＩＳＳＩＯＮ<!--☆ここまで'},\n",
       " ['6/18', '6/24'],\n",
       " {'engtitle': '', 'jptitle': 'タイトル☆-->ひらいて<!--☆ここまで'},\n",
       " ['6/25', '7/1'],\n",
       " {'engtitle': '', 'jptitle': 'タイトル☆-->私は白鳥<!--☆ここまで'},\n",
       " {'engtitle': '', 'jptitle': 'タイトル☆-->くじらびと<!--☆ここまで'},\n",
       " {'engtitle': 'THE TRUFFLE HUNTERS', 'jptitle': 'タイトル☆-->白いトリュフの宿る森<!--☆ここまで'},\n",
       " {'engtitle': 'FANTASTIC FUNGI', 'jptitle': 'タイトル☆-->素晴らしき、きのこの世界<!--☆ここまで'}]"
      ]
     },
     "execution_count": 10,
     "metadata": {},
     "output_type": "execute_result"
    }
   ],
   "source": [
    "meguro_info"
   ]
  },
  {
   "cell_type": "markdown",
   "id": "5618b178",
   "metadata": {},
   "source": [
    "## Google Search API"
   ]
  },
  {
   "cell_type": "code",
   "execution_count": 25,
   "id": "28b54ddc",
   "metadata": {},
   "outputs": [],
   "source": [
    "from cinematimes import google"
   ]
  },
  {
   "cell_type": "code",
   "execution_count": 27,
   "id": "d7e14ae1",
   "metadata": {},
   "outputs": [
    {
     "name": "stdout",
     "output_type": "stream",
     "text": [
      "Response :200\n"
     ]
    }
   ],
   "source": [
    "showtimes = google.search('united cinemas urawa')"
   ]
  },
  {
   "cell_type": "code",
   "execution_count": 29,
   "id": "0c8ae5c6",
   "metadata": {},
   "outputs": [
    {
     "data": {
      "text/plain": [
       "[{'day': 'Mon',\n",
       "  'date': 'May 9',\n",
       "  'movies': [{'name': 'Doctor Strange in the Multiverse of Madness',\n",
       "    'link': 'https://www.google.com/search?hl=en&gl=us&q=&si=AC1wQDAGEQiTPWsvhpPV4-xl97AcUfloRjKp4qat4I8-Kg1HxUZlh2hLOg8aj__svnrQzhOeuRt0XWQO0aQ5e0fgfdZ5oxQT-clYUo2VtNYfAz-3QHul_gW2_MxESJJx7PGoSMvHXsnkfZ8SAy_QWGpgJMmU8l6mC_NubXgZ2FtTl9rdM8fJN2Y48rTcmZwPppbDtsb_6HvS7Tz3fbiW03BGaEhgMK-tTclKJfHfYE8jt7pC-acWMDAL8gEgGV8KXbIcRDZ5A0TFpQRqgtiO3dXpdR5eg2PK-w%3D%3D&sa=X&ved=2ahUKEwjgypjF79H3AhV7JUQIHU_aDlgQxyZ6BAgKEBA',\n",
       "    'showing': [{'time': ['7:40pm'], 'type': 'IMAX 3D'},\n",
       "     {'time': ['5:40pm', '8:20pm'], 'type': 'Standard'},\n",
       "     {'time': ['4:35pm', '6:40pm', '8:40pm'], 'type': 'Standard'}]},\n",
       "   {'name': 'Detective Conan: The Bride Of Halloween',\n",
       "    'link': 'https://www.google.com/search?hl=en&gl=us&q=&si=AC1wQDAGEQiTPWsvhpPV4-xl97AcUfloRjKp4qat4I8-Kg1HxUvLo3gVdcM4Zhd-wA9e_tiTarn73YB7gitgsAIvryAGZHBRbil5g2wROM5AxMyDE6vDSRPBAep2rfWEllDRGgyzGiqiv7E42D0EC3gDacx6sheiV0yh8dIHrGFt6R1FIbc5ekvq_F0RP6jq-bVKYH_c5KVFPgo7V1ZYf58nD5O3YpGVpVey03b67UxqG8AVkWP124bz84avo7LBgTzrMwjG6htvM1C1YmNahkzcC4LMig79PA%3D%3D&sa=X&ved=2ahUKEwjgypjF79H3AhV7JUQIHU_aDlgQxyZ6BAgKEBs',\n",
       "    'showing': [{'time': ['4:35pm', '7:00pm', '8:10pm', '9:25pm'],\n",
       "      'type': 'Standard'}]},\n",
       "   {'name': 'Fantastic Beasts: The Secrets of Dumbledore',\n",
       "    'link': 'https://www.google.com/search?hl=en&gl=us&q=&si=AC1wQDAGEQiTPWsvhpPV4-xl97AcUfloRjKp4qat4I8-Kg1HxToG1fUDCzFoV9qNyABxtmi2MZsoHTDPMQ4tHmq4NvtOwYpNz96REEudP73sQK0wJIy2D83lob_11aA9DH1G21YwC_IcCzrcVlQS-oK8leZQ1Q2eYtup8fLC63OX4Vi1-WXgSIg1QDnhFnm-x41DJXxlYRnV-_v866rbvIIbssRjEWBsNMz5u6noj_vi4F3lfvj1-YvILAbuY6hf2Z58-9unQ3ktsfus4mYfyTaAiLZpx0-dAg%3D%3D&sa=X&ved=2ahUKEwjgypjF79H3AhV7JUQIHU_aDlgQxyZ6BAgKECI',\n",
       "    'showing': [{'time': ['4:45pm'], 'type': 'IMAX'},\n",
       "     {'time': ['8:25pm'], 'type': 'Standard'},\n",
       "     {'time': ['5:50pm'], 'type': 'Standard'}]},\n",
       "   {'name': '劇場版ラジエーションハウス',\n",
       "    'link': 'https://www.google.com/search?hl=en&gl=us&q=&si=AC1wQDAGEQiTPWsvhpPV4-xl97AcUfloRjKp4qat4I8-Kg1HxdSWPSazo1k7_bkWdvqRhACJDr_gVhAiACEmBGWLk_I-LHDNN1dFs11hQYQhzQXiC3inVhHwRUGes6pWAp5LHsman5SciE2oM1Aw2pGSrPlSx2cvQDx7_BESx9IY8-mS5LvSwjIFVjYVq91jMIfToXooZqS11OOdTjofNhibdzF0N2HMHM0A_7SeZnZrX8B5qYs7p_mK0WszZ_B3WeAl1S7biDrCXZnwrtOt1dz3FDYrdeLnaA%3D%3D',\n",
       "    'showing': [{'time': ['3:50pm', '6:20pm', '8:50pm'], 'type': 'Standard'}]},\n",
       "   {'name': 'ホリック xxxHOLiC',\n",
       "    'link': 'https://www.google.com/search?hl=en&gl=us&q=&si=AC1wQDAGEQiTPWsvhpPV4-xl97AcUfloRjKp4qat4I8-Kg1HxSHDFSwx2683f1Yl2XtMJJzF5xcHG8Ta2I07Ko3WaEd8fej5g4xjtEhp6e7Khz7zN6dbO7mTY0I9ehaOGUP0okOhlbM041Z-4A_Zk3XaotPmXUftCyk69OpztJKWiKoixf8rFrhCrGgwIujg0X4Ul1dyA_1xg6KZyC0m38pzEDk4_3UZSkzFIbrO3TDUX5diCqqpUrncmCmRSbHseR0vuy_f0SzMv_r8GkWYS6__PdOQojBOeQ%3D%3D',\n",
       "    'showing': [{'time': ['4:15pm', '7:15pm', '9:20pm'], 'type': 'Standard'}]},\n",
       "   {'name': 'Free! – the Final Stroke – the first volume',\n",
       "    'link': 'https://www.google.com/search?hl=en&gl=us&q=&si=AC1wQDAGEQiTPWsvhpPV4-xl97AcUfloRjKp4qat4I8-Kg1HxRqH3QdP9qtVnm8M1wEpSxupQrMz32byGvSDPHNL5IMZpHu_dOd5VP3ZoP-SitGpJqssivE0zY-ZjvYWZfTargCovjNvpZh9LR5B3zbVv68M1ECOEDJrtKEKzH2ZaPy0ORg_mKJIBBlU6N5TA7pAdBOzI2dzRP7J2N8ruckyDgXlxfFXJy42HhrLZMM_juIAbce6mxFG-UEbyga7K_Fd5M2W3Un-umXMBg8WaPFHLZ0qFCUKKQ%3D%3D',\n",
       "    'showing': [{'time': ['6:05pm', '9:35pm'], 'type': 'Standard'}]},\n",
       "   {'name': 'Tonbi',\n",
       "    'link': 'https://www.google.com/search?hl=en&gl=us&q=&si=AC1wQDAGEQiTPWsvhpPV4-xl97AcUfloRjKp4qat4I8-Kg1HxeIsYhSfl-N-6KRy7Gq7LOwGCrCeKh_aoFd_jsacD5z4p0UZ9VGTijnaCP_VblnUl8iPmr7dxe83R5OHECXoVS7JYi3WStjuv0rp_crIO3h27wQ1VQ-hfFK5Py12fgMfmNwKcbVkyUJMuv8PYFSaMRmzA_eTtOiIigVrkP88Y5nwgZvUChIH4aDi-cYR_PUbsnXlvq8E6onmC8dRPKQ2Ned5ZqMeiH9ieXHWZIDpXdRZ28A_lA%3D%3D',\n",
       "    'showing': [{'time': ['5:25pm'], 'type': 'Standard'}]}]},\n",
       " {'day': 'Tue',\n",
       "  'date': 'May 10',\n",
       "  'movies': [{'name': 'Doctor Strange in the Multiverse of Madness',\n",
       "    'link': 'https://www.google.com/search?hl=en&gl=us&q=&si=AC1wQDAGEQiTPWsvhpPV4-xl97AcUfloRjKp4qat4I8-Kg1HxUZlh2hLOg8aj__svnrQzhOeuRt0XWQO0aQ5e0fgfdZ5oxQT-clYUo2VtNYfAz-3QHul_gW2_MxESJJx7PGoSMvHXsnkfZ8SAy_QWGpgJMmU8l6mC_NubXgZ2FtTl9rdM8fJN2Y48rTcmZwPppbDtsb_6HvS7Tz3fbiW03BGaEhgMK-tTclKJfHfYE8jt7pC-acWMDAL8gEgGV8KXbIcRDZ5A0TFpQRqgtiO3dXpdR5eg2PK-w%3D%3D',\n",
       "    'showing': [{'time': ['11:15am', '2:00pm', '7:40pm'], 'type': 'IMAX 3D'},\n",
       "     {'time': ['9:40am', '12:20pm', '5:40pm', '8:20pm'], 'type': 'Standard'},\n",
       "     {'time': ['8:40am', '3:00pm', '4:35pm', '6:40pm', '8:40pm'],\n",
       "      'type': 'Standard'}]},\n",
       "   {'name': 'Detective Conan: The Bride Of Halloween',\n",
       "    'link': 'https://www.google.com/search?hl=en&gl=us&q=&si=AC1wQDAGEQiTPWsvhpPV4-xl97AcUfloRjKp4qat4I8-Kg1HxUvLo3gVdcM4Zhd-wA9e_tiTarn73YB7gitgsAIvryAGZHBRbil5g2wROM5AxMyDE6vDSRPBAep2rfWEllDRGgyzGiqiv7E42D0EC3gDacx6sheiV0yh8dIHrGFt6R1FIbc5ekvq_F0RP6jq-bVKYH_c5KVFPgo7V1ZYf58nD5O3YpGVpVey03b67UxqG8AVkWP124bz84avo7LBgTzrMwjG6htvM1C1YmNahkzcC4LMig79PA%3D%3D',\n",
       "    'showing': [{'time': ['10:30am',\n",
       "       '11:25am',\n",
       "       '12:55pm',\n",
       "       '2:10pm',\n",
       "       '3:20pm',\n",
       "       '4:35pm',\n",
       "       '7:00pm',\n",
       "       '8:10pm',\n",
       "       '9:25pm'],\n",
       "      'type': 'Standard'},\n",
       "     {'time': ['8:50am'], 'type': 'IMAX'}]},\n",
       "   {'name': 'Fantastic Beasts: The Secrets of Dumbledore',\n",
       "    'link': 'https://www.google.com/search?hl=en&gl=us&q=&si=AC1wQDAGEQiTPWsvhpPV4-xl97AcUfloRjKp4qat4I8-Kg1HxToG1fUDCzFoV9qNyABxtmi2MZsoHTDPMQ4tHmq4NvtOwYpNz96REEudP73sQK0wJIy2D83lob_11aA9DH1G21YwC_IcCzrcVlQS-oK8leZQ1Q2eYtup8fLC63OX4Vi1-WXgSIg1QDnhFnm-x41DJXxlYRnV-_v866rbvIIbssRjEWBsNMz5u6noj_vi4F3lfvj1-YvILAbuY6hf2Z58-9unQ3ktsfus4mYfyTaAiLZpx0-dAg%3D%3D',\n",
       "    'showing': [{'time': ['4:45pm'], 'type': 'IMAX'},\n",
       "     {'time': ['11:10am', '3:10pm', '8:25pm'], 'type': 'Standard'},\n",
       "     {'time': ['10:35am', '1:30pm', '5:50pm'], 'type': 'Standard'}]},\n",
       "   {'name': '劇場版ラジエーションハウス',\n",
       "    'link': 'https://www.google.com/search?hl=en&gl=us&q=&si=AC1wQDAGEQiTPWsvhpPV4-xl97AcUfloRjKp4qat4I8-Kg1HxdSWPSazo1k7_bkWdvqRhACJDr_gVhAiACEmBGWLk_I-LHDNN1dFs11hQYQhzQXiC3inVhHwRUGes6pWAp5LHsman5SciE2oM1Aw2pGSrPlSx2cvQDx7_BESx9IY8-mS5LvSwjIFVjYVq91jMIfToXooZqS11OOdTjofNhibdzF0N2HMHM0A_7SeZnZrX8B5qYs7p_mK0WszZ_B3WeAl1S7biDrCXZnwrtOt1dz3FDYrdeLnaA%3D%3D',\n",
       "    'showing': [{'time': ['10:45am', '1:20pm', '3:50pm', '6:20pm', '8:50pm'],\n",
       "      'type': 'Standard'}]},\n",
       "   {'name': 'Crayon Shin-chan: Mononoke Ninja Chinpūden',\n",
       "    'link': 'https://www.google.com/search?hl=en&gl=us&q=&si=AC1wQDAGEQiTPWsvhpPV4-xl97AcUfloRjKp4qat4I8-Kg1HxcYfLKw2cjvy4rxmZqX68DhEPAg2jVIDeDaX8WuECq2httymYvplIIE0Btc7Z0NBIQ3tbAwrzChY3Al4SRzs5leunIe4pOcuMOTnwEs5cXJrGo77955kD-y1VUxkScjhWkDyfreKIEwKqJvsC7nUD56S7lpIchC0LZYURqqYPyvEmAXGDE_dSdHRl_7av4tie-cfn9NYz5TyvOi-T-D0h7lHBaFC4leGutdr_EK4kwBapNuYEg%3D%3D',\n",
       "    'showing': [{'time': ['8:15am', '10:45am', '1:00pm', '3:15pm'],\n",
       "      'type': 'Standard'}]},\n",
       "   {'name': 'ホリック xxxHOLiC',\n",
       "    'link': 'https://www.google.com/search?hl=en&gl=us&q=&si=AC1wQDAGEQiTPWsvhpPV4-xl97AcUfloRjKp4qat4I8-Kg1HxSHDFSwx2683f1Yl2XtMJJzF5xcHG8Ta2I07Ko3WaEd8fej5g4xjtEhp6e7Khz7zN6dbO7mTY0I9ehaOGUP0okOhlbM041Z-4A_Zk3XaotPmXUftCyk69OpztJKWiKoixf8rFrhCrGgwIujg0X4Ul1dyA_1xg6KZyC0m38pzEDk4_3UZSkzFIbrO3TDUX5diCqqpUrncmCmRSbHseR0vuy_f0SzMv_r8GkWYS6__PdOQojBOeQ%3D%3D',\n",
       "    'showing': [{'time': ['8:50am', '12:50pm', '4:15pm', '7:15pm', '9:20pm'],\n",
       "      'type': 'Standard'}]},\n",
       "   {'name': 'Free! – the Final Stroke – the first volume',\n",
       "    'link': 'https://www.google.com/search?hl=en&gl=us&q=&si=AC1wQDAGEQiTPWsvhpPV4-xl97AcUfloRjKp4qat4I8-Kg1HxRqH3QdP9qtVnm8M1wEpSxupQrMz32byGvSDPHNL5IMZpHu_dOd5VP3ZoP-SitGpJqssivE0zY-ZjvYWZfTargCovjNvpZh9LR5B3zbVv68M1ECOEDJrtKEKzH2ZaPy0ORg_mKJIBBlU6N5TA7pAdBOzI2dzRP7J2N8ruckyDgXlxfFXJy42HhrLZMM_juIAbce6mxFG-UEbyga7K_Fd5M2W3Un-umXMBg8WaPFHLZ0qFCUKKQ%3D%3D',\n",
       "    'showing': [{'time': ['8:10am', '6:05pm', '9:35pm'], 'type': 'Standard'}]},\n",
       "   {'name': 'Sing 2',\n",
       "    'link': 'https://www.google.com/search?hl=en&gl=us&q=&si=AC1wQDAGEQiTPWsvhpPV4-xl97AcUfloRjKp4qat4I8-Kg1HxeE2N5MJ9cDAvfRJ-vTKs49yyU1F9AMfgC5xO6AunV5suN9ZEUoyglxTjLtUy3UjAjdG00Susc0reDUg06hqUfqKTUqIU3OcnbizAXVf2IKWCxDzVBiFAWZsk4ncgDoCkK237H3SoxeU-HqLRtlF3jueup8eGUAE1Xo0wIiZHBO40neojLjUUDvUEDYmRZDmdXQIXUCKuL4IIxyDP0oaiu7mBs5MNyRUV7-hCm2LfMcNv0XfAA%3D%3D',\n",
       "    'showing': [{'time': ['1:50pm'], 'type': 'Standard'}]},\n",
       "   {'name': 'Jujutsu Kaisen 0',\n",
       "    'link': 'https://www.google.com/search?hl=en&gl=us&q=&si=AC1wQDAGEQiTPWsvhpPV4-xl97AcUfloRjKp4qat4I8-Kg1HxYmedplKdB9u-mo2Ef8L1uLq2pHapE7lLZkPwn36c4dNyK9MN-hJJuhi6Gc2bCnlThZmMcMKMP7qLvbbooD3X3BjzVrWC2t8M5-8Xr56So2xOKO92HCbKNvoWzx2bRhGxOE0vCKpV2R7Avx052Z-EiaRydJua-5CP9CAuytSaA40jdFOseP_CGFqNP9uIQPg8DbEyaf9Ga1ai77B4k8DnxZ1Sh39nDWCzLD1RlB14joUrTV9-w%3D%3D',\n",
       "    'showing': [{'time': ['8:25am'], 'type': 'Standard'}]},\n",
       "   {'name': '余命10年',\n",
       "    'link': 'https://www.google.com/search?hl=en&gl=us&q=&si=AC1wQDAGEQiTPWsvhpPV4-xl97AcUfloRjKp4qat4I8-Kg1Hxf1lqhUApWsMXDIHDJG8aOETaefC4wJ2PdOhVFFzTA4w6DzS7D_1VgthW9m80QSowI840MoQ1_y1tw9YRexfsbM9IM35DRR8O_q0PSqD6Ku9WxHyF-t3wDmLktPLBnoe1y9VQ8aYbt047jcj0Aydcekp7q0aOEOSPwDh5F06p013-QVV2mU8js574wA6ylKy6RXhMPK99PtHHoMKlwtsQRWNQrZfrOQZQjNsgNdKULElVC-r7w%3D%3D',\n",
       "    'showing': [{'time': ['8:10am'], 'type': 'Standard'}]},\n",
       "   {'name': '映画 おそ松さん',\n",
       "    'link': 'https://www.google.com/search?hl=en&gl=us&q=&si=AC1wQDAGEQiTPWsvhpPV4-xl97AcUfloRjKp4qat4I8-Kg1HxXwZUpavb-ocyeOtfsRT3wRFqzGz2FApnKELKtCsS9uGx85W-ZJ1Zb6RR8jTGTqkwPCQ4EJsOH6zVTHi3mdAfAAqsfUiKZzXcGKcz89fh5z7bJ5J7r2-z6bVft1flCpNHo2IEkSsn6wjZfRUuBJYKgQAhrO6lCBBDWDRc40Agm9uRISBLacWGUA2VXVgxo1qybN7ZidIKtWAoJktGbcbheGspI_EM2rzphmxRqIsBMcJuyap1g%3D%3D',\n",
       "    'showing': [{'time': ['8:10am'], 'type': 'Standard'}]},\n",
       "   {'name': 'Tonbi',\n",
       "    'link': 'https://www.google.com/search?hl=en&gl=us&q=&si=AC1wQDAGEQiTPWsvhpPV4-xl97AcUfloRjKp4qat4I8-Kg1HxeIsYhSfl-N-6KRy7Gq7LOwGCrCeKh_aoFd_jsacD5z4p0UZ9VGTijnaCP_VblnUl8iPmr7dxe83R5OHECXoVS7JYi3WStjuv0rp_crIO3h27wQ1VQ-hfFK5Py12fgMfmNwKcbVkyUJMuv8PYFSaMRmzA_eTtOiIigVrkP88Y5nwgZvUChIH4aDi-cYR_PUbsnXlvq8E6onmC8dRPKQ2Ned5ZqMeiH9ieXHWZIDpXdRZ28A_lA%3D%3D',\n",
       "    'showing': [{'time': ['5:25pm'], 'type': 'Standard'}]},\n",
       "   {'name': \"C'mon C'mon\",\n",
       "    'link': 'https://www.google.com/search?hl=en&gl=us&q=&si=AC1wQDAGEQiTPWsvhpPV4-xl97AcUfloRjKp4qat4I8-Kg1HxR6_S1o0Xxkkf2vpYBJKU1OY14SCxkYD1GnpqHR2QeJnF4Shdthsk5wgnNNcOYrNS2k6dGyw73BlSWbKBtZqBJV9257Zaf8yewjg6xWiMsPM2-sm48teS1wvp6BgQ0YJwW6rfBee7NSOsYySzcBbgEi8iFLQRBa6Yxa5R_i-_ektaHVGtIaQIfG7XwtKnDgQIPJir-fJh66m0w8stqMcf6Sqy0h4ktYPXBMvLocOMCMZXCtEyw%3D%3D',\n",
       "    'showing': [{'time': ['10:25am'], 'type': 'Standard'}]}]},\n",
       " {'day': 'Wed',\n",
       "  'date': 'May 11',\n",
       "  'movies': [{'name': 'Doctor Strange in the Multiverse of Madness',\n",
       "    'link': 'https://www.google.com/search?hl=en&gl=us&q=&si=AC1wQDAGEQiTPWsvhpPV4-xl97AcUfloRjKp4qat4I8-Kg1HxUZlh2hLOg8aj__svnrQzhOeuRt0XWQO0aQ5e0fgfdZ5oxQT-clYUo2VtNYfAz-3QHul_gW2_MxESJJx7PGoSMvHXsnkfZ8SAy_QWGpgJMmU8l6mC_NubXgZ2FtTl9rdM8fJN2Y48rTcmZwPppbDtsb_6HvS7Tz3fbiW03BGaEhgMK-tTclKJfHfYE8jt7pC-acWMDAL8gEgGV8KXbIcRDZ5A0TFpQRqgtiO3dXpdR5eg2PK-w%3D%3D',\n",
       "    'showing': [{'time': ['11:15am', '2:00pm', '7:40pm'], 'type': 'IMAX 3D'},\n",
       "     {'time': ['9:40am', '12:20pm', '5:40pm', '8:20pm'], 'type': 'Standard'},\n",
       "     {'time': ['8:40am', '3:00pm', '4:35pm', '6:40pm', '8:40pm'],\n",
       "      'type': 'Standard'}]},\n",
       "   {'name': 'Detective Conan: The Bride Of Halloween',\n",
       "    'link': 'https://www.google.com/search?hl=en&gl=us&q=&si=AC1wQDAGEQiTPWsvhpPV4-xl97AcUfloRjKp4qat4I8-Kg1HxUvLo3gVdcM4Zhd-wA9e_tiTarn73YB7gitgsAIvryAGZHBRbil5g2wROM5AxMyDE6vDSRPBAep2rfWEllDRGgyzGiqiv7E42D0EC3gDacx6sheiV0yh8dIHrGFt6R1FIbc5ekvq_F0RP6jq-bVKYH_c5KVFPgo7V1ZYf58nD5O3YpGVpVey03b67UxqG8AVkWP124bz84avo7LBgTzrMwjG6htvM1C1YmNahkzcC4LMig79PA%3D%3D',\n",
       "    'showing': [{'time': ['10:30am',\n",
       "       '11:25am',\n",
       "       '12:55pm',\n",
       "       '2:10pm',\n",
       "       '3:20pm',\n",
       "       '4:35pm',\n",
       "       '7:00pm',\n",
       "       '8:10pm',\n",
       "       '9:25pm'],\n",
       "      'type': 'Standard'},\n",
       "     {'time': ['8:50am'], 'type': 'IMAX'}]},\n",
       "   {'name': 'Fantastic Beasts: The Secrets of Dumbledore',\n",
       "    'link': 'https://www.google.com/search?hl=en&gl=us&q=&si=AC1wQDAGEQiTPWsvhpPV4-xl97AcUfloRjKp4qat4I8-Kg1HxToG1fUDCzFoV9qNyABxtmi2MZsoHTDPMQ4tHmq4NvtOwYpNz96REEudP73sQK0wJIy2D83lob_11aA9DH1G21YwC_IcCzrcVlQS-oK8leZQ1Q2eYtup8fLC63OX4Vi1-WXgSIg1QDnhFnm-x41DJXxlYRnV-_v866rbvIIbssRjEWBsNMz5u6noj_vi4F3lfvj1-YvILAbuY6hf2Z58-9unQ3ktsfus4mYfyTaAiLZpx0-dAg%3D%3D',\n",
       "    'showing': [{'time': ['4:45pm'], 'type': 'IMAX'},\n",
       "     {'time': ['11:10am', '3:10pm', '8:25pm'], 'type': 'Standard'},\n",
       "     {'time': ['10:35am', '1:30pm', '5:50pm'], 'type': 'Standard'}]},\n",
       "   {'name': '劇場版ラジエーションハウス',\n",
       "    'link': 'https://www.google.com/search?hl=en&gl=us&q=&si=AC1wQDAGEQiTPWsvhpPV4-xl97AcUfloRjKp4qat4I8-Kg1HxdSWPSazo1k7_bkWdvqRhACJDr_gVhAiACEmBGWLk_I-LHDNN1dFs11hQYQhzQXiC3inVhHwRUGes6pWAp5LHsman5SciE2oM1Aw2pGSrPlSx2cvQDx7_BESx9IY8-mS5LvSwjIFVjYVq91jMIfToXooZqS11OOdTjofNhibdzF0N2HMHM0A_7SeZnZrX8B5qYs7p_mK0WszZ_B3WeAl1S7biDrCXZnwrtOt1dz3FDYrdeLnaA%3D%3D',\n",
       "    'showing': [{'time': ['10:45am', '1:20pm', '3:50pm', '6:20pm', '8:50pm'],\n",
       "      'type': 'Standard'}]},\n",
       "   {'name': 'Crayon Shin-chan: Mononoke Ninja Chinpūden',\n",
       "    'link': 'https://www.google.com/search?hl=en&gl=us&q=&si=AC1wQDAGEQiTPWsvhpPV4-xl97AcUfloRjKp4qat4I8-Kg1HxcYfLKw2cjvy4rxmZqX68DhEPAg2jVIDeDaX8WuECq2httymYvplIIE0Btc7Z0NBIQ3tbAwrzChY3Al4SRzs5leunIe4pOcuMOTnwEs5cXJrGo77955kD-y1VUxkScjhWkDyfreKIEwKqJvsC7nUD56S7lpIchC0LZYURqqYPyvEmAXGDE_dSdHRl_7av4tie-cfn9NYz5TyvOi-T-D0h7lHBaFC4leGutdr_EK4kwBapNuYEg%3D%3D',\n",
       "    'showing': [{'time': ['8:15am', '10:45am', '1:00pm', '3:15pm'],\n",
       "      'type': 'Standard'}]},\n",
       "   {'name': 'ホリック xxxHOLiC',\n",
       "    'link': 'https://www.google.com/search?hl=en&gl=us&q=&si=AC1wQDAGEQiTPWsvhpPV4-xl97AcUfloRjKp4qat4I8-Kg1HxSHDFSwx2683f1Yl2XtMJJzF5xcHG8Ta2I07Ko3WaEd8fej5g4xjtEhp6e7Khz7zN6dbO7mTY0I9ehaOGUP0okOhlbM041Z-4A_Zk3XaotPmXUftCyk69OpztJKWiKoixf8rFrhCrGgwIujg0X4Ul1dyA_1xg6KZyC0m38pzEDk4_3UZSkzFIbrO3TDUX5diCqqpUrncmCmRSbHseR0vuy_f0SzMv_r8GkWYS6__PdOQojBOeQ%3D%3D',\n",
       "    'showing': [{'time': ['8:50am', '12:50pm', '4:15pm', '7:15pm', '9:20pm'],\n",
       "      'type': 'Standard'}]},\n",
       "   {'name': 'Free! – the Final Stroke – the first volume',\n",
       "    'link': 'https://www.google.com/search?hl=en&gl=us&q=&si=AC1wQDAGEQiTPWsvhpPV4-xl97AcUfloRjKp4qat4I8-Kg1HxRqH3QdP9qtVnm8M1wEpSxupQrMz32byGvSDPHNL5IMZpHu_dOd5VP3ZoP-SitGpJqssivE0zY-ZjvYWZfTargCovjNvpZh9LR5B3zbVv68M1ECOEDJrtKEKzH2ZaPy0ORg_mKJIBBlU6N5TA7pAdBOzI2dzRP7J2N8ruckyDgXlxfFXJy42HhrLZMM_juIAbce6mxFG-UEbyga7K_Fd5M2W3Un-umXMBg8WaPFHLZ0qFCUKKQ%3D%3D',\n",
       "    'showing': [{'time': ['8:10am', '6:05pm', '9:35pm'], 'type': 'Standard'}]},\n",
       "   {'name': 'Sing 2',\n",
       "    'link': 'https://www.google.com/search?hl=en&gl=us&q=&si=AC1wQDAGEQiTPWsvhpPV4-xl97AcUfloRjKp4qat4I8-Kg1HxeE2N5MJ9cDAvfRJ-vTKs49yyU1F9AMfgC5xO6AunV5suN9ZEUoyglxTjLtUy3UjAjdG00Susc0reDUg06hqUfqKTUqIU3OcnbizAXVf2IKWCxDzVBiFAWZsk4ncgDoCkK237H3SoxeU-HqLRtlF3jueup8eGUAE1Xo0wIiZHBO40neojLjUUDvUEDYmRZDmdXQIXUCKuL4IIxyDP0oaiu7mBs5MNyRUV7-hCm2LfMcNv0XfAA%3D%3D',\n",
       "    'showing': [{'time': ['1:50pm'], 'type': 'Standard'}]},\n",
       "   {'name': 'Jujutsu Kaisen 0',\n",
       "    'link': 'https://www.google.com/search?hl=en&gl=us&q=&si=AC1wQDAGEQiTPWsvhpPV4-xl97AcUfloRjKp4qat4I8-Kg1HxYmedplKdB9u-mo2Ef8L1uLq2pHapE7lLZkPwn36c4dNyK9MN-hJJuhi6Gc2bCnlThZmMcMKMP7qLvbbooD3X3BjzVrWC2t8M5-8Xr56So2xOKO92HCbKNvoWzx2bRhGxOE0vCKpV2R7Avx052Z-EiaRydJua-5CP9CAuytSaA40jdFOseP_CGFqNP9uIQPg8DbEyaf9Ga1ai77B4k8DnxZ1Sh39nDWCzLD1RlB14joUrTV9-w%3D%3D',\n",
       "    'showing': [{'time': ['8:25am'], 'type': 'Standard'}]},\n",
       "   {'name': '余命10年',\n",
       "    'link': 'https://www.google.com/search?hl=en&gl=us&q=&si=AC1wQDAGEQiTPWsvhpPV4-xl97AcUfloRjKp4qat4I8-Kg1Hxf1lqhUApWsMXDIHDJG8aOETaefC4wJ2PdOhVFFzTA4w6DzS7D_1VgthW9m80QSowI840MoQ1_y1tw9YRexfsbM9IM35DRR8O_q0PSqD6Ku9WxHyF-t3wDmLktPLBnoe1y9VQ8aYbt047jcj0Aydcekp7q0aOEOSPwDh5F06p013-QVV2mU8js574wA6ylKy6RXhMPK99PtHHoMKlwtsQRWNQrZfrOQZQjNsgNdKULElVC-r7w%3D%3D',\n",
       "    'showing': [{'time': ['8:10am'], 'type': 'Standard'}]},\n",
       "   {'name': '映画 おそ松さん',\n",
       "    'link': 'https://www.google.com/search?hl=en&gl=us&q=&si=AC1wQDAGEQiTPWsvhpPV4-xl97AcUfloRjKp4qat4I8-Kg1HxXwZUpavb-ocyeOtfsRT3wRFqzGz2FApnKELKtCsS9uGx85W-ZJ1Zb6RR8jTGTqkwPCQ4EJsOH6zVTHi3mdAfAAqsfUiKZzXcGKcz89fh5z7bJ5J7r2-z6bVft1flCpNHo2IEkSsn6wjZfRUuBJYKgQAhrO6lCBBDWDRc40Agm9uRISBLacWGUA2VXVgxo1qybN7ZidIKtWAoJktGbcbheGspI_EM2rzphmxRqIsBMcJuyap1g%3D%3D',\n",
       "    'showing': [{'time': ['8:10am'], 'type': 'Standard'}]},\n",
       "   {'name': 'Tonbi',\n",
       "    'link': 'https://www.google.com/search?hl=en&gl=us&q=&si=AC1wQDAGEQiTPWsvhpPV4-xl97AcUfloRjKp4qat4I8-Kg1HxeIsYhSfl-N-6KRy7Gq7LOwGCrCeKh_aoFd_jsacD5z4p0UZ9VGTijnaCP_VblnUl8iPmr7dxe83R5OHECXoVS7JYi3WStjuv0rp_crIO3h27wQ1VQ-hfFK5Py12fgMfmNwKcbVkyUJMuv8PYFSaMRmzA_eTtOiIigVrkP88Y5nwgZvUChIH4aDi-cYR_PUbsnXlvq8E6onmC8dRPKQ2Ned5ZqMeiH9ieXHWZIDpXdRZ28A_lA%3D%3D',\n",
       "    'showing': [{'time': ['5:25pm'], 'type': 'Standard'}]},\n",
       "   {'name': \"C'mon C'mon\",\n",
       "    'link': 'https://www.google.com/search?hl=en&gl=us&q=&si=AC1wQDAGEQiTPWsvhpPV4-xl97AcUfloRjKp4qat4I8-Kg1HxR6_S1o0Xxkkf2vpYBJKU1OY14SCxkYD1GnpqHR2QeJnF4Shdthsk5wgnNNcOYrNS2k6dGyw73BlSWbKBtZqBJV9257Zaf8yewjg6xWiMsPM2-sm48teS1wvp6BgQ0YJwW6rfBee7NSOsYySzcBbgEi8iFLQRBa6Yxa5R_i-_ektaHVGtIaQIfG7XwtKnDgQIPJir-fJh66m0w8stqMcf6Sqy0h4ktYPXBMvLocOMCMZXCtEyw%3D%3D',\n",
       "    'showing': [{'time': ['10:25am'], 'type': 'Standard'}]}]},\n",
       " {'day': 'Thu',\n",
       "  'date': 'May 12',\n",
       "  'movies': [{'name': 'Doctor Strange in the Multiverse of Madness',\n",
       "    'link': 'https://www.google.com/search?hl=en&gl=us&q=&si=AC1wQDAGEQiTPWsvhpPV4-xl97AcUfloRjKp4qat4I8-Kg1HxUZlh2hLOg8aj__svnrQzhOeuRt0XWQO0aQ5e0fgfdZ5oxQT-clYUo2VtNYfAz-3QHul_gW2_MxESJJx7PGoSMvHXsnkfZ8SAy_QWGpgJMmU8l6mC_NubXgZ2FtTl9rdM8fJN2Y48rTcmZwPppbDtsb_6HvS7Tz3fbiW03BGaEhgMK-tTclKJfHfYE8jt7pC-acWMDAL8gEgGV8KXbIcRDZ5A0TFpQRqgtiO3dXpdR5eg2PK-w%3D%3D',\n",
       "    'showing': [{'time': ['11:15am', '2:00pm', '7:40pm'], 'type': 'IMAX 3D'},\n",
       "     {'time': ['9:40am', '12:20pm', '5:40pm', '8:20pm'], 'type': 'Standard'},\n",
       "     {'time': ['8:40am', '3:00pm', '4:35pm', '6:40pm', '8:40pm'],\n",
       "      'type': 'Standard'}]},\n",
       "   {'name': 'Detective Conan: The Bride Of Halloween',\n",
       "    'link': 'https://www.google.com/search?hl=en&gl=us&q=&si=AC1wQDAGEQiTPWsvhpPV4-xl97AcUfloRjKp4qat4I8-Kg1HxUvLo3gVdcM4Zhd-wA9e_tiTarn73YB7gitgsAIvryAGZHBRbil5g2wROM5AxMyDE6vDSRPBAep2rfWEllDRGgyzGiqiv7E42D0EC3gDacx6sheiV0yh8dIHrGFt6R1FIbc5ekvq_F0RP6jq-bVKYH_c5KVFPgo7V1ZYf58nD5O3YpGVpVey03b67UxqG8AVkWP124bz84avo7LBgTzrMwjG6htvM1C1YmNahkzcC4LMig79PA%3D%3D',\n",
       "    'showing': [{'time': ['10:30am',\n",
       "       '11:25am',\n",
       "       '12:55pm',\n",
       "       '2:10pm',\n",
       "       '3:20pm',\n",
       "       '4:35pm',\n",
       "       '7:00pm',\n",
       "       '8:10pm',\n",
       "       '9:25pm'],\n",
       "      'type': 'Standard'},\n",
       "     {'time': ['8:50am'], 'type': 'IMAX'}]},\n",
       "   {'name': 'Fantastic Beasts: The Secrets of Dumbledore',\n",
       "    'link': 'https://www.google.com/search?hl=en&gl=us&q=&si=AC1wQDAGEQiTPWsvhpPV4-xl97AcUfloRjKp4qat4I8-Kg1HxToG1fUDCzFoV9qNyABxtmi2MZsoHTDPMQ4tHmq4NvtOwYpNz96REEudP73sQK0wJIy2D83lob_11aA9DH1G21YwC_IcCzrcVlQS-oK8leZQ1Q2eYtup8fLC63OX4Vi1-WXgSIg1QDnhFnm-x41DJXxlYRnV-_v866rbvIIbssRjEWBsNMz5u6noj_vi4F3lfvj1-YvILAbuY6hf2Z58-9unQ3ktsfus4mYfyTaAiLZpx0-dAg%3D%3D',\n",
       "    'showing': [{'time': ['4:45pm'], 'type': 'IMAX'},\n",
       "     {'time': ['11:10am', '3:10pm', '8:25pm'], 'type': 'Standard'},\n",
       "     {'time': ['10:35am', '1:30pm', '5:50pm'], 'type': 'Standard'}]},\n",
       "   {'name': '劇場版ラジエーションハウス',\n",
       "    'link': 'https://www.google.com/search?hl=en&gl=us&q=&si=AC1wQDAGEQiTPWsvhpPV4-xl97AcUfloRjKp4qat4I8-Kg1HxdSWPSazo1k7_bkWdvqRhACJDr_gVhAiACEmBGWLk_I-LHDNN1dFs11hQYQhzQXiC3inVhHwRUGes6pWAp5LHsman5SciE2oM1Aw2pGSrPlSx2cvQDx7_BESx9IY8-mS5LvSwjIFVjYVq91jMIfToXooZqS11OOdTjofNhibdzF0N2HMHM0A_7SeZnZrX8B5qYs7p_mK0WszZ_B3WeAl1S7biDrCXZnwrtOt1dz3FDYrdeLnaA%3D%3D',\n",
       "    'showing': [{'time': ['10:45am', '1:20pm', '3:50pm', '6:20pm', '8:50pm'],\n",
       "      'type': 'Standard'}]},\n",
       "   {'name': 'Crayon Shin-chan: Mononoke Ninja Chinpūden',\n",
       "    'link': 'https://www.google.com/search?hl=en&gl=us&q=&si=AC1wQDAGEQiTPWsvhpPV4-xl97AcUfloRjKp4qat4I8-Kg1HxcYfLKw2cjvy4rxmZqX68DhEPAg2jVIDeDaX8WuECq2httymYvplIIE0Btc7Z0NBIQ3tbAwrzChY3Al4SRzs5leunIe4pOcuMOTnwEs5cXJrGo77955kD-y1VUxkScjhWkDyfreKIEwKqJvsC7nUD56S7lpIchC0LZYURqqYPyvEmAXGDE_dSdHRl_7av4tie-cfn9NYz5TyvOi-T-D0h7lHBaFC4leGutdr_EK4kwBapNuYEg%3D%3D',\n",
       "    'showing': [{'time': ['8:15am', '10:45am', '1:00pm', '3:15pm'],\n",
       "      'type': 'Standard'}]},\n",
       "   {'name': 'ホリック xxxHOLiC',\n",
       "    'link': 'https://www.google.com/search?hl=en&gl=us&q=&si=AC1wQDAGEQiTPWsvhpPV4-xl97AcUfloRjKp4qat4I8-Kg1HxSHDFSwx2683f1Yl2XtMJJzF5xcHG8Ta2I07Ko3WaEd8fej5g4xjtEhp6e7Khz7zN6dbO7mTY0I9ehaOGUP0okOhlbM041Z-4A_Zk3XaotPmXUftCyk69OpztJKWiKoixf8rFrhCrGgwIujg0X4Ul1dyA_1xg6KZyC0m38pzEDk4_3UZSkzFIbrO3TDUX5diCqqpUrncmCmRSbHseR0vuy_f0SzMv_r8GkWYS6__PdOQojBOeQ%3D%3D',\n",
       "    'showing': [{'time': ['8:50am', '12:50pm', '4:15pm', '7:15pm', '9:20pm'],\n",
       "      'type': 'Standard'}]},\n",
       "   {'name': 'Free! – the Final Stroke – the first volume',\n",
       "    'link': 'https://www.google.com/search?hl=en&gl=us&q=&si=AC1wQDAGEQiTPWsvhpPV4-xl97AcUfloRjKp4qat4I8-Kg1HxRqH3QdP9qtVnm8M1wEpSxupQrMz32byGvSDPHNL5IMZpHu_dOd5VP3ZoP-SitGpJqssivE0zY-ZjvYWZfTargCovjNvpZh9LR5B3zbVv68M1ECOEDJrtKEKzH2ZaPy0ORg_mKJIBBlU6N5TA7pAdBOzI2dzRP7J2N8ruckyDgXlxfFXJy42HhrLZMM_juIAbce6mxFG-UEbyga7K_Fd5M2W3Un-umXMBg8WaPFHLZ0qFCUKKQ%3D%3D',\n",
       "    'showing': [{'time': ['8:10am', '6:05pm', '9:35pm'], 'type': 'Standard'}]},\n",
       "   {'name': 'Sing 2',\n",
       "    'link': 'https://www.google.com/search?hl=en&gl=us&q=&si=AC1wQDAGEQiTPWsvhpPV4-xl97AcUfloRjKp4qat4I8-Kg1HxeE2N5MJ9cDAvfRJ-vTKs49yyU1F9AMfgC5xO6AunV5suN9ZEUoyglxTjLtUy3UjAjdG00Susc0reDUg06hqUfqKTUqIU3OcnbizAXVf2IKWCxDzVBiFAWZsk4ncgDoCkK237H3SoxeU-HqLRtlF3jueup8eGUAE1Xo0wIiZHBO40neojLjUUDvUEDYmRZDmdXQIXUCKuL4IIxyDP0oaiu7mBs5MNyRUV7-hCm2LfMcNv0XfAA%3D%3D',\n",
       "    'showing': [{'time': ['1:50pm'], 'type': 'Standard'}]},\n",
       "   {'name': 'Jujutsu Kaisen 0',\n",
       "    'link': 'https://www.google.com/search?hl=en&gl=us&q=&si=AC1wQDAGEQiTPWsvhpPV4-xl97AcUfloRjKp4qat4I8-Kg1HxYmedplKdB9u-mo2Ef8L1uLq2pHapE7lLZkPwn36c4dNyK9MN-hJJuhi6Gc2bCnlThZmMcMKMP7qLvbbooD3X3BjzVrWC2t8M5-8Xr56So2xOKO92HCbKNvoWzx2bRhGxOE0vCKpV2R7Avx052Z-EiaRydJua-5CP9CAuytSaA40jdFOseP_CGFqNP9uIQPg8DbEyaf9Ga1ai77B4k8DnxZ1Sh39nDWCzLD1RlB14joUrTV9-w%3D%3D',\n",
       "    'showing': [{'time': ['8:25am'], 'type': 'Standard'}]},\n",
       "   {'name': '余命10年',\n",
       "    'link': 'https://www.google.com/search?hl=en&gl=us&q=&si=AC1wQDAGEQiTPWsvhpPV4-xl97AcUfloRjKp4qat4I8-Kg1Hxf1lqhUApWsMXDIHDJG8aOETaefC4wJ2PdOhVFFzTA4w6DzS7D_1VgthW9m80QSowI840MoQ1_y1tw9YRexfsbM9IM35DRR8O_q0PSqD6Ku9WxHyF-t3wDmLktPLBnoe1y9VQ8aYbt047jcj0Aydcekp7q0aOEOSPwDh5F06p013-QVV2mU8js574wA6ylKy6RXhMPK99PtHHoMKlwtsQRWNQrZfrOQZQjNsgNdKULElVC-r7w%3D%3D',\n",
       "    'showing': [{'time': ['8:10am'], 'type': 'Standard'}]},\n",
       "   {'name': '映画 おそ松さん',\n",
       "    'link': 'https://www.google.com/search?hl=en&gl=us&q=&si=AC1wQDAGEQiTPWsvhpPV4-xl97AcUfloRjKp4qat4I8-Kg1HxXwZUpavb-ocyeOtfsRT3wRFqzGz2FApnKELKtCsS9uGx85W-ZJ1Zb6RR8jTGTqkwPCQ4EJsOH6zVTHi3mdAfAAqsfUiKZzXcGKcz89fh5z7bJ5J7r2-z6bVft1flCpNHo2IEkSsn6wjZfRUuBJYKgQAhrO6lCBBDWDRc40Agm9uRISBLacWGUA2VXVgxo1qybN7ZidIKtWAoJktGbcbheGspI_EM2rzphmxRqIsBMcJuyap1g%3D%3D',\n",
       "    'showing': [{'time': ['8:10am'], 'type': 'Standard'}]},\n",
       "   {'name': 'Tonbi',\n",
       "    'link': 'https://www.google.com/search?hl=en&gl=us&q=&si=AC1wQDAGEQiTPWsvhpPV4-xl97AcUfloRjKp4qat4I8-Kg1HxeIsYhSfl-N-6KRy7Gq7LOwGCrCeKh_aoFd_jsacD5z4p0UZ9VGTijnaCP_VblnUl8iPmr7dxe83R5OHECXoVS7JYi3WStjuv0rp_crIO3h27wQ1VQ-hfFK5Py12fgMfmNwKcbVkyUJMuv8PYFSaMRmzA_eTtOiIigVrkP88Y5nwgZvUChIH4aDi-cYR_PUbsnXlvq8E6onmC8dRPKQ2Ned5ZqMeiH9ieXHWZIDpXdRZ28A_lA%3D%3D',\n",
       "    'showing': [{'time': ['5:25pm'], 'type': 'Standard'}]},\n",
       "   {'name': \"C'mon C'mon\",\n",
       "    'link': 'https://www.google.com/search?hl=en&gl=us&q=&si=AC1wQDAGEQiTPWsvhpPV4-xl97AcUfloRjKp4qat4I8-Kg1HxR6_S1o0Xxkkf2vpYBJKU1OY14SCxkYD1GnpqHR2QeJnF4Shdthsk5wgnNNcOYrNS2k6dGyw73BlSWbKBtZqBJV9257Zaf8yewjg6xWiMsPM2-sm48teS1wvp6BgQ0YJwW6rfBee7NSOsYySzcBbgEi8iFLQRBa6Yxa5R_i-_ektaHVGtIaQIfG7XwtKnDgQIPJir-fJh66m0w8stqMcf6Sqy0h4ktYPXBMvLocOMCMZXCtEyw%3D%3D',\n",
       "    'showing': [{'time': ['10:25am'], 'type': 'Standard'}]}]}]"
      ]
     },
     "execution_count": 29,
     "metadata": {},
     "output_type": "execute_result"
    }
   ],
   "source": [
    "showtimes"
   ]
  },
  {
   "cell_type": "code",
   "execution_count": 30,
   "id": "d2dd9981",
   "metadata": {},
   "outputs": [
    {
     "data": {
      "text/plain": [
       "('Mon May 9', 'Thu May 12')"
      ]
     },
     "execution_count": 30,
     "metadata": {},
     "output_type": "execute_result"
    }
   ],
   "source": [
    "google.start_end(showtimes)"
   ]
  },
  {
   "cell_type": "code",
   "execution_count": 32,
   "id": "a8111de7",
   "metadata": {},
   "outputs": [
    {
     "data": {
      "text/plain": [
       "{'9': ['Doctor Strange in the Multiverse of Madness',\n",
       "  'Detective Conan: The Bride Of Halloween',\n",
       "  'Fantastic Beasts: The Secrets of Dumbledore',\n",
       "  '劇場版ラジエーションハウス',\n",
       "  'ホリック xxxHOLiC',\n",
       "  'Free! – the Final Stroke – the first volume',\n",
       "  'Tonbi'],\n",
       " '10': ['Doctor Strange in the Multiverse of Madness',\n",
       "  'Detective Conan: The Bride Of Halloween',\n",
       "  'Fantastic Beasts: The Secrets of Dumbledore',\n",
       "  '劇場版ラジエーションハウス',\n",
       "  'Crayon Shin-chan: Mononoke Ninja Chinpūden',\n",
       "  'ホリック xxxHOLiC',\n",
       "  'Free! – the Final Stroke – the first volume',\n",
       "  'Sing 2',\n",
       "  'Jujutsu Kaisen 0',\n",
       "  '余命10年',\n",
       "  '映画 おそ松さん',\n",
       "  'Tonbi',\n",
       "  \"C'mon C'mon\"],\n",
       " '11': ['Doctor Strange in the Multiverse of Madness',\n",
       "  'Detective Conan: The Bride Of Halloween',\n",
       "  'Fantastic Beasts: The Secrets of Dumbledore',\n",
       "  '劇場版ラジエーションハウス',\n",
       "  'Crayon Shin-chan: Mononoke Ninja Chinpūden',\n",
       "  'ホリック xxxHOLiC',\n",
       "  'Free! – the Final Stroke – the first volume',\n",
       "  'Sing 2',\n",
       "  'Jujutsu Kaisen 0',\n",
       "  '余命10年',\n",
       "  '映画 おそ松さん',\n",
       "  'Tonbi',\n",
       "  \"C'mon C'mon\"],\n",
       " '12': ['Doctor Strange in the Multiverse of Madness',\n",
       "  'Detective Conan: The Bride Of Halloween',\n",
       "  'Fantastic Beasts: The Secrets of Dumbledore',\n",
       "  '劇場版ラジエーションハウス',\n",
       "  'Crayon Shin-chan: Mononoke Ninja Chinpūden',\n",
       "  'ホリック xxxHOLiC',\n",
       "  'Free! – the Final Stroke – the first volume',\n",
       "  'Sing 2',\n",
       "  'Jujutsu Kaisen 0',\n",
       "  '余命10年',\n",
       "  '映画 おそ松さん',\n",
       "  'Tonbi',\n",
       "  \"C'mon C'mon\"]}"
      ]
     },
     "execution_count": 32,
     "metadata": {},
     "output_type": "execute_result"
    }
   ],
   "source": [
    "google.movies_by_day(showtimes)"
   ]
  },
  {
   "cell_type": "code",
   "execution_count": null,
   "id": "6fcdad80",
   "metadata": {},
   "outputs": [],
   "source": []
  },
  {
   "cell_type": "markdown",
   "id": "0499aaf9",
   "metadata": {},
   "source": [
    "### United Urawa"
   ]
  },
  {
   "cell_type": "code",
   "execution_count": 21,
   "id": "5c4b4a48",
   "metadata": {},
   "outputs": [],
   "source": [
    "unitedquery = 'united cinemas urawa'"
   ]
  },
  {
   "cell_type": "markdown",
   "id": "e89a15d3",
   "metadata": {},
   "source": [
    "### Movix Saitama"
   ]
  },
  {
   "cell_type": "code",
   "execution_count": 22,
   "id": "89833f19",
   "metadata": {},
   "outputs": [],
   "source": [
    "movixquery = 'movix saitama'"
   ]
  },
  {
   "cell_type": "markdown",
   "id": "f5303f1a",
   "metadata": {},
   "source": [
    "### Toho Fujimi"
   ]
  },
  {
   "cell_type": "code",
   "execution_count": 23,
   "id": "faa58e51",
   "metadata": {},
   "outputs": [],
   "source": [
    "tohoquery = 'toho cinema lalaport fujimi'"
   ]
  },
  {
   "cell_type": "code",
   "execution_count": null,
   "id": "71e4fca0",
   "metadata": {},
   "outputs": [],
   "source": []
  }
 ],
 "metadata": {
  "kernelspec": {
   "display_name": "Python 3 (ipykernel)",
   "language": "python",
   "name": "python3"
  },
  "language_info": {
   "codemirror_mode": {
    "name": "ipython",
    "version": 3
   },
   "file_extension": ".py",
   "mimetype": "text/x-python",
   "name": "python",
   "nbconvert_exporter": "python",
   "pygments_lexer": "ipython3",
   "version": "3.8.12"
  },
  "toc": {
   "base_numbering": 1,
   "nav_menu": {},
   "number_sections": true,
   "sideBar": true,
   "skip_h1_title": false,
   "title_cell": "Table of Contents",
   "title_sidebar": "Contents",
   "toc_cell": false,
   "toc_position": {},
   "toc_section_display": true,
   "toc_window_display": false
  }
 },
 "nbformat": 4,
 "nbformat_minor": 5
}
