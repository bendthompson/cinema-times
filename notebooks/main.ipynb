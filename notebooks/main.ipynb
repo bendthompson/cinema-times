{
 "cells": [
  {
   "cell_type": "markdown",
   "id": "57343b38",
   "metadata": {},
   "source": [
    "Adding abs path for importing"
   ]
  },
  {
   "cell_type": "code",
   "execution_count": 1,
   "id": "5ef49e3c",
   "metadata": {},
   "outputs": [],
   "source": [
    "import os\n",
    "import sys"
   ]
  },
  {
   "cell_type": "code",
   "execution_count": 2,
   "id": "a4c3bf26",
   "metadata": {},
   "outputs": [],
   "source": [
    "import pandas as pd"
   ]
  },
  {
   "cell_type": "code",
   "execution_count": 3,
   "id": "08b27c53",
   "metadata": {},
   "outputs": [],
   "source": [
    "path = os.path.abspath('..')"
   ]
  },
  {
   "cell_type": "code",
   "execution_count": 4,
   "id": "59fbb581",
   "metadata": {},
   "outputs": [],
   "source": [
    "sys.path.append(path)"
   ]
  },
  {
   "cell_type": "markdown",
   "id": "f01043d3",
   "metadata": {},
   "source": [
    "## IMDB Info and Pictures\n"
   ]
  },
  {
   "cell_type": "code",
   "execution_count": 5,
   "id": "79b9c872",
   "metadata": {},
   "outputs": [],
   "source": [
    "from cinematimes import imdb"
   ]
  },
  {
   "cell_type": "code",
   "execution_count": 6,
   "id": "fffc1ff8",
   "metadata": {},
   "outputs": [],
   "source": [
    "movieinfo = imdb.moviesearch('yourname')"
   ]
  },
  {
   "cell_type": "code",
   "execution_count": 7,
   "id": "fff0cf0b",
   "metadata": {},
   "outputs": [
    {
     "data": {
      "text/plain": [
       "{'id': 'tt5311514',\n",
       " 'resultType': 'Title',\n",
       " 'image': 'https://imdb-api.com/images/original/MV5BODRmZDVmNzUtZDA4ZC00NjhkLWI2M2UtN2M0ZDIzNDcxYThjL2ltYWdlXkEyXkFqcGdeQXVyNTk0MzMzODA@._V1_Ratio0.7273_AL_.jpg',\n",
       " 'title': 'Your Name.',\n",
       " 'description': '(2016)'}"
      ]
     },
     "execution_count": 7,
     "metadata": {},
     "output_type": "execute_result"
    }
   ],
   "source": [
    "movieinfo"
   ]
  },
  {
   "cell_type": "code",
   "execution_count": 8,
   "id": "8df46d9b",
   "metadata": {},
   "outputs": [
    {
     "data": {
      "text/plain": [
       "'https://imdb-api.com/images/384x528/MV5BODRmZDVmNzUtZDA4ZC00NjhkLWI2M2UtN2M0ZDIzNDcxYThjL2ltYWdlXkEyXkFqcGdeQXVyNTk0MzMzODA@._V1_Ratio0.7273_AL_.jpg'"
      ]
     },
     "execution_count": 8,
     "metadata": {},
     "output_type": "execute_result"
    }
   ],
   "source": [
    "resizedimage = imdb.resizeimage(movieinfo['image'])\n",
    "resizedimage"
   ]
  },
  {
   "cell_type": "code",
   "execution_count": 9,
   "id": "cbc9ef52",
   "metadata": {},
   "outputs": [
    {
     "data": {
      "text/plain": [
       "'https://imdb-api.com/posters/original/q719jXXEzOoYaps6babgKnONONX.jpg'"
      ]
     },
     "execution_count": 9,
     "metadata": {},
     "output_type": "execute_result"
    }
   ],
   "source": [
    "mposter = imdb.poster(movieinfo['id'])\n",
    "mposter"
   ]
  },
  {
   "cell_type": "code",
   "execution_count": 59,
   "id": "ed5b8d5b",
   "metadata": {},
   "outputs": [
    {
     "name": "stdout",
     "output_type": "stream",
     "text": [
      "Response :200\n"
     ]
    }
   ],
   "source": [
    "mdetails = imdb.moviedetails(movieinfo['id'])"
   ]
  },
  {
   "cell_type": "code",
   "execution_count": 62,
   "id": "e5881dba",
   "metadata": {},
   "outputs": [
    {
     "name": "stdout",
     "output_type": "stream",
     "text": [
      "title : Your Name.\n",
      "year : 2016\n",
      "runtimeMins : 106\n",
      "runtimeStr : 1h 46min\n",
      "plot : Two strangers find themselves linked in a bizarre way. When a connection forms, will distance be the only thing to keep them apart?\n",
      "directors : Makoto Shinkai\n",
      "writers : Makoto Shinkai, Clark Cheng\n",
      "stars : Ryûnosuke Kamiki, Mone Kamishiraishi, Ryô Narita\n",
      "genres : Animation, Drama, Fantasy\n",
      "contentRating : TV-PG\n",
      "imDbRating : 8.4\n",
      "metacriticRating : 79\n"
     ]
    }
   ],
   "source": [
    "for key in ['title','year','runtimeMins','runtimeStr','plot','directors','writers','stars','genres','contentRating','imDbRating','metacriticRating']:\n",
    "    print(f'{key} : {mdetails[key]}')"
   ]
  },
  {
   "cell_type": "markdown",
   "id": "d02f6114",
   "metadata": {},
   "source": [
    "### "
   ]
  },
  {
   "cell_type": "markdown",
   "id": "894be20e",
   "metadata": {},
   "source": [
    "## HTML Scraping"
   ]
  },
  {
   "cell_type": "markdown",
   "id": "ceab1308",
   "metadata": {},
   "source": [
    "### Meguro"
   ]
  },
  {
   "cell_type": "code",
   "execution_count": 10,
   "id": "7ccf36cd",
   "metadata": {},
   "outputs": [],
   "source": [
    "from cinematimes import meguro"
   ]
  },
  {
   "cell_type": "code",
   "execution_count": 11,
   "id": "c40700a4",
   "metadata": {},
   "outputs": [],
   "source": [
    "soup = meguro.get_soup()"
   ]
  },
  {
   "cell_type": "code",
   "execution_count": 12,
   "id": "bcf4131d",
   "metadata": {},
   "outputs": [],
   "source": [
    "meguro_info = meguro.meguro_info(soup)"
   ]
  },
  {
   "cell_type": "code",
   "execution_count": 13,
   "id": "87e4d4e2",
   "metadata": {
    "scrolled": false
   },
   "outputs": [
    {
     "data": {
      "text/plain": [
       "[['5/7', '5/13'],\n",
       " {'engtitle': 'SPIDER-MAN: NO WAY HOME', 'jptitle': 'スパイダーマン：ノー・ウェイ・ホーム'},\n",
       " {'engtitle': 'UNCHARTED', 'jptitle': 'アンチャーテッド'},\n",
       " {'engtitle': 'SPIDER-MAN: INTO THE SPIDER-VERSE',\n",
       "  'jptitle': 'スパイダーマン：スパイダーバース'},\n",
       " ['5/14', '5/15'],\n",
       " {'engtitle': '', 'jptitle': 'ハッピーアワー'},\n",
       " ['5/14', '5/20'],\n",
       " {'engtitle': 'EL PLANETA', 'jptitle': 'エル プラネタ'},\n",
       " {'engtitle': 'LAS NINAS / SCHOOLGIRLS', 'jptitle': 'スクールガールズ'},\n",
       " ['5/21', '5/27'],\n",
       " {'engtitle': 'The Blues Brothers', 'jptitle': 'ブルース・ブラザース'},\n",
       " {'engtitle': '（、）SUMMER OF SOUL (OR, WHEN THE REVOLUTION COULD NOT BE TELEVISED)',\n",
       "  'jptitle': 'サマー・オブ・ソウル<span class=\"text_small\">（あるいは、革命がテレビ放映されなかった時）'},\n",
       " {'engtitle': 'BELUSHI', 'jptitle': 'ＢＥＬＵＳＨＩ ベルーシ'},\n",
       " ['5/28', '6/3'],\n",
       " {'engtitle': '', 'jptitle': '新幹線大爆破'},\n",
       " {'engtitle': '', 'jptitle': '家族ゲーム'},\n",
       " {'engtitle': '', 'jptitle': '太陽を盗んだ男'},\n",
       " {'engtitle': '', 'jptitle': '炎の肖像'},\n",
       " ['6/4', '6/10'],\n",
       " {'engtitle': ' / RAGING FIRE', 'jptitle': 'レイジング・ファイア'},\n",
       " {'engtitle': ' / ENTER THE FAT DRAGON', 'jptitle': '燃えよデブゴン ＴＯＫＹＯ ＭＩＳＳＩＯＮ'},\n",
       " ['6/18', '6/24'],\n",
       " {'engtitle': '', 'jptitle': 'ひらいて'},\n",
       " ['6/25', '7/1'],\n",
       " {'engtitle': '', 'jptitle': '私は白鳥'},\n",
       " {'engtitle': '', 'jptitle': 'くじらびと'},\n",
       " {'engtitle': 'THE TRUFFLE HUNTERS', 'jptitle': '白いトリュフの宿る森'},\n",
       " {'engtitle': 'FANTASTIC FUNGI', 'jptitle': '素晴らしき、きのこの世界'}]"
      ]
     },
     "execution_count": 13,
     "metadata": {},
     "output_type": "execute_result"
    }
   ],
   "source": [
    "meguro_info"
   ]
  },
  {
   "cell_type": "code",
   "execution_count": 15,
   "id": "c2af380d",
   "metadata": {},
   "outputs": [],
   "source": [
    "meguro_infodict={}\n",
    "\n",
    "for item in meguro_info:\n",
    "    if type(item) == list:\n",
    "        key=item[0]+' - '+item[1]\n",
    "        meguro_infodict[key] = []\n",
    "    if type(item) == dict:\n",
    "        if item['engtitle'] == '':\n",
    "            item['engtitle'] = 'none'\n",
    "        value = item['engtitle']\n",
    "        meguro_infodict[key].append(value)"
   ]
  },
  {
   "cell_type": "code",
   "execution_count": 16,
   "id": "64b1376b",
   "metadata": {},
   "outputs": [
    {
     "data": {
      "text/plain": [
       "{'5/7 - 5/13': ['SPIDER-MAN: NO WAY HOME',\n",
       "  'UNCHARTED',\n",
       "  'SPIDER-MAN: INTO THE SPIDER-VERSE'],\n",
       " '5/14 - 5/15': ['none'],\n",
       " '5/14 - 5/20': ['EL PLANETA', 'LAS NINAS / SCHOOLGIRLS'],\n",
       " '5/21 - 5/27': ['The Blues Brothers',\n",
       "  '（、）SUMMER OF SOUL (OR, WHEN THE REVOLUTION COULD NOT BE TELEVISED)',\n",
       "  'BELUSHI'],\n",
       " '5/28 - 6/3': ['none', 'none', 'none', 'none'],\n",
       " '6/4 - 6/10': [' / RAGING FIRE', ' / ENTER THE FAT DRAGON'],\n",
       " '6/18 - 6/24': ['none'],\n",
       " '6/25 - 7/1': ['none', 'none', 'THE TRUFFLE HUNTERS', 'FANTASTIC FUNGI']}"
      ]
     },
     "execution_count": 16,
     "metadata": {},
     "output_type": "execute_result"
    }
   ],
   "source": [
    "meguro_infodict"
   ]
  },
  {
   "cell_type": "code",
   "execution_count": 20,
   "id": "cead021f",
   "metadata": {
    "scrolled": true
   },
   "outputs": [
    {
     "data": {
      "text/html": [
       "<div>\n",
       "<style scoped>\n",
       "    .dataframe tbody tr th:only-of-type {\n",
       "        vertical-align: middle;\n",
       "    }\n",
       "\n",
       "    .dataframe tbody tr th {\n",
       "        vertical-align: top;\n",
       "    }\n",
       "\n",
       "    .dataframe thead th {\n",
       "        text-align: right;\n",
       "    }\n",
       "</style>\n",
       "<table border=\"1\" class=\"dataframe\">\n",
       "  <thead>\n",
       "    <tr style=\"text-align: right;\">\n",
       "      <th></th>\n",
       "      <th>5/7 - 5/13</th>\n",
       "      <th>5/14 - 5/15</th>\n",
       "      <th>5/14 - 5/20</th>\n",
       "      <th>5/21 - 5/27</th>\n",
       "      <th>5/28 - 6/3</th>\n",
       "      <th>6/4 - 6/10</th>\n",
       "      <th>6/18 - 6/24</th>\n",
       "      <th>6/25 - 7/1</th>\n",
       "    </tr>\n",
       "  </thead>\n",
       "  <tbody>\n",
       "    <tr>\n",
       "      <th>0</th>\n",
       "      <td>SPIDER-MAN: NO WAY HOME</td>\n",
       "      <td>none</td>\n",
       "      <td>EL PLANETA</td>\n",
       "      <td>The Blues Brothers</td>\n",
       "      <td>none</td>\n",
       "      <td>/ RAGING FIRE</td>\n",
       "      <td>none</td>\n",
       "      <td>none</td>\n",
       "    </tr>\n",
       "    <tr>\n",
       "      <th>1</th>\n",
       "      <td>UNCHARTED</td>\n",
       "      <td>-</td>\n",
       "      <td>LAS NINAS / SCHOOLGIRLS</td>\n",
       "      <td>（、）SUMMER OF SOUL (OR, WHEN THE REVOLUTION COU...</td>\n",
       "      <td>none</td>\n",
       "      <td>/ ENTER THE FAT DRAGON</td>\n",
       "      <td>-</td>\n",
       "      <td>none</td>\n",
       "    </tr>\n",
       "    <tr>\n",
       "      <th>2</th>\n",
       "      <td>SPIDER-MAN: INTO THE SPIDER-VERSE</td>\n",
       "      <td>-</td>\n",
       "      <td>-</td>\n",
       "      <td>BELUSHI</td>\n",
       "      <td>none</td>\n",
       "      <td>-</td>\n",
       "      <td>-</td>\n",
       "      <td>THE TRUFFLE HUNTERS</td>\n",
       "    </tr>\n",
       "    <tr>\n",
       "      <th>3</th>\n",
       "      <td>-</td>\n",
       "      <td>-</td>\n",
       "      <td>-</td>\n",
       "      <td>-</td>\n",
       "      <td>none</td>\n",
       "      <td>-</td>\n",
       "      <td>-</td>\n",
       "      <td>FANTASTIC FUNGI</td>\n",
       "    </tr>\n",
       "  </tbody>\n",
       "</table>\n",
       "</div>"
      ],
      "text/plain": [
       "                          5/7 - 5/13 5/14 - 5/15              5/14 - 5/20  \\\n",
       "0            SPIDER-MAN: NO WAY HOME        none               EL PLANETA   \n",
       "1                          UNCHARTED           -  LAS NINAS / SCHOOLGIRLS   \n",
       "2  SPIDER-MAN: INTO THE SPIDER-VERSE           -                        -   \n",
       "3                                  -           -                        -   \n",
       "\n",
       "                                         5/21 - 5/27 5/28 - 6/3  \\\n",
       "0                                 The Blues Brothers       none   \n",
       "1  （、）SUMMER OF SOUL (OR, WHEN THE REVOLUTION COU...       none   \n",
       "2                                            BELUSHI       none   \n",
       "3                                                  -       none   \n",
       "\n",
       "                6/4 - 6/10 6/18 - 6/24           6/25 - 7/1  \n",
       "0            / RAGING FIRE        none                 none  \n",
       "1   / ENTER THE FAT DRAGON           -                 none  \n",
       "2                        -           -  THE TRUFFLE HUNTERS  \n",
       "3                        -           -      FANTASTIC FUNGI  "
      ]
     },
     "execution_count": 20,
     "metadata": {},
     "output_type": "execute_result"
    }
   ],
   "source": [
    "mbd_to_df(meguro_infodict)"
   ]
  },
  {
   "cell_type": "code",
   "execution_count": 21,
   "id": "132fad85",
   "metadata": {
    "scrolled": false
   },
   "outputs": [
    {
     "data": {
      "text/plain": [
       "[['5/7', '5/13'],\n",
       " {'engtitle': 'SPIDER-MAN: NO WAY HOME', 'jptitle': 'スパイダーマン：ノー・ウェイ・ホーム'},\n",
       " {'engtitle': 'UNCHARTED', 'jptitle': 'アンチャーテッド'},\n",
       " {'engtitle': 'SPIDER-MAN: INTO THE SPIDER-VERSE',\n",
       "  'jptitle': 'スパイダーマン：スパイダーバース'},\n",
       " ['5/14', '5/15'],\n",
       " {'engtitle': 'none', 'jptitle': 'ハッピーアワー'},\n",
       " ['5/14', '5/20'],\n",
       " {'engtitle': 'EL PLANETA', 'jptitle': 'エル プラネタ'},\n",
       " {'engtitle': 'LAS NINAS / SCHOOLGIRLS', 'jptitle': 'スクールガールズ'},\n",
       " ['5/21', '5/27'],\n",
       " {'engtitle': 'The Blues Brothers', 'jptitle': 'ブルース・ブラザース'},\n",
       " {'engtitle': '（、）SUMMER OF SOUL (OR, WHEN THE REVOLUTION COULD NOT BE TELEVISED)',\n",
       "  'jptitle': 'サマー・オブ・ソウル<span class=\"text_small\">（あるいは、革命がテレビ放映されなかった時）'},\n",
       " {'engtitle': 'BELUSHI', 'jptitle': 'ＢＥＬＵＳＨＩ ベルーシ'},\n",
       " ['5/28', '6/3'],\n",
       " {'engtitle': 'none', 'jptitle': '新幹線大爆破'},\n",
       " {'engtitle': 'none', 'jptitle': '家族ゲーム'},\n",
       " {'engtitle': 'none', 'jptitle': '太陽を盗んだ男'},\n",
       " {'engtitle': 'none', 'jptitle': '炎の肖像'},\n",
       " ['6/4', '6/10'],\n",
       " {'engtitle': ' / RAGING FIRE', 'jptitle': 'レイジング・ファイア'},\n",
       " {'engtitle': ' / ENTER THE FAT DRAGON', 'jptitle': '燃えよデブゴン ＴＯＫＹＯ ＭＩＳＳＩＯＮ'},\n",
       " ['6/18', '6/24'],\n",
       " {'engtitle': 'none', 'jptitle': 'ひらいて'},\n",
       " ['6/25', '7/1'],\n",
       " {'engtitle': 'none', 'jptitle': '私は白鳥'},\n",
       " {'engtitle': 'none', 'jptitle': 'くじらびと'},\n",
       " {'engtitle': 'THE TRUFFLE HUNTERS', 'jptitle': '白いトリュフの宿る森'},\n",
       " {'engtitle': 'FANTASTIC FUNGI', 'jptitle': '素晴らしき、きのこの世界'}]"
      ]
     },
     "execution_count": 21,
     "metadata": {},
     "output_type": "execute_result"
    }
   ],
   "source": [
    "meguro_info"
   ]
  },
  {
   "cell_type": "code",
   "execution_count": 22,
   "id": "5f591900",
   "metadata": {},
   "outputs": [],
   "source": [
    "meguro_list = [title for movie in meguro_info if type(movie) == dict for title in [movie['engtitle']] if title != 'none']"
   ]
  },
  {
   "cell_type": "code",
   "execution_count": 23,
   "id": "38cc52c6",
   "metadata": {},
   "outputs": [
    {
     "data": {
      "text/plain": [
       "['SPIDER-MAN: NO WAY HOME',\n",
       " 'UNCHARTED',\n",
       " 'SPIDER-MAN: INTO THE SPIDER-VERSE',\n",
       " 'EL PLANETA',\n",
       " 'LAS NINAS / SCHOOLGIRLS',\n",
       " 'The Blues Brothers',\n",
       " '（、）SUMMER OF SOUL (OR, WHEN THE REVOLUTION COULD NOT BE TELEVISED)',\n",
       " 'BELUSHI',\n",
       " ' / RAGING FIRE',\n",
       " ' / ENTER THE FAT DRAGON',\n",
       " 'THE TRUFFLE HUNTERS',\n",
       " 'FANTASTIC FUNGI']"
      ]
     },
     "execution_count": 23,
     "metadata": {},
     "output_type": "execute_result"
    }
   ],
   "source": [
    "meguro_list"
   ]
  },
  {
   "cell_type": "markdown",
   "id": "5618b178",
   "metadata": {},
   "source": [
    "## Google Search API"
   ]
  },
  {
   "cell_type": "code",
   "execution_count": 24,
   "id": "5a5c2729",
   "metadata": {},
   "outputs": [],
   "source": [
    "from cinematimes import google"
   ]
  },
  {
   "cell_type": "code",
   "execution_count": 25,
   "id": "2d93fb0e",
   "metadata": {},
   "outputs": [
    {
     "name": "stdout",
     "output_type": "stream",
     "text": [
      "Response :200\n"
     ]
    }
   ],
   "source": [
    "showtimes = google.search('united cinemas urawa')"
   ]
  },
  {
   "cell_type": "code",
   "execution_count": 26,
   "id": "79b927a9",
   "metadata": {},
   "outputs": [
    {
     "data": {
      "text/plain": [
       "[{'day': 'Mon',\n",
       "  'date': 'May 9',\n",
       "  'movies': [{'name': 'Doctor Strange in the Multiverse of Madness',\n",
       "    'link': 'https://www.google.com/search?hl=en&gl=us&q=&si=AC1wQDAGEQiTPWsvhpPV4-xl97AcUfloRjKp4qat4I8-Kg1HxUZlh2hLOg8aj__svnrQzhOeuRt0XWQO0aQ5e0fgfdZ5oxQT-clYUo2VtNYfAz-3QHul_gW2_MxESJJx7PGoSMvHXsnkfZ8SAy_QWGpgJMmU8l6mC_NubXgZ2FtTl9rdM8fJN2Y48rTcmZwPppbDtsb_6HvS7Tz3fbiW03BGaEhgMK-tTclKJfHfYE8jt7pC-acWMDAL8gEgGV8KXbIcRDZ5A0TFpQRqgtiO3dXpdR5eg2PK-w%3D%3D&sa=X&ved=2ahUKEwiY8vnrpNL3AhUVCs0KHYR7C8oQxyZ6BAgKEBA',\n",
       "    'showing': [{'time': ['8:20pm'], 'type': 'Standard'},\n",
       "     {'time': ['8:40pm'], 'type': 'Standard'}]},\n",
       "   {'name': 'Detective Conan: The Bride Of Halloween',\n",
       "    'link': 'https://www.google.com/search?hl=en&gl=us&q=&si=AC1wQDAGEQiTPWsvhpPV4-xl97AcUfloRjKp4qat4I8-Kg1HxUvLo3gVdcM4Zhd-wA9e_tiTarn73YB7gitgsAIvryAGZHBRbil5g2wROM5AxMyDE6vDSRPBAep2rfWEllDRGgyzGiqiv7E42D0EC3gDacx6sheiV0yh8dIHrGFt6R1FIbc5ekvq_F0RP6jq-bVKYH_c5KVFPgo7V1ZYf58nD5O3YpGVpVey03b67UxqG8AVkWP124bz84avo7LBgTzrMwjG6htvM1C1YmNahkzcC4LMig79PA%3D%3D&sa=X&ved=2ahUKEwiY8vnrpNL3AhUVCs0KHYR7C8oQxyZ6BAgKEBY',\n",
       "    'showing': [{'time': ['8:10pm', '9:25pm'], 'type': 'Standard'}]},\n",
       "   {'name': 'Fantastic Beasts: The Secrets of Dumbledore',\n",
       "    'link': 'https://www.google.com/search?hl=en&gl=us&q=&si=AC1wQDAGEQiTPWsvhpPV4-xl97AcUfloRjKp4qat4I8-Kg1HxToG1fUDCzFoV9qNyABxtmi2MZsoHTDPMQ4tHmq4NvtOwYpNz96REEudP73sQK0wJIy2D83lob_11aA9DH1G21YwC_IcCzrcVlQS-oK8leZQ1Q2eYtup8fLC63OX4Vi1-WXgSIg1QDnhFnm-x41DJXxlYRnV-_v866rbvIIbssRjEWBsNMz5u6noj_vi4F3lfvj1-YvILAbuY6hf2Z58-9unQ3ktsfus4mYfyTaAiLZpx0-dAg%3D%3D&sa=X&ved=2ahUKEwiY8vnrpNL3AhUVCs0KHYR7C8oQxyZ6BAgKEBs',\n",
       "    'showing': [{'time': ['8:25pm'], 'type': 'Standard'}]},\n",
       "   {'name': '劇場版ラジエーションハウス',\n",
       "    'link': 'https://www.google.com/search?hl=en&gl=us&q=&si=AC1wQDAGEQiTPWsvhpPV4-xl97AcUfloRjKp4qat4I8-Kg1HxdSWPSazo1k7_bkWdvqRhACJDr_gVhAiACEmBGWLk_I-LHDNN1dFs11hQYQhzQXiC3inVhHwRUGes6pWAp5LHsman5SciE2oM1Aw2pGSrPlSx2cvQDx7_BESx9IY8-mS5LvSwjIFVjYVq91jMIfToXooZqS11OOdTjofNhibdzF0N2HMHM0A_7SeZnZrX8B5qYs7p_mK0WszZ_B3WeAl1S7biDrCXZnwrtOt1dz3FDYrdeLnaA%3D%3D',\n",
       "    'showing': [{'time': ['8:50pm'], 'type': 'Standard'}]},\n",
       "   {'name': 'ホリック xxxHOLiC',\n",
       "    'link': 'https://www.google.com/search?hl=en&gl=us&q=&si=AC1wQDAGEQiTPWsvhpPV4-xl97AcUfloRjKp4qat4I8-Kg1HxSHDFSwx2683f1Yl2XtMJJzF5xcHG8Ta2I07Ko3WaEd8fej5g4xjtEhp6e7Khz7zN6dbO7mTY0I9ehaOGUP0okOhlbM041Z-4A_Zk3XaotPmXUftCyk69OpztJKWiKoixf8rFrhCrGgwIujg0X4Ul1dyA_1xg6KZyC0m38pzEDk4_3UZSkzFIbrO3TDUX5diCqqpUrncmCmRSbHseR0vuy_f0SzMv_r8GkWYS6__PdOQojBOeQ%3D%3D',\n",
       "    'showing': [{'time': ['9:20pm'], 'type': 'Standard'}]},\n",
       "   {'name': 'Free! – the Final Stroke – the first volume',\n",
       "    'link': 'https://www.google.com/search?hl=en&gl=us&q=&si=AC1wQDAGEQiTPWsvhpPV4-xl97AcUfloRjKp4qat4I8-Kg1HxRqH3QdP9qtVnm8M1wEpSxupQrMz32byGvSDPHNL5IMZpHu_dOd5VP3ZoP-SitGpJqssivE0zY-ZjvYWZfTargCovjNvpZh9LR5B3zbVv68M1ECOEDJrtKEKzH2ZaPy0ORg_mKJIBBlU6N5TA7pAdBOzI2dzRP7J2N8ruckyDgXlxfFXJy42HhrLZMM_juIAbce6mxFG-UEbyga7K_Fd5M2W3Un-umXMBg8WaPFHLZ0qFCUKKQ%3D%3D',\n",
       "    'showing': [{'time': ['9:35pm'], 'type': 'Standard'}]}]},\n",
       " {'day': 'Tue',\n",
       "  'date': 'May 10',\n",
       "  'movies': [{'name': 'Doctor Strange in the Multiverse of Madness',\n",
       "    'link': 'https://www.google.com/search?hl=en&gl=us&q=&si=AC1wQDAGEQiTPWsvhpPV4-xl97AcUfloRjKp4qat4I8-Kg1HxUZlh2hLOg8aj__svnrQzhOeuRt0XWQO0aQ5e0fgfdZ5oxQT-clYUo2VtNYfAz-3QHul_gW2_MxESJJx7PGoSMvHXsnkfZ8SAy_QWGpgJMmU8l6mC_NubXgZ2FtTl9rdM8fJN2Y48rTcmZwPppbDtsb_6HvS7Tz3fbiW03BGaEhgMK-tTclKJfHfYE8jt7pC-acWMDAL8gEgGV8KXbIcRDZ5A0TFpQRqgtiO3dXpdR5eg2PK-w%3D%3D',\n",
       "    'showing': [{'time': ['11:15am', '2:00pm', '7:40pm'], 'type': 'IMAX 3D'},\n",
       "     {'time': ['9:40am', '12:20pm', '5:40pm', '8:20pm'], 'type': 'Standard'},\n",
       "     {'time': ['8:40am', '3:00pm', '4:35pm', '6:40pm', '8:40pm'],\n",
       "      'type': 'Standard'}]},\n",
       "   {'name': 'Detective Conan: The Bride Of Halloween',\n",
       "    'link': 'https://www.google.com/search?hl=en&gl=us&q=&si=AC1wQDAGEQiTPWsvhpPV4-xl97AcUfloRjKp4qat4I8-Kg1HxUvLo3gVdcM4Zhd-wA9e_tiTarn73YB7gitgsAIvryAGZHBRbil5g2wROM5AxMyDE6vDSRPBAep2rfWEllDRGgyzGiqiv7E42D0EC3gDacx6sheiV0yh8dIHrGFt6R1FIbc5ekvq_F0RP6jq-bVKYH_c5KVFPgo7V1ZYf58nD5O3YpGVpVey03b67UxqG8AVkWP124bz84avo7LBgTzrMwjG6htvM1C1YmNahkzcC4LMig79PA%3D%3D',\n",
       "    'showing': [{'time': ['10:30am',\n",
       "       '11:25am',\n",
       "       '12:55pm',\n",
       "       '2:10pm',\n",
       "       '3:20pm',\n",
       "       '4:35pm',\n",
       "       '7:00pm',\n",
       "       '8:10pm',\n",
       "       '9:25pm'],\n",
       "      'type': 'Standard'},\n",
       "     {'time': ['8:50am'], 'type': 'IMAX'}]},\n",
       "   {'name': 'Fantastic Beasts: The Secrets of Dumbledore',\n",
       "    'link': 'https://www.google.com/search?hl=en&gl=us&q=&si=AC1wQDAGEQiTPWsvhpPV4-xl97AcUfloRjKp4qat4I8-Kg1HxToG1fUDCzFoV9qNyABxtmi2MZsoHTDPMQ4tHmq4NvtOwYpNz96REEudP73sQK0wJIy2D83lob_11aA9DH1G21YwC_IcCzrcVlQS-oK8leZQ1Q2eYtup8fLC63OX4Vi1-WXgSIg1QDnhFnm-x41DJXxlYRnV-_v866rbvIIbssRjEWBsNMz5u6noj_vi4F3lfvj1-YvILAbuY6hf2Z58-9unQ3ktsfus4mYfyTaAiLZpx0-dAg%3D%3D',\n",
       "    'showing': [{'time': ['4:45pm'], 'type': 'IMAX'},\n",
       "     {'time': ['11:10am', '3:10pm', '8:25pm'], 'type': 'Standard'},\n",
       "     {'time': ['10:35am', '1:30pm', '5:50pm'], 'type': 'Standard'}]},\n",
       "   {'name': '劇場版ラジエーションハウス',\n",
       "    'link': 'https://www.google.com/search?hl=en&gl=us&q=&si=AC1wQDAGEQiTPWsvhpPV4-xl97AcUfloRjKp4qat4I8-Kg1HxdSWPSazo1k7_bkWdvqRhACJDr_gVhAiACEmBGWLk_I-LHDNN1dFs11hQYQhzQXiC3inVhHwRUGes6pWAp5LHsman5SciE2oM1Aw2pGSrPlSx2cvQDx7_BESx9IY8-mS5LvSwjIFVjYVq91jMIfToXooZqS11OOdTjofNhibdzF0N2HMHM0A_7SeZnZrX8B5qYs7p_mK0WszZ_B3WeAl1S7biDrCXZnwrtOt1dz3FDYrdeLnaA%3D%3D',\n",
       "    'showing': [{'time': ['10:45am', '1:20pm', '3:50pm', '6:20pm', '8:50pm'],\n",
       "      'type': 'Standard'}]},\n",
       "   {'name': 'Crayon Shin-chan: Mononoke Ninja Chinpūden',\n",
       "    'link': 'https://www.google.com/search?hl=en&gl=us&q=&si=AC1wQDAGEQiTPWsvhpPV4-xl97AcUfloRjKp4qat4I8-Kg1HxcYfLKw2cjvy4rxmZqX68DhEPAg2jVIDeDaX8WuECq2httymYvplIIE0Btc7Z0NBIQ3tbAwrzChY3Al4SRzs5leunIe4pOcuMOTnwEs5cXJrGo77955kD-y1VUxkScjhWkDyfreKIEwKqJvsC7nUD56S7lpIchC0LZYURqqYPyvEmAXGDE_dSdHRl_7av4tie-cfn9NYz5TyvOi-T-D0h7lHBaFC4leGutdr_EK4kwBapNuYEg%3D%3D',\n",
       "    'showing': [{'time': ['8:15am', '10:45am', '1:00pm', '3:15pm'],\n",
       "      'type': 'Standard'}]},\n",
       "   {'name': 'ホリック xxxHOLiC',\n",
       "    'link': 'https://www.google.com/search?hl=en&gl=us&q=&si=AC1wQDAGEQiTPWsvhpPV4-xl97AcUfloRjKp4qat4I8-Kg1HxSHDFSwx2683f1Yl2XtMJJzF5xcHG8Ta2I07Ko3WaEd8fej5g4xjtEhp6e7Khz7zN6dbO7mTY0I9ehaOGUP0okOhlbM041Z-4A_Zk3XaotPmXUftCyk69OpztJKWiKoixf8rFrhCrGgwIujg0X4Ul1dyA_1xg6KZyC0m38pzEDk4_3UZSkzFIbrO3TDUX5diCqqpUrncmCmRSbHseR0vuy_f0SzMv_r8GkWYS6__PdOQojBOeQ%3D%3D',\n",
       "    'showing': [{'time': ['8:50am', '12:50pm', '4:15pm', '7:15pm', '9:20pm'],\n",
       "      'type': 'Standard'}]},\n",
       "   {'name': 'Free! – the Final Stroke – the first volume',\n",
       "    'link': 'https://www.google.com/search?hl=en&gl=us&q=&si=AC1wQDAGEQiTPWsvhpPV4-xl97AcUfloRjKp4qat4I8-Kg1HxRqH3QdP9qtVnm8M1wEpSxupQrMz32byGvSDPHNL5IMZpHu_dOd5VP3ZoP-SitGpJqssivE0zY-ZjvYWZfTargCovjNvpZh9LR5B3zbVv68M1ECOEDJrtKEKzH2ZaPy0ORg_mKJIBBlU6N5TA7pAdBOzI2dzRP7J2N8ruckyDgXlxfFXJy42HhrLZMM_juIAbce6mxFG-UEbyga7K_Fd5M2W3Un-umXMBg8WaPFHLZ0qFCUKKQ%3D%3D',\n",
       "    'showing': [{'time': ['8:10am', '6:05pm', '9:35pm'], 'type': 'Standard'}]},\n",
       "   {'name': 'Sing 2',\n",
       "    'link': 'https://www.google.com/search?hl=en&gl=us&q=&si=AC1wQDAGEQiTPWsvhpPV4-xl97AcUfloRjKp4qat4I8-Kg1HxeE2N5MJ9cDAvfRJ-vTKs49yyU1F9AMfgC5xO6AunV5suN9ZEUoyglxTjLtUy3UjAjdG00Susc0reDUg06hqUfqKTUqIU3OcnbizAXVf2IKWCxDzVBiFAWZsk4ncgDoCkK237H3SoxeU-HqLRtlF3jueup8eGUAE1Xo0wIiZHBO40neojLjUUDvUEDYmRZDmdXQIXUCKuL4IIxyDP0oaiu7mBs5MNyRUV7-hCm2LfMcNv0XfAA%3D%3D',\n",
       "    'showing': [{'time': ['1:50pm'], 'type': 'Standard'}]},\n",
       "   {'name': 'Jujutsu Kaisen 0',\n",
       "    'link': 'https://www.google.com/search?hl=en&gl=us&q=&si=AC1wQDAGEQiTPWsvhpPV4-xl97AcUfloRjKp4qat4I8-Kg1HxYmedplKdB9u-mo2Ef8L1uLq2pHapE7lLZkPwn36c4dNyK9MN-hJJuhi6Gc2bCnlThZmMcMKMP7qLvbbooD3X3BjzVrWC2t8M5-8Xr56So2xOKO92HCbKNvoWzx2bRhGxOE0vCKpV2R7Avx052Z-EiaRydJua-5CP9CAuytSaA40jdFOseP_CGFqNP9uIQPg8DbEyaf9Ga1ai77B4k8DnxZ1Sh39nDWCzLD1RlB14joUrTV9-w%3D%3D',\n",
       "    'showing': [{'time': ['8:25am'], 'type': 'Standard'}]},\n",
       "   {'name': '余命10年',\n",
       "    'link': 'https://www.google.com/search?hl=en&gl=us&q=&si=AC1wQDAGEQiTPWsvhpPV4-xl97AcUfloRjKp4qat4I8-Kg1Hxf1lqhUApWsMXDIHDJG8aOETaefC4wJ2PdOhVFFzTA4w6DzS7D_1VgthW9m80QSowI840MoQ1_y1tw9YRexfsbM9IM35DRR8O_q0PSqD6Ku9WxHyF-t3wDmLktPLBnoe1y9VQ8aYbt047jcj0Aydcekp7q0aOEOSPwDh5F06p013-QVV2mU8js574wA6ylKy6RXhMPK99PtHHoMKlwtsQRWNQrZfrOQZQjNsgNdKULElVC-r7w%3D%3D',\n",
       "    'showing': [{'time': ['8:10am'], 'type': 'Standard'}]},\n",
       "   {'name': '映画 おそ松さん',\n",
       "    'link': 'https://www.google.com/search?hl=en&gl=us&q=&si=AC1wQDAGEQiTPWsvhpPV4-xl97AcUfloRjKp4qat4I8-Kg1HxXwZUpavb-ocyeOtfsRT3wRFqzGz2FApnKELKtCsS9uGx85W-ZJ1Zb6RR8jTGTqkwPCQ4EJsOH6zVTHi3mdAfAAqsfUiKZzXcGKcz89fh5z7bJ5J7r2-z6bVft1flCpNHo2IEkSsn6wjZfRUuBJYKgQAhrO6lCBBDWDRc40Agm9uRISBLacWGUA2VXVgxo1qybN7ZidIKtWAoJktGbcbheGspI_EM2rzphmxRqIsBMcJuyap1g%3D%3D',\n",
       "    'showing': [{'time': ['8:10am'], 'type': 'Standard'}]},\n",
       "   {'name': 'Tonbi',\n",
       "    'link': 'https://www.google.com/search?hl=en&gl=us&q=&si=AC1wQDAGEQiTPWsvhpPV4-xl97AcUfloRjKp4qat4I8-Kg1HxeIsYhSfl-N-6KRy7Gq7LOwGCrCeKh_aoFd_jsacD5z4p0UZ9VGTijnaCP_VblnUl8iPmr7dxe83R5OHECXoVS7JYi3WStjuv0rp_crIO3h27wQ1VQ-hfFK5Py12fgMfmNwKcbVkyUJMuv8PYFSaMRmzA_eTtOiIigVrkP88Y5nwgZvUChIH4aDi-cYR_PUbsnXlvq8E6onmC8dRPKQ2Ned5ZqMeiH9ieXHWZIDpXdRZ28A_lA%3D%3D',\n",
       "    'showing': [{'time': ['5:25pm'], 'type': 'Standard'}]},\n",
       "   {'name': \"C'mon C'mon\",\n",
       "    'link': 'https://www.google.com/search?hl=en&gl=us&q=&si=AC1wQDAGEQiTPWsvhpPV4-xl97AcUfloRjKp4qat4I8-Kg1HxR6_S1o0Xxkkf2vpYBJKU1OY14SCxkYD1GnpqHR2QeJnF4Shdthsk5wgnNNcOYrNS2k6dGyw73BlSWbKBtZqBJV9257Zaf8yewjg6xWiMsPM2-sm48teS1wvp6BgQ0YJwW6rfBee7NSOsYySzcBbgEi8iFLQRBa6Yxa5R_i-_ektaHVGtIaQIfG7XwtKnDgQIPJir-fJh66m0w8stqMcf6Sqy0h4ktYPXBMvLocOMCMZXCtEyw%3D%3D',\n",
       "    'showing': [{'time': ['10:25am'], 'type': 'Standard'}]}]},\n",
       " {'day': 'Wed',\n",
       "  'date': 'May 11',\n",
       "  'movies': [{'name': 'Doctor Strange in the Multiverse of Madness',\n",
       "    'link': 'https://www.google.com/search?hl=en&gl=us&q=&si=AC1wQDAGEQiTPWsvhpPV4-xl97AcUfloRjKp4qat4I8-Kg1HxUZlh2hLOg8aj__svnrQzhOeuRt0XWQO0aQ5e0fgfdZ5oxQT-clYUo2VtNYfAz-3QHul_gW2_MxESJJx7PGoSMvHXsnkfZ8SAy_QWGpgJMmU8l6mC_NubXgZ2FtTl9rdM8fJN2Y48rTcmZwPppbDtsb_6HvS7Tz3fbiW03BGaEhgMK-tTclKJfHfYE8jt7pC-acWMDAL8gEgGV8KXbIcRDZ5A0TFpQRqgtiO3dXpdR5eg2PK-w%3D%3D',\n",
       "    'showing': [{'time': ['11:15am', '2:00pm', '7:40pm'], 'type': 'IMAX 3D'},\n",
       "     {'time': ['9:40am', '12:20pm', '5:40pm', '8:20pm'], 'type': 'Standard'},\n",
       "     {'time': ['8:40am', '3:00pm', '4:35pm', '6:40pm', '8:40pm'],\n",
       "      'type': 'Standard'}]},\n",
       "   {'name': 'Detective Conan: The Bride Of Halloween',\n",
       "    'link': 'https://www.google.com/search?hl=en&gl=us&q=&si=AC1wQDAGEQiTPWsvhpPV4-xl97AcUfloRjKp4qat4I8-Kg1HxUvLo3gVdcM4Zhd-wA9e_tiTarn73YB7gitgsAIvryAGZHBRbil5g2wROM5AxMyDE6vDSRPBAep2rfWEllDRGgyzGiqiv7E42D0EC3gDacx6sheiV0yh8dIHrGFt6R1FIbc5ekvq_F0RP6jq-bVKYH_c5KVFPgo7V1ZYf58nD5O3YpGVpVey03b67UxqG8AVkWP124bz84avo7LBgTzrMwjG6htvM1C1YmNahkzcC4LMig79PA%3D%3D',\n",
       "    'showing': [{'time': ['10:30am',\n",
       "       '11:25am',\n",
       "       '12:55pm',\n",
       "       '2:10pm',\n",
       "       '3:20pm',\n",
       "       '4:35pm',\n",
       "       '7:00pm',\n",
       "       '8:10pm',\n",
       "       '9:25pm'],\n",
       "      'type': 'Standard'},\n",
       "     {'time': ['8:50am'], 'type': 'IMAX'}]},\n",
       "   {'name': 'Fantastic Beasts: The Secrets of Dumbledore',\n",
       "    'link': 'https://www.google.com/search?hl=en&gl=us&q=&si=AC1wQDAGEQiTPWsvhpPV4-xl97AcUfloRjKp4qat4I8-Kg1HxToG1fUDCzFoV9qNyABxtmi2MZsoHTDPMQ4tHmq4NvtOwYpNz96REEudP73sQK0wJIy2D83lob_11aA9DH1G21YwC_IcCzrcVlQS-oK8leZQ1Q2eYtup8fLC63OX4Vi1-WXgSIg1QDnhFnm-x41DJXxlYRnV-_v866rbvIIbssRjEWBsNMz5u6noj_vi4F3lfvj1-YvILAbuY6hf2Z58-9unQ3ktsfus4mYfyTaAiLZpx0-dAg%3D%3D',\n",
       "    'showing': [{'time': ['4:45pm'], 'type': 'IMAX'},\n",
       "     {'time': ['11:10am', '3:10pm', '8:25pm'], 'type': 'Standard'},\n",
       "     {'time': ['10:35am', '1:30pm', '5:50pm'], 'type': 'Standard'}]},\n",
       "   {'name': '劇場版ラジエーションハウス',\n",
       "    'link': 'https://www.google.com/search?hl=en&gl=us&q=&si=AC1wQDAGEQiTPWsvhpPV4-xl97AcUfloRjKp4qat4I8-Kg1HxdSWPSazo1k7_bkWdvqRhACJDr_gVhAiACEmBGWLk_I-LHDNN1dFs11hQYQhzQXiC3inVhHwRUGes6pWAp5LHsman5SciE2oM1Aw2pGSrPlSx2cvQDx7_BESx9IY8-mS5LvSwjIFVjYVq91jMIfToXooZqS11OOdTjofNhibdzF0N2HMHM0A_7SeZnZrX8B5qYs7p_mK0WszZ_B3WeAl1S7biDrCXZnwrtOt1dz3FDYrdeLnaA%3D%3D',\n",
       "    'showing': [{'time': ['10:45am', '1:20pm', '3:50pm', '6:20pm', '8:50pm'],\n",
       "      'type': 'Standard'}]},\n",
       "   {'name': 'Crayon Shin-chan: Mononoke Ninja Chinpūden',\n",
       "    'link': 'https://www.google.com/search?hl=en&gl=us&q=&si=AC1wQDAGEQiTPWsvhpPV4-xl97AcUfloRjKp4qat4I8-Kg1HxcYfLKw2cjvy4rxmZqX68DhEPAg2jVIDeDaX8WuECq2httymYvplIIE0Btc7Z0NBIQ3tbAwrzChY3Al4SRzs5leunIe4pOcuMOTnwEs5cXJrGo77955kD-y1VUxkScjhWkDyfreKIEwKqJvsC7nUD56S7lpIchC0LZYURqqYPyvEmAXGDE_dSdHRl_7av4tie-cfn9NYz5TyvOi-T-D0h7lHBaFC4leGutdr_EK4kwBapNuYEg%3D%3D',\n",
       "    'showing': [{'time': ['8:15am', '10:45am', '1:00pm', '3:15pm'],\n",
       "      'type': 'Standard'}]},\n",
       "   {'name': 'ホリック xxxHOLiC',\n",
       "    'link': 'https://www.google.com/search?hl=en&gl=us&q=&si=AC1wQDAGEQiTPWsvhpPV4-xl97AcUfloRjKp4qat4I8-Kg1HxSHDFSwx2683f1Yl2XtMJJzF5xcHG8Ta2I07Ko3WaEd8fej5g4xjtEhp6e7Khz7zN6dbO7mTY0I9ehaOGUP0okOhlbM041Z-4A_Zk3XaotPmXUftCyk69OpztJKWiKoixf8rFrhCrGgwIujg0X4Ul1dyA_1xg6KZyC0m38pzEDk4_3UZSkzFIbrO3TDUX5diCqqpUrncmCmRSbHseR0vuy_f0SzMv_r8GkWYS6__PdOQojBOeQ%3D%3D',\n",
       "    'showing': [{'time': ['8:50am', '12:50pm', '4:15pm', '7:15pm', '9:20pm'],\n",
       "      'type': 'Standard'}]},\n",
       "   {'name': 'Free! – the Final Stroke – the first volume',\n",
       "    'link': 'https://www.google.com/search?hl=en&gl=us&q=&si=AC1wQDAGEQiTPWsvhpPV4-xl97AcUfloRjKp4qat4I8-Kg1HxRqH3QdP9qtVnm8M1wEpSxupQrMz32byGvSDPHNL5IMZpHu_dOd5VP3ZoP-SitGpJqssivE0zY-ZjvYWZfTargCovjNvpZh9LR5B3zbVv68M1ECOEDJrtKEKzH2ZaPy0ORg_mKJIBBlU6N5TA7pAdBOzI2dzRP7J2N8ruckyDgXlxfFXJy42HhrLZMM_juIAbce6mxFG-UEbyga7K_Fd5M2W3Un-umXMBg8WaPFHLZ0qFCUKKQ%3D%3D',\n",
       "    'showing': [{'time': ['8:10am', '6:05pm', '9:35pm'], 'type': 'Standard'}]},\n",
       "   {'name': 'Sing 2',\n",
       "    'link': 'https://www.google.com/search?hl=en&gl=us&q=&si=AC1wQDAGEQiTPWsvhpPV4-xl97AcUfloRjKp4qat4I8-Kg1HxeE2N5MJ9cDAvfRJ-vTKs49yyU1F9AMfgC5xO6AunV5suN9ZEUoyglxTjLtUy3UjAjdG00Susc0reDUg06hqUfqKTUqIU3OcnbizAXVf2IKWCxDzVBiFAWZsk4ncgDoCkK237H3SoxeU-HqLRtlF3jueup8eGUAE1Xo0wIiZHBO40neojLjUUDvUEDYmRZDmdXQIXUCKuL4IIxyDP0oaiu7mBs5MNyRUV7-hCm2LfMcNv0XfAA%3D%3D',\n",
       "    'showing': [{'time': ['1:50pm'], 'type': 'Standard'}]},\n",
       "   {'name': 'Jujutsu Kaisen 0',\n",
       "    'link': 'https://www.google.com/search?hl=en&gl=us&q=&si=AC1wQDAGEQiTPWsvhpPV4-xl97AcUfloRjKp4qat4I8-Kg1HxYmedplKdB9u-mo2Ef8L1uLq2pHapE7lLZkPwn36c4dNyK9MN-hJJuhi6Gc2bCnlThZmMcMKMP7qLvbbooD3X3BjzVrWC2t8M5-8Xr56So2xOKO92HCbKNvoWzx2bRhGxOE0vCKpV2R7Avx052Z-EiaRydJua-5CP9CAuytSaA40jdFOseP_CGFqNP9uIQPg8DbEyaf9Ga1ai77B4k8DnxZ1Sh39nDWCzLD1RlB14joUrTV9-w%3D%3D',\n",
       "    'showing': [{'time': ['8:25am'], 'type': 'Standard'}]},\n",
       "   {'name': '余命10年',\n",
       "    'link': 'https://www.google.com/search?hl=en&gl=us&q=&si=AC1wQDAGEQiTPWsvhpPV4-xl97AcUfloRjKp4qat4I8-Kg1Hxf1lqhUApWsMXDIHDJG8aOETaefC4wJ2PdOhVFFzTA4w6DzS7D_1VgthW9m80QSowI840MoQ1_y1tw9YRexfsbM9IM35DRR8O_q0PSqD6Ku9WxHyF-t3wDmLktPLBnoe1y9VQ8aYbt047jcj0Aydcekp7q0aOEOSPwDh5F06p013-QVV2mU8js574wA6ylKy6RXhMPK99PtHHoMKlwtsQRWNQrZfrOQZQjNsgNdKULElVC-r7w%3D%3D',\n",
       "    'showing': [{'time': ['8:10am'], 'type': 'Standard'}]},\n",
       "   {'name': '映画 おそ松さん',\n",
       "    'link': 'https://www.google.com/search?hl=en&gl=us&q=&si=AC1wQDAGEQiTPWsvhpPV4-xl97AcUfloRjKp4qat4I8-Kg1HxXwZUpavb-ocyeOtfsRT3wRFqzGz2FApnKELKtCsS9uGx85W-ZJ1Zb6RR8jTGTqkwPCQ4EJsOH6zVTHi3mdAfAAqsfUiKZzXcGKcz89fh5z7bJ5J7r2-z6bVft1flCpNHo2IEkSsn6wjZfRUuBJYKgQAhrO6lCBBDWDRc40Agm9uRISBLacWGUA2VXVgxo1qybN7ZidIKtWAoJktGbcbheGspI_EM2rzphmxRqIsBMcJuyap1g%3D%3D',\n",
       "    'showing': [{'time': ['8:10am'], 'type': 'Standard'}]},\n",
       "   {'name': 'Tonbi',\n",
       "    'link': 'https://www.google.com/search?hl=en&gl=us&q=&si=AC1wQDAGEQiTPWsvhpPV4-xl97AcUfloRjKp4qat4I8-Kg1HxeIsYhSfl-N-6KRy7Gq7LOwGCrCeKh_aoFd_jsacD5z4p0UZ9VGTijnaCP_VblnUl8iPmr7dxe83R5OHECXoVS7JYi3WStjuv0rp_crIO3h27wQ1VQ-hfFK5Py12fgMfmNwKcbVkyUJMuv8PYFSaMRmzA_eTtOiIigVrkP88Y5nwgZvUChIH4aDi-cYR_PUbsnXlvq8E6onmC8dRPKQ2Ned5ZqMeiH9ieXHWZIDpXdRZ28A_lA%3D%3D',\n",
       "    'showing': [{'time': ['5:25pm'], 'type': 'Standard'}]},\n",
       "   {'name': \"C'mon C'mon\",\n",
       "    'link': 'https://www.google.com/search?hl=en&gl=us&q=&si=AC1wQDAGEQiTPWsvhpPV4-xl97AcUfloRjKp4qat4I8-Kg1HxR6_S1o0Xxkkf2vpYBJKU1OY14SCxkYD1GnpqHR2QeJnF4Shdthsk5wgnNNcOYrNS2k6dGyw73BlSWbKBtZqBJV9257Zaf8yewjg6xWiMsPM2-sm48teS1wvp6BgQ0YJwW6rfBee7NSOsYySzcBbgEi8iFLQRBa6Yxa5R_i-_ektaHVGtIaQIfG7XwtKnDgQIPJir-fJh66m0w8stqMcf6Sqy0h4ktYPXBMvLocOMCMZXCtEyw%3D%3D',\n",
       "    'showing': [{'time': ['10:25am'], 'type': 'Standard'}]}]},\n",
       " {'day': 'Thu',\n",
       "  'date': 'May 12',\n",
       "  'movies': [{'name': 'Doctor Strange in the Multiverse of Madness',\n",
       "    'link': 'https://www.google.com/search?hl=en&gl=us&q=&si=AC1wQDAGEQiTPWsvhpPV4-xl97AcUfloRjKp4qat4I8-Kg1HxUZlh2hLOg8aj__svnrQzhOeuRt0XWQO0aQ5e0fgfdZ5oxQT-clYUo2VtNYfAz-3QHul_gW2_MxESJJx7PGoSMvHXsnkfZ8SAy_QWGpgJMmU8l6mC_NubXgZ2FtTl9rdM8fJN2Y48rTcmZwPppbDtsb_6HvS7Tz3fbiW03BGaEhgMK-tTclKJfHfYE8jt7pC-acWMDAL8gEgGV8KXbIcRDZ5A0TFpQRqgtiO3dXpdR5eg2PK-w%3D%3D',\n",
       "    'showing': [{'time': ['11:15am', '2:00pm', '7:40pm'], 'type': 'IMAX 3D'},\n",
       "     {'time': ['9:40am', '12:20pm', '5:40pm', '8:20pm'], 'type': 'Standard'},\n",
       "     {'time': ['8:40am', '3:00pm', '4:35pm', '6:40pm', '8:40pm'],\n",
       "      'type': 'Standard'}]},\n",
       "   {'name': 'Detective Conan: The Bride Of Halloween',\n",
       "    'link': 'https://www.google.com/search?hl=en&gl=us&q=&si=AC1wQDAGEQiTPWsvhpPV4-xl97AcUfloRjKp4qat4I8-Kg1HxUvLo3gVdcM4Zhd-wA9e_tiTarn73YB7gitgsAIvryAGZHBRbil5g2wROM5AxMyDE6vDSRPBAep2rfWEllDRGgyzGiqiv7E42D0EC3gDacx6sheiV0yh8dIHrGFt6R1FIbc5ekvq_F0RP6jq-bVKYH_c5KVFPgo7V1ZYf58nD5O3YpGVpVey03b67UxqG8AVkWP124bz84avo7LBgTzrMwjG6htvM1C1YmNahkzcC4LMig79PA%3D%3D',\n",
       "    'showing': [{'time': ['10:30am',\n",
       "       '11:25am',\n",
       "       '12:55pm',\n",
       "       '2:10pm',\n",
       "       '3:20pm',\n",
       "       '4:35pm',\n",
       "       '7:00pm',\n",
       "       '8:10pm',\n",
       "       '9:25pm'],\n",
       "      'type': 'Standard'},\n",
       "     {'time': ['8:50am'], 'type': 'IMAX'}]},\n",
       "   {'name': 'Fantastic Beasts: The Secrets of Dumbledore',\n",
       "    'link': 'https://www.google.com/search?hl=en&gl=us&q=&si=AC1wQDAGEQiTPWsvhpPV4-xl97AcUfloRjKp4qat4I8-Kg1HxToG1fUDCzFoV9qNyABxtmi2MZsoHTDPMQ4tHmq4NvtOwYpNz96REEudP73sQK0wJIy2D83lob_11aA9DH1G21YwC_IcCzrcVlQS-oK8leZQ1Q2eYtup8fLC63OX4Vi1-WXgSIg1QDnhFnm-x41DJXxlYRnV-_v866rbvIIbssRjEWBsNMz5u6noj_vi4F3lfvj1-YvILAbuY6hf2Z58-9unQ3ktsfus4mYfyTaAiLZpx0-dAg%3D%3D',\n",
       "    'showing': [{'time': ['4:45pm'], 'type': 'IMAX'},\n",
       "     {'time': ['11:10am', '3:10pm', '8:25pm'], 'type': 'Standard'},\n",
       "     {'time': ['10:35am', '1:30pm', '5:50pm'], 'type': 'Standard'}]},\n",
       "   {'name': '劇場版ラジエーションハウス',\n",
       "    'link': 'https://www.google.com/search?hl=en&gl=us&q=&si=AC1wQDAGEQiTPWsvhpPV4-xl97AcUfloRjKp4qat4I8-Kg1HxdSWPSazo1k7_bkWdvqRhACJDr_gVhAiACEmBGWLk_I-LHDNN1dFs11hQYQhzQXiC3inVhHwRUGes6pWAp5LHsman5SciE2oM1Aw2pGSrPlSx2cvQDx7_BESx9IY8-mS5LvSwjIFVjYVq91jMIfToXooZqS11OOdTjofNhibdzF0N2HMHM0A_7SeZnZrX8B5qYs7p_mK0WszZ_B3WeAl1S7biDrCXZnwrtOt1dz3FDYrdeLnaA%3D%3D',\n",
       "    'showing': [{'time': ['10:45am', '1:20pm', '3:50pm', '6:20pm', '8:50pm'],\n",
       "      'type': 'Standard'}]},\n",
       "   {'name': 'Crayon Shin-chan: Mononoke Ninja Chinpūden',\n",
       "    'link': 'https://www.google.com/search?hl=en&gl=us&q=&si=AC1wQDAGEQiTPWsvhpPV4-xl97AcUfloRjKp4qat4I8-Kg1HxcYfLKw2cjvy4rxmZqX68DhEPAg2jVIDeDaX8WuECq2httymYvplIIE0Btc7Z0NBIQ3tbAwrzChY3Al4SRzs5leunIe4pOcuMOTnwEs5cXJrGo77955kD-y1VUxkScjhWkDyfreKIEwKqJvsC7nUD56S7lpIchC0LZYURqqYPyvEmAXGDE_dSdHRl_7av4tie-cfn9NYz5TyvOi-T-D0h7lHBaFC4leGutdr_EK4kwBapNuYEg%3D%3D',\n",
       "    'showing': [{'time': ['8:15am', '10:45am', '1:00pm', '3:15pm'],\n",
       "      'type': 'Standard'}]},\n",
       "   {'name': 'ホリック xxxHOLiC',\n",
       "    'link': 'https://www.google.com/search?hl=en&gl=us&q=&si=AC1wQDAGEQiTPWsvhpPV4-xl97AcUfloRjKp4qat4I8-Kg1HxSHDFSwx2683f1Yl2XtMJJzF5xcHG8Ta2I07Ko3WaEd8fej5g4xjtEhp6e7Khz7zN6dbO7mTY0I9ehaOGUP0okOhlbM041Z-4A_Zk3XaotPmXUftCyk69OpztJKWiKoixf8rFrhCrGgwIujg0X4Ul1dyA_1xg6KZyC0m38pzEDk4_3UZSkzFIbrO3TDUX5diCqqpUrncmCmRSbHseR0vuy_f0SzMv_r8GkWYS6__PdOQojBOeQ%3D%3D',\n",
       "    'showing': [{'time': ['8:50am', '12:50pm', '4:15pm', '7:15pm', '9:20pm'],\n",
       "      'type': 'Standard'}]},\n",
       "   {'name': 'Free! – the Final Stroke – the first volume',\n",
       "    'link': 'https://www.google.com/search?hl=en&gl=us&q=&si=AC1wQDAGEQiTPWsvhpPV4-xl97AcUfloRjKp4qat4I8-Kg1HxRqH3QdP9qtVnm8M1wEpSxupQrMz32byGvSDPHNL5IMZpHu_dOd5VP3ZoP-SitGpJqssivE0zY-ZjvYWZfTargCovjNvpZh9LR5B3zbVv68M1ECOEDJrtKEKzH2ZaPy0ORg_mKJIBBlU6N5TA7pAdBOzI2dzRP7J2N8ruckyDgXlxfFXJy42HhrLZMM_juIAbce6mxFG-UEbyga7K_Fd5M2W3Un-umXMBg8WaPFHLZ0qFCUKKQ%3D%3D',\n",
       "    'showing': [{'time': ['8:10am', '6:05pm', '9:35pm'], 'type': 'Standard'}]},\n",
       "   {'name': 'Sing 2',\n",
       "    'link': 'https://www.google.com/search?hl=en&gl=us&q=&si=AC1wQDAGEQiTPWsvhpPV4-xl97AcUfloRjKp4qat4I8-Kg1HxeE2N5MJ9cDAvfRJ-vTKs49yyU1F9AMfgC5xO6AunV5suN9ZEUoyglxTjLtUy3UjAjdG00Susc0reDUg06hqUfqKTUqIU3OcnbizAXVf2IKWCxDzVBiFAWZsk4ncgDoCkK237H3SoxeU-HqLRtlF3jueup8eGUAE1Xo0wIiZHBO40neojLjUUDvUEDYmRZDmdXQIXUCKuL4IIxyDP0oaiu7mBs5MNyRUV7-hCm2LfMcNv0XfAA%3D%3D',\n",
       "    'showing': [{'time': ['1:50pm'], 'type': 'Standard'}]},\n",
       "   {'name': 'Jujutsu Kaisen 0',\n",
       "    'link': 'https://www.google.com/search?hl=en&gl=us&q=&si=AC1wQDAGEQiTPWsvhpPV4-xl97AcUfloRjKp4qat4I8-Kg1HxYmedplKdB9u-mo2Ef8L1uLq2pHapE7lLZkPwn36c4dNyK9MN-hJJuhi6Gc2bCnlThZmMcMKMP7qLvbbooD3X3BjzVrWC2t8M5-8Xr56So2xOKO92HCbKNvoWzx2bRhGxOE0vCKpV2R7Avx052Z-EiaRydJua-5CP9CAuytSaA40jdFOseP_CGFqNP9uIQPg8DbEyaf9Ga1ai77B4k8DnxZ1Sh39nDWCzLD1RlB14joUrTV9-w%3D%3D',\n",
       "    'showing': [{'time': ['8:25am'], 'type': 'Standard'}]},\n",
       "   {'name': '余命10年',\n",
       "    'link': 'https://www.google.com/search?hl=en&gl=us&q=&si=AC1wQDAGEQiTPWsvhpPV4-xl97AcUfloRjKp4qat4I8-Kg1Hxf1lqhUApWsMXDIHDJG8aOETaefC4wJ2PdOhVFFzTA4w6DzS7D_1VgthW9m80QSowI840MoQ1_y1tw9YRexfsbM9IM35DRR8O_q0PSqD6Ku9WxHyF-t3wDmLktPLBnoe1y9VQ8aYbt047jcj0Aydcekp7q0aOEOSPwDh5F06p013-QVV2mU8js574wA6ylKy6RXhMPK99PtHHoMKlwtsQRWNQrZfrOQZQjNsgNdKULElVC-r7w%3D%3D',\n",
       "    'showing': [{'time': ['8:10am'], 'type': 'Standard'}]},\n",
       "   {'name': '映画 おそ松さん',\n",
       "    'link': 'https://www.google.com/search?hl=en&gl=us&q=&si=AC1wQDAGEQiTPWsvhpPV4-xl97AcUfloRjKp4qat4I8-Kg1HxXwZUpavb-ocyeOtfsRT3wRFqzGz2FApnKELKtCsS9uGx85W-ZJ1Zb6RR8jTGTqkwPCQ4EJsOH6zVTHi3mdAfAAqsfUiKZzXcGKcz89fh5z7bJ5J7r2-z6bVft1flCpNHo2IEkSsn6wjZfRUuBJYKgQAhrO6lCBBDWDRc40Agm9uRISBLacWGUA2VXVgxo1qybN7ZidIKtWAoJktGbcbheGspI_EM2rzphmxRqIsBMcJuyap1g%3D%3D',\n",
       "    'showing': [{'time': ['8:10am'], 'type': 'Standard'}]},\n",
       "   {'name': 'Tonbi',\n",
       "    'link': 'https://www.google.com/search?hl=en&gl=us&q=&si=AC1wQDAGEQiTPWsvhpPV4-xl97AcUfloRjKp4qat4I8-Kg1HxeIsYhSfl-N-6KRy7Gq7LOwGCrCeKh_aoFd_jsacD5z4p0UZ9VGTijnaCP_VblnUl8iPmr7dxe83R5OHECXoVS7JYi3WStjuv0rp_crIO3h27wQ1VQ-hfFK5Py12fgMfmNwKcbVkyUJMuv8PYFSaMRmzA_eTtOiIigVrkP88Y5nwgZvUChIH4aDi-cYR_PUbsnXlvq8E6onmC8dRPKQ2Ned5ZqMeiH9ieXHWZIDpXdRZ28A_lA%3D%3D',\n",
       "    'showing': [{'time': ['5:25pm'], 'type': 'Standard'}]},\n",
       "   {'name': \"C'mon C'mon\",\n",
       "    'link': 'https://www.google.com/search?hl=en&gl=us&q=&si=AC1wQDAGEQiTPWsvhpPV4-xl97AcUfloRjKp4qat4I8-Kg1HxR6_S1o0Xxkkf2vpYBJKU1OY14SCxkYD1GnpqHR2QeJnF4Shdthsk5wgnNNcOYrNS2k6dGyw73BlSWbKBtZqBJV9257Zaf8yewjg6xWiMsPM2-sm48teS1wvp6BgQ0YJwW6rfBee7NSOsYySzcBbgEi8iFLQRBa6Yxa5R_i-_ektaHVGtIaQIfG7XwtKnDgQIPJir-fJh66m0w8stqMcf6Sqy0h4ktYPXBMvLocOMCMZXCtEyw%3D%3D',\n",
       "    'showing': [{'time': ['10:25am'], 'type': 'Standard'}]}]}]"
      ]
     },
     "execution_count": 26,
     "metadata": {},
     "output_type": "execute_result"
    }
   ],
   "source": [
    "showtimes"
   ]
  },
  {
   "cell_type": "code",
   "execution_count": 27,
   "id": "5f3bc341",
   "metadata": {},
   "outputs": [
    {
     "data": {
      "text/plain": [
       "('Mon May 9', 'Thu May 12')"
      ]
     },
     "execution_count": 27,
     "metadata": {},
     "output_type": "execute_result"
    }
   ],
   "source": [
    "google.start_end(showtimes)"
   ]
  },
  {
   "cell_type": "code",
   "execution_count": 28,
   "id": "f1f7b2f5",
   "metadata": {},
   "outputs": [
    {
     "data": {
      "text/plain": [
       "{'9': ['Doctor Strange in the Multiverse of Madness',\n",
       "  'Detective Conan: The Bride Of Halloween',\n",
       "  'Fantastic Beasts: The Secrets of Dumbledore',\n",
       "  '劇場版ラジエーションハウス',\n",
       "  'ホリック xxxHOLiC',\n",
       "  'Free! – the Final Stroke – the first volume'],\n",
       " '10': ['Doctor Strange in the Multiverse of Madness',\n",
       "  'Detective Conan: The Bride Of Halloween',\n",
       "  'Fantastic Beasts: The Secrets of Dumbledore',\n",
       "  '劇場版ラジエーションハウス',\n",
       "  'Crayon Shin-chan: Mononoke Ninja Chinpūden',\n",
       "  'ホリック xxxHOLiC',\n",
       "  'Free! – the Final Stroke – the first volume',\n",
       "  'Sing 2',\n",
       "  'Jujutsu Kaisen 0',\n",
       "  '余命10年',\n",
       "  '映画 おそ松さん',\n",
       "  'Tonbi',\n",
       "  \"C'mon C'mon\"],\n",
       " '11': ['Doctor Strange in the Multiverse of Madness',\n",
       "  'Detective Conan: The Bride Of Halloween',\n",
       "  'Fantastic Beasts: The Secrets of Dumbledore',\n",
       "  '劇場版ラジエーションハウス',\n",
       "  'Crayon Shin-chan: Mononoke Ninja Chinpūden',\n",
       "  'ホリック xxxHOLiC',\n",
       "  'Free! – the Final Stroke – the first volume',\n",
       "  'Sing 2',\n",
       "  'Jujutsu Kaisen 0',\n",
       "  '余命10年',\n",
       "  '映画 おそ松さん',\n",
       "  'Tonbi',\n",
       "  \"C'mon C'mon\"],\n",
       " '12': ['Doctor Strange in the Multiverse of Madness',\n",
       "  'Detective Conan: The Bride Of Halloween',\n",
       "  'Fantastic Beasts: The Secrets of Dumbledore',\n",
       "  '劇場版ラジエーションハウス',\n",
       "  'Crayon Shin-chan: Mononoke Ninja Chinpūden',\n",
       "  'ホリック xxxHOLiC',\n",
       "  'Free! – the Final Stroke – the first volume',\n",
       "  'Sing 2',\n",
       "  'Jujutsu Kaisen 0',\n",
       "  '余命10年',\n",
       "  '映画 おそ松さん',\n",
       "  'Tonbi',\n",
       "  \"C'mon C'mon\"]}"
      ]
     },
     "execution_count": 28,
     "metadata": {},
     "output_type": "execute_result"
    }
   ],
   "source": [
    "google.movies_by_day(showtimes)"
   ]
  },
  {
   "cell_type": "code",
   "execution_count": 29,
   "id": "00aa319d",
   "metadata": {},
   "outputs": [
    {
     "data": {
      "text/plain": [
       "['Doctor Strange in the Multiverse of Madness',\n",
       " 'Fantastic Beasts: The Secrets of Dumbledore',\n",
       " 'ホリック xxxHOLiC',\n",
       " '劇場版ラジエーションハウス',\n",
       " 'Jujutsu Kaisen 0',\n",
       " '余命10年',\n",
       " 'Sing 2',\n",
       " \"C'mon C'mon\",\n",
       " 'Tonbi',\n",
       " 'Free! – the Final Stroke – the first volume',\n",
       " 'Detective Conan: The Bride Of Halloween',\n",
       " 'Crayon Shin-chan: Mononoke Ninja Chinpūden',\n",
       " '映画 おそ松さん']"
      ]
     },
     "execution_count": 29,
     "metadata": {},
     "output_type": "execute_result"
    }
   ],
   "source": [
    "google.movie_list(showtimes)"
   ]
  },
  {
   "cell_type": "code",
   "execution_count": 30,
   "id": "ee9b53a0",
   "metadata": {},
   "outputs": [],
   "source": [
    "#dict to dataframe\n",
    "def mbd_to_df(mbd):\n",
    "    maxlength = max([len(movies) for movies in mbd.values()])\n",
    "    for key in mbd.keys():\n",
    "        while len(mbd[key]) < maxlength:\n",
    "            mbd[key].append('-')\n",
    "    return pd.DataFrame(mbd)"
   ]
  },
  {
   "cell_type": "markdown",
   "id": "0499aaf9",
   "metadata": {},
   "source": [
    "### United Urawa"
   ]
  },
  {
   "cell_type": "code",
   "execution_count": 31,
   "id": "5c4b4a48",
   "metadata": {},
   "outputs": [],
   "source": [
    "unitedquery = 'united cinemas urawa'"
   ]
  },
  {
   "cell_type": "code",
   "execution_count": 32,
   "id": "32733394",
   "metadata": {},
   "outputs": [
    {
     "name": "stdout",
     "output_type": "stream",
     "text": [
      "Response :200\n"
     ]
    }
   ],
   "source": [
    "ust = google.search(unitedquery)"
   ]
  },
  {
   "cell_type": "code",
   "execution_count": 33,
   "id": "ae9d17bf",
   "metadata": {},
   "outputs": [
    {
     "data": {
      "text/plain": [
       "['Doctor Strange in the Multiverse of Madness',\n",
       " 'Fantastic Beasts: The Secrets of Dumbledore',\n",
       " 'ホリック xxxHOLiC',\n",
       " '劇場版ラジエーションハウス',\n",
       " 'Jujutsu Kaisen 0',\n",
       " '余命10年',\n",
       " 'Sing 2',\n",
       " \"C'mon C'mon\",\n",
       " 'Tonbi',\n",
       " 'Free! – the Final Stroke – the first volume',\n",
       " 'Detective Conan: The Bride Of Halloween',\n",
       " 'Crayon Shin-chan: Mononoke Ninja Chinpūden',\n",
       " '映画 おそ松さん']"
      ]
     },
     "execution_count": 33,
     "metadata": {},
     "output_type": "execute_result"
    }
   ],
   "source": [
    "google.movie_list(ust)"
   ]
  },
  {
   "cell_type": "code",
   "execution_count": 34,
   "id": "f936ec7f",
   "metadata": {},
   "outputs": [
    {
     "data": {
      "text/plain": [
       "{'9': ['Doctor Strange in the Multiverse of Madness',\n",
       "  'Detective Conan: The Bride Of Halloween',\n",
       "  'Fantastic Beasts: The Secrets of Dumbledore',\n",
       "  '劇場版ラジエーションハウス',\n",
       "  'ホリック xxxHOLiC',\n",
       "  'Free! – the Final Stroke – the first volume'],\n",
       " '10': ['Doctor Strange in the Multiverse of Madness',\n",
       "  'Detective Conan: The Bride Of Halloween',\n",
       "  'Fantastic Beasts: The Secrets of Dumbledore',\n",
       "  '劇場版ラジエーションハウス',\n",
       "  'Crayon Shin-chan: Mononoke Ninja Chinpūden',\n",
       "  'ホリック xxxHOLiC',\n",
       "  'Free! – the Final Stroke – the first volume',\n",
       "  'Sing 2',\n",
       "  'Jujutsu Kaisen 0',\n",
       "  '余命10年',\n",
       "  '映画 おそ松さん',\n",
       "  'Tonbi',\n",
       "  \"C'mon C'mon\"],\n",
       " '11': ['Doctor Strange in the Multiverse of Madness',\n",
       "  'Detective Conan: The Bride Of Halloween',\n",
       "  'Fantastic Beasts: The Secrets of Dumbledore',\n",
       "  '劇場版ラジエーションハウス',\n",
       "  'Crayon Shin-chan: Mononoke Ninja Chinpūden',\n",
       "  'ホリック xxxHOLiC',\n",
       "  'Free! – the Final Stroke – the first volume',\n",
       "  'Sing 2',\n",
       "  'Jujutsu Kaisen 0',\n",
       "  '余命10年',\n",
       "  '映画 おそ松さん',\n",
       "  'Tonbi',\n",
       "  \"C'mon C'mon\"],\n",
       " '12': ['Doctor Strange in the Multiverse of Madness',\n",
       "  'Detective Conan: The Bride Of Halloween',\n",
       "  'Fantastic Beasts: The Secrets of Dumbledore',\n",
       "  '劇場版ラジエーションハウス',\n",
       "  'Crayon Shin-chan: Mononoke Ninja Chinpūden',\n",
       "  'ホリック xxxHOLiC',\n",
       "  'Free! – the Final Stroke – the first volume',\n",
       "  'Sing 2',\n",
       "  'Jujutsu Kaisen 0',\n",
       "  '余命10年',\n",
       "  '映画 おそ松さん',\n",
       "  'Tonbi',\n",
       "  \"C'mon C'mon\"]}"
      ]
     },
     "execution_count": 34,
     "metadata": {},
     "output_type": "execute_result"
    }
   ],
   "source": [
    "google.movies_by_day(ust)"
   ]
  },
  {
   "cell_type": "code",
   "execution_count": 35,
   "id": "bdf23008",
   "metadata": {},
   "outputs": [],
   "source": [
    "umbd = google.movies_by_day(ust)"
   ]
  },
  {
   "cell_type": "code",
   "execution_count": 36,
   "id": "f147e351",
   "metadata": {},
   "outputs": [
    {
     "data": {
      "text/html": [
       "<div>\n",
       "<style scoped>\n",
       "    .dataframe tbody tr th:only-of-type {\n",
       "        vertical-align: middle;\n",
       "    }\n",
       "\n",
       "    .dataframe tbody tr th {\n",
       "        vertical-align: top;\n",
       "    }\n",
       "\n",
       "    .dataframe thead th {\n",
       "        text-align: right;\n",
       "    }\n",
       "</style>\n",
       "<table border=\"1\" class=\"dataframe\">\n",
       "  <thead>\n",
       "    <tr style=\"text-align: right;\">\n",
       "      <th></th>\n",
       "      <th>9</th>\n",
       "      <th>10</th>\n",
       "      <th>11</th>\n",
       "      <th>12</th>\n",
       "    </tr>\n",
       "  </thead>\n",
       "  <tbody>\n",
       "    <tr>\n",
       "      <th>0</th>\n",
       "      <td>Doctor Strange in the Multiverse of Madness</td>\n",
       "      <td>Doctor Strange in the Multiverse of Madness</td>\n",
       "      <td>Doctor Strange in the Multiverse of Madness</td>\n",
       "      <td>Doctor Strange in the Multiverse of Madness</td>\n",
       "    </tr>\n",
       "    <tr>\n",
       "      <th>1</th>\n",
       "      <td>Detective Conan: The Bride Of Halloween</td>\n",
       "      <td>Detective Conan: The Bride Of Halloween</td>\n",
       "      <td>Detective Conan: The Bride Of Halloween</td>\n",
       "      <td>Detective Conan: The Bride Of Halloween</td>\n",
       "    </tr>\n",
       "    <tr>\n",
       "      <th>2</th>\n",
       "      <td>Fantastic Beasts: The Secrets of Dumbledore</td>\n",
       "      <td>Fantastic Beasts: The Secrets of Dumbledore</td>\n",
       "      <td>Fantastic Beasts: The Secrets of Dumbledore</td>\n",
       "      <td>Fantastic Beasts: The Secrets of Dumbledore</td>\n",
       "    </tr>\n",
       "    <tr>\n",
       "      <th>3</th>\n",
       "      <td>劇場版ラジエーションハウス</td>\n",
       "      <td>劇場版ラジエーションハウス</td>\n",
       "      <td>劇場版ラジエーションハウス</td>\n",
       "      <td>劇場版ラジエーションハウス</td>\n",
       "    </tr>\n",
       "    <tr>\n",
       "      <th>4</th>\n",
       "      <td>ホリック xxxHOLiC</td>\n",
       "      <td>Crayon Shin-chan: Mononoke Ninja Chinpūden</td>\n",
       "      <td>Crayon Shin-chan: Mononoke Ninja Chinpūden</td>\n",
       "      <td>Crayon Shin-chan: Mononoke Ninja Chinpūden</td>\n",
       "    </tr>\n",
       "    <tr>\n",
       "      <th>5</th>\n",
       "      <td>Free! – the Final Stroke – the first volume</td>\n",
       "      <td>ホリック xxxHOLiC</td>\n",
       "      <td>ホリック xxxHOLiC</td>\n",
       "      <td>ホリック xxxHOLiC</td>\n",
       "    </tr>\n",
       "    <tr>\n",
       "      <th>6</th>\n",
       "      <td>-</td>\n",
       "      <td>Free! – the Final Stroke – the first volume</td>\n",
       "      <td>Free! – the Final Stroke – the first volume</td>\n",
       "      <td>Free! – the Final Stroke – the first volume</td>\n",
       "    </tr>\n",
       "    <tr>\n",
       "      <th>7</th>\n",
       "      <td>-</td>\n",
       "      <td>Sing 2</td>\n",
       "      <td>Sing 2</td>\n",
       "      <td>Sing 2</td>\n",
       "    </tr>\n",
       "    <tr>\n",
       "      <th>8</th>\n",
       "      <td>-</td>\n",
       "      <td>Jujutsu Kaisen 0</td>\n",
       "      <td>Jujutsu Kaisen 0</td>\n",
       "      <td>Jujutsu Kaisen 0</td>\n",
       "    </tr>\n",
       "    <tr>\n",
       "      <th>9</th>\n",
       "      <td>-</td>\n",
       "      <td>余命10年</td>\n",
       "      <td>余命10年</td>\n",
       "      <td>余命10年</td>\n",
       "    </tr>\n",
       "    <tr>\n",
       "      <th>10</th>\n",
       "      <td>-</td>\n",
       "      <td>映画 おそ松さん</td>\n",
       "      <td>映画 おそ松さん</td>\n",
       "      <td>映画 おそ松さん</td>\n",
       "    </tr>\n",
       "    <tr>\n",
       "      <th>11</th>\n",
       "      <td>-</td>\n",
       "      <td>Tonbi</td>\n",
       "      <td>Tonbi</td>\n",
       "      <td>Tonbi</td>\n",
       "    </tr>\n",
       "    <tr>\n",
       "      <th>12</th>\n",
       "      <td>-</td>\n",
       "      <td>C'mon C'mon</td>\n",
       "      <td>C'mon C'mon</td>\n",
       "      <td>C'mon C'mon</td>\n",
       "    </tr>\n",
       "  </tbody>\n",
       "</table>\n",
       "</div>"
      ],
      "text/plain": [
       "                                              9  \\\n",
       "0   Doctor Strange in the Multiverse of Madness   \n",
       "1       Detective Conan: The Bride Of Halloween   \n",
       "2   Fantastic Beasts: The Secrets of Dumbledore   \n",
       "3                                 劇場版ラジエーションハウス   \n",
       "4                                 ホリック xxxHOLiC   \n",
       "5   Free! – the Final Stroke – the first volume   \n",
       "6                                             -   \n",
       "7                                             -   \n",
       "8                                             -   \n",
       "9                                             -   \n",
       "10                                            -   \n",
       "11                                            -   \n",
       "12                                            -   \n",
       "\n",
       "                                             10  \\\n",
       "0   Doctor Strange in the Multiverse of Madness   \n",
       "1       Detective Conan: The Bride Of Halloween   \n",
       "2   Fantastic Beasts: The Secrets of Dumbledore   \n",
       "3                                 劇場版ラジエーションハウス   \n",
       "4    Crayon Shin-chan: Mononoke Ninja Chinpūden   \n",
       "5                                 ホリック xxxHOLiC   \n",
       "6   Free! – the Final Stroke – the first volume   \n",
       "7                                        Sing 2   \n",
       "8                              Jujutsu Kaisen 0   \n",
       "9                                         余命10年   \n",
       "10                                     映画 おそ松さん   \n",
       "11                                        Tonbi   \n",
       "12                                  C'mon C'mon   \n",
       "\n",
       "                                             11  \\\n",
       "0   Doctor Strange in the Multiverse of Madness   \n",
       "1       Detective Conan: The Bride Of Halloween   \n",
       "2   Fantastic Beasts: The Secrets of Dumbledore   \n",
       "3                                 劇場版ラジエーションハウス   \n",
       "4    Crayon Shin-chan: Mononoke Ninja Chinpūden   \n",
       "5                                 ホリック xxxHOLiC   \n",
       "6   Free! – the Final Stroke – the first volume   \n",
       "7                                        Sing 2   \n",
       "8                              Jujutsu Kaisen 0   \n",
       "9                                         余命10年   \n",
       "10                                     映画 おそ松さん   \n",
       "11                                        Tonbi   \n",
       "12                                  C'mon C'mon   \n",
       "\n",
       "                                             12  \n",
       "0   Doctor Strange in the Multiverse of Madness  \n",
       "1       Detective Conan: The Bride Of Halloween  \n",
       "2   Fantastic Beasts: The Secrets of Dumbledore  \n",
       "3                                 劇場版ラジエーションハウス  \n",
       "4    Crayon Shin-chan: Mononoke Ninja Chinpūden  \n",
       "5                                 ホリック xxxHOLiC  \n",
       "6   Free! – the Final Stroke – the first volume  \n",
       "7                                        Sing 2  \n",
       "8                              Jujutsu Kaisen 0  \n",
       "9                                         余命10年  \n",
       "10                                     映画 おそ松さん  \n",
       "11                                        Tonbi  \n",
       "12                                  C'mon C'mon  "
      ]
     },
     "execution_count": 36,
     "metadata": {},
     "output_type": "execute_result"
    }
   ],
   "source": [
    "mbd_to_df(umbd)"
   ]
  },
  {
   "cell_type": "markdown",
   "id": "e89a15d3",
   "metadata": {},
   "source": [
    "### Movix Saitama"
   ]
  },
  {
   "cell_type": "code",
   "execution_count": 37,
   "id": "89833f19",
   "metadata": {},
   "outputs": [],
   "source": [
    "movixquery = 'movix saitama'"
   ]
  },
  {
   "cell_type": "code",
   "execution_count": 38,
   "id": "0af53733",
   "metadata": {},
   "outputs": [
    {
     "name": "stdout",
     "output_type": "stream",
     "text": [
      "Response :200\n"
     ]
    }
   ],
   "source": [
    "mst = google.search(movixquery)"
   ]
  },
  {
   "cell_type": "code",
   "execution_count": 39,
   "id": "496ca197",
   "metadata": {},
   "outputs": [],
   "source": [
    "mmbd = google.movies_by_day(mst)"
   ]
  },
  {
   "cell_type": "code",
   "execution_count": 40,
   "id": "7f842fbe",
   "metadata": {},
   "outputs": [
    {
     "data": {
      "text/html": [
       "<div>\n",
       "<style scoped>\n",
       "    .dataframe tbody tr th:only-of-type {\n",
       "        vertical-align: middle;\n",
       "    }\n",
       "\n",
       "    .dataframe tbody tr th {\n",
       "        vertical-align: top;\n",
       "    }\n",
       "\n",
       "    .dataframe thead th {\n",
       "        text-align: right;\n",
       "    }\n",
       "</style>\n",
       "<table border=\"1\" class=\"dataframe\">\n",
       "  <thead>\n",
       "    <tr style=\"text-align: right;\">\n",
       "      <th></th>\n",
       "      <th>9</th>\n",
       "      <th>10</th>\n",
       "      <th>11</th>\n",
       "      <th>12</th>\n",
       "    </tr>\n",
       "  </thead>\n",
       "  <tbody>\n",
       "    <tr>\n",
       "      <th>0</th>\n",
       "      <td>Doctor Strange in the Multiverse of Madness</td>\n",
       "      <td>Doctor Strange in the Multiverse of Madness</td>\n",
       "      <td>Doctor Strange in the Multiverse of Madness</td>\n",
       "      <td>Doctor Strange in the Multiverse of Madness</td>\n",
       "    </tr>\n",
       "    <tr>\n",
       "      <th>1</th>\n",
       "      <td>Detective Conan: The Bride Of Halloween</td>\n",
       "      <td>Detective Conan: The Bride Of Halloween</td>\n",
       "      <td>Detective Conan: The Bride Of Halloween</td>\n",
       "      <td>Detective Conan: The Bride Of Halloween</td>\n",
       "    </tr>\n",
       "    <tr>\n",
       "      <th>2</th>\n",
       "      <td>Fantastic Beasts: The Secrets of Dumbledore</td>\n",
       "      <td>Fantastic Beasts: The Secrets of Dumbledore</td>\n",
       "      <td>Fantastic Beasts: The Secrets of Dumbledore</td>\n",
       "      <td>Fantastic Beasts: The Secrets of Dumbledore</td>\n",
       "    </tr>\n",
       "    <tr>\n",
       "      <th>3</th>\n",
       "      <td>劇場版ラジエーションハウス</td>\n",
       "      <td>劇場版ラジエーションハウス</td>\n",
       "      <td>劇場版ラジエーションハウス</td>\n",
       "      <td>劇場版ラジエーションハウス</td>\n",
       "    </tr>\n",
       "    <tr>\n",
       "      <th>4</th>\n",
       "      <td>ホリック xxxHOLiC</td>\n",
       "      <td>Crayon Shin-chan: Mononoke Ninja Chinpūden</td>\n",
       "      <td>Crayon Shin-chan: Mononoke Ninja Chinpūden</td>\n",
       "      <td>Crayon Shin-chan: Mononoke Ninja Chinpūden</td>\n",
       "    </tr>\n",
       "    <tr>\n",
       "      <th>5</th>\n",
       "      <td>死刑にいたる病</td>\n",
       "      <td>ホリック xxxHOLiC</td>\n",
       "      <td>ホリック xxxHOLiC</td>\n",
       "      <td>ホリック xxxHOLiC</td>\n",
       "    </tr>\n",
       "    <tr>\n",
       "      <th>6</th>\n",
       "      <td>Free! – the Final Stroke – the first volume</td>\n",
       "      <td>死刑にいたる病</td>\n",
       "      <td>死刑にいたる病</td>\n",
       "      <td>死刑にいたる病</td>\n",
       "    </tr>\n",
       "    <tr>\n",
       "      <th>7</th>\n",
       "      <td>映画 おそ松さん</td>\n",
       "      <td>Free! – the Final Stroke – the first volume</td>\n",
       "      <td>Free! – the Final Stroke – the first volume</td>\n",
       "      <td>Free! – the Final Stroke – the first volume</td>\n",
       "    </tr>\n",
       "    <tr>\n",
       "      <th>8</th>\n",
       "      <td>Tonbi</td>\n",
       "      <td>Sing 2</td>\n",
       "      <td>Sing 2</td>\n",
       "      <td>Sing 2</td>\n",
       "    </tr>\n",
       "    <tr>\n",
       "      <th>9</th>\n",
       "      <td>My Salinger Year</td>\n",
       "      <td>Jujutsu Kaisen 0</td>\n",
       "      <td>Jujutsu Kaisen 0</td>\n",
       "      <td>Jujutsu Kaisen 0</td>\n",
       "    </tr>\n",
       "    <tr>\n",
       "      <th>10</th>\n",
       "      <td>パリ13区</td>\n",
       "      <td>余命10年</td>\n",
       "      <td>余命10年</td>\n",
       "      <td>余命10年</td>\n",
       "    </tr>\n",
       "    <tr>\n",
       "      <th>11</th>\n",
       "      <td>-</td>\n",
       "      <td>映画 おそ松さん</td>\n",
       "      <td>映画 おそ松さん</td>\n",
       "      <td>映画 おそ松さん</td>\n",
       "    </tr>\n",
       "    <tr>\n",
       "      <th>12</th>\n",
       "      <td>-</td>\n",
       "      <td>SEVENTEEN POWER OF LOVE : THE MOVIE</td>\n",
       "      <td>SEVENTEEN POWER OF LOVE : THE MOVIE</td>\n",
       "      <td>SEVENTEEN POWER OF LOVE : THE MOVIE</td>\n",
       "    </tr>\n",
       "    <tr>\n",
       "      <th>13</th>\n",
       "      <td>-</td>\n",
       "      <td>Doraemon: Nobita's Little Star Wars 2021</td>\n",
       "      <td>Doraemon: Nobita's Little Star Wars 2021</td>\n",
       "      <td>Doraemon: Nobita's Little Star Wars 2021</td>\n",
       "    </tr>\n",
       "    <tr>\n",
       "      <th>14</th>\n",
       "      <td>-</td>\n",
       "      <td>Tonbi</td>\n",
       "      <td>Tonbi</td>\n",
       "      <td>Tonbi</td>\n",
       "    </tr>\n",
       "    <tr>\n",
       "      <th>15</th>\n",
       "      <td>-</td>\n",
       "      <td>チェリまほ THE MOVIE ～３０歳まで童貞だと魔法使いになれるらしい～</td>\n",
       "      <td>チェリまほ THE MOVIE ～３０歳まで童貞だと魔法使いになれるらしい～</td>\n",
       "      <td>チェリまほ THE MOVIE ～３０歳まで童貞だと魔法使いになれるらしい～</td>\n",
       "    </tr>\n",
       "    <tr>\n",
       "      <th>16</th>\n",
       "      <td>-</td>\n",
       "      <td>Chernobyl: Abyss</td>\n",
       "      <td>Chernobyl: Abyss</td>\n",
       "      <td>Chernobyl: Abyss</td>\n",
       "    </tr>\n",
       "    <tr>\n",
       "      <th>17</th>\n",
       "      <td>-</td>\n",
       "      <td>My Salinger Year</td>\n",
       "      <td>My Salinger Year</td>\n",
       "      <td>My Salinger Year</td>\n",
       "    </tr>\n",
       "    <tr>\n",
       "      <th>18</th>\n",
       "      <td>-</td>\n",
       "      <td>Kikai Sentai Zenkaiger vs. Kiramager vs. Senpa...</td>\n",
       "      <td>Kikai Sentai Zenkaiger vs. Kiramager vs. Senpa...</td>\n",
       "      <td>Kikai Sentai Zenkaiger vs. Kiramager vs. Senpa...</td>\n",
       "    </tr>\n",
       "    <tr>\n",
       "      <th>19</th>\n",
       "      <td>-</td>\n",
       "      <td>劇場版 舞台『刀剣乱舞』无伝 夕紅の士 -大坂夏の陣-</td>\n",
       "      <td>劇場版 舞台『刀剣乱舞』无伝 夕紅の士 -大坂夏の陣-</td>\n",
       "      <td>劇場版 舞台『刀剣乱舞』无伝 夕紅の士 -大坂夏の陣-</td>\n",
       "    </tr>\n",
       "    <tr>\n",
       "      <th>20</th>\n",
       "      <td>-</td>\n",
       "      <td>劇場版 RE:cycle of the PENGUINDRUM ［前編］君の列車は生存戦略</td>\n",
       "      <td>劇場版 RE:cycle of the PENGUINDRUM ［前編］君の列車は生存戦略</td>\n",
       "      <td>劇場版 RE:cycle of the PENGUINDRUM ［前編］君の列車は生存戦略</td>\n",
       "    </tr>\n",
       "    <tr>\n",
       "      <th>21</th>\n",
       "      <td>-</td>\n",
       "      <td>Marry Me</td>\n",
       "      <td>Marry Me</td>\n",
       "      <td>Marry Me</td>\n",
       "    </tr>\n",
       "    <tr>\n",
       "      <th>22</th>\n",
       "      <td>-</td>\n",
       "      <td>《シネマ歌舞伎》桜姫東文章 下の巻</td>\n",
       "      <td>《シネマ歌舞伎》桜姫東文章 下の巻</td>\n",
       "      <td>《シネマ歌舞伎》桜姫東文章 下の巻</td>\n",
       "    </tr>\n",
       "    <tr>\n",
       "      <th>23</th>\n",
       "      <td>-</td>\n",
       "      <td>東西ジャニーズJr. ぼくらのサバイバルウォーズ</td>\n",
       "      <td>東西ジャニーズJr. ぼくらのサバイバルウォーズ</td>\n",
       "      <td>東西ジャニーズJr. ぼくらのサバイバルウォーズ</td>\n",
       "    </tr>\n",
       "    <tr>\n",
       "      <th>24</th>\n",
       "      <td>-</td>\n",
       "      <td>パリ13区</td>\n",
       "      <td>パリ13区</td>\n",
       "      <td>パリ13区</td>\n",
       "    </tr>\n",
       "  </tbody>\n",
       "</table>\n",
       "</div>"
      ],
      "text/plain": [
       "                                              9  \\\n",
       "0   Doctor Strange in the Multiverse of Madness   \n",
       "1       Detective Conan: The Bride Of Halloween   \n",
       "2   Fantastic Beasts: The Secrets of Dumbledore   \n",
       "3                                 劇場版ラジエーションハウス   \n",
       "4                                 ホリック xxxHOLiC   \n",
       "5                                       死刑にいたる病   \n",
       "6   Free! – the Final Stroke – the first volume   \n",
       "7                                      映画 おそ松さん   \n",
       "8                                         Tonbi   \n",
       "9                              My Salinger Year   \n",
       "10                                        パリ13区   \n",
       "11                                            -   \n",
       "12                                            -   \n",
       "13                                            -   \n",
       "14                                            -   \n",
       "15                                            -   \n",
       "16                                            -   \n",
       "17                                            -   \n",
       "18                                            -   \n",
       "19                                            -   \n",
       "20                                            -   \n",
       "21                                            -   \n",
       "22                                            -   \n",
       "23                                            -   \n",
       "24                                            -   \n",
       "\n",
       "                                                   10  \\\n",
       "0         Doctor Strange in the Multiverse of Madness   \n",
       "1             Detective Conan: The Bride Of Halloween   \n",
       "2         Fantastic Beasts: The Secrets of Dumbledore   \n",
       "3                                       劇場版ラジエーションハウス   \n",
       "4          Crayon Shin-chan: Mononoke Ninja Chinpūden   \n",
       "5                                       ホリック xxxHOLiC   \n",
       "6                                             死刑にいたる病   \n",
       "7         Free! – the Final Stroke – the first volume   \n",
       "8                                              Sing 2   \n",
       "9                                    Jujutsu Kaisen 0   \n",
       "10                                              余命10年   \n",
       "11                                           映画 おそ松さん   \n",
       "12                SEVENTEEN POWER OF LOVE : THE MOVIE   \n",
       "13           Doraemon: Nobita's Little Star Wars 2021   \n",
       "14                                              Tonbi   \n",
       "15             チェリまほ THE MOVIE ～３０歳まで童貞だと魔法使いになれるらしい～   \n",
       "16                                   Chernobyl: Abyss   \n",
       "17                                   My Salinger Year   \n",
       "18  Kikai Sentai Zenkaiger vs. Kiramager vs. Senpa...   \n",
       "19                        劇場版 舞台『刀剣乱舞』无伝 夕紅の士 -大坂夏の陣-   \n",
       "20      劇場版 RE:cycle of the PENGUINDRUM ［前編］君の列車は生存戦略   \n",
       "21                                           Marry Me   \n",
       "22                                  《シネマ歌舞伎》桜姫東文章 下の巻   \n",
       "23                           東西ジャニーズJr. ぼくらのサバイバルウォーズ   \n",
       "24                                              パリ13区   \n",
       "\n",
       "                                                   11  \\\n",
       "0         Doctor Strange in the Multiverse of Madness   \n",
       "1             Detective Conan: The Bride Of Halloween   \n",
       "2         Fantastic Beasts: The Secrets of Dumbledore   \n",
       "3                                       劇場版ラジエーションハウス   \n",
       "4          Crayon Shin-chan: Mononoke Ninja Chinpūden   \n",
       "5                                       ホリック xxxHOLiC   \n",
       "6                                             死刑にいたる病   \n",
       "7         Free! – the Final Stroke – the first volume   \n",
       "8                                              Sing 2   \n",
       "9                                    Jujutsu Kaisen 0   \n",
       "10                                              余命10年   \n",
       "11                                           映画 おそ松さん   \n",
       "12                SEVENTEEN POWER OF LOVE : THE MOVIE   \n",
       "13           Doraemon: Nobita's Little Star Wars 2021   \n",
       "14                                              Tonbi   \n",
       "15             チェリまほ THE MOVIE ～３０歳まで童貞だと魔法使いになれるらしい～   \n",
       "16                                   Chernobyl: Abyss   \n",
       "17                                   My Salinger Year   \n",
       "18  Kikai Sentai Zenkaiger vs. Kiramager vs. Senpa...   \n",
       "19                        劇場版 舞台『刀剣乱舞』无伝 夕紅の士 -大坂夏の陣-   \n",
       "20      劇場版 RE:cycle of the PENGUINDRUM ［前編］君の列車は生存戦略   \n",
       "21                                           Marry Me   \n",
       "22                                  《シネマ歌舞伎》桜姫東文章 下の巻   \n",
       "23                           東西ジャニーズJr. ぼくらのサバイバルウォーズ   \n",
       "24                                              パリ13区   \n",
       "\n",
       "                                                   12  \n",
       "0         Doctor Strange in the Multiverse of Madness  \n",
       "1             Detective Conan: The Bride Of Halloween  \n",
       "2         Fantastic Beasts: The Secrets of Dumbledore  \n",
       "3                                       劇場版ラジエーションハウス  \n",
       "4          Crayon Shin-chan: Mononoke Ninja Chinpūden  \n",
       "5                                       ホリック xxxHOLiC  \n",
       "6                                             死刑にいたる病  \n",
       "7         Free! – the Final Stroke – the first volume  \n",
       "8                                              Sing 2  \n",
       "9                                    Jujutsu Kaisen 0  \n",
       "10                                              余命10年  \n",
       "11                                           映画 おそ松さん  \n",
       "12                SEVENTEEN POWER OF LOVE : THE MOVIE  \n",
       "13           Doraemon: Nobita's Little Star Wars 2021  \n",
       "14                                              Tonbi  \n",
       "15             チェリまほ THE MOVIE ～３０歳まで童貞だと魔法使いになれるらしい～  \n",
       "16                                   Chernobyl: Abyss  \n",
       "17                                   My Salinger Year  \n",
       "18  Kikai Sentai Zenkaiger vs. Kiramager vs. Senpa...  \n",
       "19                        劇場版 舞台『刀剣乱舞』无伝 夕紅の士 -大坂夏の陣-  \n",
       "20      劇場版 RE:cycle of the PENGUINDRUM ［前編］君の列車は生存戦略  \n",
       "21                                           Marry Me  \n",
       "22                                  《シネマ歌舞伎》桜姫東文章 下の巻  \n",
       "23                           東西ジャニーズJr. ぼくらのサバイバルウォーズ  \n",
       "24                                              パリ13区  "
      ]
     },
     "execution_count": 40,
     "metadata": {},
     "output_type": "execute_result"
    }
   ],
   "source": [
    "mbd_to_df(mmbd)"
   ]
  },
  {
   "cell_type": "markdown",
   "id": "f5303f1a",
   "metadata": {},
   "source": [
    "### Toho Fujimi"
   ]
  },
  {
   "cell_type": "code",
   "execution_count": 41,
   "id": "faa58e51",
   "metadata": {},
   "outputs": [],
   "source": [
    "tohoquery = 'toho cinema lalaport fujimi'"
   ]
  },
  {
   "cell_type": "code",
   "execution_count": 42,
   "id": "c23a8884",
   "metadata": {},
   "outputs": [
    {
     "name": "stdout",
     "output_type": "stream",
     "text": [
      "Response :200\n"
     ]
    }
   ],
   "source": [
    "tst = google.search(tohoquery)"
   ]
  },
  {
   "cell_type": "code",
   "execution_count": 43,
   "id": "5d1e9070",
   "metadata": {},
   "outputs": [
    {
     "data": {
      "text/plain": [
       "['Doctor Strange in the Multiverse of Madness',\n",
       " 'Fantastic Beasts: The Secrets of Dumbledore',\n",
       " 'ホリック xxxHOLiC',\n",
       " '劇場版ラジエーションハウス',\n",
       " 'Jujutsu Kaisen 0',\n",
       " '劇場版 舞台『刀剣乱舞』无伝 夕紅の士 -大坂夏の陣-',\n",
       " 'チェリまほ THE MOVIE ～３０歳まで童貞だと魔法使いになれるらしい～',\n",
       " 'Sing 2',\n",
       " 'Free! – the Final Stroke – the first volume',\n",
       " 'Detective Conan: The Bride Of Halloween',\n",
       " 'Two for the Road',\n",
       " 'Crayon Shin-chan: Mononoke Ninja Chinpūden',\n",
       " '映画 おそ松さん',\n",
       " \"Doraemon: Nobita's Little Star Wars 2021\"]"
      ]
     },
     "execution_count": 43,
     "metadata": {},
     "output_type": "execute_result"
    }
   ],
   "source": [
    "google.movie_list(tst)"
   ]
  },
  {
   "cell_type": "code",
   "execution_count": 44,
   "id": "f4082f88",
   "metadata": {},
   "outputs": [],
   "source": [
    "tmbd = google.movies_by_day(tst)"
   ]
  },
  {
   "cell_type": "code",
   "execution_count": 45,
   "id": "07de229b",
   "metadata": {},
   "outputs": [
    {
     "data": {
      "text/html": [
       "<div>\n",
       "<style scoped>\n",
       "    .dataframe tbody tr th:only-of-type {\n",
       "        vertical-align: middle;\n",
       "    }\n",
       "\n",
       "    .dataframe tbody tr th {\n",
       "        vertical-align: top;\n",
       "    }\n",
       "\n",
       "    .dataframe thead th {\n",
       "        text-align: right;\n",
       "    }\n",
       "</style>\n",
       "<table border=\"1\" class=\"dataframe\">\n",
       "  <thead>\n",
       "    <tr style=\"text-align: right;\">\n",
       "      <th></th>\n",
       "      <th>9</th>\n",
       "      <th>10</th>\n",
       "      <th>11</th>\n",
       "      <th>12</th>\n",
       "    </tr>\n",
       "  </thead>\n",
       "  <tbody>\n",
       "    <tr>\n",
       "      <th>0</th>\n",
       "      <td>Doctor Strange in the Multiverse of Madness</td>\n",
       "      <td>Doctor Strange in the Multiverse of Madness</td>\n",
       "      <td>Doctor Strange in the Multiverse of Madness</td>\n",
       "      <td>Doctor Strange in the Multiverse of Madness</td>\n",
       "    </tr>\n",
       "    <tr>\n",
       "      <th>1</th>\n",
       "      <td>Detective Conan: The Bride Of Halloween</td>\n",
       "      <td>Detective Conan: The Bride Of Halloween</td>\n",
       "      <td>Detective Conan: The Bride Of Halloween</td>\n",
       "      <td>Detective Conan: The Bride Of Halloween</td>\n",
       "    </tr>\n",
       "    <tr>\n",
       "      <th>2</th>\n",
       "      <td>Fantastic Beasts: The Secrets of Dumbledore</td>\n",
       "      <td>Fantastic Beasts: The Secrets of Dumbledore</td>\n",
       "      <td>Fantastic Beasts: The Secrets of Dumbledore</td>\n",
       "      <td>Fantastic Beasts: The Secrets of Dumbledore</td>\n",
       "    </tr>\n",
       "    <tr>\n",
       "      <th>3</th>\n",
       "      <td>劇場版ラジエーションハウス</td>\n",
       "      <td>劇場版ラジエーションハウス</td>\n",
       "      <td>劇場版ラジエーションハウス</td>\n",
       "      <td>劇場版ラジエーションハウス</td>\n",
       "    </tr>\n",
       "    <tr>\n",
       "      <th>4</th>\n",
       "      <td>ホリック xxxHOLiC</td>\n",
       "      <td>Crayon Shin-chan: Mononoke Ninja Chinpūden</td>\n",
       "      <td>Crayon Shin-chan: Mononoke Ninja Chinpūden</td>\n",
       "      <td>Crayon Shin-chan: Mononoke Ninja Chinpūden</td>\n",
       "    </tr>\n",
       "    <tr>\n",
       "      <th>5</th>\n",
       "      <td>Free! – the Final Stroke – the first volume</td>\n",
       "      <td>ホリック xxxHOLiC</td>\n",
       "      <td>ホリック xxxHOLiC</td>\n",
       "      <td>ホリック xxxHOLiC</td>\n",
       "    </tr>\n",
       "    <tr>\n",
       "      <th>6</th>\n",
       "      <td>Sing 2</td>\n",
       "      <td>Free! – the Final Stroke – the first volume</td>\n",
       "      <td>Free! – the Final Stroke – the first volume</td>\n",
       "      <td>Free! – the Final Stroke – the first volume</td>\n",
       "    </tr>\n",
       "    <tr>\n",
       "      <th>7</th>\n",
       "      <td>-</td>\n",
       "      <td>Sing 2</td>\n",
       "      <td>Sing 2</td>\n",
       "      <td>Sing 2</td>\n",
       "    </tr>\n",
       "    <tr>\n",
       "      <th>8</th>\n",
       "      <td>-</td>\n",
       "      <td>Jujutsu Kaisen 0</td>\n",
       "      <td>Jujutsu Kaisen 0</td>\n",
       "      <td>Jujutsu Kaisen 0</td>\n",
       "    </tr>\n",
       "    <tr>\n",
       "      <th>9</th>\n",
       "      <td>-</td>\n",
       "      <td>映画 おそ松さん</td>\n",
       "      <td>映画 おそ松さん</td>\n",
       "      <td>映画 おそ松さん</td>\n",
       "    </tr>\n",
       "    <tr>\n",
       "      <th>10</th>\n",
       "      <td>-</td>\n",
       "      <td>Doraemon: Nobita's Little Star Wars 2021</td>\n",
       "      <td>Doraemon: Nobita's Little Star Wars 2021</td>\n",
       "      <td>Doraemon: Nobita's Little Star Wars 2021</td>\n",
       "    </tr>\n",
       "    <tr>\n",
       "      <th>11</th>\n",
       "      <td>-</td>\n",
       "      <td>チェリまほ THE MOVIE ～３０歳まで童貞だと魔法使いになれるらしい～</td>\n",
       "      <td>チェリまほ THE MOVIE ～３０歳まで童貞だと魔法使いになれるらしい～</td>\n",
       "      <td>チェリまほ THE MOVIE ～３０歳まで童貞だと魔法使いになれるらしい～</td>\n",
       "    </tr>\n",
       "    <tr>\n",
       "      <th>12</th>\n",
       "      <td>-</td>\n",
       "      <td>劇場版 舞台『刀剣乱舞』无伝 夕紅の士 -大坂夏の陣-</td>\n",
       "      <td>劇場版 舞台『刀剣乱舞』无伝 夕紅の士 -大坂夏の陣-</td>\n",
       "      <td>劇場版 舞台『刀剣乱舞』无伝 夕紅の士 -大坂夏の陣-</td>\n",
       "    </tr>\n",
       "    <tr>\n",
       "      <th>13</th>\n",
       "      <td>-</td>\n",
       "      <td>Two for the Road</td>\n",
       "      <td>Two for the Road</td>\n",
       "      <td>Two for the Road</td>\n",
       "    </tr>\n",
       "  </tbody>\n",
       "</table>\n",
       "</div>"
      ],
      "text/plain": [
       "                                              9  \\\n",
       "0   Doctor Strange in the Multiverse of Madness   \n",
       "1       Detective Conan: The Bride Of Halloween   \n",
       "2   Fantastic Beasts: The Secrets of Dumbledore   \n",
       "3                                 劇場版ラジエーションハウス   \n",
       "4                                 ホリック xxxHOLiC   \n",
       "5   Free! – the Final Stroke – the first volume   \n",
       "6                                        Sing 2   \n",
       "7                                             -   \n",
       "8                                             -   \n",
       "9                                             -   \n",
       "10                                            -   \n",
       "11                                            -   \n",
       "12                                            -   \n",
       "13                                            -   \n",
       "\n",
       "                                             10  \\\n",
       "0   Doctor Strange in the Multiverse of Madness   \n",
       "1       Detective Conan: The Bride Of Halloween   \n",
       "2   Fantastic Beasts: The Secrets of Dumbledore   \n",
       "3                                 劇場版ラジエーションハウス   \n",
       "4    Crayon Shin-chan: Mononoke Ninja Chinpūden   \n",
       "5                                 ホリック xxxHOLiC   \n",
       "6   Free! – the Final Stroke – the first volume   \n",
       "7                                        Sing 2   \n",
       "8                              Jujutsu Kaisen 0   \n",
       "9                                      映画 おそ松さん   \n",
       "10     Doraemon: Nobita's Little Star Wars 2021   \n",
       "11       チェリまほ THE MOVIE ～３０歳まで童貞だと魔法使いになれるらしい～   \n",
       "12                  劇場版 舞台『刀剣乱舞』无伝 夕紅の士 -大坂夏の陣-   \n",
       "13                             Two for the Road   \n",
       "\n",
       "                                             11  \\\n",
       "0   Doctor Strange in the Multiverse of Madness   \n",
       "1       Detective Conan: The Bride Of Halloween   \n",
       "2   Fantastic Beasts: The Secrets of Dumbledore   \n",
       "3                                 劇場版ラジエーションハウス   \n",
       "4    Crayon Shin-chan: Mononoke Ninja Chinpūden   \n",
       "5                                 ホリック xxxHOLiC   \n",
       "6   Free! – the Final Stroke – the first volume   \n",
       "7                                        Sing 2   \n",
       "8                              Jujutsu Kaisen 0   \n",
       "9                                      映画 おそ松さん   \n",
       "10     Doraemon: Nobita's Little Star Wars 2021   \n",
       "11       チェリまほ THE MOVIE ～３０歳まで童貞だと魔法使いになれるらしい～   \n",
       "12                  劇場版 舞台『刀剣乱舞』无伝 夕紅の士 -大坂夏の陣-   \n",
       "13                             Two for the Road   \n",
       "\n",
       "                                             12  \n",
       "0   Doctor Strange in the Multiverse of Madness  \n",
       "1       Detective Conan: The Bride Of Halloween  \n",
       "2   Fantastic Beasts: The Secrets of Dumbledore  \n",
       "3                                 劇場版ラジエーションハウス  \n",
       "4    Crayon Shin-chan: Mononoke Ninja Chinpūden  \n",
       "5                                 ホリック xxxHOLiC  \n",
       "6   Free! – the Final Stroke – the first volume  \n",
       "7                                        Sing 2  \n",
       "8                              Jujutsu Kaisen 0  \n",
       "9                                      映画 おそ松さん  \n",
       "10     Doraemon: Nobita's Little Star Wars 2021  \n",
       "11       チェリまほ THE MOVIE ～３０歳まで童貞だと魔法使いになれるらしい～  \n",
       "12                  劇場版 舞台『刀剣乱舞』无伝 夕紅の士 -大坂夏の陣-  \n",
       "13                             Two for the Road  "
      ]
     },
     "execution_count": 45,
     "metadata": {},
     "output_type": "execute_result"
    }
   ],
   "source": [
    "mbd_to_df(tmbd)"
   ]
  },
  {
   "cell_type": "markdown",
   "id": "d4218b6a",
   "metadata": {},
   "source": [
    "## Detecting Japanese"
   ]
  },
  {
   "cell_type": "code",
   "execution_count": 46,
   "id": "1eeb8549",
   "metadata": {},
   "outputs": [],
   "source": [
    "import re"
   ]
  },
  {
   "cell_type": "code",
   "execution_count": 47,
   "id": "8750a39e",
   "metadata": {},
   "outputs": [
    {
     "data": {
      "text/plain": [
       "True"
      ]
     },
     "execution_count": 47,
     "metadata": {},
     "output_type": "execute_result"
    }
   ],
   "source": [
    "pattern = r'[\\u3040-\\u30ff\\u3400-\\u4dbf\\u4e00-\\u9fff\\uf900-\\ufaff\\uff66-\\uff9f]' #unicode for chinese/jp chars\n",
    "title = 'Doraemon: チェリまほ THE MOVIE ～３０歳まで童貞だと魔法使いになれ Star Wars 2021'\n",
    "bool(re.search(pattern, title))\n"
   ]
  },
  {
   "cell_type": "code",
   "execution_count": 48,
   "id": "a8e0c10b",
   "metadata": {},
   "outputs": [],
   "source": [
    "def remove_jp(title_list):\n",
    "    pattern = r'[\\u3040-\\u30ff\\u3400-\\u4dbf\\u4e00-\\u9fff\\uf900-\\ufaff\\uff66-\\uff9f]' \n",
    "    return [title for title in title_list if bool(re.search(pattern, title)) == False]\n",
    "    "
   ]
  },
  {
   "cell_type": "code",
   "execution_count": 49,
   "id": "d6b23073",
   "metadata": {},
   "outputs": [
    {
     "data": {
      "text/plain": [
       "'Doraemon:  THE MOVIE ～３０ Star Wars 2021'"
      ]
     },
     "execution_count": 49,
     "metadata": {},
     "output_type": "execute_result"
    }
   ],
   "source": [
    "pattern = r'[\\u3040-\\u30ff\\u3400-\\u4dbf\\u4e00-\\u9fff\\uf900-\\ufaff\\uff66-\\uff9f]' #unicode for chinese/jp chars\n",
    "title = 'Doraemon: チェリまほ THE MOVIE ～３０歳まで童貞だと魔法使いになれ Star Wars 2021'\n",
    "re.sub(pattern,'', title)\n"
   ]
  },
  {
   "cell_type": "markdown",
   "id": "18b05c84",
   "metadata": {},
   "source": [
    "## Compilation"
   ]
  },
  {
   "cell_type": "code",
   "execution_count": 50,
   "id": "cb893ba5",
   "metadata": {
    "scrolled": true
   },
   "outputs": [
    {
     "data": {
      "text/plain": [
       "['SPIDER-MAN: NO WAY HOME',\n",
       " 'UNCHARTED',\n",
       " 'SPIDER-MAN: INTO THE SPIDER-VERSE',\n",
       " 'EL PLANETA',\n",
       " 'LAS NINAS / SCHOOLGIRLS',\n",
       " 'The Blues Brothers',\n",
       " '（、）SUMMER OF SOUL (OR, WHEN THE REVOLUTION COULD NOT BE TELEVISED)',\n",
       " 'BELUSHI',\n",
       " ' / RAGING FIRE',\n",
       " ' / ENTER THE FAT DRAGON',\n",
       " 'THE TRUFFLE HUNTERS',\n",
       " 'FANTASTIC FUNGI']"
      ]
     },
     "execution_count": 50,
     "metadata": {},
     "output_type": "execute_result"
    }
   ],
   "source": [
    "meguro_list = [title for movie in meguro_info if type(movie) == dict for title in [movie['engtitle']] if title != 'none']\n",
    "meguro_list"
   ]
  },
  {
   "cell_type": "code",
   "execution_count": 51,
   "id": "b4095ee0",
   "metadata": {
    "scrolled": false
   },
   "outputs": [
    {
     "data": {
      "text/plain": [
       "['Doctor Strange in the Multiverse of Madness',\n",
       " 'Fantastic Beasts: The Secrets of Dumbledore',\n",
       " 'ホリック xxxHOLiC',\n",
       " '劇場版ラジエーションハウス',\n",
       " 'Jujutsu Kaisen 0',\n",
       " '余命10年',\n",
       " 'Sing 2',\n",
       " \"C'mon C'mon\",\n",
       " 'Tonbi',\n",
       " 'Free! – the Final Stroke – the first volume',\n",
       " 'Detective Conan: The Bride Of Halloween',\n",
       " 'Crayon Shin-chan: Mononoke Ninja Chinpūden',\n",
       " '映画 おそ松さん']"
      ]
     },
     "execution_count": 51,
     "metadata": {},
     "output_type": "execute_result"
    }
   ],
   "source": [
    "urawa_list = google.movie_list(ust)\n",
    "urawa_list"
   ]
  },
  {
   "cell_type": "code",
   "execution_count": 52,
   "id": "815e4fad",
   "metadata": {
    "scrolled": false
   },
   "outputs": [
    {
     "data": {
      "text/plain": [
       "['SEVENTEEN POWER OF LOVE : THE MOVIE',\n",
       " 'Chernobyl: Abyss',\n",
       " '劇場版 舞台『刀剣乱舞』无伝 夕紅の士 -大坂夏の陣-',\n",
       " '余命10年',\n",
       " 'チェリまほ THE MOVIE ～３０歳まで童貞だと魔法使いになれるらしい～',\n",
       " 'Detective Conan: The Bride Of Halloween',\n",
       " '映画 おそ松さん',\n",
       " \"Doraemon: Nobita's Little Star Wars 2021\",\n",
       " 'My Salinger Year',\n",
       " '死刑にいたる病',\n",
       " 'Sing 2',\n",
       " '東西ジャニーズJr. ぼくらのサバイバルウォーズ',\n",
       " 'Doctor Strange in the Multiverse of Madness',\n",
       " 'Jujutsu Kaisen 0',\n",
       " '《シネマ歌舞伎》桜姫東文章 下の巻',\n",
       " 'Kikai Sentai Zenkaiger vs. Kiramager vs. Senpaiger',\n",
       " 'Fantastic Beasts: The Secrets of Dumbledore',\n",
       " '劇場版 RE:cycle of the PENGUINDRUM ［前編］君の列車は生存戦略',\n",
       " 'ホリック xxxHOLiC',\n",
       " '劇場版ラジエーションハウス',\n",
       " 'Tonbi',\n",
       " 'Free! – the Final Stroke – the first volume',\n",
       " 'Marry Me',\n",
       " 'Crayon Shin-chan: Mononoke Ninja Chinpūden',\n",
       " 'パリ13区']"
      ]
     },
     "execution_count": 52,
     "metadata": {},
     "output_type": "execute_result"
    }
   ],
   "source": [
    "movix_list = google.movie_list(mst)\n",
    "movix_list"
   ]
  },
  {
   "cell_type": "code",
   "execution_count": 53,
   "id": "f1ade9a3",
   "metadata": {},
   "outputs": [
    {
     "data": {
      "text/plain": [
       "['Doctor Strange in the Multiverse of Madness',\n",
       " 'Fantastic Beasts: The Secrets of Dumbledore',\n",
       " 'ホリック xxxHOLiC',\n",
       " '劇場版ラジエーションハウス',\n",
       " 'Jujutsu Kaisen 0',\n",
       " '劇場版 舞台『刀剣乱舞』无伝 夕紅の士 -大坂夏の陣-',\n",
       " 'チェリまほ THE MOVIE ～３０歳まで童貞だと魔法使いになれるらしい～',\n",
       " 'Sing 2',\n",
       " 'Free! – the Final Stroke – the first volume',\n",
       " 'Detective Conan: The Bride Of Halloween',\n",
       " 'Two for the Road',\n",
       " 'Crayon Shin-chan: Mononoke Ninja Chinpūden',\n",
       " '映画 おそ松さん',\n",
       " \"Doraemon: Nobita's Little Star Wars 2021\"]"
      ]
     },
     "execution_count": 53,
     "metadata": {},
     "output_type": "execute_result"
    }
   ],
   "source": [
    "toho_list = google.movie_list(tst)\n",
    "toho_list"
   ]
  },
  {
   "cell_type": "code",
   "execution_count": 54,
   "id": "16bd7d56",
   "metadata": {},
   "outputs": [],
   "source": [
    "all_google_list = remove_jp(list(set(urawa_list + movix_list + toho_list)))"
   ]
  },
  {
   "cell_type": "code",
   "execution_count": 55,
   "id": "ee645122",
   "metadata": {},
   "outputs": [
    {
     "data": {
      "text/plain": [
       "['SEVENTEEN POWER OF LOVE : THE MOVIE',\n",
       " 'Chernobyl: Abyss',\n",
       " \"C'mon C'mon\",\n",
       " 'Detective Conan: The Bride Of Halloween',\n",
       " \"Doraemon: Nobita's Little Star Wars 2021\",\n",
       " 'My Salinger Year',\n",
       " 'Sing 2',\n",
       " 'Two for the Road',\n",
       " 'Doctor Strange in the Multiverse of Madness',\n",
       " 'Jujutsu Kaisen 0',\n",
       " 'Kikai Sentai Zenkaiger vs. Kiramager vs. Senpaiger',\n",
       " 'Fantastic Beasts: The Secrets of Dumbledore',\n",
       " 'Tonbi',\n",
       " 'Free! – the Final Stroke – the first volume',\n",
       " 'Marry Me',\n",
       " 'Crayon Shin-chan: Mononoke Ninja Chinpūden']"
      ]
     },
     "execution_count": 55,
     "metadata": {},
     "output_type": "execute_result"
    }
   ],
   "source": [
    "all_google_list"
   ]
  },
  {
   "cell_type": "code",
   "execution_count": 56,
   "id": "33e0fb2e",
   "metadata": {},
   "outputs": [],
   "source": [
    "compiled_list = meguro_list + all_google_list"
   ]
  },
  {
   "cell_type": "code",
   "execution_count": 57,
   "id": "05be7e38",
   "metadata": {},
   "outputs": [
    {
     "data": {
      "text/plain": [
       "['SPIDER-MAN: NO WAY HOME',\n",
       " 'UNCHARTED',\n",
       " 'SPIDER-MAN: INTO THE SPIDER-VERSE',\n",
       " 'EL PLANETA',\n",
       " 'LAS NINAS / SCHOOLGIRLS',\n",
       " 'The Blues Brothers',\n",
       " '（、）SUMMER OF SOUL (OR, WHEN THE REVOLUTION COULD NOT BE TELEVISED)',\n",
       " 'BELUSHI',\n",
       " ' / RAGING FIRE',\n",
       " ' / ENTER THE FAT DRAGON',\n",
       " 'THE TRUFFLE HUNTERS',\n",
       " 'FANTASTIC FUNGI',\n",
       " 'SEVENTEEN POWER OF LOVE : THE MOVIE',\n",
       " 'Chernobyl: Abyss',\n",
       " \"C'mon C'mon\",\n",
       " 'Detective Conan: The Bride Of Halloween',\n",
       " \"Doraemon: Nobita's Little Star Wars 2021\",\n",
       " 'My Salinger Year',\n",
       " 'Sing 2',\n",
       " 'Two for the Road',\n",
       " 'Doctor Strange in the Multiverse of Madness',\n",
       " 'Jujutsu Kaisen 0',\n",
       " 'Kikai Sentai Zenkaiger vs. Kiramager vs. Senpaiger',\n",
       " 'Fantastic Beasts: The Secrets of Dumbledore',\n",
       " 'Tonbi',\n",
       " 'Free! – the Final Stroke – the first volume',\n",
       " 'Marry Me',\n",
       " 'Crayon Shin-chan: Mononoke Ninja Chinpūden']"
      ]
     },
     "execution_count": 57,
     "metadata": {},
     "output_type": "execute_result"
    }
   ],
   "source": [
    "compiled_list"
   ]
  },
  {
   "cell_type": "markdown",
   "id": "0cac474f",
   "metadata": {},
   "source": [
    "## Getting Info and Poster"
   ]
  },
  {
   "cell_type": "code",
   "execution_count": 73,
   "id": "1b3375d7",
   "metadata": {},
   "outputs": [],
   "source": [
    "import requests"
   ]
  },
  {
   "cell_type": "code",
   "execution_count": 80,
   "id": "c2279891",
   "metadata": {},
   "outputs": [
    {
     "ename": "SyntaxError",
     "evalue": "invalid syntax (3000694341.py, line 1)",
     "output_type": "error",
     "traceback": [
      "\u001b[0;36m  File \u001b[0;32m\"/tmp/ipykernel_13585/3000694341.py\"\u001b[0;36m, line \u001b[0;32m1\u001b[0m\n\u001b[0;31m    def imdb.moviesearch(query):\u001b[0m\n\u001b[0m            ^\u001b[0m\n\u001b[0;31mSyntaxError\u001b[0m\u001b[0;31m:\u001b[0m invalid syntax\n"
     ]
    }
   ],
   "source": [
    "def moviesearch(query):\n",
    "    '''\n",
    "    takes a query and returns {id,resulttype,image,title,description} for the first result from imdb search\n",
    "    '''\n",
    "    url = 'https://imdb-api.com/en/API/SearchMovie/k_iw50ohm9/'\n",
    "    response = requests.get(url+query)\n",
    "    print(f\"Response :{response.status_code}\")\n",
    "    if response.status_code == 200:\n",
    "        firstresult = response.json()['results'][0]\n",
    "        return firstresult\n",
    "    else:\n",
    "        return 'none'"
   ]
  },
  {
   "cell_type": "code",
   "execution_count": 79,
   "id": "b6a07601",
   "metadata": {},
   "outputs": [
    {
     "name": "stdout",
     "output_type": "stream",
     "text": [
      "Response :200\n"
     ]
    },
    {
     "data": {
      "text/plain": [
       "{'id': 'tt12788368',\n",
       " 'resultType': 'Title',\n",
       " 'image': 'https://imdb-api.com/images/original/MV5BYjVlZWM2N2UtOWMzMC00NjgzLWEzNjktNjI3NGNlZjgwNjk3XkEyXkFqcGdeQXVyOTE2NTc3MjY@._V1_Ratio0.7273_AL_.jpg',\n",
       " 'title': 'El Planeta',\n",
       " 'description': '(2021)'}"
      ]
     },
     "execution_count": 79,
     "metadata": {},
     "output_type": "execute_result"
    }
   ],
   "source": [
    "moviesearch('EL PLANETA')"
   ]
  },
  {
   "cell_type": "code",
   "execution_count": 70,
   "id": "d25ef3c2",
   "metadata": {},
   "outputs": [
    {
     "data": {
      "text/plain": [
       "{'id': 'tt4633694',\n",
       " 'resultType': 'Title',\n",
       " 'image': 'https://imdb-api.com/images/original/MV5BMjMwNDkxMTgzOF5BMl5BanBnXkFtZTgwNTkwNTQ3NjM@._V1_Ratio0.7273_AL_.jpg',\n",
       " 'title': 'Spider-Man: Into the Spider-Verse',\n",
       " 'description': '(2018)'}"
      ]
     },
     "execution_count": 70,
     "metadata": {},
     "output_type": "execute_result"
    }
   ],
   "source": [
    "imdb.moviesearch('SPIDER-MAN: INTO THE SPIDER-VERSE')"
   ]
  },
  {
   "cell_type": "code",
   "execution_count": 65,
   "id": "6af3834d",
   "metadata": {},
   "outputs": [
    {
     "data": {
      "text/plain": [
       "['SPIDER-MAN: NO WAY HOME',\n",
       " 'UNCHARTED',\n",
       " 'SPIDER-MAN: INTO THE SPIDER-VERSE',\n",
       " 'EL PLANETA',\n",
       " 'LAS NINAS / SCHOOLGIRLS']"
      ]
     },
     "execution_count": 65,
     "metadata": {},
     "output_type": "execute_result"
    }
   ],
   "source": [
    "compiled_list"
   ]
  },
  {
   "cell_type": "markdown",
   "id": "6153bf2f",
   "metadata": {},
   "source": [
    "### get id's & titles & image"
   ]
  },
  {
   "cell_type": "code",
   "execution_count": 81,
   "id": "0b5b622e",
   "metadata": {
    "scrolled": false
   },
   "outputs": [
    {
     "name": "stdout",
     "output_type": "stream",
     "text": [
      "Response :200\n",
      "Response :200\n",
      "Response :200\n",
      "Response :200\n",
      "Response :404\n"
     ]
    }
   ],
   "source": [
    "compiled_imdb_info = [imdb.moviesearch(title) for title in compiled_list]"
   ]
  },
  {
   "cell_type": "code",
   "execution_count": 84,
   "id": "19d75e3e",
   "metadata": {},
   "outputs": [],
   "source": [
    "compiled_imdb_search_resp = [movie for movie in compiled_imdb_info if movie != 'none']"
   ]
  },
  {
   "cell_type": "code",
   "execution_count": 149,
   "id": "24491a36",
   "metadata": {},
   "outputs": [],
   "source": [
    "imdb_info = [{'title':movie['title'], 'm_id':movie['id'], 'im':movie['image'].replace('original', '384x528')} for movie in compiled_imdb_info]"
   ]
  },
  {
   "cell_type": "code",
   "execution_count": 150,
   "id": "a3d054e2",
   "metadata": {
    "scrolled": true
   },
   "outputs": [
    {
     "data": {
      "text/plain": [
       "[{'title': 'Spider-Man: No Way Home',\n",
       "  'm_id': 'tt10872600',\n",
       "  'im': 'https://imdb-api.com/images/384x528/MV5BZWMyYzFjYTYtNTRjYi00OGExLWE2YzgtOGRmYjAxZTU3NzBiXkEyXkFqcGdeQXVyMzQ0MzA0NTM@._V1_Ratio0.7273_AL_.jpg'},\n",
       " {'title': 'Uncharted',\n",
       "  'm_id': 'tt1464335',\n",
       "  'im': 'https://imdb-api.com/images/384x528/MV5BMWEwNjhkYzYtNjgzYy00YTY2LThjYWYtYzViMGJkZTI4Y2MyXkEyXkFqcGdeQXVyNTM0OTY1OQ@@._V1_Ratio0.7273_AL_.jpg'},\n",
       " {'title': 'Spider-Man: Into the Spider-Verse',\n",
       "  'm_id': 'tt4633694',\n",
       "  'im': 'https://imdb-api.com/images/384x528/MV5BMjMwNDkxMTgzOF5BMl5BanBnXkFtZTgwNTkwNTQ3NjM@._V1_Ratio0.7273_AL_.jpg'},\n",
       " {'title': 'El Planeta',\n",
       "  'm_id': 'tt12788368',\n",
       "  'im': 'https://imdb-api.com/images/384x528/MV5BYjVlZWM2N2UtOWMzMC00NjgzLWEzNjktNjI3NGNlZjgwNjk3XkEyXkFqcGdeQXVyOTE2NTc3MjY@._V1_Ratio0.7273_AL_.jpg'}]"
      ]
     },
     "execution_count": 150,
     "metadata": {},
     "output_type": "execute_result"
    }
   ],
   "source": [
    "imdb_info"
   ]
  },
  {
   "cell_type": "markdown",
   "id": "5403a32b",
   "metadata": {},
   "source": [
    "### get info"
   ]
  },
  {
   "cell_type": "code",
   "execution_count": 101,
   "id": "edbda448",
   "metadata": {},
   "outputs": [
    {
     "name": "stdout",
     "output_type": "stream",
     "text": [
      "Response :200\n",
      "Response :200\n",
      "Response :200\n",
      "Response :200\n"
     ]
    }
   ],
   "source": [
    "compiled_imdb_details_resp = [imdb.moviedetails(movie['m_id']) for movie in imdb_info]"
   ]
  },
  {
   "cell_type": "code",
   "execution_count": 122,
   "id": "db6772ee",
   "metadata": {},
   "outputs": [
    {
     "data": {
      "text/plain": [
       "[{'id': 'tt10872600',\n",
       "  'title': 'Spider-Man: No Way Home',\n",
       "  'originalTitle': '',\n",
       "  'fullTitle': 'Spider-Man: No Way Home (2021)',\n",
       "  'type': 'Movie',\n",
       "  'year': '2021',\n",
       "  'image': 'https://imdb-api.com/images/original/MV5BZWMyYzFjYTYtNTRjYi00OGExLWE2YzgtOGRmYjAxZTU3NzBiXkEyXkFqcGdeQXVyMzQ0MzA0NTM@._V1_Ratio0.6751_AL_.jpg',\n",
       "  'releaseDate': '2021-12-17',\n",
       "  'runtimeMins': '148',\n",
       "  'runtimeStr': '2h 28min',\n",
       "  'plot': \"Peter Parker's secret identity is revealed to the entire world. Desperate for help, Peter turns to Doctor Strange to make the world forget that he is Spider-Man. The spell goes horribly wrong and shatters the multiverse, bringing in monstrous villains that could destroy the world.\",\n",
       "  'plotLocal': '',\n",
       "  'plotLocalIsRtl': False,\n",
       "  'awards': 'Top rated movie #102 | Nominated for 1 Oscar, 27 wins & 48 nominations total',\n",
       "  'directors': 'Jon Watts',\n",
       "  'directorList': [{'id': 'nm1218281', 'name': 'Jon Watts'}],\n",
       "  'writers': 'Chris McKenna, Erik Sommers, Stan Lee',\n",
       "  'writerList': [{'id': 'nm0571344', 'name': 'Chris McKenna'},\n",
       "   {'id': 'nm1273099', 'name': 'Erik Sommers'},\n",
       "   {'id': 'nm0498278', 'name': 'Stan Lee'}],\n",
       "  'stars': 'Tom Holland, Zendaya, Benedict Cumberbatch',\n",
       "  'starList': [{'id': 'nm4043618', 'name': 'Tom Holland'},\n",
       "   {'id': 'nm3918035', 'name': 'Zendaya'},\n",
       "   {'id': 'nm1212722', 'name': 'Benedict Cumberbatch'}],\n",
       "  'actorList': [{'id': 'nm4043618',\n",
       "    'image': 'https://imdb-api.com/images/original/MV5BNzZiNTEyNTItYjNhMS00YjI2LWIwMWQtZmYwYTRlNjMyZTJjXkEyXkFqcGdeQXVyMTExNzQzMDE0._V1_Ratio1.0000_AL_.jpg',\n",
       "    'name': 'Tom Holland',\n",
       "    'asCharacter': 'Peter Parkeras Peter Parker…'},\n",
       "   {'id': 'nm3918035',\n",
       "    'image': 'https://imdb-api.com/images/original/MV5BMjAxZTk4NDAtYjI3Mi00OTk3LTg0NDEtNWFlNzE5NDM5MWM1XkEyXkFqcGdeQXVyOTI3MjYwOQ@@._V1_Ratio1.0000_AL_.jpg',\n",
       "    'name': 'Zendaya',\n",
       "    'asCharacter': 'MJas MJ'},\n",
       "   {'id': 'nm1212722',\n",
       "    'image': 'https://imdb-api.com/images/original/MV5BMjE0MDkzMDQwOF5BMl5BanBnXkFtZTgwOTE1Mjg1MzE@._V1_Ratio1.0000_AL_.jpg',\n",
       "    'name': 'Benedict Cumberbatch',\n",
       "    'asCharacter': 'Doctor Strangeas Doctor Strange'},\n",
       "   {'id': 'nm8188622',\n",
       "    'image': 'https://imdb-api.com/images/original/MV5BMTJmMDA1ODUtYWI0NS00MjA4LWFiZjgtOTk1OGQ3MDQ4Mjg4XkEyXkFqcGdeQXVyMTA1MTQ2ODk1._V1_Ratio1.4857_AL_.jpg',\n",
       "    'name': 'Jacob Batalon',\n",
       "    'asCharacter': 'Ned Leedsas Ned Leeds'},\n",
       "   {'id': 'nm0269463',\n",
       "    'image': 'https://imdb-api.com/images/original/MV5BNjcwNzg4MjktNDNlMC00M2U1LWJmMjgtZTVkMmI4MDI2MTVmXkEyXkFqcGdeQXVyMjI4MDI0NTM@._V1_Ratio1.0000_AL_.jpg',\n",
       "    'name': 'Jon Favreau',\n",
       "    'asCharacter': 'Happy Hoganas Happy Hogan'},\n",
       "   {'id': 'nm0004937',\n",
       "    'image': 'https://imdb-api.com/images/original/MV5BMTkyNjY1NDg3NF5BMl5BanBnXkFtZTgwNjA2MTg0MzE@._V1_Ratio1.0000_AL_.jpg',\n",
       "    'name': 'Jamie Foxx',\n",
       "    'asCharacter': 'Max Dillonas Max Dillon…'},\n",
       "   {'id': 'nm0000353',\n",
       "    'image': 'https://imdb-api.com/images/original/MV5BOWU4MTI2OTctODQ1ZS00MGM1LWJkM2EtODE3MGNkNmIyZDEwXkEyXkFqcGdeQXVyMjQwMDg0Ng@@._V1_Ratio1.0000_AL_.jpg',\n",
       "    'name': 'Willem Dafoe',\n",
       "    'asCharacter': 'Norman Osbornas Norman Osborn…'},\n",
       "   {'id': 'nm0000547',\n",
       "    'image': 'https://imdb-api.com/images/original/MV5BMTEwNTgzNzgxNzNeQTJeQWpwZ15BbWU3MDQ5NzU1NjM@._V1_Ratio1.0000_AL_.jpg',\n",
       "    'name': 'Alfred Molina',\n",
       "    'asCharacter': 'Dr. Otto Octaviusas Dr. Otto Octavius…'},\n",
       "   {'id': 'nm0938950',\n",
       "    'image': 'https://imdb-api.com/images/original/MV5BMDMxOGExNWItYjM4YS00ZDJhLWJiM2UtMTViYjhhNTM4OGYxXkEyXkFqcGdeQXVyMTgyMzY5MTk@._V1_Ratio1.0000_AL_.jpg',\n",
       "    'name': 'Benedict Wong',\n",
       "    'asCharacter': 'Wongas Wong'},\n",
       "   {'id': 'nm1727825',\n",
       "    'image': 'https://imdb-api.com/images/original/MV5BMjgyNGIyZmMtMTFlYy00OWE5LWE2Y2QtYjhhOGU0NzM4YzliXkEyXkFqcGdeQXVyMzk0NzA4MDc@._V1_Ratio1.0000_AL_.jpg',\n",
       "    'name': 'Tony Revolori',\n",
       "    'asCharacter': 'Flash Thompsonas Flash Thompson'},\n",
       "   {'id': 'nm0000673',\n",
       "    'image': 'https://imdb-api.com/images/original/MV5BMTUwMjA3OTc3N15BMl5BanBnXkFtZTcwNTA1MzY1Mw@@._V1_Ratio1.0000_AL_.jpg',\n",
       "    'name': 'Marisa Tomei',\n",
       "    'asCharacter': 'May Parkeras May Parker'},\n",
       "   {'id': 'nm1940449',\n",
       "    'image': 'https://imdb-api.com/images/original/MV5BMjE2MjI2OTk1OV5BMl5BanBnXkFtZTgwNTY1NzM4MDI@._V1_Ratio1.0000_AL_.jpg',\n",
       "    'name': 'Andrew Garfield',\n",
       "    'asCharacter': 'Peter Parkeras Peter Parker…'},\n",
       "   {'id': 'nm0001497',\n",
       "    'image': 'https://imdb-api.com/images/original/MV5BMTYwMTI5NTM2OF5BMl5BanBnXkFtZTcwODk3MDQ2Mg@@._V1_Ratio1.0000_AL_.jpg',\n",
       "    'name': 'Tobey Maguire',\n",
       "    'asCharacter': 'Peter Parkeras Peter Parker…'},\n",
       "   {'id': 'nm3886028',\n",
       "    'image': 'https://imdb-api.com/images/original/MV5BMzhkMTczYWEtOThmYS00MDEyLTgzZjAtODE5YTUwMmJiMjAzXkEyXkFqcGdeQXVyOTE0NjgwMjY@._V1_Ratio1.0000_AL_.jpg',\n",
       "    'name': 'Angourie Rice',\n",
       "    'asCharacter': 'Betty Brantas Betty Brant'},\n",
       "   {'id': 'nm1573892',\n",
       "    'image': 'https://imdb-api.com/images/original/MV5BNWMwODM2ZmMtZjdkNi00MDFhLTkxYzItMDQzYTkzZDNmNmI0XkEyXkFqcGdeQXVyMjQwMDg0Ng@@._V1_Ratio1.0000_AL_.jpg',\n",
       "    'name': 'Arian Moayed',\n",
       "    'asCharacter': 'Agent Clearyas Agent Cleary'},\n",
       "   {'id': 'nm0628420',\n",
       "    'image': 'https://imdb-api.com/images/original/MV5BYmVmNjUyNmUtNTIwZC00NGZjLWI5YWEtYmI3YjM3MzhmZWNhXkEyXkFqcGdeQXVyMjQwMDg0Ng@@._V1_Ratio1.1000_AL_.jpg',\n",
       "    'name': 'Paula Newsome',\n",
       "    'asCharacter': 'MIT Assistant Vice Chancelloras MIT Assistant Vice Chancellor'},\n",
       "   {'id': 'nm2868110',\n",
       "    'image': 'https://imdb-api.com/images/original/MV5BMjI2NzIwNTQ1N15BMl5BanBnXkFtZTgwMTQzNTc4NDE@._V1_Ratio1.0000_AL_.jpg',\n",
       "    'name': 'Hannibal Buress',\n",
       "    'asCharacter': 'Coach Wilsonas Coach Wilson'},\n",
       "   {'id': 'nm0771414',\n",
       "    'image': 'https://imdb-api.com/images/original/MV5BYmQ3NDdjNzMtZWIyMC00OWRhLTgzNDYtZDlkMmE4YWY5YTEyXkEyXkFqcGdeQXVyNjc5Mjg0NjU@._V1_Ratio1.5000_AL_.jpg',\n",
       "    'name': 'Martin Starr',\n",
       "    'asCharacter': 'Mr. Harringtonas Mr. Harrington'}],\n",
       "  'fullCast': None,\n",
       "  'genres': 'Action, Adventure, Fantasy',\n",
       "  'genreList': [{'key': 'Action', 'value': 'Action'},\n",
       "   {'key': 'Adventure', 'value': 'Adventure'},\n",
       "   {'key': 'Fantasy', 'value': 'Fantasy'}],\n",
       "  'companies': 'Columbia Pictures, Pascal Pictures, Marvel Studios',\n",
       "  'companyList': [{'id': 'co0050868', 'name': 'Columbia Pictures'},\n",
       "   {'id': 'co0532247', 'name': 'Pascal Pictures'},\n",
       "   {'id': 'co0051941', 'name': 'Marvel Studios'}],\n",
       "  'countries': 'USA',\n",
       "  'countryList': [{'key': 'USA', 'value': 'USA'}],\n",
       "  'languages': 'English',\n",
       "  'languageList': [{'key': 'English', 'value': 'English'}],\n",
       "  'contentRating': 'PG-13',\n",
       "  'imDbRating': '8.4',\n",
       "  'imDbRatingVotes': '618272',\n",
       "  'metacriticRating': '71',\n",
       "  'ratings': None,\n",
       "  'wikipedia': None,\n",
       "  'posters': None,\n",
       "  'images': None,\n",
       "  'trailer': None,\n",
       "  'boxOffice': {'budget': '$200,000,000 (estimated)',\n",
       "   'openingWeekendUSA': '$260,138,569',\n",
       "   'grossUSA': '$804,617,772',\n",
       "   'cumulativeWorldwideGross': '$1,892,617,772'},\n",
       "  'tagline': 'The Multiverse Unleashed.',\n",
       "  'keywords': 'spider man character,marvel cinematic universe,multiverse,green goblin character,superhero',\n",
       "  'keywordList': ['spider man character',\n",
       "   'marvel cinematic universe',\n",
       "   'multiverse',\n",
       "   'green goblin character',\n",
       "   'superhero'],\n",
       "  'similars': [{'id': 'tt4154796',\n",
       "    'title': 'Avengers: Endgame',\n",
       "    'image': 'https://imdb-api.com/images/original/MV5BMTc5MDE2ODcwNV5BMl5BanBnXkFtZTgwMzI2NzQ2NzM@._V1_Ratio0.6763_AL_.jpg',\n",
       "    'imDbRating': '8.4'},\n",
       "   {'id': 'tt6320628',\n",
       "    'title': 'Spider-Man: Far from Home',\n",
       "    'image': 'https://imdb-api.com/images/original/MV5BMGZlNTY1ZWUtYTMzNC00ZjUyLWE0MjQtMTMxN2E3ODYxMWVmXkEyXkFqcGdeQXVyMDM2NDM2MQ@@._V1_Ratio0.6763_AL_.jpg',\n",
       "    'imDbRating': '7.4'},\n",
       "   {'id': 'tt4154756',\n",
       "    'title': 'Avengers: Infinity War',\n",
       "    'image': 'https://imdb-api.com/images/original/MV5BMjMxNjY2MDU1OV5BMl5BanBnXkFtZTgwNzY1MTUwNTM@._V1_Ratio0.6763_AL_.jpg',\n",
       "    'imDbRating': '8.4'},\n",
       "   {'id': 'tt0468569',\n",
       "    'title': 'The Dark Knight',\n",
       "    'image': 'https://imdb-api.com/images/original/MV5BMTMxNTMwODM0NF5BMl5BanBnXkFtZTcwODAyMTk2Mw@@._V1_Ratio0.6763_AL_.jpg',\n",
       "    'imDbRating': '9.0'},\n",
       "   {'id': 'tt2250912',\n",
       "    'title': 'Spider-Man: Homecoming',\n",
       "    'image': 'https://imdb-api.com/images/original/MV5BNTk4ODQ1MzgzNl5BMl5BanBnXkFtZTgwMTMyMzM4MTI@._V1_Ratio0.6763_AL_.jpg',\n",
       "    'imDbRating': '7.4'},\n",
       "   {'id': 'tt1160419',\n",
       "    'title': 'Dune',\n",
       "    'image': 'https://imdb-api.com/images/original/MV5BN2FjNmEyNWMtYzM0ZS00NjIyLTg5YzYtYThlMGVjNzE1OGViXkEyXkFqcGdeQXVyMTkxNjUyNQ@@._V1_Ratio0.6763_AL_.jpg',\n",
       "    'imDbRating': '8.1'},\n",
       "   {'id': 'tt9032400',\n",
       "    'title': 'Eternals',\n",
       "    'image': 'https://imdb-api.com/images/original/MV5BMTExZmVjY2ItYTAzYi00MDdlLWFlOWItNTJhMDRjMzQ5ZGY0XkEyXkFqcGdeQXVyODIyOTEyMzY@._V1_Ratio0.6763_AL_.jpg',\n",
       "    'imDbRating': '6.4'},\n",
       "   {'id': 'tt1877830',\n",
       "    'title': 'The Batman',\n",
       "    'image': 'https://imdb-api.com/images/original/MV5BMDdmMTBiNTYtMDIzNi00NGVlLWIzMDYtZTk3MTQ3NGQxZGEwXkEyXkFqcGdeQXVyMzMwOTU5MDk@._V1_Ratio0.6763_AL_.jpg',\n",
       "    'imDbRating': '8.0'},\n",
       "   {'id': 'tt7286456',\n",
       "    'title': 'Joker',\n",
       "    'image': 'https://imdb-api.com/images/original/MV5BNGVjNWI4ZGUtNzE0MS00YTJmLWE0ZDctN2ZiYTk2YmI3NTYyXkEyXkFqcGdeQXVyMTkxNjUyNQ@@._V1_Ratio0.6763_AL_.jpg',\n",
       "    'imDbRating': '8.4'},\n",
       "   {'id': 'tt0145487',\n",
       "    'title': 'Spider-Man',\n",
       "    'image': 'https://imdb-api.com/images/original/MV5BZDEyN2NhMjgtMjdhNi00MmNlLWE5YTgtZGE4MzNjMTRlMGEwXkEyXkFqcGdeQXVyNDUyOTg3Njg@._V1_Ratio0.6763_AL_.jpg',\n",
       "    'imDbRating': '7.4'},\n",
       "   {'id': 'tt0948470',\n",
       "    'title': 'The Amazing Spider-Man',\n",
       "    'image': 'https://imdb-api.com/images/original/MV5BMjMyOTM4MDMxNV5BMl5BanBnXkFtZTcwNjIyNzExOA@@._V1_Ratio0.6763_AL_.jpg',\n",
       "    'imDbRating': '6.9'},\n",
       "   {'id': 'tt2382320',\n",
       "    'title': 'No Time to Die',\n",
       "    'image': 'https://imdb-api.com/images/original/MV5BYWQ2NzQ1NjktMzNkNS00MGY1LTgwMmMtYTllYTI5YzNmMmE0XkEyXkFqcGdeQXVyMjM4NTM5NDY@._V1_Ratio0.6763_AL_.jpg',\n",
       "    'imDbRating': '7.3'}],\n",
       "  'tvSeriesInfo': None,\n",
       "  'tvEpisodeInfo': None,\n",
       "  'errorMessage': None},\n",
       " {'id': 'tt1464335',\n",
       "  'title': 'Uncharted',\n",
       "  'originalTitle': '',\n",
       "  'fullTitle': 'Uncharted (2022)',\n",
       "  'type': 'Movie',\n",
       "  'year': '2022',\n",
       "  'image': 'https://imdb-api.com/images/original/MV5BMWEwNjhkYzYtNjgzYy00YTY2LThjYWYtYzViMGJkZTI4Y2MyXkEyXkFqcGdeQXVyNTM0OTY1OQ@@._V1_Ratio0.6751_AL_.jpg',\n",
       "  'releaseDate': '2022-02-18',\n",
       "  'runtimeMins': '116',\n",
       "  'runtimeStr': '1h 56min',\n",
       "  'plot': 'Street-smart Nathan Drake is recruited by seasoned treasure hunter Victor \"Sully\" Sullivan to recover a fortune amassed by Ferdinand Magellan, and lost 500 years ago by the House of Moncada.',\n",
       "  'plotLocal': '',\n",
       "  'plotLocalIsRtl': False,\n",
       "  'awards': '',\n",
       "  'directors': 'Ruben Fleischer',\n",
       "  'directorList': [{'id': 'nm0281508', 'name': 'Ruben Fleischer'}],\n",
       "  'writers': 'Rafe Judkins, Art Marcum, Matt Holloway',\n",
       "  'writerList': [{'id': 'nm1988994', 'name': 'Rafe Judkins'},\n",
       "   {'id': 'nm1436466', 'name': 'Art Marcum'},\n",
       "   {'id': 'nm0391344', 'name': 'Matt Holloway'}],\n",
       "  'stars': 'Tom Holland, Mark Wahlberg, Antonio Banderas',\n",
       "  'starList': [{'id': 'nm4043618', 'name': 'Tom Holland'},\n",
       "   {'id': 'nm0000242', 'name': 'Mark Wahlberg'},\n",
       "   {'id': 'nm0000104', 'name': 'Antonio Banderas'}],\n",
       "  'actorList': [{'id': 'nm4043618',\n",
       "    'image': 'https://imdb-api.com/images/original/MV5BNzZiNTEyNTItYjNhMS00YjI2LWIwMWQtZmYwYTRlNjMyZTJjXkEyXkFqcGdeQXVyMTExNzQzMDE0._V1_Ratio1.0000_AL_.jpg',\n",
       "    'name': 'Tom Holland',\n",
       "    'asCharacter': 'Nathan Drakeas Nathan Drake'},\n",
       "   {'id': 'nm0000242',\n",
       "    'image': 'https://imdb-api.com/images/original/MV5BMTU0MTQ4OTMyMV5BMl5BanBnXkFtZTcwMTQxOTY1NA@@._V1_Ratio1.0000_AL_.jpg',\n",
       "    'name': 'Mark Wahlberg',\n",
       "    'asCharacter': 'Victor Sullivanas Victor Sullivan'},\n",
       "   {'id': 'nm0000104',\n",
       "    'image': 'https://imdb-api.com/images/original/MV5BMTUyOTQ3NTYyNF5BMl5BanBnXkFtZTcwMTY2NjIzNQ@@._V1_Ratio1.0000_AL_.jpg',\n",
       "    'name': 'Antonio Banderas',\n",
       "    'asCharacter': 'Santiago Moncadaas Santiago Moncada'},\n",
       "   {'id': 'nm1496115',\n",
       "    'image': 'https://imdb-api.com/images/original/MV5BNzAyMGZhYTYtMDQ3MS00ZDc4LWE3NjctMzI4Y2JiYjlkNmY5XkEyXkFqcGdeQXVyMjQwMDg0Ng@@._V1_Ratio1.0143_AL_.jpg',\n",
       "    'name': 'Sophia Ali',\n",
       "    'asCharacter': 'Chloe Frazeras Chloe Frazer'},\n",
       "   {'id': 'nm6616259',\n",
       "    'image': 'https://imdb-api.com/images/original/MV5BNjM5NDk3NDM4NV5BMl5BanBnXkFtZTgwMzU4Mzc1NzM@._V1_Ratio1.0000_AL_.jpg',\n",
       "    'name': 'Tati Gabrielle',\n",
       "    'asCharacter': 'Braddockas Braddock'},\n",
       "   {'id': 'nm0905357',\n",
       "    'image': 'https://imdb-api.com/images/original/MV5BYTcwMmE1OWYtNjEwYy00MmEyLThkNDYtM2M5YzI3NTBkY2Q2XkEyXkFqcGdeQXVyMTM2NTQ0NTY@._V1_Ratio1.0000_AL_.jpg',\n",
       "    'name': 'Steven Waddington',\n",
       "    'asCharacter': 'The Scotsmanas The Scotsman'},\n",
       "   {'id': 'nm9168430',\n",
       "    'image': 'https://imdb-api.com/images/original/MV5BNWZkYjVkMTEtZjQzYi00OWU5LTlmNjItODdmNDhhNzE5YTUxXkEyXkFqcGdeQXVyNzc2NzkyMDE@._V1_Ratio1.0000_AL_.jpg',\n",
       "    'name': 'Pingi Moli',\n",
       "    'asCharacter': 'Hugoas Hugo'},\n",
       "   {'id': 'nm10694706',\n",
       "    'image': 'https://imdb-api.com/images/original/MV5BZGE0MGQ5ZTItNzQ1My00NGY3LWFiMWQtODU2ZTMzOTAzOTdlXkEyXkFqcGdeQXVyMTAzMDQ0MTY2._V1_Ratio1.0000_AL_.jpg',\n",
       "    'name': 'Tiernan Jones',\n",
       "    'asCharacter': 'Young Nateas Young Nate'},\n",
       "   {'id': 'nm8837339',\n",
       "    'image': 'https://imdb-api.com/images/original/MV5BNjY3NTRkMWQtMWVjNy00Njk2LWI5YzktNzJhODIyNjBlZTQwXkEyXkFqcGdeQXVyOTkxNzIwNzE@._V1_Ratio1.0000_AL_.jpg',\n",
       "    'name': 'Rudy Pankow',\n",
       "    'asCharacter': 'Young Samas Young Sam'},\n",
       "   {'id': 'nm13388489',\n",
       "    'image': 'https://imdb-api.com/images/original/nopicture.jpg',\n",
       "    'name': 'Jesús Evita',\n",
       "    'asCharacter': 'Guard at Museumas Guard at Museum'},\n",
       "   {'id': 'nm0657794',\n",
       "    'image': 'https://imdb-api.com/images/original/MV5BMTIwNjQwODg0NV5BMl5BanBnXkFtZTcwNDczODIzMQ@@._V1_Ratio1.0000_AL_.jpg',\n",
       "    'name': 'Georgia Goodman',\n",
       "    'asCharacter': 'Sister Bernadetteas Sister Bernadette'},\n",
       "   {'id': 'nm2846393',\n",
       "    'image': 'https://imdb-api.com/images/original/MV5BOWE3OTc1YTMtOTI0MS00OTlhLTliMTgtZmY0Y2IwY2RlY2YxXkEyXkFqcGdeQXVyMjQwMDg0Ng@@._V1_Ratio1.0000_AL_.jpg',\n",
       "    'name': 'Diarmaid Murtagh',\n",
       "    'asCharacter': 'Police Officeras Police Officer'},\n",
       "   {'id': 'nm1692732',\n",
       "    'image': 'https://imdb-api.com/images/original/MV5BMzI5MjIwMDgyN15BMl5BanBnXkFtZTgwMTYwNTQ0OTE@._V1_Ratio1.0000_AL_.jpg',\n",
       "    'name': 'Joseph Balderrama',\n",
       "    'asCharacter': 'Carlosas Carlos'},\n",
       "   {'id': 'nm13388490',\n",
       "    'image': 'https://imdb-api.com/images/original/MV5BMjBiMDgxZmMtODQ1ZS00ZjEwLWE1MTMtYTc5ZTY3N2QxMmFhXkEyXkFqcGdeQXVyMTUwNTI2NjM4._V1_Ratio1.5000_AL_.jpg',\n",
       "    'name': 'Serena Posadino',\n",
       "    'asCharacter': 'Goldieas Goldie'},\n",
       "   {'id': 'nm4404428',\n",
       "    'image': 'https://imdb-api.com/images/original/MV5BOWVjNGZiY2YtNWY5NS00YzQ0LWJmMzktOTlhMmFmYThlNWMwXkEyXkFqcGdeQXVyMjU3OTE5OTk@._V1_Ratio1.0000_AL_.jpg',\n",
       "    'name': 'Alana Boden',\n",
       "    'asCharacter': 'Zoeas Zoe'},\n",
       "   {'id': 'nm0265344',\n",
       "    'image': 'https://imdb-api.com/images/original/MV5BNTllYjI0OTktNmFmMy00NjhmLWI2YjQtZjNjY2Y5ZDZmZWFhXkEyXkFqcGdeQXVyMTUyMjUyMDM@._V1_Ratio1.0000_AL_.jpg',\n",
       "    'name': 'Jonathan Failla',\n",
       "    'asCharacter': 'Unsuspecting Doormanas Unsuspecting Doorman'},\n",
       "   {'id': 'nm4751899',\n",
       "    'image': 'https://imdb-api.com/images/original/MV5BYWYwZTYzNTMtNDFiOS00ODE0LTlmYzEtOTczMDMzYjYxYjc5XkEyXkFqcGdeQXVyMjc2MDMyMDg@._V1_Ratio1.0000_AL_.jpg',\n",
       "    'name': 'Anthony Thomas',\n",
       "    'asCharacter': 'Luxury Sedan Driveras Luxury Sedan Driver'},\n",
       "   {'id': 'nm8333392',\n",
       "    'image': 'https://imdb-api.com/images/original/MV5BOTlmNzZhN2MtODMwMS00OWQxLTkxOWQtNDk1ZWQ1ZDljYzQ5XkEyXkFqcGdeQXVyNjgyMDA3OTc@._V1_Ratio1.0000_AL_.jpg',\n",
       "    'name': 'Peter Seaton-Clark',\n",
       "    'asCharacter': 'Auctioneeras Auctioneer'}],\n",
       "  'fullCast': None,\n",
       "  'genres': 'Action, Adventure',\n",
       "  'genreList': [{'key': 'Action', 'value': 'Action'},\n",
       "   {'key': 'Adventure', 'value': 'Adventure'}],\n",
       "  'companies': 'Columbia Pictures, Atlas Entertainment, Arad Productions',\n",
       "  'companyList': [{'id': 'co0050868', 'name': 'Columbia Pictures'},\n",
       "   {'id': 'co0028338', 'name': 'Atlas Entertainment'},\n",
       "   {'id': 'co0338101', 'name': 'Arad Productions'}],\n",
       "  'countries': 'USA, Spain',\n",
       "  'countryList': [{'key': 'USA', 'value': 'USA'},\n",
       "   {'key': 'Spain', 'value': 'Spain'}],\n",
       "  'languages': 'English, Spanish',\n",
       "  'languageList': [{'key': 'English', 'value': 'English'},\n",
       "   {'key': 'Spanish', 'value': 'Spanish'}],\n",
       "  'contentRating': 'PG-13',\n",
       "  'imDbRating': '6.4',\n",
       "  'imDbRatingVotes': '93737',\n",
       "  'metacriticRating': '45',\n",
       "  'ratings': None,\n",
       "  'wikipedia': None,\n",
       "  'posters': None,\n",
       "  'images': None,\n",
       "  'trailer': None,\n",
       "  'boxOffice': {'budget': '$120,000,000 (estimated)',\n",
       "   'openingWeekendUSA': '$44,010,155',\n",
       "   'grossUSA': '$146,494,259',\n",
       "   'cumulativeWorldwideGross': '$395,094,259'},\n",
       "  'tagline': None,\n",
       "  'keywords': 'based on video game,hero,treasure,action hero,island',\n",
       "  'keywordList': ['based on video game',\n",
       "   'hero',\n",
       "   'treasure',\n",
       "   'action hero',\n",
       "   'island'],\n",
       "  'similars': [],\n",
       "  'tvSeriesInfo': None,\n",
       "  'tvEpisodeInfo': None,\n",
       "  'errorMessage': None},\n",
       " {'id': 'tt4633694',\n",
       "  'title': 'Spider-Man: Into the Spider-Verse',\n",
       "  'originalTitle': '',\n",
       "  'fullTitle': 'Spider-Man: Into the Spider-Verse (2018)',\n",
       "  'type': 'Movie',\n",
       "  'year': '2018',\n",
       "  'image': 'https://imdb-api.com/images/original/MV5BMjMwNDkxMTgzOF5BMl5BanBnXkFtZTgwNTkwNTQ3NjM@._V1_Ratio0.6751_AL_.jpg',\n",
       "  'releaseDate': '2018-12-14',\n",
       "  'runtimeMins': '117',\n",
       "  'runtimeStr': '1h 57min',\n",
       "  'plot': 'Phil Lord and Christopher Miller, the creative minds behind The Lego Movie and 21 Jump Street, bring their unique talents to a fresh vision of a different Spider-Man Universe, with a groundbreaking visual style that\\'s the first of its kind. \"Spider-Man(TM): Into the Spider-Verse\" introduces Brooklyn teen Miles Morales (Shameik Moore), and the limitless possibilities of the Spider-Verse, where more than one can wear the mask.',\n",
       "  'plotLocal': '',\n",
       "  'plotLocalIsRtl': False,\n",
       "  'awards': 'Top rated movie #70 | Won 1 Oscar, 82 wins & 57 nominations total',\n",
       "  'directors': 'Bob Persichetti, Peter Ramsey, Rodney Rothman',\n",
       "  'directorList': [{'id': 'nm2130108', 'name': 'Bob Persichetti'},\n",
       "   {'id': 'nm0709056', 'name': 'Peter Ramsey'},\n",
       "   {'id': 'nm0745247', 'name': 'Rodney Rothman'}],\n",
       "  'writers': 'Phil Lord, Rodney Rothman',\n",
       "  'writerList': [{'id': 'nm0520488', 'name': 'Phil Lord'},\n",
       "   {'id': 'nm0745247', 'name': 'Rodney Rothman'}],\n",
       "  'stars': 'Shameik Moore, Jake Johnson, Hailee Steinfeld',\n",
       "  'starList': [{'id': 'nm4271336', 'name': 'Shameik Moore'},\n",
       "   {'id': 'nm2159926', 'name': 'Jake Johnson'},\n",
       "   {'id': 'nm2794962', 'name': 'Hailee Steinfeld'}],\n",
       "  'actorList': [{'id': 'nm4271336',\n",
       "    'image': 'https://imdb-api.com/images/original/MV5BMjAwNDU2OTc5M15BMl5BanBnXkFtZTgwOTk0ODMyNDE@._V1_Ratio1.0000_AL_.jpg',\n",
       "    'name': 'Shameik Moore',\n",
       "    'asCharacter': 'Miles Moralesas Miles Morales'},\n",
       "   {'id': 'nm2159926',\n",
       "    'image': 'https://imdb-api.com/images/original/MV5BMjExMzc5NDM0Nl5BMl5BanBnXkFtZTcwOTU3MDU3OA@@._V1_Ratio1.0000_AL_.jpg',\n",
       "    'name': 'Jake Johnson',\n",
       "    'asCharacter': 'Peter B. Parkeras Peter B. Parker'},\n",
       "   {'id': 'nm2794962',\n",
       "    'image': 'https://imdb-api.com/images/original/MV5BMGFmZDVhZDUtZWIyNC00NzBjLTg0ZGEtY2FhMjJlZWJhZjBlXkEyXkFqcGdeQXVyMTcwNzE4OTI@._V1_Ratio1.0000_AL_.jpg',\n",
       "    'name': 'Hailee Steinfeld',\n",
       "    'asCharacter': 'Gwen Stacyas Gwen Stacy'},\n",
       "   {'id': 'nm0991810',\n",
       "    'image': 'https://imdb-api.com/images/original/MV5BZThiZjJjNWYtNGRlYS00NDdkLTk0MTMtYjEwYzM1MDExNTYwXkEyXkFqcGdeQXVyNjY1MTg4Mzc@._V1_Ratio1.0000_AL_.jpg',\n",
       "    'name': 'Mahershala Ali',\n",
       "    'asCharacter': 'Uncle Aaronas Uncle Aaron'},\n",
       "   {'id': 'nm3109964',\n",
       "    'image': 'https://imdb-api.com/images/original/MV5BNDUyMzE0ODY5Ml5BMl5BanBnXkFtZTgwOTc1NTkxMzI@._V1_Ratio1.0000_AL_.jpg',\n",
       "    'name': 'Brian Tyree Henry',\n",
       "    'asCharacter': 'Jefferson Davisas Jefferson Davis'},\n",
       "   {'id': 'nm0005499',\n",
       "    'image': 'https://imdb-api.com/images/original/MV5BMTYwNjc5NzA2NV5BMl5BanBnXkFtZTcwNjk1MTk3Mw@@._V1_Ratio1.0000_AL_.jpg',\n",
       "    'name': 'Lily Tomlin',\n",
       "    'asCharacter': 'Aunt Mayas Aunt May'},\n",
       "   {'id': 'nm0904967',\n",
       "    'image': 'https://imdb-api.com/images/original/MV5BODQxNjE3OTUwN15BMl5BanBnXkFtZTcwODE4NTk4OQ@@._V1_Ratio1.0000_AL_.jpg',\n",
       "    'name': 'Luna Lauren Velez',\n",
       "    'asCharacter': 'Rio Moralesas Rio Morales'},\n",
       "   {'id': 'nm2368789',\n",
       "    'image': 'https://imdb-api.com/images/original/MV5BM2NmMWViOTYtOGJhYi00MzU2LWI5ODYtOGJhYzhkMWViODY5XkEyXkFqcGdeQXVyNjk2NTA3MTc@._V1_Ratio1.0000_AL_.jpg',\n",
       "    'name': 'Zoë Kravitz',\n",
       "    'asCharacter': 'Mary Janeas Mary Jane'},\n",
       "   {'id': 'nm1825214',\n",
       "    'image': 'https://imdb-api.com/images/original/MV5BMTcyNjU3MjE3MF5BMl5BanBnXkFtZTgwNDk5MzIyMTE@._V1_Ratio1.0000_AL_.jpg',\n",
       "    'name': 'John Mulaney',\n",
       "    'asCharacter': 'Spider-Hamas Spider-Ham'},\n",
       "   {'id': 'nm4733752',\n",
       "    'image': 'https://imdb-api.com/images/original/MV5BNDExMzc5OTc1OF5BMl5BanBnXkFtZTgwOTM1NjMwNjE@._V1_Ratio1.0000_AL_.jpg',\n",
       "    'name': 'Kimiko Glenn',\n",
       "    'asCharacter': 'Peni Parkeras Peni Parker'},\n",
       "   {'id': 'nm0000115',\n",
       "    'image': 'https://imdb-api.com/images/original/MV5BMjUxMjE4MTQxMF5BMl5BanBnXkFtZTcwNzc2MDM1NA@@._V1_Ratio1.0000_AL_.jpg',\n",
       "    'name': 'Nicolas Cage',\n",
       "    'asCharacter': 'Spider-Man Noiras Spider-Man Noir'},\n",
       "   {'id': 'nm1063517',\n",
       "    'image': 'https://imdb-api.com/images/original/MV5BMjE1OTcxNDczMl5BMl5BanBnXkFtZTcwMDA1NDcyMQ@@._V1_Ratio1.0000_AL_.jpg',\n",
       "    'name': 'Kathryn Hahn',\n",
       "    'asCharacter': 'Doc Ockas Doc Ock'},\n",
       "   {'id': 'nm0000630',\n",
       "    'image': 'https://imdb-api.com/images/original/MV5BMjM5NjI1NzA1Ml5BMl5BanBnXkFtZTgwNDc0ODM3ODE@._V1_Ratio1.0000_AL_.jpg',\n",
       "    'name': 'Liev Schreiber',\n",
       "    'asCharacter': 'Wilson Fiskas Wilson Fisk'},\n",
       "   {'id': 'nm1517976',\n",
       "    'image': 'https://imdb-api.com/images/original/MV5BMTM4OTQ4NTU3NV5BMl5BanBnXkFtZTcwNjEwNDU0OQ@@._V1_Ratio1.0000_AL_.jpg',\n",
       "    'name': 'Chris Pine',\n",
       "    'asCharacter': 'Peter Parkeras Peter Parker'},\n",
       "   {'id': 'nm2295540',\n",
       "    'image': 'https://imdb-api.com/images/original/MV5BZjllYTE1MGMtN2NlZi00OGJmLWFkM2EtNDYxNGY4YWNhYzc3XkEyXkFqcGdeQXVyMTI5NDg4ODE@._V1_Ratio1.0000_AL_.jpg',\n",
       "    'name': 'Natalie Morales',\n",
       "    'asCharacter': 'Miss Callerosas Miss Calleros'},\n",
       "   {'id': 'nm2430511',\n",
       "    'image': 'https://imdb-api.com/images/original/MV5BY2UwYmU3OGEtNzFlMS00Y2VlLWE4ODMtNjJlYTg1NTZkZTM4XkEyXkFqcGdeQXVyODkzMTc1NQ@@._V1_Ratio1.2429_AL_.jpg',\n",
       "    'name': 'Edwin R. Habacon',\n",
       "    'asCharacter': 'Brooklyn Visions Security Guardas Brooklyn Visions Security Guard'},\n",
       "   {'id': 'nm1209966',\n",
       "    'image': 'https://imdb-api.com/images/original/MV5BMTQ2ODE2NDQ5OF5BMl5BanBnXkFtZTcwOTU3OTM1OQ@@._V1_Ratio1.0000_AL_.jpg',\n",
       "    'name': 'Oscar Isaac',\n",
       "    'asCharacter': 'Interesting Person #1as Interesting Person #1'},\n",
       "   {'id': 'nm2336966',\n",
       "    'image': 'https://imdb-api.com/images/original/MV5BZGM5YzEwOTYtM2RkOC00NDg2LThkM2MtYjBlMjQ5ZDFhNjEwXkEyXkFqcGdeQXVyMTI0NTA5NjI5._V1_Ratio1.0000_AL_.jpg',\n",
       "    'name': 'Greta Lee',\n",
       "    'asCharacter': 'Interesting Person #2as Interesting Person #2'}],\n",
       "  'fullCast': None,\n",
       "  'genres': 'Animation, Action, Adventure',\n",
       "  'genreList': [{'key': 'Animation', 'value': 'Animation'},\n",
       "   {'key': 'Action', 'value': 'Action'},\n",
       "   {'key': 'Adventure', 'value': 'Adventure'}],\n",
       "  'companies': 'Sony Pictures Entertainment (SPE), Columbia Pictures, Marvel Entertainment',\n",
       "  'companyList': [{'id': 'co0026545',\n",
       "    'name': 'Sony Pictures Entertainment (SPE)'},\n",
       "   {'id': 'co0050868', 'name': 'Columbia Pictures'},\n",
       "   {'id': 'co0047120', 'name': 'Marvel Entertainment'}],\n",
       "  'countries': 'USA',\n",
       "  'countryList': [{'key': 'USA', 'value': 'USA'}],\n",
       "  'languages': 'English, Spanish',\n",
       "  'languageList': [{'key': 'English', 'value': 'English'},\n",
       "   {'key': 'Spanish', 'value': 'Spanish'}],\n",
       "  'contentRating': 'PG',\n",
       "  'imDbRating': '8.4',\n",
       "  'imDbRatingVotes': '488703',\n",
       "  'metacriticRating': '87',\n",
       "  'ratings': None,\n",
       "  'wikipedia': None,\n",
       "  'posters': None,\n",
       "  'images': None,\n",
       "  'trailer': None,\n",
       "  'boxOffice': {'budget': '$90,000,000 (estimated)',\n",
       "   'openingWeekendUSA': '$35,363,376',\n",
       "   'grossUSA': '$190,241,310',\n",
       "   'cumulativeWorldwideGross': '$375,540,831'},\n",
       "  'tagline': 'Enter a universe where more than one wears the mask.',\n",
       "  'keywords': 'teenage superhero,superhero,multiverse,wisecrack humor,posthumous cameo',\n",
       "  'keywordList': ['teenage superhero',\n",
       "   'superhero',\n",
       "   'multiverse',\n",
       "   'wisecrack humor',\n",
       "   'posthumous cameo'],\n",
       "  'similars': [{'id': 'tt0910970',\n",
       "    'title': 'WALL·E',\n",
       "    'image': 'https://imdb-api.com/images/original/MV5BMjExMTg5OTU0NF5BMl5BanBnXkFtZTcwMjMxMzMzMw@@._V1_Ratio0.6763_AL_.jpg',\n",
       "    'imDbRating': '8.4'},\n",
       "   {'id': 'tt0114709',\n",
       "    'title': 'Toy Story',\n",
       "    'image': 'https://imdb-api.com/images/original/MV5BMDU2ZWJlMjktMTRhMy00ZTA5LWEzNDgtYmNmZTEwZTViZWJkXkEyXkFqcGdeQXVyNDQ2OTk4MzI@._V1_Ratio0.6763_AL_.jpg',\n",
       "    'imDbRating': '8.3'},\n",
       "   {'id': 'tt2380307',\n",
       "    'title': 'Coco',\n",
       "    'image': 'https://imdb-api.com/images/original/MV5BYjQ5NjM0Y2YtNjZkNC00ZDhkLWJjMWItN2QyNzFkMDE3ZjAxXkEyXkFqcGdeQXVyODIxMzk5NjA@._V1_Ratio0.7053_AL_.jpg',\n",
       "    'imDbRating': '8.4'},\n",
       "   {'id': 'tt0435761',\n",
       "    'title': 'Toy Story 3',\n",
       "    'image': 'https://imdb-api.com/images/original/MV5BMTgxOTY4Mjc0MF5BMl5BanBnXkFtZTcwNTA4MDQyMw@@._V1_Ratio0.7053_AL_.jpg',\n",
       "    'imDbRating': '8.3'},\n",
       "   {'id': 'tt1049413',\n",
       "    'title': 'Up',\n",
       "    'image': 'https://imdb-api.com/images/original/MV5BMTk3NDE2NzI4NF5BMl5BanBnXkFtZTgwNzE1MzEyMTE@._V1_Ratio0.6763_AL_.jpg',\n",
       "    'imDbRating': '8.3'},\n",
       "   {'id': 'tt0110357',\n",
       "    'title': 'The Lion King',\n",
       "    'image': 'https://imdb-api.com/images/original/MV5BYTYxNGMyZTYtMjE3MS00MzNjLWFjNmYtMDk3N2FmM2JiM2M1XkEyXkFqcGdeQXVyNjY5NDU4NzI@._V1_Ratio0.6763_AL_.jpg',\n",
       "    'imDbRating': '8.5'},\n",
       "   {'id': 'tt0198781',\n",
       "    'title': 'Monsters, Inc.',\n",
       "    'image': 'https://imdb-api.com/images/original/MV5BMTY1NTI0ODUyOF5BMl5BanBnXkFtZTgwNTEyNjQ0MDE@._V1_Ratio0.6763_AL_.jpg',\n",
       "    'imDbRating': '8.1'},\n",
       "   {'id': 'tt2096673',\n",
       "    'title': 'Inside Out',\n",
       "    'image': 'https://imdb-api.com/images/original/MV5BOTgxMDQwMDk0OF5BMl5BanBnXkFtZTgwNjU5OTg2NDE@._V1_Ratio0.6763_AL_.jpg',\n",
       "    'imDbRating': '8.2'},\n",
       "   {'id': 'tt0892769',\n",
       "    'title': 'How to Train Your Dragon',\n",
       "    'image': 'https://imdb-api.com/images/original/MV5BMjA5NDQyMjc2NF5BMl5BanBnXkFtZTcwMjg5ODcyMw@@._V1_Ratio0.6763_AL_.jpg',\n",
       "    'imDbRating': '8.1'},\n",
       "   {'id': 'tt0317705',\n",
       "    'title': 'The Incredibles',\n",
       "    'image': 'https://imdb-api.com/images/original/MV5BMTY5OTU0OTc2NV5BMl5BanBnXkFtZTcwMzU4MDcyMQ@@._V1_Ratio0.6763_AL_.jpg',\n",
       "    'imDbRating': '8.0'},\n",
       "   {'id': 'tt0266543',\n",
       "    'title': 'Finding Nemo',\n",
       "    'image': 'https://imdb-api.com/images/original/MV5BZTAzNWZlNmUtZDEzYi00ZjA5LWIwYjEtZGM1NWE1MjE4YWRhXkEyXkFqcGdeQXVyNjU0OTQ0OTY@._V1_Ratio0.6763_AL_.jpg',\n",
       "    'imDbRating': '8.2'},\n",
       "   {'id': 'tt0382932',\n",
       "    'title': 'Ratatouille',\n",
       "    'image': 'https://imdb-api.com/images/original/MV5BMTMzODU0NTkxMF5BMl5BanBnXkFtZTcwMjQ4MzMzMw@@._V1_Ratio0.6763_AL_.jpg',\n",
       "    'imDbRating': '8.1'}],\n",
       "  'tvSeriesInfo': None,\n",
       "  'tvEpisodeInfo': None,\n",
       "  'errorMessage': None},\n",
       " {'id': 'tt12788368',\n",
       "  'title': 'El Planeta',\n",
       "  'originalTitle': '',\n",
       "  'fullTitle': 'El Planeta (2021)',\n",
       "  'type': 'Movie',\n",
       "  'year': '2021',\n",
       "  'image': 'https://imdb-api.com/images/original/MV5BYjVlZWM2N2UtOWMzMC00NjgzLWEzNjktNjI3NGNlZjgwNjk3XkEyXkFqcGdeQXVyOTE2NTc3MjY@._V1_Ratio0.6751_AL_.jpg',\n",
       "  'releaseDate': '2021-10-08',\n",
       "  'runtimeMins': '79',\n",
       "  'runtimeStr': '1h 19min',\n",
       "  'plot': \"El Planeta is a dark comedy exploring contemporary poverty, female desire, and the always complicated filial relationships of mothers and daughters. A daughter forced to return home after the death of her father, reconnects with her eccentric mother, hustling to maintain the semblances of their middle-class lifestyle in the face of an impending eviction. Over the course of the week we watch as the daughter's hopes are tested as she attempts to use her sexuality as a means of escape. meanwhile the mother grifts her way into definite security -the care of a jail cell.\",\n",
       "  'plotLocal': '',\n",
       "  'plotLocalIsRtl': False,\n",
       "  'awards': 'Awards, 10 wins & 13 nominations',\n",
       "  'directors': 'Amalia Ulman',\n",
       "  'directorList': [{'id': 'nm8132285', 'name': 'Amalia Ulman'}],\n",
       "  'writers': 'Amalia Ulman',\n",
       "  'writerList': [{'id': 'nm8132285', 'name': 'Amalia Ulman'}],\n",
       "  'stars': 'Ale Ulman, Amalia Ulman, Nacho Vigalondo',\n",
       "  'starList': [{'id': 'nm11770195', 'name': 'Ale Ulman'},\n",
       "   {'id': 'nm8132285', 'name': 'Amalia Ulman'},\n",
       "   {'id': 'nm1443023', 'name': 'Nacho Vigalondo'}],\n",
       "  'actorList': [{'id': 'nm11770195',\n",
       "    'image': 'https://imdb-api.com/images/original/nopicture.jpg',\n",
       "    'name': 'Ale Ulman',\n",
       "    'asCharacter': 'María Renduelesas María Rendueles'},\n",
       "   {'id': 'nm8132285',\n",
       "    'image': 'https://imdb-api.com/images/original/MV5BOTEzMjI3MzYtNzhlOC00NzBjLTgzM2MtMDA4MGViYjA3YzU4XkEyXkFqcGdeQXVyOTE2NTc3MjY@._V1_Ratio1.0000_AL_.jpg',\n",
       "    'name': 'Amalia Ulman',\n",
       "    'asCharacter': 'Leonor Jimenezas Leonor Jimenez'},\n",
       "   {'id': 'nm1443023',\n",
       "    'image': 'https://imdb-api.com/images/original/MV5BMTcwNDUwNTMwMV5BMl5BanBnXkFtZTgwMzk3NjEzMTE@._V1_Ratio1.0000_AL_.jpg',\n",
       "    'name': 'Nacho Vigalondo',\n",
       "    'asCharacter': 'Older Manas Older Man'},\n",
       "   {'id': 'nm12528594',\n",
       "    'image': 'https://imdb-api.com/images/original/nopicture.jpg',\n",
       "    'name': 'Genoveva Garcia Castanon',\n",
       "    'asCharacter': 'Craigslist Buyeras Craigslist Buyer'},\n",
       "   {'id': 'nm9030518',\n",
       "    'image': 'https://imdb-api.com/images/original/nopicture.jpg',\n",
       "    'name': 'Saoirse Bertram',\n",
       "    'asCharacter': 'Fashion Editoras Fashion Editor'},\n",
       "   {'id': 'nm4248886',\n",
       "    'image': 'https://imdb-api.com/images/original/nopicture.jpg',\n",
       "    'name': 'Andrea Escobar',\n",
       "    'asCharacter': 'Waitressas Waitress'},\n",
       "   {'id': 'nm5793048',\n",
       "    'image': 'https://imdb-api.com/images/original/nopicture.jpg',\n",
       "    'name': 'Zhou Chen',\n",
       "    'asCharacter': 'Younger Manas Younger Man'},\n",
       "   {'id': 'nm4386020',\n",
       "    'image': 'https://imdb-api.com/images/original/nopicture.jpg',\n",
       "    'name': 'Carlos Carbonell',\n",
       "    'asCharacter': 'Supermarket Cashieras Supermarket Cashier'},\n",
       "   {'id': 'nm12528595',\n",
       "    'image': 'https://imdb-api.com/images/original/nopicture.jpg',\n",
       "    'name': 'Lorena Rodriguez Alvarez',\n",
       "    'asCharacter': 'Seamstress at Lydia Valledoras Seamstress at Lydia Valledor'},\n",
       "   {'id': 'nm12528596',\n",
       "    'image': 'https://imdb-api.com/images/original/nopicture.jpg',\n",
       "    'name': 'Raquel Iglesias Sanjurjo',\n",
       "    'asCharacter': 'Gynecologist Patient #1as Gynecologist Patient #1'},\n",
       "   {'id': 'nm12528597',\n",
       "    'image': 'https://imdb-api.com/images/original/nopicture.jpg',\n",
       "    'name': 'Irene Iglesias Sanjurjo',\n",
       "    'asCharacter': 'Gynecologist Patient #2as Gynecologist Patient #2'},\n",
       "   {'id': 'nm12528598',\n",
       "    'image': 'https://imdb-api.com/images/original/nopicture.jpg',\n",
       "    'name': 'Lis Bierd Abreu',\n",
       "    'asCharacter': 'Gynecologist Patient #3as Gynecologist Patient #3'},\n",
       "   {'id': 'nm12528599',\n",
       "    'image': 'https://imdb-api.com/images/original/nopicture.jpg',\n",
       "    'name': 'Xiao Xiang Chen Lin',\n",
       "    'asCharacter': 'Gynecologist Patient #4as Gynecologist Patient #4'},\n",
       "   {'id': 'nm12528600',\n",
       "    'image': 'https://imdb-api.com/images/original/nopicture.jpg',\n",
       "    'name': 'Ruben Garcia Gonzalez',\n",
       "    'asCharacter': 'Policeman #1as Policeman #1'},\n",
       "   {'id': 'nm12528601',\n",
       "    'image': 'https://imdb-api.com/images/original/nopicture.jpg',\n",
       "    'name': 'Daniel Alvarez Garcia',\n",
       "    'asCharacter': 'Policeman #2as Policeman #2'}],\n",
       "  'fullCast': None,\n",
       "  'genres': 'Comedy',\n",
       "  'genreList': [{'key': 'Comedy', 'value': 'Comedy'}],\n",
       "  'companies': \"Holga's Meow, Memory, Operator Media\",\n",
       "  'companyList': [{'id': 'co0813652', 'name': \"Holga's Meow\"},\n",
       "   {'id': 'co0495235', 'name': 'Memory'},\n",
       "   {'id': 'co0726702', 'name': 'Operator Media'}],\n",
       "  'countries': 'USA, Spain',\n",
       "  'countryList': [{'key': 'USA', 'value': 'USA'},\n",
       "   {'key': 'Spain', 'value': 'Spain'}],\n",
       "  'languages': 'Spanish',\n",
       "  'languageList': [{'key': 'Spanish', 'value': 'Spanish'}],\n",
       "  'contentRating': None,\n",
       "  'imDbRating': '6.4',\n",
       "  'imDbRatingVotes': '508',\n",
       "  'metacriticRating': '76',\n",
       "  'ratings': None,\n",
       "  'wikipedia': None,\n",
       "  'posters': None,\n",
       "  'images': None,\n",
       "  'trailer': None,\n",
       "  'boxOffice': {'budget': '',\n",
       "   'openingWeekendUSA': '',\n",
       "   'grossUSA': '',\n",
       "   'cumulativeWorldwideGross': ''},\n",
       "  'tagline': None,\n",
       "  'keywords': 'daugther mother relationship,astronomical object in title,two word title',\n",
       "  'keywordList': ['daugther mother relationship',\n",
       "   'astronomical object in title',\n",
       "   'two word title'],\n",
       "  'similars': [{'id': 'tt6992978',\n",
       "    'title': 'The Souvenir: Part II',\n",
       "    'image': 'https://imdb-api.com/images/original/MV5BODllMjY0MWYtNTMzMi00MDU4LTllZjItY2ViMDkwNDRmZTI0XkEyXkFqcGdeQXVyMDA4NzMyOA@@._V1_Ratio0.6763_AL_.jpg',\n",
       "    'imDbRating': '7.4'},\n",
       "   {'id': 'tt8399288',\n",
       "    'title': 'Memoria',\n",
       "    'image': 'https://imdb-api.com/images/original/MV5BYTIxZDAwZGYtMDNlMS00YjNmLTk4OTItMTc1N2QxNGRiMmEzXkEyXkFqcGdeQXVyMTEyMjM2NDc2._V1_Ratio0.6763_AL_.jpg',\n",
       "    'imDbRating': '6.6'},\n",
       "   {'id': 'tt13204490',\n",
       "    'title': 'Petite Maman',\n",
       "    'image': 'https://imdb-api.com/images/original/MV5BM2EyZjE2NWUtNTg4ZC00OThmLTlmMzktMmFkOWRmZTc4ZWMwXkEyXkFqcGdeQXVyMTM1MTE1NDMx._V1_Ratio0.6860_AL_.jpg',\n",
       "    'imDbRating': '7.4'},\n",
       "   {'id': 'tt14034966',\n",
       "    'title': 'Wheel of Fortune and Fantasy',\n",
       "    'image': 'https://imdb-api.com/images/original/MV5BNmE0NDQwYjItMjI1Zi00NzA0LThjMjEtOGE1NGRlZjZhNmRlXkEyXkFqcGdeQXVyNTY4ODAxODI@._V1_Ratio0.6763_AL_.jpg',\n",
       "    'imDbRating': '7.6'},\n",
       "   {'id': 'tt11379584',\n",
       "    'title': 'Luzzu',\n",
       "    'image': 'https://imdb-api.com/images/original/MV5BZjQ2MTNiYWQtZDQyZi00NzdhLWE4OWMtYzU5NDU1OTJlYmRmXkEyXkFqcGdeQXVyMjI3NDAyNg@@._V1_Ratio0.6763_AL_.jpg',\n",
       "    'imDbRating': '7.0'},\n",
       "   {'id': 'tt6910282',\n",
       "    'title': 'Bergman Island',\n",
       "    'image': 'https://imdb-api.com/images/original/MV5BMzUyMjIzOTMtMjlmZi00MWM4LWEwYmMtYmIyNzc0Mjk5YzEyXkEyXkFqcGdeQXVyMTE1MzI2NzIz._V1_Ratio0.6763_AL_.jpg',\n",
       "    'imDbRating': '6.7'},\n",
       "   {'id': 'tt13622074',\n",
       "    'title': 'All Light, Everywhere',\n",
       "    'image': 'https://imdb-api.com/images/original/MV5BODg1YjFiYzktZjNlOC00ZjI5LWE5ZDAtMmIyZWJhZDM0OTZiXkEyXkFqcGdeQXVyNTI4MzE4MDU@._V1_Ratio0.6860_AL_.jpg',\n",
       "    'imDbRating': '6.9'},\n",
       "   {'id': 'tt5540944',\n",
       "    'title': \"Le Temps d'Anna\",\n",
       "    'image': 'https://imdb-api.com/images/original/MV5BOTM0OWFjMWYtNGNlZC00OTZjLWE0NmEtZDA4YTE3OGNiMzI5L2ltYWdlXkEyXkFqcGdeQXVyNTM3MDMyMDQ@._V1_Ratio0.7536_AL_.jpg',\n",
       "    'imDbRating': '6.4'},\n",
       "   {'id': 'tt13648184',\n",
       "    'title': \"The Dog Who Wouldn't Be Quiet\",\n",
       "    'image': 'https://imdb-api.com/images/original/MV5BMWM3ZGE4OTctZjc2OS00OWMxLWE0ZTgtMDQ4ZGY1OWJjNTY4XkEyXkFqcGdeQXVyNTk5NTQzNDI@._V1_Ratio0.7053_AL_.jpg',\n",
       "    'imDbRating': '6.2'},\n",
       "   {'id': 'tt1387252',\n",
       "    'title': 'Paradas contínuas',\n",
       "    'image': 'https://imdb-api.com/images/original/MV5BMjUxNzUwMzA1OF5BMl5BanBnXkFtZTcwMDIxMDA0Mg@@._V1_Ratio0.7053_AL_.jpg',\n",
       "    'imDbRating': '6.4'},\n",
       "   {'id': 'tt0495219',\n",
       "    'title': 'Cándida',\n",
       "    'image': 'https://imdb-api.com/images/original/MV5BNzg3OTA5MDk2OV5BMl5BanBnXkFtZTcwNDc5MjcwNg@@._V1_Ratio0.7440_AL_.jpg',\n",
       "    'imDbRating': '6.4'},\n",
       "   {'id': 'tt12494638',\n",
       "    'title': \"Ahed's Knee\",\n",
       "    'image': 'https://imdb-api.com/images/original/MV5BYjE1Mjc1MzgtNGFjNi00ZmExLTgwZmUtYzBjNjA3ODgyZTczXkEyXkFqcGdeQXVyMjI3NDAyNg@@._V1_Ratio0.6763_AL_.jpg',\n",
       "    'imDbRating': '6.5'}],\n",
       "  'tvSeriesInfo': None,\n",
       "  'tvEpisodeInfo': None,\n",
       "  'errorMessage': None}]"
      ]
     },
     "execution_count": 122,
     "metadata": {},
     "output_type": "execute_result"
    }
   ],
   "source": [
    "compiled_imdb_details_resp"
   ]
  },
  {
   "cell_type": "code",
   "execution_count": 119,
   "id": "4df0d038",
   "metadata": {},
   "outputs": [],
   "source": [
    "movie = compiled_imdb_details_resp[0]"
   ]
  },
  {
   "cell_type": "code",
   "execution_count": 146,
   "id": "14e7e716",
   "metadata": {},
   "outputs": [],
   "source": [
    "keys = ['title', 'year',  'runtimeMins', 'runtimeStr', 'plot', \n",
    "        'directors', 'writers',  'stars',  'genres',  'companies', \n",
    "        'contentRating', 'imDbRating',  'metacriticRating']\n"
   ]
  },
  {
   "cell_type": "code",
   "execution_count": 147,
   "id": "9d60f47a",
   "metadata": {},
   "outputs": [],
   "source": [
    "imdb_details = [[{key:movie[key]} for key in keys] for movie in compiled_imdb_details_resp]"
   ]
  },
  {
   "cell_type": "code",
   "execution_count": 148,
   "id": "3038c6f1",
   "metadata": {},
   "outputs": [
    {
     "data": {
      "text/plain": [
       "[{'title': 'Spider-Man: No Way Home'},\n",
       " {'year': '2021'},\n",
       " {'runtimeMins': '148'},\n",
       " {'runtimeStr': '2h 28min'},\n",
       " {'plot': \"Peter Parker's secret identity is revealed to the entire world. Desperate for help, Peter turns to Doctor Strange to make the world forget that he is Spider-Man. The spell goes horribly wrong and shatters the multiverse, bringing in monstrous villains that could destroy the world.\"},\n",
       " {'directors': 'Jon Watts'},\n",
       " {'writers': 'Chris McKenna, Erik Sommers, Stan Lee'},\n",
       " {'stars': 'Tom Holland, Zendaya, Benedict Cumberbatch'},\n",
       " {'genres': 'Action, Adventure, Fantasy'},\n",
       " {'companies': 'Columbia Pictures, Pascal Pictures, Marvel Studios'},\n",
       " {'contentRating': 'PG-13'},\n",
       " {'imDbRating': '8.4'},\n",
       " {'metacriticRating': '71'}]"
      ]
     },
     "execution_count": 148,
     "metadata": {},
     "output_type": "execute_result"
    }
   ],
   "source": [
    "imdb_details[0]"
   ]
  },
  {
   "cell_type": "code",
   "execution_count": null,
   "id": "566bc311",
   "metadata": {},
   "outputs": [],
   "source": []
  }
 ],
 "metadata": {
  "kernelspec": {
   "display_name": "Python 3 (ipykernel)",
   "language": "python",
   "name": "python3"
  },
  "language_info": {
   "codemirror_mode": {
    "name": "ipython",
    "version": 3
   },
   "file_extension": ".py",
   "mimetype": "text/x-python",
   "name": "python",
   "nbconvert_exporter": "python",
   "pygments_lexer": "ipython3",
   "version": "3.8.12"
  },
  "toc": {
   "base_numbering": 1,
   "nav_menu": {},
   "number_sections": true,
   "sideBar": true,
   "skip_h1_title": false,
   "title_cell": "Table of Contents",
   "title_sidebar": "Contents",
   "toc_cell": false,
   "toc_position": {},
   "toc_section_display": true,
   "toc_window_display": false
  }
 },
 "nbformat": 4,
 "nbformat_minor": 5
}
