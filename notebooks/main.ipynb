{
 "cells": [
  {
   "cell_type": "markdown",
   "id": "57343b38",
   "metadata": {},
   "source": [
    "Adding abs path for importing"
   ]
  },
  {
   "cell_type": "code",
   "execution_count": 2,
   "id": "5ef49e3c",
   "metadata": {},
   "outputs": [],
   "source": [
    "import os\n",
    "import sys"
   ]
  },
  {
   "cell_type": "code",
   "execution_count": 3,
   "id": "08b27c53",
   "metadata": {},
   "outputs": [],
   "source": [
    "path = os.path.abspath('..')"
   ]
  },
  {
   "cell_type": "code",
   "execution_count": 4,
   "id": "59fbb581",
   "metadata": {},
   "outputs": [],
   "source": [
    "sys.path.append(path)"
   ]
  },
  {
   "cell_type": "markdown",
   "id": "894be20e",
   "metadata": {},
   "source": [
    "## HTML Scraping"
   ]
  },
  {
   "cell_type": "markdown",
   "id": "ceab1308",
   "metadata": {},
   "source": [
    "### Meguro"
   ]
  },
  {
   "cell_type": "code",
   "execution_count": 5,
   "id": "7ccf36cd",
   "metadata": {},
   "outputs": [],
   "source": [
    "from cinematimes import meguro"
   ]
  },
  {
   "cell_type": "code",
   "execution_count": 6,
   "id": "c40700a4",
   "metadata": {},
   "outputs": [],
   "source": [
    "soup = meguro.get_soup()"
   ]
  },
  {
   "cell_type": "code",
   "execution_count": 7,
   "id": "bcf4131d",
   "metadata": {},
   "outputs": [],
   "source": [
    "meguro_info = meguro.meguro_info(soup)"
   ]
  },
  {
   "cell_type": "code",
   "execution_count": 8,
   "id": "87e4d4e2",
   "metadata": {},
   "outputs": [
    {
     "data": {
      "text/plain": [
       "[['4/30', '5/6'],\n",
       " {'engtitle': 'GHOSTBUSTERS: AFTERLIFE',\n",
       "  'jptitle': 'タイトル☆-->ゴーストバスターズ アフターライフ<!--☆ここまで'},\n",
       " {'engtitle': 'GHOSTBUSTERS', 'jptitle': 'タイトル☆-->ゴーストバスターズ<!--☆ここまで'},\n",
       " ['5/7', '5/13'],\n",
       " {'engtitle': 'SPIDER-MAN: NO WAY HOME',\n",
       "  'jptitle': 'タイトル☆-->スパイダーマン：ノー・ウェイ・ホーム<!--☆ここまで'},\n",
       " {'engtitle': 'UNCHARTED', 'jptitle': 'タイトル☆-->アンチャーテッド<!--☆ここまで'},\n",
       " {'engtitle': 'SPIDER-MAN: INTO THE SPIDER-VERSE',\n",
       "  'jptitle': 'タイトル☆-->スパイダーマン：スパイダーバース<!--☆ここまで'},\n",
       " ['5/14', '5/15'],\n",
       " {'engtitle': '', 'jptitle': 'タイトル☆-->ハッピーアワー<!--☆ここまで'},\n",
       " ['5/14', '5/20'],\n",
       " {'engtitle': 'EL PLANETA', 'jptitle': 'タイトル☆-->エル プラネタ<!--☆ここまで'},\n",
       " {'engtitle': 'LAS NINAS / SCHOOLGIRLS',\n",
       "  'jptitle': 'タイトル☆-->スクールガールズ<!--☆ここまで'},\n",
       " ['5/21', '5/27'],\n",
       " {'engtitle': 'The Blues Brothers', 'jptitle': 'タイトル☆-->ブルース・ブラザース<!--☆ここまで'},\n",
       " {'engtitle': '（あるいは、革命がテレビ放映されなかった時）\\nSUMMER OF SOUL (OR, WHEN THE REVOLUTION COULD NOT BE TELEVISED)\\n',\n",
       "  'jptitle': 'タイトル☆-->サマー・オブ・ソウル<span class=\"text_small\">（あるいは、革命がテレビ放映されなかった時）<!--☆ここまで'},\n",
       " {'engtitle': 'BELUSHI', 'jptitle': 'タイトル☆-->ＢＥＬＵＳＨＩ ベルーシ<!--☆ここまで'},\n",
       " ['5/28', '6/3'],\n",
       " {'engtitle': '', 'jptitle': 'タイトル☆-->新幹線大爆破<!--☆ここまで'},\n",
       " {'engtitle': '', 'jptitle': 'タイトル☆-->家族ゲーム<!--☆ここまで'},\n",
       " {'engtitle': '', 'jptitle': 'タイトル☆-->太陽を盗んだ男<!--☆ここまで'},\n",
       " {'engtitle': '', 'jptitle': 'タイトル☆-->炎の肖像<!--☆ここまで'},\n",
       " ['6/4', '6/10'],\n",
       " {'engtitle': '怒火・重案 / RAGING FIRE', 'jptitle': 'タイトル☆-->レイジング・ファイア<!--☆ここまで'},\n",
       " {'engtitle': '肥龍過江 / ENTER THE FAT DRAGON',\n",
       "  'jptitle': 'タイトル☆-->燃えよデブゴン ＴＯＫＹＯ ＭＩＳＳＩＯＮ<!--☆ここまで'},\n",
       " ['6/18', '6/24'],\n",
       " {'engtitle': '', 'jptitle': 'タイトル☆-->ひらいて<!--☆ここまで'},\n",
       " ['6/25', '7/1'],\n",
       " {'engtitle': '', 'jptitle': 'タイトル☆-->私は白鳥<!--☆ここまで'},\n",
       " {'engtitle': '', 'jptitle': 'タイトル☆-->くじらびと<!--☆ここまで'},\n",
       " {'engtitle': 'THE TRUFFLE HUNTERS', 'jptitle': 'タイトル☆-->白いトリュフの宿る森<!--☆ここまで'},\n",
       " {'engtitle': 'FANTASTIC FUNGI', 'jptitle': 'タイトル☆-->素晴らしき、きのこの世界<!--☆ここまで'}]"
      ]
     },
     "execution_count": 8,
     "metadata": {},
     "output_type": "execute_result"
    }
   ],
   "source": [
    "meguro_info"
   ]
  },
  {
   "cell_type": "markdown",
   "id": "5618b178",
   "metadata": {},
   "source": [
    "## Google Search API"
   ]
  },
  {
   "cell_type": "markdown",
   "id": "0499aaf9",
   "metadata": {},
   "source": [
    "### United Urawa"
   ]
  },
  {
   "cell_type": "code",
   "execution_count": null,
   "id": "5c4b4a48",
   "metadata": {},
   "outputs": [],
   "source": []
  },
  {
   "cell_type": "markdown",
   "id": "e89a15d3",
   "metadata": {},
   "source": [
    "### Movix Saitama"
   ]
  },
  {
   "cell_type": "code",
   "execution_count": null,
   "id": "89833f19",
   "metadata": {},
   "outputs": [],
   "source": []
  },
  {
   "cell_type": "markdown",
   "id": "f5303f1a",
   "metadata": {},
   "source": [
    "### Toho Fujimi"
   ]
  },
  {
   "cell_type": "code",
   "execution_count": null,
   "id": "faa58e51",
   "metadata": {},
   "outputs": [],
   "source": []
  }
 ],
 "metadata": {
  "kernelspec": {
   "display_name": "Python 3 (ipykernel)",
   "language": "python",
   "name": "python3"
  },
  "language_info": {
   "codemirror_mode": {
    "name": "ipython",
    "version": 3
   },
   "file_extension": ".py",
   "mimetype": "text/x-python",
   "name": "python",
   "nbconvert_exporter": "python",
   "pygments_lexer": "ipython3",
   "version": "3.8.12"
  },
  "toc": {
   "base_numbering": 1,
   "nav_menu": {},
   "number_sections": true,
   "sideBar": true,
   "skip_h1_title": false,
   "title_cell": "Table of Contents",
   "title_sidebar": "Contents",
   "toc_cell": false,
   "toc_position": {},
   "toc_section_display": true,
   "toc_window_display": false
  }
 },
 "nbformat": 4,
 "nbformat_minor": 5
}
