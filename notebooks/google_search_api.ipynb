{
 "cells": [
  {
   "cell_type": "markdown",
   "id": "84f9c895",
   "metadata": {},
   "source": [
    "## Using SerpAPI to webscrape google's showtimes scraper"
   ]
  },
  {
   "cell_type": "code",
   "execution_count": 2,
   "id": "3df534be",
   "metadata": {},
   "outputs": [],
   "source": [
    "import requests"
   ]
  },
  {
   "cell_type": "markdown",
   "id": "397e03dd",
   "metadata": {},
   "source": [
    "### Example"
   ]
  },
  {
   "cell_type": "code",
   "execution_count": 4,
   "id": "6b0e0d58",
   "metadata": {},
   "outputs": [],
   "source": [
    "url = 'https://serpapi.com/search.json?q=AMC+Barton+Creek+Square+14&location=Austin%2C+Texas%2C+United+States&hl=en&gl=us&api_key=795f9ca654b1031eb177ec72c1b14382c12a781a6db5e4a739c719fb308e47c8'"
   ]
  },
  {
   "cell_type": "code",
   "execution_count": 5,
   "id": "65e55aaa",
   "metadata": {},
   "outputs": [],
   "source": [
    "respons = requests.get(url)"
   ]
  },
  {
   "cell_type": "code",
   "execution_count": 18,
   "id": "93536eaf",
   "metadata": {},
   "outputs": [
    {
     "data": {
      "text/plain": [
       "{'name': 'The Bad Guys',\n",
       " 'link': 'https://www.google.com/search?gl=us&hl=en&q=&si=AC1wQDAGEQiTPWsvhpPV4-xl97AcUfloRjKp4qat4I8-Kg1HxfTik-_93U1ilcKEvVFgSHkrObhdLco3znZ0GSowTR_4T8j3FRRF1rpro2VFpzEII6hnJrwTJcyqkfSuVQEwz7xALIYzr1dC67ALPyR3FW6QSbVAzcblNTZX4P1KUchXSkMVhkruEYoFf6F2OXiT8RjmoyMI1N5KX2VbLcoVMXt6eDs9viG9IbwkwfI0S_iR9tvMfiisyYdfHan7EtcJd4ZZQsa6Y1x50tOvLM7OWuFMRKd4Gg%3D%3D&sa=X&ved=2ahUKEwjshPfYs8X3AhVjU98KHWcWA84QxyZ6BAgVEBM',\n",
       " 'showing': [{'time': ['11:30am',\n",
       "    '12:30pm',\n",
       "    '2:00pm',\n",
       "    '3:00pm',\n",
       "    '4:30pm',\n",
       "    '5:30pm',\n",
       "    '7:00pm',\n",
       "    '8:00pm'],\n",
       "   'type': 'Standard'}]}"
      ]
     },
     "execution_count": 18,
     "metadata": {},
     "output_type": "execute_result"
    }
   ],
   "source": [
    "respons.json()['showtimes'][0]['movies'][0]"
   ]
  },
  {
   "cell_type": "markdown",
   "id": "5f1b5aa6",
   "metadata": {},
   "source": [
    "### Applying to Japan"
   ]
  },
  {
   "cell_type": "code",
   "execution_count": 20,
   "id": "22900bc7",
   "metadata": {},
   "outputs": [],
   "source": [
    "url = 'https://serpapi.com/search.json'"
   ]
  },
  {
   "cell_type": "code",
   "execution_count": 21,
   "id": "aafee79c",
   "metadata": {},
   "outputs": [],
   "source": [
    "query = 'united cinemas urawa'\n",
    "query = 'movix saitama'\n",
    "query = 'toho cinema lalaport fujimi'"
   ]
  },
  {
   "cell_type": "code",
   "execution_count": 22,
   "id": "fcd52bc2",
   "metadata": {},
   "outputs": [],
   "source": [
    "params = {\n",
    "  \"q\": query, \n",
    "  \"hl\": \"en\",\n",
    "  \"gl\": \"us\",\n",
    "  \"api_key\": \"795f9ca654b1031eb177ec72c1b14382c12a781a6db5e4a739c719fb308e47c8\"\n",
    "}"
   ]
  },
  {
   "cell_type": "code",
   "execution_count": 23,
   "id": "d6f1147b",
   "metadata": {},
   "outputs": [],
   "source": [
    "response = requests.get(url, params=params)"
   ]
  },
  {
   "cell_type": "code",
   "execution_count": 59,
   "id": "3fd92c44",
   "metadata": {
    "scrolled": false
   },
   "outputs": [],
   "source": [
    "showtimes = response.json()['showtimes']"
   ]
  },
  {
   "cell_type": "code",
   "execution_count": 3,
   "id": "7d1b29af",
   "metadata": {},
   "outputs": [],
   "source": [
    "def google_search(query):\n",
    "    '''\n",
    "    takes cinema query and returns googles showtimes, a list of dictionaries for each day\n",
    "    '''\n",
    "    url = 'https://serpapi.com/search.json'\n",
    "    params = {\"q\": query, \"hl\": \"en\",\"gl\": \"us\",\n",
    "              \"api_key\": \"795f9ca654b1031eb177ec72c1b14382c12a781a6db5e4a739c719fb308e47c8\"}\n",
    "    \n",
    "    response = requests.get(url, params=params)\n",
    "    print(f\"Response :{response.status_code}\")\n",
    "    showtimes = response.json()['showtimes']\n",
    "    \n",
    "    return showtimes"
   ]
  },
  {
   "cell_type": "code",
   "execution_count": 32,
   "id": "a8d56630",
   "metadata": {
    "scrolled": false
   },
   "outputs": [
    {
     "data": {
      "text/plain": [
       "('Wed', 'Thu')"
      ]
     },
     "execution_count": 32,
     "metadata": {},
     "output_type": "execute_result"
    }
   ],
   "source": [
    "st['showtimes'][0]['day'], st['showtimes'][1]['day'] #showtimes is a list of dictionaries for each day"
   ]
  },
  {
   "cell_type": "code",
   "execution_count": 35,
   "id": "8b55a9fb",
   "metadata": {},
   "outputs": [
    {
     "data": {
      "text/plain": [
       "dict_keys(['day', 'date', 'movies'])"
      ]
     },
     "execution_count": 35,
     "metadata": {},
     "output_type": "execute_result"
    }
   ],
   "source": [
    "st['showtimes'][0].keys()"
   ]
  },
  {
   "cell_type": "code",
   "execution_count": 49,
   "id": "59d8a158",
   "metadata": {},
   "outputs": [
    {
     "data": {
      "text/plain": [
       "[{'name': 'Detective Conan: The Bride Of Halloween',\n",
       "  'link': 'https://www.google.com/search?ucbcb=1&gl=us&hl=en&q=&si=AC1wQDAGEQiTPWsvhpPV4-xl97AcUfloRjKp4qat4I8-Kg1HxUvLo3gVdcM4Zhd-wA9e_tiTarn73YB7gitgsAIvryAGZHBRbil5g2wROM5AxMyDE6vDSRPBAep2rfWEllDRGgyzGiqiv7E42D0EC3gDacx6sheiV0yh8dIHrGFt6R1FIbc5ekvq_F0RP6jq-bVKYH_c5KVFPgo7V1ZYf58nD5O3YpGVpVey03b67UxqG8AVkWP124bz84avo7LBgTzrMwjG6htvM1C1YmNahkzcC4LMig79PA%3D%3D&sa=X&ved=2ahUKEwi9jcb2s8X3AhWakWoFHZ9OBfEQxyZ6BAgMEA4',\n",
       "  'showing': [{'time': ['5:55pm', '7:00pm', '8:00pm'], 'type': 'Standard'},\n",
       "   {'time': ['6:25pm'], 'type': 'IMAX'}]},\n",
       " {'name': 'ドクター・ストレンジ／マルチバース・オブ・マッドネス',\n",
       "  'link': 'https://www.google.com/search?ucbcb=1&gl=us&hl=en&q=&si=AC1wQDDmkSORa3FH6anizpggOJ18HFgTlSHnpaMgvYkKkNrH1d-xkNrAVbnSn1dZ4-7R47TNF_2ttKdB680NQ0KsULENm8dPPRumiFkz41ZvnGBOdamT17uK-99hROxARNXveoabm3IEIyr-r0iqNK63SSflJj3woOq2mCLI2RqcfVexTGEqjMXjeWyTzcwC8oZmTLx4xQXhDdHiioc-Kcsei09Rut1MpngT4dOX5_MauI4VQ5NPXWRp_836p5iX7-Iw9uYCRkD2do4msgpy-PA-WwX6nxVo6xSRCqXuh9lpOpSNXpZAe3M8waHkMqyYjfNmyF9QlwbK3cIQtbVXI-Vk7xboye7FTQ%3D%3D&sa=X&ved=2ahUKEwi9jcb2s8X3AhWakWoFHZ9OBfEQxyZ6BAgMEBY',\n",
       "  'showing': [{'time': ['8:55pm'], 'type': 'IMAX 3D'},\n",
       "   {'time': ['6:40pm', '8:20pm'], 'type': 'Standard'},\n",
       "   {'time': ['8:35pm', '9:20pm'], 'type': 'Standard'}]}]"
      ]
     },
     "execution_count": 49,
     "metadata": {},
     "output_type": "execute_result"
    }
   ],
   "source": [
    "st['showtimes'][0]['movies'][0:2] #movies is a list of dictionaries for each movie"
   ]
  },
  {
   "cell_type": "code",
   "execution_count": 53,
   "id": "2cc89610",
   "metadata": {},
   "outputs": [
    {
     "data": {
      "text/plain": [
       "'Detective Conan: The Bride Of Halloween'"
      ]
     },
     "execution_count": 53,
     "metadata": {},
     "output_type": "execute_result"
    }
   ],
   "source": [
    "st['showtimes'][0]['movies'][0]['name']"
   ]
  },
  {
   "cell_type": "code",
   "execution_count": 55,
   "id": "92ef9df3",
   "metadata": {},
   "outputs": [
    {
     "data": {
      "text/plain": [
       "[{'time': ['5:55pm', '7:00pm', '8:00pm'], 'type': 'Standard'},\n",
       " {'time': ['6:25pm'], 'type': 'IMAX'}]"
      ]
     },
     "execution_count": 55,
     "metadata": {},
     "output_type": "execute_result"
    }
   ],
   "source": [
    "st['showtimes'][0]['movies'][0]['showing'] #showing is a list of dictionarys for each type of showing"
   ]
  },
  {
   "cell_type": "markdown",
   "id": "4b6ec9e3",
   "metadata": {},
   "source": [
    "### Extracting relevant info"
   ]
  },
  {
   "cell_type": "code",
   "execution_count": 60,
   "id": "22d2c139",
   "metadata": {},
   "outputs": [
    {
     "data": {
      "text/plain": [
       "[{'day': 'Wed',\n",
       "  'date': 'May 4',\n",
       "  'movies': [{'name': 'Detective Conan: The Bride Of Halloween',\n",
       "    'link': 'https://www.google.com/search?ucbcb=1&gl=us&hl=en&q=&si=AC1wQDAGEQiTPWsvhpPV4-xl97AcUfloRjKp4qat4I8-Kg1HxUvLo3gVdcM4Zhd-wA9e_tiTarn73YB7gitgsAIvryAGZHBRbil5g2wROM5AxMyDE6vDSRPBAep2rfWEllDRGgyzGiqiv7E42D0EC3gDacx6sheiV0yh8dIHrGFt6R1FIbc5ekvq_F0RP6jq-bVKYH_c5KVFPgo7V1ZYf58nD5O3YpGVpVey03b67UxqG8AVkWP124bz84avo7LBgTzrMwjG6htvM1C1YmNahkzcC4LMig79PA%3D%3D&sa=X&ved=2ahUKEwi9jcb2s8X3AhWakWoFHZ9OBfEQxyZ6BAgMEA4',\n",
       "    'showing': [{'time': ['5:55pm', '7:00pm', '8:00pm'], 'type': 'Standard'},\n",
       "     {'time': ['6:25pm'], 'type': 'IMAX'}]},\n",
       "   {'name': 'ドクター・ストレンジ／マルチバース・オブ・マッドネス',\n",
       "    'link': 'https://www.google.com/search?ucbcb=1&gl=us&hl=en&q=&si=AC1wQDDmkSORa3FH6anizpggOJ18HFgTlSHnpaMgvYkKkNrH1d-xkNrAVbnSn1dZ4-7R47TNF_2ttKdB680NQ0KsULENm8dPPRumiFkz41ZvnGBOdamT17uK-99hROxARNXveoabm3IEIyr-r0iqNK63SSflJj3woOq2mCLI2RqcfVexTGEqjMXjeWyTzcwC8oZmTLx4xQXhDdHiioc-Kcsei09Rut1MpngT4dOX5_MauI4VQ5NPXWRp_836p5iX7-Iw9uYCRkD2do4msgpy-PA-WwX6nxVo6xSRCqXuh9lpOpSNXpZAe3M8waHkMqyYjfNmyF9QlwbK3cIQtbVXI-Vk7xboye7FTQ%3D%3D&sa=X&ved=2ahUKEwi9jcb2s8X3AhWakWoFHZ9OBfEQxyZ6BAgMEBY',\n",
       "    'showing': [{'time': ['8:55pm'], 'type': 'IMAX 3D'},\n",
       "     {'time': ['6:40pm', '8:20pm'], 'type': 'Standard'},\n",
       "     {'time': ['8:35pm', '9:20pm'], 'type': 'Standard'}]},\n",
       "   {'name': '劇場版ラジエーションハウス',\n",
       "    'link': 'https://www.google.com/search?ucbcb=1&gl=us&hl=en&q=&si=AC1wQDAGEQiTPWsvhpPV4-xl97AcUfloRjKp4qat4I8-Kg1HxdSWPSazo1k7_bkWdvqRhACJDr_gVhAiACEmBGWLk_I-LHDNN1dFs11hQYQhzQXiC3inVhHwRUGes6pWAp5LHsman5SciE2oM1Aw2pGSrPlSx2cvQDx7_BESx9IY8-mS5LvSwjIFVjYVq91jMIfToXooZqS11OOdTjofNhibdzF0N2HMHM0A_7SeZnZrX8B5qYs7p_mK0WszZ_B3WeAl1S7biDrCXZnwrtOt1dz3FDYrdeLnaA%3D%3D&sa=X&ved=2ahUKEwi9jcb2s8X3AhWakWoFHZ9OBfEQxyZ6BAgMECA',\n",
       "    'showing': [{'time': ['6:15pm', '8:45pm'], 'type': 'Standard'}]},\n",
       "   {'name': 'ホリック xxxHOLiC',\n",
       "    'link': 'https://www.google.com/search?ucbcb=1&gl=us&hl=en&q=&si=AC1wQDAGEQiTPWsvhpPV4-xl97AcUfloRjKp4qat4I8-Kg1HxSHDFSwx2683f1Yl2XtMJJzF5xcHG8Ta2I07Ko3WaEd8fej5g4xjtEhp6e7Khz7zN6dbO7mTY0I9ehaOGUP0okOhlbM041Z-4A_Zk3XaotPmXUftCyk69OpztJKWiKoixf8rFrhCrGgwIujg0X4Ul1dyA_1xg6KZyC0m38pzEDk4_3UZSkzFIbrO3TDUX5diCqqpUrncmCmRSbHseR0vuy_f0SzMv_r8GkWYS6__PdOQojBOeQ%3D%3D',\n",
       "    'showing': [{'time': ['6:30pm', '8:55pm'], 'type': 'Standard'}]},\n",
       "   {'name': 'Free! – the Final Stroke – the first volume',\n",
       "    'link': 'https://www.google.com/search?ucbcb=1&gl=us&hl=en&q=&si=AC1wQDAGEQiTPWsvhpPV4-xl97AcUfloRjKp4qat4I8-Kg1HxRqH3QdP9qtVnm8M1wEpSxupQrMz32byGvSDPHNL5IMZpHu_dOd5VP3ZoP-SitGpJqssivE0zY-ZjvYWZfTargCovjNvpZh9LR5B3zbVv68M1ECOEDJrtKEKzH2ZaPy0ORg_mKJIBBlU6N5TA7pAdBOzI2dzRP7J2N8ruckyDgXlxfFXJy42HhrLZMM_juIAbce6mxFG-UEbyga7K_Fd5M2W3Un-umXMBg8WaPFHLZ0qFCUKKQ%3D%3D',\n",
       "    'showing': [{'time': ['5:55pm', '6:55pm', '9:20pm'], 'type': 'Standard'}]},\n",
       "   {'name': \"C'mon C'mon\",\n",
       "    'link': 'https://www.google.com/search?ucbcb=1&gl=us&hl=en&q=&si=AC1wQDAGEQiTPWsvhpPV4-xl97AcUfloRjKp4qat4I8-Kg1HxR6_S1o0Xxkkf2vpYBJKU1OY14SCxkYD1GnpqHR2QeJnF4Shdthsk5wgnNNcOYrNS2k6dGyw73BlSWbKBtZqBJV9257Zaf8yewjg6xWiMsPM2-sm48teS1wvp6BgQ0YJwW6rfBee7NSOsYySzcBbgEi8iFLQRBa6Yxa5R_i-_ektaHVGtIaQIfG7XwtKnDgQIPJir-fJh66m0w8stqMcf6Sqy0h4ktYPXBMvLocOMCMZXCtEyw%3D%3D',\n",
       "    'showing': [{'time': ['9:30pm'], 'type': 'Standard'}]}]},\n",
       " {'day': 'Thu',\n",
       "  'date': 'May 5',\n",
       "  'movies': [{'name': 'Detective Conan: The Bride Of Halloween',\n",
       "    'link': 'https://www.google.com/search?ucbcb=1&gl=us&hl=en&q=&si=AC1wQDAGEQiTPWsvhpPV4-xl97AcUfloRjKp4qat4I8-Kg1HxUvLo3gVdcM4Zhd-wA9e_tiTarn73YB7gitgsAIvryAGZHBRbil5g2wROM5AxMyDE6vDSRPBAep2rfWEllDRGgyzGiqiv7E42D0EC3gDacx6sheiV0yh8dIHrGFt6R1FIbc5ekvq_F0RP6jq-bVKYH_c5KVFPgo7V1ZYf58nD5O3YpGVpVey03b67UxqG8AVkWP124bz84avo7LBgTzrMwjG6htvM1C1YmNahkzcC4LMig79PA%3D%3D',\n",
       "    'showing': [{'time': ['10:25am',\n",
       "       '11:15am',\n",
       "       '12:55pm',\n",
       "       '2:00pm',\n",
       "       '3:25pm',\n",
       "       '4:30pm',\n",
       "       '5:55pm',\n",
       "       '7:00pm',\n",
       "       '8:00pm'],\n",
       "      'type': 'Standard'},\n",
       "     {'time': ['9:00pm'], 'type': 'IMAX'}]},\n",
       "   {'name': 'Fantastic Beasts: The Secrets of Dumbledore',\n",
       "    'link': 'https://www.google.com/search?ucbcb=1&gl=us&hl=en&q=&si=AC1wQDAGEQiTPWsvhpPV4-xl97AcUfloRjKp4qat4I8-Kg1HxToG1fUDCzFoV9qNyABxtmi2MZsoHTDPMQ4tHmq4NvtOwYpNz96REEudP73sQK0wJIy2D83lob_11aA9DH1G21YwC_IcCzrcVlQS-oK8leZQ1Q2eYtup8fLC63OX4Vi1-WXgSIg1QDnhFnm-x41DJXxlYRnV-_v866rbvIIbssRjEWBsNMz5u6noj_vi4F3lfvj1-YvILAbuY6hf2Z58-9unQ3ktsfus4mYfyTaAiLZpx0-dAg%3D%3D',\n",
       "    'showing': [{'time': ['12:25pm'], 'type': 'IMAX'},\n",
       "     {'time': ['11:00am', '3:25pm'], 'type': 'Standard'},\n",
       "     {'time': ['10:35am', '1:35pm', '4:35pm'], 'type': 'Standard'}]},\n",
       "   {'name': 'ドクター・ストレンジ／マルチバース・オブ・マッドネス',\n",
       "    'link': 'https://www.google.com/search?ucbcb=1&gl=us&hl=en&q=&si=AC1wQDDmkSORa3FH6anizpggOJ18HFgTlSHnpaMgvYkKkNrH1d-xkNrAVbnSn1dZ4-7R47TNF_2ttKdB680NQ0KsULENm8dPPRumiFkz41ZvnGBOdamT17uK-99hROxARNXveoabm3IEIyr-r0iqNK63SSflJj3woOq2mCLI2RqcfVexTGEqjMXjeWyTzcwC8oZmTLx4xQXhDdHiioc-Kcsei09Rut1MpngT4dOX5_MauI4VQ5NPXWRp_836p5iX7-Iw9uYCRkD2do4msgpy-PA-WwX6nxVo6xSRCqXuh9lpOpSNXpZAe3M8waHkMqyYjfNmyF9QlwbK3cIQtbVXI-Vk7xboye7FTQ%3D%3D',\n",
       "    'showing': [{'time': ['9:40am', '3:30pm', '6:15pm'], 'type': 'IMAX 3D'},\n",
       "     {'time': ['1:15pm', '6:40pm', '8:20pm'], 'type': 'Standard'},\n",
       "     {'time': ['8:30am', '10:30am', '4:00pm', '9:20pm'], 'type': 'Standard'}]},\n",
       "   {'name': '劇場版ラジエーションハウス',\n",
       "    'link': 'https://www.google.com/search?ucbcb=1&gl=us&hl=en&q=&si=AC1wQDAGEQiTPWsvhpPV4-xl97AcUfloRjKp4qat4I8-Kg1HxdSWPSazo1k7_bkWdvqRhACJDr_gVhAiACEmBGWLk_I-LHDNN1dFs11hQYQhzQXiC3inVhHwRUGes6pWAp5LHsman5SciE2oM1Aw2pGSrPlSx2cvQDx7_BESx9IY8-mS5LvSwjIFVjYVq91jMIfToXooZqS11OOdTjofNhibdzF0N2HMHM0A_7SeZnZrX8B5qYs7p_mK0WszZ_B3WeAl1S7biDrCXZnwrtOt1dz3FDYrdeLnaA%3D%3D',\n",
       "    'showing': [{'time': ['10:40am', '1:10pm', '3:45pm', '6:15pm', '8:45pm'],\n",
       "      'type': 'Standard'}]},\n",
       "   {'name': 'Crayon Shin-chan: Mononoke Ninja Chinpūden',\n",
       "    'link': 'https://www.google.com/search?ucbcb=1&gl=us&hl=en&q=&si=AC1wQDAGEQiTPWsvhpPV4-xl97AcUfloRjKp4qat4I8-Kg1HxcYfLKw2cjvy4rxmZqX68DhEPAg2jVIDeDaX8WuECq2httymYvplIIE0Btc7Z0NBIQ3tbAwrzChY3Al4SRzs5leunIe4pOcuMOTnwEs5cXJrGo77955kD-y1VUxkScjhWkDyfreKIEwKqJvsC7nUD56S7lpIchC0LZYURqqYPyvEmAXGDE_dSdHRl_7av4tie-cfn9NYz5TyvOi-T-D0h7lHBaFC4leGutdr_EK4kwBapNuYEg%3D%3D',\n",
       "    'showing': [{'time': ['8:40am', '11:00am', '1:20pm', '3:40pm'],\n",
       "      'type': 'Standard'}]},\n",
       "   {'name': 'ホリック xxxHOLiC',\n",
       "    'link': 'https://www.google.com/search?ucbcb=1&gl=us&hl=en&q=&si=AC1wQDAGEQiTPWsvhpPV4-xl97AcUfloRjKp4qat4I8-Kg1HxSHDFSwx2683f1Yl2XtMJJzF5xcHG8Ta2I07Ko3WaEd8fej5g4xjtEhp6e7Khz7zN6dbO7mTY0I9ehaOGUP0okOhlbM041Z-4A_Zk3XaotPmXUftCyk69OpztJKWiKoixf8rFrhCrGgwIujg0X4Ul1dyA_1xg6KZyC0m38pzEDk4_3UZSkzFIbrO3TDUX5diCqqpUrncmCmRSbHseR0vuy_f0SzMv_r8GkWYS6__PdOQojBOeQ%3D%3D',\n",
       "    'showing': [{'time': ['8:10am', '1:40pm', '4:05pm', '6:30pm', '8:55pm'],\n",
       "      'type': 'Standard'}]},\n",
       "   {'name': 'Free! – the Final Stroke – the first volume',\n",
       "    'link': 'https://www.google.com/search?ucbcb=1&gl=us&hl=en&q=&si=AC1wQDAGEQiTPWsvhpPV4-xl97AcUfloRjKp4qat4I8-Kg1HxRqH3QdP9qtVnm8M1wEpSxupQrMz32byGvSDPHNL5IMZpHu_dOd5VP3ZoP-SitGpJqssivE0zY-ZjvYWZfTargCovjNvpZh9LR5B3zbVv68M1ECOEDJrtKEKzH2ZaPy0ORg_mKJIBBlU6N5TA7pAdBOzI2dzRP7J2N8ruckyDgXlxfFXJy42HhrLZMM_juIAbce6mxFG-UEbyga7K_Fd5M2W3Un-umXMBg8WaPFHLZ0qFCUKKQ%3D%3D',\n",
       "    'showing': [{'time': ['8:10am', '5:55pm', '6:55pm', '9:20pm'],\n",
       "      'type': 'Standard'}]},\n",
       "   {'name': 'Sing 2',\n",
       "    'link': 'https://www.google.com/search?ucbcb=1&gl=us&hl=en&q=&si=AC1wQDAGEQiTPWsvhpPV4-xl97AcUfloRjKp4qat4I8-Kg1HxeE2N5MJ9cDAvfRJ-vTKs49yyU1F9AMfgC5xO6AunV5suN9ZEUoyglxTjLtUy3UjAjdG00Susc0reDUg06hqUfqKTUqIU3OcnbizAXVf2IKWCxDzVBiFAWZsk4ncgDoCkK237H3SoxeU-HqLRtlF3jueup8eGUAE1Xo0wIiZHBO40neojLjUUDvUEDYmRZDmdXQIXUCKuL4IIxyDP0oaiu7mBs5MNyRUV7-hCm2LfMcNv0XfAA%3D%3D',\n",
       "    'showing': [{'time': ['1:00pm'], 'type': 'Standard'}]},\n",
       "   {'name': \"Doraemon: Nobita's Little Star Wars 2021\",\n",
       "    'link': 'https://www.google.com/search?ucbcb=1&gl=us&hl=en&q=&si=AC1wQDAGEQiTPWsvhpPV4-xl97AcUfloRjKp4qat4I8-Kg1HxZiKu41Vnc5X2jQNeAkVCL9O85uip2jzg-7EhrznYoBiA2TXMLQd8Tg1tBJkR5yFSaNPBgd-bvY7UTISQTB-rx5vLxuN_aSwna4EY75BvKGTa5t4wc8EEXSdXououXaRcuY8_OXMdpz4wE9dO5pbNWL17JxnvrgHWvT5v9OjbcMWZPLd3cvQxKD4S4r6GHbv2qSjYJM4nQMhjUFrM8eHZdG-fChv6SEh-AuaRUVBwrFC6Pv6Dw%3D%3D',\n",
       "    'showing': [{'time': ['10:25am'], 'type': 'Standard'}]},\n",
       "   {'name': 'Jujutsu Kaisen 0',\n",
       "    'link': 'https://www.google.com/search?ucbcb=1&gl=us&hl=en&q=&si=AC1wQDAGEQiTPWsvhpPV4-xl97AcUfloRjKp4qat4I8-Kg1HxYmedplKdB9u-mo2Ef8L1uLq2pHapE7lLZkPwn36c4dNyK9MN-hJJuhi6Gc2bCnlThZmMcMKMP7qLvbbooD3X3BjzVrWC2t8M5-8Xr56So2xOKO92HCbKNvoWzx2bRhGxOE0vCKpV2R7Avx052Z-EiaRydJua-5CP9CAuytSaA40jdFOseP_CGFqNP9uIQPg8DbEyaf9Ga1ai77B4k8DnxZ1Sh39nDWCzLD1RlB14joUrTV9-w%3D%3D',\n",
       "    'showing': [{'time': ['8:10am'], 'type': 'Standard'}]},\n",
       "   {'name': '映画 おそ松さん',\n",
       "    'link': 'https://www.google.com/search?ucbcb=1&gl=us&hl=en&q=&si=AC1wQDAGEQiTPWsvhpPV4-xl97AcUfloRjKp4qat4I8-Kg1HxXwZUpavb-ocyeOtfsRT3wRFqzGz2FApnKELKtCsS9uGx85W-ZJ1Zb6RR8jTGTqkwPCQ4EJsOH6zVTHi3mdAfAAqsfUiKZzXcGKcz89fh5z7bJ5J7r2-z6bVft1flCpNHo2IEkSsn6wjZfRUuBJYKgQAhrO6lCBBDWDRc40Agm9uRISBLacWGUA2VXVgxo1qybN7ZidIKtWAoJktGbcbheGspI_EM2rzphmxRqIsBMcJuyap1g%3D%3D',\n",
       "    'showing': [{'time': ['8:15am'], 'type': 'Standard'}]},\n",
       "   {'name': 'Tonbi',\n",
       "    'link': 'https://www.google.com/search?ucbcb=1&gl=us&hl=en&q=&si=AC1wQDAGEQiTPWsvhpPV4-xl97AcUfloRjKp4qat4I8-Kg1HxeIsYhSfl-N-6KRy7Gq7LOwGCrCeKh_aoFd_jsacD5z4p0UZ9VGTijnaCP_VblnUl8iPmr7dxe83R5OHECXoVS7JYi3WStjuv0rp_crIO3h27wQ1VQ-hfFK5Py12fgMfmNwKcbVkyUJMuv8PYFSaMRmzA_eTtOiIigVrkP88Y5nwgZvUChIH4aDi-cYR_PUbsnXlvq8E6onmC8dRPKQ2Ned5ZqMeiH9ieXHWZIDpXdRZ28A_lA%3D%3D',\n",
       "    'showing': [{'time': ['8:15pm'], 'type': 'Standard'}]},\n",
       "   {'name': '余命10年',\n",
       "    'link': 'https://www.google.com/search?ucbcb=1&gl=us&hl=en&q=&si=AC1wQDAGEQiTPWsvhpPV4-xl97AcUfloRjKp4qat4I8-Kg1Hxf1lqhUApWsMXDIHDJG8aOETaefC4wJ2PdOhVFFzTA4w6DzS7D_1VgthW9m80QSowI840MoQ1_y1tw9YRexfsbM9IM35DRR8O_q0PSqD6Ku9WxHyF-t3wDmLktPLBnoe1y9VQ8aYbt047jcj0Aydcekp7q0aOEOSPwDh5F06p013-QVV2mU8js574wA6ylKy6RXhMPK99PtHHoMKlwtsQRWNQrZfrOQZQjNsgNdKULElVC-r7w%3D%3D',\n",
       "    'showing': [{'time': ['8:25am'], 'type': 'Standard'}]},\n",
       "   {'name': \"C'mon C'mon\",\n",
       "    'link': 'https://www.google.com/search?ucbcb=1&gl=us&hl=en&q=&si=AC1wQDAGEQiTPWsvhpPV4-xl97AcUfloRjKp4qat4I8-Kg1HxR6_S1o0Xxkkf2vpYBJKU1OY14SCxkYD1GnpqHR2QeJnF4Shdthsk5wgnNNcOYrNS2k6dGyw73BlSWbKBtZqBJV9257Zaf8yewjg6xWiMsPM2-sm48teS1wvp6BgQ0YJwW6rfBee7NSOsYySzcBbgEi8iFLQRBa6Yxa5R_i-_ektaHVGtIaQIfG7XwtKnDgQIPJir-fJh66m0w8stqMcf6Sqy0h4ktYPXBMvLocOMCMZXCtEyw%3D%3D',\n",
       "    'showing': [{'time': ['8:10am', '9:30pm'], 'type': 'Standard'}]}]}]"
      ]
     },
     "execution_count": 60,
     "metadata": {},
     "output_type": "execute_result"
    }
   ],
   "source": [
    "showtimes\n"
   ]
  },
  {
   "cell_type": "markdown",
   "id": "5588a7d7",
   "metadata": {},
   "source": [
    "#### Dates collected"
   ]
  },
  {
   "cell_type": "code",
   "execution_count": 65,
   "id": "d3267fb1",
   "metadata": {},
   "outputs": [
    {
     "data": {
      "text/plain": [
       "('Wed May 4', 'Thu May 5')"
      ]
     },
     "execution_count": 65,
     "metadata": {},
     "output_type": "execute_result"
    }
   ],
   "source": [
    "startday = showtimes[0]['day'] + ' ' + showtimes[0]['date']\n",
    "endday   = showtimes[-1]['day'] + ' ' + showtimes[-1]['date']\n",
    "\n",
    "startday, endday"
   ]
  },
  {
   "cell_type": "markdown",
   "id": "ccfd1d19",
   "metadata": {},
   "source": [
    "##### function"
   ]
  },
  {
   "cell_type": "code",
   "execution_count": 108,
   "id": "28576d33",
   "metadata": {},
   "outputs": [],
   "source": [
    "def start_end(showtimes):\n",
    "    '''\n",
    "    takes showtimes dictionary given by googlesearch and returns tuple of startday and endday\n",
    "    '''\n",
    "    startday = showtimes[0]['day'] + ' ' + showtimes[0]['date']\n",
    "    endday   = showtimes[-1]['day'] + ' ' + showtimes[-1]['date']\n",
    "    \n",
    "    return (startday,endday)"
   ]
  },
  {
   "cell_type": "code",
   "execution_count": 109,
   "id": "b9e6c991",
   "metadata": {},
   "outputs": [
    {
     "data": {
      "text/plain": [
       "('Fri May 6', 'Thu May 12')"
      ]
     },
     "execution_count": 109,
     "metadata": {},
     "output_type": "execute_result"
    }
   ],
   "source": [
    "start_end(st)"
   ]
  },
  {
   "cell_type": "markdown",
   "id": "33681476",
   "metadata": {},
   "source": [
    "#### List of movies showing each day"
   ]
  },
  {
   "cell_type": "code",
   "execution_count": 77,
   "id": "1ec4b879",
   "metadata": {
    "scrolled": true
   },
   "outputs": [
    {
     "data": {
      "text/plain": [
       "{'day': 'Wed',\n",
       " 'date': 'May 4',\n",
       " 'movies': [{'name': 'Detective Conan: The Bride Of Halloween',\n",
       "   'link': 'https://www.google.com/search?ucbcb=1&gl=us&hl=en&q=&si=AC1wQDAGEQiTPWsvhpPV4-xl97AcUfloRjKp4qat4I8-Kg1HxUvLo3gVdcM4Zhd-wA9e_tiTarn73YB7gitgsAIvryAGZHBRbil5g2wROM5AxMyDE6vDSRPBAep2rfWEllDRGgyzGiqiv7E42D0EC3gDacx6sheiV0yh8dIHrGFt6R1FIbc5ekvq_F0RP6jq-bVKYH_c5KVFPgo7V1ZYf58nD5O3YpGVpVey03b67UxqG8AVkWP124bz84avo7LBgTzrMwjG6htvM1C1YmNahkzcC4LMig79PA%3D%3D&sa=X&ved=2ahUKEwi9jcb2s8X3AhWakWoFHZ9OBfEQxyZ6BAgMEA4',\n",
       "   'showing': [{'time': ['5:55pm', '7:00pm', '8:00pm'], 'type': 'Standard'},\n",
       "    {'time': ['6:25pm'], 'type': 'IMAX'}]},\n",
       "  {'name': 'ドクター・ストレンジ／マルチバース・オブ・マッドネス',\n",
       "   'link': 'https://www.google.com/search?ucbcb=1&gl=us&hl=en&q=&si=AC1wQDDmkSORa3FH6anizpggOJ18HFgTlSHnpaMgvYkKkNrH1d-xkNrAVbnSn1dZ4-7R47TNF_2ttKdB680NQ0KsULENm8dPPRumiFkz41ZvnGBOdamT17uK-99hROxARNXveoabm3IEIyr-r0iqNK63SSflJj3woOq2mCLI2RqcfVexTGEqjMXjeWyTzcwC8oZmTLx4xQXhDdHiioc-Kcsei09Rut1MpngT4dOX5_MauI4VQ5NPXWRp_836p5iX7-Iw9uYCRkD2do4msgpy-PA-WwX6nxVo6xSRCqXuh9lpOpSNXpZAe3M8waHkMqyYjfNmyF9QlwbK3cIQtbVXI-Vk7xboye7FTQ%3D%3D&sa=X&ved=2ahUKEwi9jcb2s8X3AhWakWoFHZ9OBfEQxyZ6BAgMEBY',\n",
       "   'showing': [{'time': ['8:55pm'], 'type': 'IMAX 3D'},\n",
       "    {'time': ['6:40pm', '8:20pm'], 'type': 'Standard'},\n",
       "    {'time': ['8:35pm', '9:20pm'], 'type': 'Standard'}]},\n",
       "  {'name': '劇場版ラジエーションハウス',\n",
       "   'link': 'https://www.google.com/search?ucbcb=1&gl=us&hl=en&q=&si=AC1wQDAGEQiTPWsvhpPV4-xl97AcUfloRjKp4qat4I8-Kg1HxdSWPSazo1k7_bkWdvqRhACJDr_gVhAiACEmBGWLk_I-LHDNN1dFs11hQYQhzQXiC3inVhHwRUGes6pWAp5LHsman5SciE2oM1Aw2pGSrPlSx2cvQDx7_BESx9IY8-mS5LvSwjIFVjYVq91jMIfToXooZqS11OOdTjofNhibdzF0N2HMHM0A_7SeZnZrX8B5qYs7p_mK0WszZ_B3WeAl1S7biDrCXZnwrtOt1dz3FDYrdeLnaA%3D%3D&sa=X&ved=2ahUKEwi9jcb2s8X3AhWakWoFHZ9OBfEQxyZ6BAgMECA',\n",
       "   'showing': [{'time': ['6:15pm', '8:45pm'], 'type': 'Standard'}]},\n",
       "  {'name': 'ホリック xxxHOLiC',\n",
       "   'link': 'https://www.google.com/search?ucbcb=1&gl=us&hl=en&q=&si=AC1wQDAGEQiTPWsvhpPV4-xl97AcUfloRjKp4qat4I8-Kg1HxSHDFSwx2683f1Yl2XtMJJzF5xcHG8Ta2I07Ko3WaEd8fej5g4xjtEhp6e7Khz7zN6dbO7mTY0I9ehaOGUP0okOhlbM041Z-4A_Zk3XaotPmXUftCyk69OpztJKWiKoixf8rFrhCrGgwIujg0X4Ul1dyA_1xg6KZyC0m38pzEDk4_3UZSkzFIbrO3TDUX5diCqqpUrncmCmRSbHseR0vuy_f0SzMv_r8GkWYS6__PdOQojBOeQ%3D%3D',\n",
       "   'showing': [{'time': ['6:30pm', '8:55pm'], 'type': 'Standard'}]},\n",
       "  {'name': 'Free! – the Final Stroke – the first volume',\n",
       "   'link': 'https://www.google.com/search?ucbcb=1&gl=us&hl=en&q=&si=AC1wQDAGEQiTPWsvhpPV4-xl97AcUfloRjKp4qat4I8-Kg1HxRqH3QdP9qtVnm8M1wEpSxupQrMz32byGvSDPHNL5IMZpHu_dOd5VP3ZoP-SitGpJqssivE0zY-ZjvYWZfTargCovjNvpZh9LR5B3zbVv68M1ECOEDJrtKEKzH2ZaPy0ORg_mKJIBBlU6N5TA7pAdBOzI2dzRP7J2N8ruckyDgXlxfFXJy42HhrLZMM_juIAbce6mxFG-UEbyga7K_Fd5M2W3Un-umXMBg8WaPFHLZ0qFCUKKQ%3D%3D',\n",
       "   'showing': [{'time': ['5:55pm', '6:55pm', '9:20pm'], 'type': 'Standard'}]},\n",
       "  {'name': \"C'mon C'mon\",\n",
       "   'link': 'https://www.google.com/search?ucbcb=1&gl=us&hl=en&q=&si=AC1wQDAGEQiTPWsvhpPV4-xl97AcUfloRjKp4qat4I8-Kg1HxR6_S1o0Xxkkf2vpYBJKU1OY14SCxkYD1GnpqHR2QeJnF4Shdthsk5wgnNNcOYrNS2k6dGyw73BlSWbKBtZqBJV9257Zaf8yewjg6xWiMsPM2-sm48teS1wvp6BgQ0YJwW6rfBee7NSOsYySzcBbgEi8iFLQRBa6Yxa5R_i-_ektaHVGtIaQIfG7XwtKnDgQIPJir-fJh66m0w8stqMcf6Sqy0h4ktYPXBMvLocOMCMZXCtEyw%3D%3D',\n",
       "   'showing': [{'time': ['9:30pm'], 'type': 'Standard'}]}]}"
      ]
     },
     "execution_count": 77,
     "metadata": {},
     "output_type": "execute_result"
    }
   ],
   "source": [
    "showtimes[0]"
   ]
  },
  {
   "cell_type": "code",
   "execution_count": 87,
   "id": "f004b0f9",
   "metadata": {},
   "outputs": [
    {
     "name": "stdout",
     "output_type": "stream",
     "text": [
      "\n",
      "\n"
     ]
    }
   ],
   "source": [
    "daymovies = {}\n",
    "for day in showtimes:\n",
    "    print()\n",
    "    daymovies[day['day'].lower] = [movie['name'] for movie in day['movies']]\n"
   ]
  },
  {
   "cell_type": "code",
   "execution_count": 99,
   "id": "a8d858c1",
   "metadata": {},
   "outputs": [],
   "source": [
    "daymovies = {day['date'].split()[1] : [movie['name'] for movie in day['movies']] for day in showtimes }\n",
    "#makes a dictionary with each date value as key and a list of movies that day as the value"
   ]
  },
  {
   "cell_type": "markdown",
   "id": "72115867",
   "metadata": {},
   "source": [
    "##### function"
   ]
  },
  {
   "cell_type": "code",
   "execution_count": 110,
   "id": "b8991a17",
   "metadata": {},
   "outputs": [],
   "source": [
    "def movies_by_day(showtimes):\n",
    "    '''\n",
    "    takes showtimes dict and returns a dictionary- keys are each day, values are lists of movie titles\n",
    "    '''\n",
    "    moviesbyday = {day['date'].split()[1] : [movie['name'] for movie in day['movies']] for day in showtimes }\n",
    "    return moviesbyday"
   ]
  },
  {
   "cell_type": "code",
   "execution_count": 111,
   "id": "c00c961e",
   "metadata": {
    "scrolled": true
   },
   "outputs": [
    {
     "data": {
      "text/plain": [
       "{'6': ['Detective Conan: The Bride Of Halloween',\n",
       "  'Doctor Strange in the Multiverse of Madness',\n",
       "  'Fantastic Beasts: The Secrets of Dumbledore',\n",
       "  '劇場版ラジエーションハウス',\n",
       "  'Crayon Shin-chan: Mononoke Ninja Chinpūden',\n",
       "  'ホリック xxxHOLiC',\n",
       "  'Free! – the Final Stroke – the first volume',\n",
       "  'Sing 2',\n",
       "  'Jujutsu Kaisen 0',\n",
       "  'チェリまほ THE MOVIE ～３０歳まで童貞だと魔法使いになれるらしい～'],\n",
       " '7': ['Detective Conan: The Bride Of Halloween',\n",
       "  'Doctor Strange in the Multiverse of Madness',\n",
       "  'Fantastic Beasts: The Secrets of Dumbledore',\n",
       "  '劇場版ラジエーションハウス',\n",
       "  'Crayon Shin-chan: Mononoke Ninja Chinpūden',\n",
       "  'ホリック xxxHOLiC',\n",
       "  'Free! – the Final Stroke – the first volume',\n",
       "  'Sing 2',\n",
       "  'Jujutsu Kaisen 0',\n",
       "  \"Doraemon: Nobita's Little Star Wars 2021\",\n",
       "  '映画 おそ松さん',\n",
       "  'チェリまほ THE MOVIE ～３０歳まで童貞だと魔法使いになれるらしい～',\n",
       "  'Two for the Road'],\n",
       " '8': ['Detective Conan: The Bride Of Halloween',\n",
       "  'Doctor Strange in the Multiverse of Madness',\n",
       "  'Fantastic Beasts: The Secrets of Dumbledore',\n",
       "  '劇場版ラジエーションハウス',\n",
       "  'Crayon Shin-chan: Mononoke Ninja Chinpūden',\n",
       "  'ホリック xxxHOLiC',\n",
       "  'Free! – the Final Stroke – the first volume',\n",
       "  'Sing 2',\n",
       "  'Jujutsu Kaisen 0',\n",
       "  \"Doraemon: Nobita's Little Star Wars 2021\",\n",
       "  '映画 おそ松さん',\n",
       "  'チェリまほ THE MOVIE ～３０歳まで童貞だと魔法使いになれるらしい～',\n",
       "  'Two for the Road'],\n",
       " '9': ['Detective Conan: The Bride Of Halloween',\n",
       "  'Doctor Strange in the Multiverse of Madness',\n",
       "  'Fantastic Beasts: The Secrets of Dumbledore',\n",
       "  '劇場版ラジエーションハウス',\n",
       "  'Crayon Shin-chan: Mononoke Ninja Chinpūden',\n",
       "  'ホリック xxxHOLiC',\n",
       "  'Free! – the Final Stroke – the first volume',\n",
       "  'Sing 2',\n",
       "  'Jujutsu Kaisen 0',\n",
       "  \"Doraemon: Nobita's Little Star Wars 2021\",\n",
       "  '映画 おそ松さん',\n",
       "  'チェリまほ THE MOVIE ～３０歳まで童貞だと魔法使いになれるらしい～',\n",
       "  'Two for the Road'],\n",
       " '10': ['Detective Conan: The Bride Of Halloween',\n",
       "  'Doctor Strange in the Multiverse of Madness',\n",
       "  'Fantastic Beasts: The Secrets of Dumbledore',\n",
       "  '劇場版ラジエーションハウス',\n",
       "  'Crayon Shin-chan: Mononoke Ninja Chinpūden',\n",
       "  'ホリック xxxHOLiC',\n",
       "  'Free! – the Final Stroke – the first volume',\n",
       "  'Sing 2',\n",
       "  'Jujutsu Kaisen 0',\n",
       "  \"Doraemon: Nobita's Little Star Wars 2021\",\n",
       "  '映画 おそ松さん',\n",
       "  'チェリまほ THE MOVIE ～３０歳まで童貞だと魔法使いになれるらしい～',\n",
       "  'Two for the Road'],\n",
       " '11': ['Detective Conan: The Bride Of Halloween',\n",
       "  'Doctor Strange in the Multiverse of Madness',\n",
       "  'Fantastic Beasts: The Secrets of Dumbledore',\n",
       "  '劇場版ラジエーションハウス',\n",
       "  'Crayon Shin-chan: Mononoke Ninja Chinpūden',\n",
       "  'ホリック xxxHOLiC',\n",
       "  'Free! – the Final Stroke – the first volume',\n",
       "  'Sing 2',\n",
       "  'Jujutsu Kaisen 0',\n",
       "  \"Doraemon: Nobita's Little Star Wars 2021\",\n",
       "  '映画 おそ松さん',\n",
       "  'チェリまほ THE MOVIE ～３０歳まで童貞だと魔法使いになれるらしい～',\n",
       "  'Two for the Road'],\n",
       " '12': ['Detective Conan: The Bride Of Halloween',\n",
       "  'Doctor Strange in the Multiverse of Madness',\n",
       "  'Fantastic Beasts: The Secrets of Dumbledore',\n",
       "  '劇場版ラジエーションハウス',\n",
       "  'Crayon Shin-chan: Mononoke Ninja Chinpūden',\n",
       "  'ホリック xxxHOLiC',\n",
       "  'Free! – the Final Stroke – the first volume',\n",
       "  'Sing 2',\n",
       "  'Jujutsu Kaisen 0',\n",
       "  \"Doraemon: Nobita's Little Star Wars 2021\",\n",
       "  '映画 おそ松さん',\n",
       "  'チェリまほ THE MOVIE ～３０歳まで童貞だと魔法使いになれるらしい～',\n",
       "  'Two for the Road']}"
      ]
     },
     "execution_count": 111,
     "metadata": {},
     "output_type": "execute_result"
    }
   ],
   "source": [
    "movies_by_day(st)"
   ]
  },
  {
   "cell_type": "markdown",
   "id": "972d18aa",
   "metadata": {},
   "source": [
    "#### list of all movies showing"
   ]
  },
  {
   "cell_type": "code",
   "execution_count": 22,
   "id": "4a6ac81d",
   "metadata": {},
   "outputs": [],
   "source": [
    "movie_set = {movie['name'] for movie in day['movies'] for day in showtimes}"
   ]
  },
  {
   "cell_type": "code",
   "execution_count": 26,
   "id": "ee9573f8",
   "metadata": {},
   "outputs": [
    {
     "data": {
      "text/plain": [
       "{\"C'mon C'mon\",\n",
       " 'Crayon Shin-chan: Mononoke Ninja Chinpūden',\n",
       " 'Detective Conan: The Bride Of Halloween',\n",
       " 'Doctor Strange in the Multiverse of Madness',\n",
       " 'Fantastic Beasts: The Secrets of Dumbledore',\n",
       " 'Free! – the Final Stroke – the first volume',\n",
       " 'Jujutsu Kaisen 0',\n",
       " 'Sing 2',\n",
       " 'Tonbi',\n",
       " 'ホリック xxxHOLiC',\n",
       " '余命10年',\n",
       " '劇場版ラジエーションハウス',\n",
       " '映画 おそ松さん'}"
      ]
     },
     "execution_count": 26,
     "metadata": {},
     "output_type": "execute_result"
    }
   ],
   "source": [
    "{movie['name'] for movie in day['movies'] for day in showtimes}"
   ]
  },
  {
   "cell_type": "code",
   "execution_count": 128,
   "id": "195404b1",
   "metadata": {},
   "outputs": [
    {
     "data": {
      "text/plain": [
       "['Tonbi',\n",
       " \"Doraemon: Nobita's Little Star Wars 2021\",\n",
       " 'ホリック xxxHOLiC',\n",
       " 'Detective Conan: The Bride Of Halloween',\n",
       " 'Fantastic Beasts: The Secrets of Dumbledore',\n",
       " 'Free! – the Final Stroke – the first volume',\n",
       " 'Jujutsu Kaisen 0',\n",
       " '余命10年',\n",
       " \"C'mon C'mon\",\n",
       " 'Sing 2',\n",
       " 'ドクター・ストレンジ／マルチバース・オブ・マッドネス',\n",
       " '映画 おそ松さん',\n",
       " '劇場版ラジエーションハウス',\n",
       " 'Crayon Shin-chan: Mononoke Ninja Chinpūden']"
      ]
     },
     "execution_count": 128,
     "metadata": {},
     "output_type": "execute_result"
    }
   ],
   "source": [
    "list(movie_set)"
   ]
  },
  {
   "cell_type": "code",
   "execution_count": 65,
   "id": "723a2b7e",
   "metadata": {},
   "outputs": [],
   "source": [
    "def movie_list(showtimes):\n",
    "    '''\n",
    "    goes through showtimes and returns a list of each unique movie\n",
    "    '''\n",
    "    movie_set = {movie['name'] for movie in day['movies'] for day in showtimes}\n",
    "    return list(movie_set)"
   ]
  },
  {
   "cell_type": "code",
   "execution_count": 67,
   "id": "735ec39a",
   "metadata": {},
   "outputs": [
    {
     "name": "stdout",
     "output_type": "stream",
     "text": [
      "Response :200\n"
     ]
    }
   ],
   "source": [
    "showtimes = google_search('cineworld edinburgh')"
   ]
  },
  {
   "cell_type": "code",
   "execution_count": 73,
   "id": "8c74bcac",
   "metadata": {},
   "outputs": [
    {
     "data": {
      "text/plain": [
       "[{'day': 'Mon',\n",
       "  'date': 'May 9',\n",
       "  'movies': [{'name': 'Doctor Strange in the Multiverse of Madness',\n",
       "    'link': 'https://www.google.com/search?q=&si=AC1wQDBZLVWWj3e53K8DDVqQxwwOo2ROcfWGLHdJ0x3YzEuqHKmh_y4wIc3ANyXsPB2jDYeyPiXG1g70y7RzIcseHJsVAcn8ZTVbe4DzstCtsCKPY_q0a0Xy3u849_ffmIOk4he8_o5u87bgoF74DBuE8ThYCyMbUXRVQIaJfzkYAkRAqOXRuRHotK6_3cICI-1iKCG_zwYMpTt7T0ZdqlqX_Hu3lofgwDacaxUyHZrZQsouWrJmbU71CLx245BwQ2IZRRIotNSPMVzcmi6FTx5eimXF7lpIBj7LLrlIidpfpYHX1Suy6B0%3D&sa=X&ved=2ahUKEwik3q_A9tH3AhXVIkQIHUVeDeEQxyZ6BAgNEBM',\n",
       "    'showing': [{'time': ['10:00am',\n",
       "       '11:00am',\n",
       "       '12:00pm',\n",
       "       '1:00pm',\n",
       "       '2:00pm',\n",
       "       '3:00pm',\n",
       "       '4:00pm',\n",
       "       '5:00pm',\n",
       "       '6:00pm',\n",
       "       '7:00pm',\n",
       "       '8:00pm',\n",
       "       '9:00pm'],\n",
       "      'type': 'Standard'},\n",
       "     {'time': ['10:30am', '1:30pm', '4:30pm', '7:30pm'], 'type': 'IMAX'},\n",
       "     {'time': ['11:30am', '2:30pm', '5:30pm', '8:30pm'], 'type': '3D 4DX'},\n",
       "     {'time': ['12:30pm', '3:30pm', '6:30pm'], 'type': 'ScreenX'}]},\n",
       "   {'name': 'Downton Abbey: A New Era',\n",
       "    'link': 'https://www.google.com/search?q=&si=AC1wQDAGEQiTPWsvhpPV4-xl97Ace1RS_VszfB1e1tubY6WwDrBYpCpbAvMPfy7oy2tOUC38qS0GurJHFE-s-yAir_s9Ga-axo36WJvZFo5F_VsVjyWQR-eQh1tfvq_TEM0RFji29SdEm-9W-rOJTxEI00YZs7yvLplpvMxgWL6CvQU7AOCg57konngNfnjeXPq0jwaaexVAs4CtFynYGUIWO3sK93YY98S1o_JpENl0BleCYXucJj_RD_LPTDbeDzuW3Spem84k7jvfVmbiq4X8oTlxd10y8A%3D%3D&sa=X&ved=2ahUKEwik3q_A9tH3AhXVIkQIHUVeDeEQxyZ6BAgNEDA',\n",
       "    'showing': [{'time': ['11:10am',\n",
       "       '12:40pm',\n",
       "       '2:10pm',\n",
       "       '3:40pm',\n",
       "       '5:10pm',\n",
       "       '6:40pm',\n",
       "       '8:10pm'],\n",
       "      'type': 'Standard'}]},\n",
       "   {'name': 'The Lost City',\n",
       "    'link': 'https://www.google.com/search?q=&si=AC1wQDBZLVWWj3e53K8DDVqQxwwOo2ROcfWGLHdJ0x3YzEuqHFkYzrXajqdELS7frHj1fFxkRs2REDuAHjokyrdQejJbtTlc6Mn0rebap-ty7cMWg-G79b04KtLlfkEZFHRgPhyHSzvdIQQOKE0lFrSmsMmxTv_Z0bXp4hWFSt9RW2rBx_t6unWLeu_XMEmhCjuDTPYbCNHBDDIXXOX3aJ1C7Uk0tDgRdy2wYKdzWeB9HcBiLDBWkLIO30oHEpU81zt35UMJslflRu-tHMmK3vo5DcDDa2e0XANS18SlhzHCAK3avW10O9Y%3D&sa=X&ved=2ahUKEwik3q_A9tH3AhXVIkQIHUVeDeEQxyZ6BAgNEDo',\n",
       "    'showing': [{'time': ['12:10pm', '2:50pm', '5:40pm'],\n",
       "      'type': 'Standard'}]},\n",
       "   {'name': 'Fantastic Beasts: The Secrets of Dumbledore',\n",
       "    'link': 'https://www.google.com/search?q=&si=AC1wQDBZLVWWj3e53K8DDVqQxwwOo2ROcfWGLHdJ0x3YzEuqHJ-J8y-ATmxDxjHdGyc-I-aQ0qZpK7JppkKvcIjhe09xmK_eBYs5OQc_PYH-7AI4xtVvJG4mwNpyoOpiBO3V2Y5s1K3S1_WK9ZugSaAPFcqF_-WcGJP9wPzNGN3rZDdb-VTShg8wmcXNNg6WyCZgYsEuqoyjGwh6E9sePlrOBZj-NA04epYGIcY_0EcdhD7fptGi0qDKtqaZ_9moaNGyE39ya-7O6MsOBadI_YI1JhXAXMIlyF4BJWja5VAAhuDAZcI2voI%3D',\n",
       "    'showing': [{'time': ['10:10am', '1:20pm', '4:40pm', '7:50pm'],\n",
       "      'type': 'Standard'}]},\n",
       "   {'name': 'Sonic the Hedgehog 2',\n",
       "    'link': 'https://www.google.com/search?q=&si=AC1wQDBZLVWWj3e53K8DDVqQxwwOo2ROcfWGLHdJ0x3YzEuqHN5AgfXVvLKhhlKsBXqWH07RXgoBjoLoqGtmuKwOJd_3vz07Xv3mEvFUufHYBSAS6g0y1MEUeDT8T5Uv7KgxBcT7f4mh23C9DNxexYGNilhi6MxNcLI-hbUmldEpIZ_EPl6B5SQPe9h57RAPiPReFMMH-SXWb1XKyeVaH_rGSxmHwE_LKJY00dHYuIVrFSrpUpRzmgM-KkAtgOVcSZ8_22rj3I49dCz9vMVfYE0rr8Y6dbpOZ3k2wVTfDnkk3mDuhl4XHPA%3D',\n",
       "    'showing': [{'time': ['10:40am', '1:50pm', '4:50pm'],\n",
       "      'type': 'Standard'}]},\n",
       "   {'name': 'Operation Mincemeat',\n",
       "    'link': 'https://www.google.com/search?q=&si=AC1wQDBZLVWWj3e53K8DDVqQxwwOo2ROcfWGLHdJ0x3YzEuqHJW1NyusgRcQS97_vuca1Cn2og2DfwUO8Skrl8J0sldvwZsfrKKXZmsCnIkBgxvqCGsKHddBZ4WzbTGXr7B19ZD5kty49b--zIoKaJccsffa7Hkyp3_qfVEQp8vcxc1xnRogHkJKK2z7jha9hvbX219XWOXa0kEKQlXh_V5OqlraB_k3t5k2erJbqEnf_CASo48aMJxjgGPuEivJ9KxKt3CONh98sg_BvXlbtATbEcSNyvZYv9xtAf2jMdZy-ZgnnaRtHu0%3D',\n",
       "    'showing': [{'time': ['11:20am', '2:20pm', '8:20pm'],\n",
       "      'type': 'Standard'}]},\n",
       "   {'name': 'The Northman',\n",
       "    'link': 'https://www.google.com/search?q=&si=AC1wQDBZLVWWj3e53K8DDVqQxwwOo2ROcfWGLHdJ0x3YzEuqHM63hmTXL-6aLLj4EpC8MF97TK9dcl_rY5iDzzpqioDh3tJ_vPbPOEJB7vQ7tV7_gy4R-tiE9Kn-kDlUvC3o9g7u-1_hVHUgSZ8gsMHVzLUH8oD4wSA3rCVBCRtTzUiNNpQFvAvzyjK9J8-icK2xMVPCafC0TlCq_texJ17M9B3wEQda_Erq1trHYTsW8mgMSx5bSC9xyjaCDJ3TEbYARoX7gRCvC5y3gMwO0-BcQcpdPdVkLDIAyOjcyC54yq4rqVDndSs%3D',\n",
       "    'showing': [{'time': ['1:10pm', '5:15pm', '8:15pm'], 'type': 'Standard'}]},\n",
       "   {'name': 'The Bad Guys',\n",
       "    'link': 'https://www.google.com/search?q=&si=AC1wQDBZLVWWj3e53K8DDVqQxwwOo2ROcfWGLHdJ0x3YzEuqHG2BkedANUyTIvcAVGSrcc0pUljvRr6GHDTaUPmUtz8dwyrtY6UnyJWyjorpCoyp4ZhDjLissZZsyej84I8oGiy8lJUcK6I29Xk2u5BgocCTdPpZ2GjWF87kXOO9pD_HKairUef1jDcpsgt_3C4wDrdYEwTinPxmu_NW5HwKh97Izc79boj8IPkLs2tZxPYPnctCpjkHqlFz7sj2d3A_CfuUm-tZTo2j6IQoVIhusC_JNq6H5lceyAhAue0t4J2CZZ6FMf8%3D',\n",
       "    'showing': [{'time': ['10:00am', '4:20pm'], 'type': 'Standard'}]},\n",
       "   {'name': 'The Unbearable Weight of Massive Talent',\n",
       "    'link': 'https://www.google.com/search?q=&si=AC1wQDBZLVWWj3e53K8DDVqQxwwOo2ROcfWGLHdJ0x3YzEuqHE49do7Y0kppXLrMe1h3D-RvkPQREX8VnTkydV0FdaMGrZ8MS6-i6PTIUAUZzV9fKMJmr0ZzgvkSLwbq5zo7rhW7gMxr8PhqWchEvrmuhaHvotkAkoUy7uS0jda-t046n3E0A7OV3XUGczEK_TFCjDdLNEbZR4xkTmq5QMQ7oDseidNpbMGIkhDjWNXrOzL9GuHqgBlXqanQvM2G2Sc4jmXgazdOLzx8kslFSpZzu-tYf9gUCFjfHFbOePSGhU7FHbH2bQI%3D',\n",
       "    'showing': [{'time': ['10:20am'], 'type': 'Standard'}]},\n",
       "   {'name': 'CBI 5: The Brain',\n",
       "    'link': 'https://www.google.com/search?q=&si=AC1wQDBZLVWWj3e53K8DDVqQxwwOo2ROcfWGLHdJ0x3YzEuqHFjIQWpakODLTle2vcASk8YF0d4TabHRQqacWCofX55sIRGxkK_18bq7EkWIPUOb0ywpOeH-fgURjWEw2_1zMxV8BtCnaeI6Yo-JuCXvOoDYaic3ibP0FmgUelwJQX9dbCJ0GP9Ez448C_exsOqVgII1MhRiZ0Cd7bFIvhyXko360gsKBwbprfQ_o18lYLVqiYrugRE0T3eLWgUA6g5XGN_UMt-lYKWyeAJ9iXsCpXp1Yxb0wTPagWvysPfcjTKq7vqiHfU%3D',\n",
       "    'showing': [{'time': ['7:40pm'], 'type': 'Standard'}]},\n",
       "   {'name': 'Thunderball',\n",
       "    'link': 'https://www.google.com/search?q=&si=AC1wQDA4GlUsbTKZ6NOK7SG6ncD4L6sDTu-MjkulXQq3XoKgDhCr_IXfi-pfOFc8L7LjyWGs95Ew_2CAEmPgu1bvdkhfEjZ--d6blFfSNpmzKvo4rc46yjvbuQZ0rZJ3PFR9KSwhvmVUJuSV_2la1WaDG2k79BIVeFqB0TcPRFJv6pxl5VVlF8U883QxaBd9U0gc18WqbIAjvJ_ZeVCxh5IRKXRjV7C6lQ09i4hUwy4FNkQKrJ09InppFoEwPxPHAQp0GVrbnd01s3EcK6YjZXqVGC2xbqboLg%3D%3D',\n",
       "    'showing': [{'time': ['7:10pm'], 'type': 'Standard'}]}]},\n",
       " {'day': 'Tue',\n",
       "  'date': 'May 10',\n",
       "  'movies': [{'name': 'Doctor Strange in the Multiverse of Madness',\n",
       "    'link': 'https://www.google.com/search?q=&si=AC1wQDBZLVWWj3e53K8DDVqQxwwOo2ROcfWGLHdJ0x3YzEuqHKmh_y4wIc3ANyXsPB2jDYeyPiXG1g70y7RzIcseHJsVAcn8ZTVbe4DzstCtsCKPY_q0a0Xy3u849_ffmIOk4he8_o5u87bgoF74DBuE8ThYCyMbUXRVQIaJfzkYAkRAqOXRuRHotK6_3cICI-1iKCG_zwYMpTt7T0ZdqlqX_Hu3lofgwDacaxUyHZrZQsouWrJmbU71CLx245BwQ2IZRRIotNSPMVzcmi6FTx5eimXF7lpIBj7LLrlIidpfpYHX1Suy6B0%3D',\n",
       "    'showing': [{'time': ['10:00am',\n",
       "       '11:00am',\n",
       "       '12:00pm',\n",
       "       '1:00pm',\n",
       "       '2:00pm',\n",
       "       '3:00pm',\n",
       "       '4:00pm',\n",
       "       '5:00pm',\n",
       "       '6:00pm',\n",
       "       '7:00pm',\n",
       "       '8:00pm',\n",
       "       '9:00pm'],\n",
       "      'type': 'Standard'},\n",
       "     {'time': ['10:30am', '1:30pm', '4:30pm', '7:30pm'], 'type': 'IMAX'},\n",
       "     {'time': ['11:30am', '2:30pm', '5:30pm', '8:30pm'], 'type': '3D 4DX'},\n",
       "     {'time': ['12:30pm', '3:30pm', '6:30pm'], 'type': 'ScreenX'}]},\n",
       "   {'name': 'Downton Abbey: A New Era',\n",
       "    'link': 'https://www.google.com/search?q=&si=AC1wQDAGEQiTPWsvhpPV4-xl97Ace1RS_VszfB1e1tubY6WwDrBYpCpbAvMPfy7oy2tOUC38qS0GurJHFE-s-yAir_s9Ga-axo36WJvZFo5F_VsVjyWQR-eQh1tfvq_TEM0RFji29SdEm-9W-rOJTxEI00YZs7yvLplpvMxgWL6CvQU7AOCg57konngNfnjeXPq0jwaaexVAs4CtFynYGUIWO3sK93YY98S1o_JpENl0BleCYXucJj_RD_LPTDbeDzuW3Spem84k7jvfVmbiq4X8oTlxd10y8A%3D%3D',\n",
       "    'showing': [{'time': ['11:10am',\n",
       "       '12:40pm',\n",
       "       '2:10pm',\n",
       "       '3:40pm',\n",
       "       '5:10pm',\n",
       "       '6:40pm',\n",
       "       '8:10pm'],\n",
       "      'type': 'Standard'}]},\n",
       "   {'name': 'The Lost City',\n",
       "    'link': 'https://www.google.com/search?q=&si=AC1wQDBZLVWWj3e53K8DDVqQxwwOo2ROcfWGLHdJ0x3YzEuqHFkYzrXajqdELS7frHj1fFxkRs2REDuAHjokyrdQejJbtTlc6Mn0rebap-ty7cMWg-G79b04KtLlfkEZFHRgPhyHSzvdIQQOKE0lFrSmsMmxTv_Z0bXp4hWFSt9RW2rBx_t6unWLeu_XMEmhCjuDTPYbCNHBDDIXXOX3aJ1C7Uk0tDgRdy2wYKdzWeB9HcBiLDBWkLIO30oHEpU81zt35UMJslflRu-tHMmK3vo5DcDDa2e0XANS18SlhzHCAK3avW10O9Y%3D',\n",
       "    'showing': [{'time': ['12:10pm', '2:50pm', '5:40pm'],\n",
       "      'type': 'Standard'}]},\n",
       "   {'name': 'Fantastic Beasts: The Secrets of Dumbledore',\n",
       "    'link': 'https://www.google.com/search?q=&si=AC1wQDBZLVWWj3e53K8DDVqQxwwOo2ROcfWGLHdJ0x3YzEuqHJ-J8y-ATmxDxjHdGyc-I-aQ0qZpK7JppkKvcIjhe09xmK_eBYs5OQc_PYH-7AI4xtVvJG4mwNpyoOpiBO3V2Y5s1K3S1_WK9ZugSaAPFcqF_-WcGJP9wPzNGN3rZDdb-VTShg8wmcXNNg6WyCZgYsEuqoyjGwh6E9sePlrOBZj-NA04epYGIcY_0EcdhD7fptGi0qDKtqaZ_9moaNGyE39ya-7O6MsOBadI_YI1JhXAXMIlyF4BJWja5VAAhuDAZcI2voI%3D',\n",
       "    'showing': [{'time': ['10:10am', '1:20pm', '4:40pm', '7:50pm'],\n",
       "      'type': 'Standard'}]},\n",
       "   {'name': 'Sonic the Hedgehog 2',\n",
       "    'link': 'https://www.google.com/search?q=&si=AC1wQDBZLVWWj3e53K8DDVqQxwwOo2ROcfWGLHdJ0x3YzEuqHN5AgfXVvLKhhlKsBXqWH07RXgoBjoLoqGtmuKwOJd_3vz07Xv3mEvFUufHYBSAS6g0y1MEUeDT8T5Uv7KgxBcT7f4mh23C9DNxexYGNilhi6MxNcLI-hbUmldEpIZ_EPl6B5SQPe9h57RAPiPReFMMH-SXWb1XKyeVaH_rGSxmHwE_LKJY00dHYuIVrFSrpUpRzmgM-KkAtgOVcSZ8_22rj3I49dCz9vMVfYE0rr8Y6dbpOZ3k2wVTfDnkk3mDuhl4XHPA%3D',\n",
       "    'showing': [{'time': ['10:40am', '1:50pm', '4:50pm'],\n",
       "      'type': 'Standard'}]},\n",
       "   {'name': 'Operation Mincemeat',\n",
       "    'link': 'https://www.google.com/search?q=&si=AC1wQDBZLVWWj3e53K8DDVqQxwwOo2ROcfWGLHdJ0x3YzEuqHJW1NyusgRcQS97_vuca1Cn2og2DfwUO8Skrl8J0sldvwZsfrKKXZmsCnIkBgxvqCGsKHddBZ4WzbTGXr7B19ZD5kty49b--zIoKaJccsffa7Hkyp3_qfVEQp8vcxc1xnRogHkJKK2z7jha9hvbX219XWOXa0kEKQlXh_V5OqlraB_k3t5k2erJbqEnf_CASo48aMJxjgGPuEivJ9KxKt3CONh98sg_BvXlbtATbEcSNyvZYv9xtAf2jMdZy-ZgnnaRtHu0%3D',\n",
       "    'showing': [{'time': ['11:20am', '2:20pm', '8:20pm'],\n",
       "      'type': 'Standard'}]},\n",
       "   {'name': 'Everything Everywhere All at Once',\n",
       "    'link': 'https://www.google.com/search?q=&si=AC1wQDBZLVWWj3e53K8DDVqQxwwOo2ROcfWGLHdJ0x3YzEuqHPpddRX-91XE84pLeI1ZCIh38YZ74gRHtL8yNe-bS-WKef5N5diI5oeu2d777nDMoUTizbdIZiVOX54tad1ESQZcnx0CAqyEcFjLJKXfVc-xxSmDnsQhjmqUflMNH1lVAhUK7R0bxwo8-w05RfmqJLnX4dDeDWtlQqZBCet4pho6YjyqrOWkDnZY6IYOJ5vNUYPVJFazzaOKTI_j3rxyaGfcSCD1ojKk2W9SRO9jyVF_TlYcDGwe2mpEZsrfKodcJSzfZe4%3D',\n",
       "    'showing': [{'time': ['7:30pm'], 'type': 'Standard'}]},\n",
       "   {'name': 'The Northman',\n",
       "    'link': 'https://www.google.com/search?q=&si=AC1wQDBZLVWWj3e53K8DDVqQxwwOo2ROcfWGLHdJ0x3YzEuqHM63hmTXL-6aLLj4EpC8MF97TK9dcl_rY5iDzzpqioDh3tJ_vPbPOEJB7vQ7tV7_gy4R-tiE9Kn-kDlUvC3o9g7u-1_hVHUgSZ8gsMHVzLUH8oD4wSA3rCVBCRtTzUiNNpQFvAvzyjK9J8-icK2xMVPCafC0TlCq_texJ17M9B3wEQda_Erq1trHYTsW8mgMSx5bSC9xyjaCDJ3TEbYARoX7gRCvC5y3gMwO0-BcQcpdPdVkLDIAyOjcyC54yq4rqVDndSs%3D',\n",
       "    'showing': [{'time': ['1:10pm', '5:15pm', '8:15pm'], 'type': 'Standard'}]},\n",
       "   {'name': 'The Bad Guys',\n",
       "    'link': 'https://www.google.com/search?q=&si=AC1wQDBZLVWWj3e53K8DDVqQxwwOo2ROcfWGLHdJ0x3YzEuqHG2BkedANUyTIvcAVGSrcc0pUljvRr6GHDTaUPmUtz8dwyrtY6UnyJWyjorpCoyp4ZhDjLissZZsyej84I8oGiy8lJUcK6I29Xk2u5BgocCTdPpZ2GjWF87kXOO9pD_HKairUef1jDcpsgt_3C4wDrdYEwTinPxmu_NW5HwKh97Izc79boj8IPkLs2tZxPYPnctCpjkHqlFz7sj2d3A_CfuUm-tZTo2j6IQoVIhusC_JNq6H5lceyAhAue0t4J2CZZ6FMf8%3D',\n",
       "    'showing': [{'time': ['10:00am', '4:15pm'], 'type': 'Standard'}]},\n",
       "   {'name': 'The Unbearable Weight of Massive Talent',\n",
       "    'link': 'https://www.google.com/search?q=&si=AC1wQDBZLVWWj3e53K8DDVqQxwwOo2ROcfWGLHdJ0x3YzEuqHE49do7Y0kppXLrMe1h3D-RvkPQREX8VnTkydV0FdaMGrZ8MS6-i6PTIUAUZzV9fKMJmr0ZzgvkSLwbq5zo7rhW7gMxr8PhqWchEvrmuhaHvotkAkoUy7uS0jda-t046n3E0A7OV3XUGczEK_TFCjDdLNEbZR4xkTmq5QMQ7oDseidNpbMGIkhDjWNXrOzL9GuHqgBlXqanQvM2G2Sc4jmXgazdOLzx8kslFSpZzu-tYf9gUCFjfHFbOePSGhU7FHbH2bQI%3D',\n",
       "    'showing': [{'time': ['10:20am'], 'type': 'Standard'}]},\n",
       "   {'name': 'Dum Mastam',\n",
       "    'link': 'https://www.google.com/search?q=&si=AC1wQDBZLVWWj3e53K8DDVqQxwwOo2ROcfWGLHdJ0x3YzEuqHOPtQEsoVJd4EWnN5msipJY_QBVT72XH2uf973T_OaVBYZ2LVR6gwsecyyLEQhGS68K-f1vxG_0tGme9Ht5XVTi8SF9A8wldW0-u9KJOcJT-zjmurKNFmxy2RqlvNnvURY-0lZN2D67TGW4aKRUPNOzRncOyjyOJx-oMerTdRqSEd-SuaK2yUKayyoeGiDd1ml0y_nvQN5gW-1K_rDIZaEWNuus_A3xPXS_y6NV6Ot9ubxJxD5D1waz6KclAIS8s7pNNvFs%3D',\n",
       "    'showing': [{'time': ['7:40pm'], 'type': 'Standard'}]}]},\n",
       " {'day': 'Wed',\n",
       "  'date': 'May 11',\n",
       "  'movies': [{'name': 'Doctor Strange in the Multiverse of Madness',\n",
       "    'link': 'https://www.google.com/search?q=&si=AC1wQDBZLVWWj3e53K8DDVqQxwwOo2ROcfWGLHdJ0x3YzEuqHKmh_y4wIc3ANyXsPB2jDYeyPiXG1g70y7RzIcseHJsVAcn8ZTVbe4DzstCtsCKPY_q0a0Xy3u849_ffmIOk4he8_o5u87bgoF74DBuE8ThYCyMbUXRVQIaJfzkYAkRAqOXRuRHotK6_3cICI-1iKCG_zwYMpTt7T0ZdqlqX_Hu3lofgwDacaxUyHZrZQsouWrJmbU71CLx245BwQ2IZRRIotNSPMVzcmi6FTx5eimXF7lpIBj7LLrlIidpfpYHX1Suy6B0%3D',\n",
       "    'showing': [{'time': ['10:00am',\n",
       "       '11:00am',\n",
       "       '12:00pm',\n",
       "       '1:00pm',\n",
       "       '2:00pm',\n",
       "       '3:00pm',\n",
       "       '4:00pm',\n",
       "       '5:00pm',\n",
       "       '6:00pm',\n",
       "       '7:00pm',\n",
       "       '8:00pm',\n",
       "       '9:00pm'],\n",
       "      'type': 'Standard'},\n",
       "     {'time': ['10:30am', '1:30pm', '4:30pm', '7:30pm'], 'type': 'IMAX'},\n",
       "     {'time': ['11:30am', '2:30pm', '5:30pm', '8:30pm'], 'type': '3D 4DX'},\n",
       "     {'time': ['12:30pm', '3:30pm', '6:30pm'], 'type': 'ScreenX'}]},\n",
       "   {'name': 'Downton Abbey: A New Era',\n",
       "    'link': 'https://www.google.com/search?q=&si=AC1wQDAGEQiTPWsvhpPV4-xl97Ace1RS_VszfB1e1tubY6WwDrBYpCpbAvMPfy7oy2tOUC38qS0GurJHFE-s-yAir_s9Ga-axo36WJvZFo5F_VsVjyWQR-eQh1tfvq_TEM0RFji29SdEm-9W-rOJTxEI00YZs7yvLplpvMxgWL6CvQU7AOCg57konngNfnjeXPq0jwaaexVAs4CtFynYGUIWO3sK93YY98S1o_JpENl0BleCYXucJj_RD_LPTDbeDzuW3Spem84k7jvfVmbiq4X8oTlxd10y8A%3D%3D',\n",
       "    'showing': [{'time': ['11:10am',\n",
       "       '12:40pm',\n",
       "       '2:10pm',\n",
       "       '3:40pm',\n",
       "       '5:10pm',\n",
       "       '6:40pm',\n",
       "       '8:10pm'],\n",
       "      'type': 'Standard'}]},\n",
       "   {'name': 'The Lost City',\n",
       "    'link': 'https://www.google.com/search?q=&si=AC1wQDBZLVWWj3e53K8DDVqQxwwOo2ROcfWGLHdJ0x3YzEuqHFkYzrXajqdELS7frHj1fFxkRs2REDuAHjokyrdQejJbtTlc6Mn0rebap-ty7cMWg-G79b04KtLlfkEZFHRgPhyHSzvdIQQOKE0lFrSmsMmxTv_Z0bXp4hWFSt9RW2rBx_t6unWLeu_XMEmhCjuDTPYbCNHBDDIXXOX3aJ1C7Uk0tDgRdy2wYKdzWeB9HcBiLDBWkLIO30oHEpU81zt35UMJslflRu-tHMmK3vo5DcDDa2e0XANS18SlhzHCAK3avW10O9Y%3D',\n",
       "    'showing': [{'time': ['12:10pm', '2:50pm', '5:40pm'],\n",
       "      'type': 'Standard'}]},\n",
       "   {'name': 'Fantastic Beasts: The Secrets of Dumbledore',\n",
       "    'link': 'https://www.google.com/search?q=&si=AC1wQDBZLVWWj3e53K8DDVqQxwwOo2ROcfWGLHdJ0x3YzEuqHJ-J8y-ATmxDxjHdGyc-I-aQ0qZpK7JppkKvcIjhe09xmK_eBYs5OQc_PYH-7AI4xtVvJG4mwNpyoOpiBO3V2Y5s1K3S1_WK9ZugSaAPFcqF_-WcGJP9wPzNGN3rZDdb-VTShg8wmcXNNg6WyCZgYsEuqoyjGwh6E9sePlrOBZj-NA04epYGIcY_0EcdhD7fptGi0qDKtqaZ_9moaNGyE39ya-7O6MsOBadI_YI1JhXAXMIlyF4BJWja5VAAhuDAZcI2voI%3D',\n",
       "    'showing': [{'time': ['10:10am', '1:20pm', '4:40pm', '7:50pm'],\n",
       "      'type': 'Standard'}]},\n",
       "   {'name': 'Sonic the Hedgehog 2',\n",
       "    'link': 'https://www.google.com/search?q=&si=AC1wQDBZLVWWj3e53K8DDVqQxwwOo2ROcfWGLHdJ0x3YzEuqHN5AgfXVvLKhhlKsBXqWH07RXgoBjoLoqGtmuKwOJd_3vz07Xv3mEvFUufHYBSAS6g0y1MEUeDT8T5Uv7KgxBcT7f4mh23C9DNxexYGNilhi6MxNcLI-hbUmldEpIZ_EPl6B5SQPe9h57RAPiPReFMMH-SXWb1XKyeVaH_rGSxmHwE_LKJY00dHYuIVrFSrpUpRzmgM-KkAtgOVcSZ8_22rj3I49dCz9vMVfYE0rr8Y6dbpOZ3k2wVTfDnkk3mDuhl4XHPA%3D',\n",
       "    'showing': [{'time': ['10:40am', '1:50pm', '4:50pm'],\n",
       "      'type': 'Standard'}]},\n",
       "   {'name': 'Operation Mincemeat',\n",
       "    'link': 'https://www.google.com/search?q=&si=AC1wQDBZLVWWj3e53K8DDVqQxwwOo2ROcfWGLHdJ0x3YzEuqHJW1NyusgRcQS97_vuca1Cn2og2DfwUO8Skrl8J0sldvwZsfrKKXZmsCnIkBgxvqCGsKHddBZ4WzbTGXr7B19ZD5kty49b--zIoKaJccsffa7Hkyp3_qfVEQp8vcxc1xnRogHkJKK2z7jha9hvbX219XWOXa0kEKQlXh_V5OqlraB_k3t5k2erJbqEnf_CASo48aMJxjgGPuEivJ9KxKt3CONh98sg_BvXlbtATbEcSNyvZYv9xtAf2jMdZy-ZgnnaRtHu0%3D',\n",
       "    'showing': [{'time': ['11:50am', '2:50pm'], 'type': 'Standard'}]},\n",
       "   {'name': 'The Northman',\n",
       "    'link': 'https://www.google.com/search?q=&si=AC1wQDBZLVWWj3e53K8DDVqQxwwOo2ROcfWGLHdJ0x3YzEuqHM63hmTXL-6aLLj4EpC8MF97TK9dcl_rY5iDzzpqioDh3tJ_vPbPOEJB7vQ7tV7_gy4R-tiE9Kn-kDlUvC3o9g7u-1_hVHUgSZ8gsMHVzLUH8oD4wSA3rCVBCRtTzUiNNpQFvAvzyjK9J8-icK2xMVPCafC0TlCq_texJ17M9B3wEQda_Erq1trHYTsW8mgMSx5bSC9xyjaCDJ3TEbYARoX7gRCvC5y3gMwO0-BcQcpdPdVkLDIAyOjcyC54yq4rqVDndSs%3D',\n",
       "    'showing': [{'time': ['1:10pm', '8:40pm'], 'type': 'Standard'}]},\n",
       "   {'name': 'The Bad Guys',\n",
       "    'link': 'https://www.google.com/search?q=&si=AC1wQDBZLVWWj3e53K8DDVqQxwwOo2ROcfWGLHdJ0x3YzEuqHG2BkedANUyTIvcAVGSrcc0pUljvRr6GHDTaUPmUtz8dwyrtY6UnyJWyjorpCoyp4ZhDjLissZZsyej84I8oGiy8lJUcK6I29Xk2u5BgocCTdPpZ2GjWF87kXOO9pD_HKairUef1jDcpsgt_3C4wDrdYEwTinPxmu_NW5HwKh97Izc79boj8IPkLs2tZxPYPnctCpjkHqlFz7sj2d3A_CfuUm-tZTo2j6IQoVIhusC_JNq6H5lceyAhAue0t4J2CZZ6FMf8%3D',\n",
       "    'showing': [{'time': ['10:00am', '4:20pm'], 'type': 'Standard'}]},\n",
       "   {'name': 'The Unbearable Weight of Massive Talent',\n",
       "    'link': 'https://www.google.com/search?q=&si=AC1wQDBZLVWWj3e53K8DDVqQxwwOo2ROcfWGLHdJ0x3YzEuqHE49do7Y0kppXLrMe1h3D-RvkPQREX8VnTkydV0FdaMGrZ8MS6-i6PTIUAUZzV9fKMJmr0ZzgvkSLwbq5zo7rhW7gMxr8PhqWchEvrmuhaHvotkAkoUy7uS0jda-t046n3E0A7OV3XUGczEK_TFCjDdLNEbZR4xkTmq5QMQ7oDseidNpbMGIkhDjWNXrOzL9GuHqgBlXqanQvM2G2Sc4jmXgazdOLzx8kslFSpZzu-tYf9gUCFjfHFbOePSGhU7FHbH2bQI%3D',\n",
       "    'showing': [{'time': ['10:20am'], 'type': 'Standard'}]},\n",
       "   {'name': 'Sarkaru Vaari Paata',\n",
       "    'link': 'https://www.google.com/search?q=&si=AC1wQDBZLVWWj3e53K8DDVqQxwwOo2ROcfWGLHdJ0x3YzEuqHN1HsfmusADNJxBO-wdL_JsVP63l74AJCa9UdQauLQUGNQXMtw3wdFG_MAGk0livbkdP_wMTN_ag2Rye0Yo7OWg4VjjdqhwD-IZsJj4hO48g5sTyx8-02Qc1oENCM9MGTUDIW_JsR4o9O_AmfiLNkQz8JBMTAThHK6AcUhKm4uUd165rrEjKFj9x2r7tugIRn6UHxS5cvp0krmWb7qwckKdyzOCUcp7VttznWh7VB06EZuostpKTMTenmuEvhD4aCxr8frI%3D',\n",
       "    'showing': [{'time': ['7:50pm', '8:10pm'], 'type': 'Standard'}]}]},\n",
       " {'day': 'Thu',\n",
       "  'date': 'May 12',\n",
       "  'movies': [{'name': 'Doctor Strange in the Multiverse of Madness',\n",
       "    'link': 'https://www.google.com/search?q=&si=AC1wQDBZLVWWj3e53K8DDVqQxwwOo2ROcfWGLHdJ0x3YzEuqHKmh_y4wIc3ANyXsPB2jDYeyPiXG1g70y7RzIcseHJsVAcn8ZTVbe4DzstCtsCKPY_q0a0Xy3u849_ffmIOk4he8_o5u87bgoF74DBuE8ThYCyMbUXRVQIaJfzkYAkRAqOXRuRHotK6_3cICI-1iKCG_zwYMpTt7T0ZdqlqX_Hu3lofgwDacaxUyHZrZQsouWrJmbU71CLx245BwQ2IZRRIotNSPMVzcmi6FTx5eimXF7lpIBj7LLrlIidpfpYHX1Suy6B0%3D',\n",
       "    'showing': [{'time': ['10:00am',\n",
       "       '11:00am',\n",
       "       '12:00pm',\n",
       "       '1:00pm',\n",
       "       '2:00pm',\n",
       "       '3:00pm',\n",
       "       '4:00pm',\n",
       "       '5:00pm',\n",
       "       '6:00pm',\n",
       "       '7:00pm',\n",
       "       '8:00pm',\n",
       "       '9:00pm'],\n",
       "      'type': 'Standard'},\n",
       "     {'time': ['10:30am', '1:30pm', '4:30pm', '7:30pm'], 'type': 'IMAX'},\n",
       "     {'time': ['11:30am', '2:30pm', '5:30pm', '8:30pm'], 'type': '3D 4DX'},\n",
       "     {'time': ['12:30pm', '3:30pm', '6:30pm'], 'type': 'ScreenX'}]},\n",
       "   {'name': 'Downton Abbey: A New Era',\n",
       "    'link': 'https://www.google.com/search?q=&si=AC1wQDAGEQiTPWsvhpPV4-xl97Ace1RS_VszfB1e1tubY6WwDrBYpCpbAvMPfy7oy2tOUC38qS0GurJHFE-s-yAir_s9Ga-axo36WJvZFo5F_VsVjyWQR-eQh1tfvq_TEM0RFji29SdEm-9W-rOJTxEI00YZs7yvLplpvMxgWL6CvQU7AOCg57konngNfnjeXPq0jwaaexVAs4CtFynYGUIWO3sK93YY98S1o_JpENl0BleCYXucJj_RD_LPTDbeDzuW3Spem84k7jvfVmbiq4X8oTlxd10y8A%3D%3D',\n",
       "    'showing': [{'time': ['11:10am',\n",
       "       '12:40pm',\n",
       "       '2:10pm',\n",
       "       '3:40pm',\n",
       "       '5:10pm',\n",
       "       '6:40pm',\n",
       "       '8:10pm'],\n",
       "      'type': 'Standard'}]},\n",
       "   {'name': 'The Lost City',\n",
       "    'link': 'https://www.google.com/search?q=&si=AC1wQDBZLVWWj3e53K8DDVqQxwwOo2ROcfWGLHdJ0x3YzEuqHFkYzrXajqdELS7frHj1fFxkRs2REDuAHjokyrdQejJbtTlc6Mn0rebap-ty7cMWg-G79b04KtLlfkEZFHRgPhyHSzvdIQQOKE0lFrSmsMmxTv_Z0bXp4hWFSt9RW2rBx_t6unWLeu_XMEmhCjuDTPYbCNHBDDIXXOX3aJ1C7Uk0tDgRdy2wYKdzWeB9HcBiLDBWkLIO30oHEpU81zt35UMJslflRu-tHMmK3vo5DcDDa2e0XANS18SlhzHCAK3avW10O9Y%3D',\n",
       "    'showing': [{'time': ['12:10pm', '2:50pm', '5:40pm'],\n",
       "      'type': 'Standard'}]},\n",
       "   {'name': 'Fantastic Beasts: The Secrets of Dumbledore',\n",
       "    'link': 'https://www.google.com/search?q=&si=AC1wQDBZLVWWj3e53K8DDVqQxwwOo2ROcfWGLHdJ0x3YzEuqHJ-J8y-ATmxDxjHdGyc-I-aQ0qZpK7JppkKvcIjhe09xmK_eBYs5OQc_PYH-7AI4xtVvJG4mwNpyoOpiBO3V2Y5s1K3S1_WK9ZugSaAPFcqF_-WcGJP9wPzNGN3rZDdb-VTShg8wmcXNNg6WyCZgYsEuqoyjGwh6E9sePlrOBZj-NA04epYGIcY_0EcdhD7fptGi0qDKtqaZ_9moaNGyE39ya-7O6MsOBadI_YI1JhXAXMIlyF4BJWja5VAAhuDAZcI2voI%3D',\n",
       "    'showing': [{'time': ['10:10am', '1:20pm', '4:40pm', '7:10pm'],\n",
       "      'type': 'Standard'}]},\n",
       "   {'name': 'Sonic the Hedgehog 2',\n",
       "    'link': 'https://www.google.com/search?q=&si=AC1wQDBZLVWWj3e53K8DDVqQxwwOo2ROcfWGLHdJ0x3YzEuqHN5AgfXVvLKhhlKsBXqWH07RXgoBjoLoqGtmuKwOJd_3vz07Xv3mEvFUufHYBSAS6g0y1MEUeDT8T5Uv7KgxBcT7f4mh23C9DNxexYGNilhi6MxNcLI-hbUmldEpIZ_EPl6B5SQPe9h57RAPiPReFMMH-SXWb1XKyeVaH_rGSxmHwE_LKJY00dHYuIVrFSrpUpRzmgM-KkAtgOVcSZ8_22rj3I49dCz9vMVfYE0rr8Y6dbpOZ3k2wVTfDnkk3mDuhl4XHPA%3D',\n",
       "    'showing': [{'time': ['10:40am', '1:50pm', '4:50pm'],\n",
       "      'type': 'Standard'}]},\n",
       "   {'name': 'Operation Mincemeat',\n",
       "    'link': 'https://www.google.com/search?q=&si=AC1wQDBZLVWWj3e53K8DDVqQxwwOo2ROcfWGLHdJ0x3YzEuqHJW1NyusgRcQS97_vuca1Cn2og2DfwUO8Skrl8J0sldvwZsfrKKXZmsCnIkBgxvqCGsKHddBZ4WzbTGXr7B19ZD5kty49b--zIoKaJccsffa7Hkyp3_qfVEQp8vcxc1xnRogHkJKK2z7jha9hvbX219XWOXa0kEKQlXh_V5OqlraB_k3t5k2erJbqEnf_CASo48aMJxjgGPuEivJ9KxKt3CONh98sg_BvXlbtATbEcSNyvZYv9xtAf2jMdZy-ZgnnaRtHu0%3D',\n",
       "    'showing': [{'time': ['11:20am', '2:20pm', '8:20pm'],\n",
       "      'type': 'Standard'}]},\n",
       "   {'name': 'The Northman',\n",
       "    'link': 'https://www.google.com/search?q=&si=AC1wQDBZLVWWj3e53K8DDVqQxwwOo2ROcfWGLHdJ0x3YzEuqHM63hmTXL-6aLLj4EpC8MF97TK9dcl_rY5iDzzpqioDh3tJ_vPbPOEJB7vQ7tV7_gy4R-tiE9Kn-kDlUvC3o9g7u-1_hVHUgSZ8gsMHVzLUH8oD4wSA3rCVBCRtTzUiNNpQFvAvzyjK9J8-icK2xMVPCafC0TlCq_texJ17M9B3wEQda_Erq1trHYTsW8mgMSx5bSC9xyjaCDJ3TEbYARoX7gRCvC5y3gMwO0-BcQcpdPdVkLDIAyOjcyC54yq4rqVDndSs%3D',\n",
       "    'showing': [{'time': ['1:10pm', '5:15pm'], 'type': 'Standard'}]},\n",
       "   {'name': 'The Bad Guys',\n",
       "    'link': 'https://www.google.com/search?q=&si=AC1wQDBZLVWWj3e53K8DDVqQxwwOo2ROcfWGLHdJ0x3YzEuqHG2BkedANUyTIvcAVGSrcc0pUljvRr6GHDTaUPmUtz8dwyrtY6UnyJWyjorpCoyp4ZhDjLissZZsyej84I8oGiy8lJUcK6I29Xk2u5BgocCTdPpZ2GjWF87kXOO9pD_HKairUef1jDcpsgt_3C4wDrdYEwTinPxmu_NW5HwKh97Izc79boj8IPkLs2tZxPYPnctCpjkHqlFz7sj2d3A_CfuUm-tZTo2j6IQoVIhusC_JNq6H5lceyAhAue0t4J2CZZ6FMf8%3D',\n",
       "    'showing': [{'time': ['10:00am', '4:20pm'], 'type': 'Standard'}]},\n",
       "   {'name': 'The Unbearable Weight of Massive Talent',\n",
       "    'link': 'https://www.google.com/search?q=&si=AC1wQDBZLVWWj3e53K8DDVqQxwwOo2ROcfWGLHdJ0x3YzEuqHE49do7Y0kppXLrMe1h3D-RvkPQREX8VnTkydV0FdaMGrZ8MS6-i6PTIUAUZzV9fKMJmr0ZzgvkSLwbq5zo7rhW7gMxr8PhqWchEvrmuhaHvotkAkoUy7uS0jda-t046n3E0A7OV3XUGczEK_TFCjDdLNEbZR4xkTmq5QMQ7oDseidNpbMGIkhDjWNXrOzL9GuHqgBlXqanQvM2G2Sc4jmXgazdOLzx8kslFSpZzu-tYf9gUCFjfHFbOePSGhU7FHbH2bQI%3D',\n",
       "    'showing': [{'time': ['10:20am'], 'type': 'Standard'}]},\n",
       "   {'name': 'Dum Mastam',\n",
       "    'link': 'https://www.google.com/search?q=&si=AC1wQDBZLVWWj3e53K8DDVqQxwwOo2ROcfWGLHdJ0x3YzEuqHOPtQEsoVJd4EWnN5msipJY_QBVT72XH2uf973T_OaVBYZ2LVR6gwsecyyLEQhGS68K-f1vxG_0tGme9Ht5XVTi8SF9A8wldW0-u9KJOcJT-zjmurKNFmxy2RqlvNnvURY-0lZN2D67TGW4aKRUPNOzRncOyjyOJx-oMerTdRqSEd-SuaK2yUKayyoeGiDd1ml0y_nvQN5gW-1K_rDIZaEWNuus_A3xPXS_y6NV6Ot9ubxJxD5D1waz6KclAIS8s7pNNvFs%3D',\n",
       "    'showing': [{'time': ['7:40pm'], 'type': 'Standard'}]},\n",
       "   {'name': 'Sarkaru Vaari Paata',\n",
       "    'link': 'https://www.google.com/search?q=&si=AC1wQDBZLVWWj3e53K8DDVqQxwwOo2ROcfWGLHdJ0x3YzEuqHN1HsfmusADNJxBO-wdL_JsVP63l74AJCa9UdQauLQUGNQXMtw3wdFG_MAGk0livbkdP_wMTN_ag2Rye0Yo7OWg4VjjdqhwD-IZsJj4hO48g5sTyx8-02Qc1oENCM9MGTUDIW_JsR4o9O_AmfiLNkQz8JBMTAThHK6AcUhKm4uUd165rrEjKFj9x2r7tugIRn6UHxS5cvp0krmWb7qwckKdyzOCUcp7VttznWh7VB06EZuostpKTMTenmuEvhD4aCxr8frI%3D',\n",
       "    'showing': [{'time': ['7:50pm', '8:20pm'], 'type': 'Standard'}]}]},\n",
       " {'day': 'Fri',\n",
       "  'date': 'May 13',\n",
       "  'movies': [{'name': 'Doctor Strange in the Multiverse of Madness',\n",
       "    'link': 'https://www.google.com/search?q=&si=AC1wQDBZLVWWj3e53K8DDVqQxwwOo2ROcfWGLHdJ0x3YzEuqHKmh_y4wIc3ANyXsPB2jDYeyPiXG1g70y7RzIcseHJsVAcn8ZTVbe4DzstCtsCKPY_q0a0Xy3u849_ffmIOk4he8_o5u87bgoF74DBuE8ThYCyMbUXRVQIaJfzkYAkRAqOXRuRHotK6_3cICI-1iKCG_zwYMpTt7T0ZdqlqX_Hu3lofgwDacaxUyHZrZQsouWrJmbU71CLx245BwQ2IZRRIotNSPMVzcmi6FTx5eimXF7lpIBj7LLrlIidpfpYHX1Suy6B0%3D',\n",
       "    'showing': [{'time': ['1:00pm', '4:00pm', '7:00pm', '10:00pm'],\n",
       "      'type': 'Standard'},\n",
       "     {'time': ['1:30pm', '4:30pm', '7:30pm', '10:30pm'], 'type': 'IMAX'},\n",
       "     {'time': ['2:30pm', '5:30pm', '8:30pm'], 'type': '3D 4DX'},\n",
       "     {'time': ['12:30pm', '3:30pm', '6:30pm', '9:30pm'], 'type': 'ScreenX'}]},\n",
       "   {'name': 'Everything Everywhere All at Once',\n",
       "    'link': 'https://www.google.com/search?q=&si=AC1wQDBZLVWWj3e53K8DDVqQxwwOo2ROcfWGLHdJ0x3YzEuqHPpddRX-91XE84pLeI1ZCIh38YZ74gRHtL8yNe-bS-WKef5N5diI5oeu2d777nDMoUTizbdIZiVOX54tad1ESQZcnx0CAqyEcFjLJKXfVc-xxSmDnsQhjmqUflMNH1lVAhUK7R0bxwo8-w05RfmqJLnX4dDeDWtlQqZBCet4pho6YjyqrOWkDnZY6IYOJ5vNUYPVJFazzaOKTI_j3rxyaGfcSCD1ojKk2W9SRO9jyVF_TlYcDGwe2mpEZsrfKodcJSzfZe4%3D',\n",
       "    'showing': [{'time': ['1:30pm', '4:40pm', '7:50pm'],\n",
       "      'type': 'Standard'}]}]},\n",
       " {'day': 'Sat',\n",
       "  'date': 'May 14',\n",
       "  'movies': [{'name': 'Doctor Strange in the Multiverse of Madness',\n",
       "    'link': 'https://www.google.com/search?q=&si=AC1wQDBZLVWWj3e53K8DDVqQxwwOo2ROcfWGLHdJ0x3YzEuqHKmh_y4wIc3ANyXsPB2jDYeyPiXG1g70y7RzIcseHJsVAcn8ZTVbe4DzstCtsCKPY_q0a0Xy3u849_ffmIOk4he8_o5u87bgoF74DBuE8ThYCyMbUXRVQIaJfzkYAkRAqOXRuRHotK6_3cICI-1iKCG_zwYMpTt7T0ZdqlqX_Hu3lofgwDacaxUyHZrZQsouWrJmbU71CLx245BwQ2IZRRIotNSPMVzcmi6FTx5eimXF7lpIBj7LLrlIidpfpYHX1Suy6B0%3D',\n",
       "    'showing': [{'time': ['1:00pm', '4:00pm', '7:00pm', '10:00pm'],\n",
       "      'type': 'Standard'},\n",
       "     {'time': ['1:30pm', '4:30pm', '7:30pm', '10:30pm'], 'type': 'IMAX'},\n",
       "     {'time': ['11:30am', '2:30pm', '5:30pm', '8:30pm'], 'type': '3D 4DX'},\n",
       "     {'time': ['12:30pm', '3:30pm', '6:30pm', '9:30pm'], 'type': 'ScreenX'}]},\n",
       "   {'name': 'Everything Everywhere All at Once',\n",
       "    'link': 'https://www.google.com/search?q=&si=AC1wQDBZLVWWj3e53K8DDVqQxwwOo2ROcfWGLHdJ0x3YzEuqHPpddRX-91XE84pLeI1ZCIh38YZ74gRHtL8yNe-bS-WKef5N5diI5oeu2d777nDMoUTizbdIZiVOX54tad1ESQZcnx0CAqyEcFjLJKXfVc-xxSmDnsQhjmqUflMNH1lVAhUK7R0bxwo8-w05RfmqJLnX4dDeDWtlQqZBCet4pho6YjyqrOWkDnZY6IYOJ5vNUYPVJFazzaOKTI_j3rxyaGfcSCD1ojKk2W9SRO9jyVF_TlYcDGwe2mpEZsrfKodcJSzfZe4%3D',\n",
       "    'showing': [{'time': ['1:30pm', '4:40pm', '7:50pm'],\n",
       "      'type': 'Standard'}]}]},\n",
       " {'day': 'Sun',\n",
       "  'date': 'May 15',\n",
       "  'movies': [{'name': 'Doctor Strange in the Multiverse of Madness',\n",
       "    'link': 'https://www.google.com/search?q=&si=AC1wQDBZLVWWj3e53K8DDVqQxwwOo2ROcfWGLHdJ0x3YzEuqHKmh_y4wIc3ANyXsPB2jDYeyPiXG1g70y7RzIcseHJsVAcn8ZTVbe4DzstCtsCKPY_q0a0Xy3u849_ffmIOk4he8_o5u87bgoF74DBuE8ThYCyMbUXRVQIaJfzkYAkRAqOXRuRHotK6_3cICI-1iKCG_zwYMpTt7T0ZdqlqX_Hu3lofgwDacaxUyHZrZQsouWrJmbU71CLx245BwQ2IZRRIotNSPMVzcmi6FTx5eimXF7lpIBj7LLrlIidpfpYHX1Suy6B0%3D',\n",
       "    'showing': [{'time': ['1:00pm', '4:00pm', '7:00pm'], 'type': 'Standard'},\n",
       "     {'time': ['1:30pm', '4:30pm', '7:30pm'], 'type': 'IMAX'},\n",
       "     {'time': ['11:30am', '2:30pm', '5:30pm', '8:30pm'], 'type': '3D 4DX'},\n",
       "     {'time': ['12:30pm', '3:30pm', '6:30pm'], 'type': 'ScreenX'}]},\n",
       "   {'name': 'Everything Everywhere All at Once',\n",
       "    'link': 'https://www.google.com/search?q=&si=AC1wQDBZLVWWj3e53K8DDVqQxwwOo2ROcfWGLHdJ0x3YzEuqHPpddRX-91XE84pLeI1ZCIh38YZ74gRHtL8yNe-bS-WKef5N5diI5oeu2d777nDMoUTizbdIZiVOX54tad1ESQZcnx0CAqyEcFjLJKXfVc-xxSmDnsQhjmqUflMNH1lVAhUK7R0bxwo8-w05RfmqJLnX4dDeDWtlQqZBCet4pho6YjyqrOWkDnZY6IYOJ5vNUYPVJFazzaOKTI_j3rxyaGfcSCD1ojKk2W9SRO9jyVF_TlYcDGwe2mpEZsrfKodcJSzfZe4%3D',\n",
       "    'showing': [{'time': ['1:30pm', '4:40pm', '7:50pm'],\n",
       "      'type': 'Standard'}]}]}]"
      ]
     },
     "execution_count": 73,
     "metadata": {},
     "output_type": "execute_result"
    }
   ],
   "source": [
    "showtimes"
   ]
  },
  {
   "cell_type": "code",
   "execution_count": 69,
   "id": "f14fbae1",
   "metadata": {},
   "outputs": [
    {
     "data": {
      "text/plain": [
       "['ホリック xxxHOLiC',\n",
       " 'Tonbi',\n",
       " '劇場版ラジエーションハウス',\n",
       " 'Jujutsu Kaisen 0',\n",
       " 'Sing 2',\n",
       " \"C'mon C'mon\",\n",
       " '映画 おそ松さん',\n",
       " 'Free! – the Final Stroke – the first volume',\n",
       " 'Doctor Strange in the Multiverse of Madness',\n",
       " 'Crayon Shin-chan: Mononoke Ninja Chinpūden',\n",
       " 'Fantastic Beasts: The Secrets of Dumbledore',\n",
       " '余命10年',\n",
       " 'Detective Conan: The Bride Of Halloween']"
      ]
     },
     "execution_count": 69,
     "metadata": {},
     "output_type": "execute_result"
    }
   ],
   "source": [
    "movie_list(showtimes)"
   ]
  },
  {
   "cell_type": "code",
   "execution_count": 51,
   "id": "61450582",
   "metadata": {},
   "outputs": [
    {
     "data": {
      "text/plain": [
       "'Doctor Strange in the Multiverse of Madness'"
      ]
     },
     "execution_count": 51,
     "metadata": {},
     "output_type": "execute_result"
    }
   ],
   "source": [
    "showtimes[0]['movies'][0]['name']"
   ]
  },
  {
   "cell_type": "code",
   "execution_count": 74,
   "id": "5e5acb65",
   "metadata": {},
   "outputs": [],
   "source": [
    "movie_list = set()\n",
    "for day in showtimes:\n",
    "    for movie in day['movies']:\n",
    "        movie_list.add(movie['name'])"
   ]
  },
  {
   "cell_type": "code",
   "execution_count": 72,
   "id": "5cbec34f",
   "metadata": {},
   "outputs": [
    {
     "data": {
      "text/plain": [
       "{'CBI 5: The Brain',\n",
       " 'Doctor Strange in the Multiverse of Madness',\n",
       " 'Downton Abbey: A New Era',\n",
       " 'Dum Mastam',\n",
       " 'Everything Everywhere All at Once',\n",
       " 'Fantastic Beasts: The Secrets of Dumbledore',\n",
       " 'Operation Mincemeat',\n",
       " 'Sarkaru Vaari Paata',\n",
       " 'Sonic the Hedgehog 2',\n",
       " 'The Bad Guys',\n",
       " 'The Lost City',\n",
       " 'The Northman',\n",
       " 'The Unbearable Weight of Massive Talent',\n",
       " 'Thunderball'}"
      ]
     },
     "execution_count": 72,
     "metadata": {},
     "output_type": "execute_result"
    }
   ],
   "source": [
    "sett"
   ]
  },
  {
   "cell_type": "code",
   "execution_count": 76,
   "id": "57c8ca8f",
   "metadata": {},
   "outputs": [],
   "source": [
    "days = [day['movies'] for day in showtimes]"
   ]
  },
  {
   "cell_type": "code",
   "execution_count": 86,
   "id": "24122230",
   "metadata": {},
   "outputs": [],
   "source": [
    "movies = [movie[0]['name'] for movie in days]"
   ]
  },
  {
   "cell_type": "code",
   "execution_count": 157,
   "id": "bec5d806",
   "metadata": {},
   "outputs": [
    {
     "data": {
      "text/plain": [
       "[{'CBI 5: The Brain',\n",
       "  'Doctor Strange in the Multiverse of Madness',\n",
       "  'Downton Abbey: A New Era',\n",
       "  'Dum Mastam',\n",
       "  'Everything Everywhere All at Once',\n",
       "  'Fantastic Beasts: The Secrets of Dumbledore',\n",
       "  'Operation Mincemeat',\n",
       "  'Sarkaru Vaari Paata',\n",
       "  'Sonic the Hedgehog 2',\n",
       "  'The Bad Guys',\n",
       "  'The Lost City',\n",
       "  'The Northman',\n",
       "  'The Unbearable Weight of Massive Talent',\n",
       "  'Thunderball'}]"
      ]
     },
     "execution_count": 157,
     "metadata": {},
     "output_type": "execute_result"
    }
   ],
   "source": [
    "{movie['name'] for day in showtimes for movie in day['movies']}"
   ]
  },
  {
   "cell_type": "code",
   "execution_count": 155,
   "id": "90ddc619",
   "metadata": {},
   "outputs": [
    {
     "name": "stdout",
     "output_type": "stream",
     "text": [
      "Doctor Strange in the Multiverse of Madness\n",
      "Downton Abbey: A New Era\n",
      "The Lost City\n",
      "Fantastic Beasts: The Secrets of Dumbledore\n",
      "Sonic the Hedgehog 2\n",
      "Operation Mincemeat\n",
      "The Northman\n",
      "The Bad Guys\n",
      "The Unbearable Weight of Massive Talent\n",
      "CBI 5: The Brain\n",
      "Thunderball\n",
      "Doctor Strange in the Multiverse of Madness\n",
      "Downton Abbey: A New Era\n",
      "The Lost City\n",
      "Fantastic Beasts: The Secrets of Dumbledore\n",
      "Sonic the Hedgehog 2\n",
      "Operation Mincemeat\n",
      "Everything Everywhere All at Once\n",
      "The Northman\n",
      "The Bad Guys\n",
      "The Unbearable Weight of Massive Talent\n",
      "Dum Mastam\n",
      "Doctor Strange in the Multiverse of Madness\n",
      "Downton Abbey: A New Era\n",
      "The Lost City\n",
      "Fantastic Beasts: The Secrets of Dumbledore\n",
      "Sonic the Hedgehog 2\n",
      "Operation Mincemeat\n",
      "The Northman\n",
      "The Bad Guys\n",
      "The Unbearable Weight of Massive Talent\n",
      "Sarkaru Vaari Paata\n",
      "Doctor Strange in the Multiverse of Madness\n",
      "Downton Abbey: A New Era\n",
      "The Lost City\n",
      "Fantastic Beasts: The Secrets of Dumbledore\n",
      "Sonic the Hedgehog 2\n",
      "Operation Mincemeat\n",
      "The Northman\n",
      "The Bad Guys\n",
      "The Unbearable Weight of Massive Talent\n",
      "Dum Mastam\n",
      "Sarkaru Vaari Paata\n",
      "Doctor Strange in the Multiverse of Madness\n",
      "Everything Everywhere All at Once\n",
      "Doctor Strange in the Multiverse of Madness\n",
      "Everything Everywhere All at Once\n",
      "Doctor Strange in the Multiverse of Madness\n",
      "Everything Everywhere All at Once\n"
     ]
    }
   ],
   "source": [
    "for day in showtimes:\n",
    "    for movie in day['movies']:\n",
    "        print(movie['name'])"
   ]
  },
  {
   "cell_type": "code",
   "execution_count": null,
   "id": "409a84e4",
   "metadata": {},
   "outputs": [],
   "source": []
  },
  {
   "cell_type": "code",
   "execution_count": null,
   "id": "87dcc484",
   "metadata": {},
   "outputs": [],
   "source": []
  },
  {
   "cell_type": "code",
   "execution_count": null,
   "id": "aa43b6fb",
   "metadata": {},
   "outputs": [],
   "source": []
  },
  {
   "cell_type": "code",
   "execution_count": 130,
   "id": "c3ce6d4f",
   "metadata": {},
   "outputs": [],
   "source": [
    "ll = [[movie['name'] for movie in day] for day in days]"
   ]
  },
  {
   "cell_type": "code",
   "execution_count": 131,
   "id": "3a033011",
   "metadata": {
    "scrolled": true
   },
   "outputs": [
    {
     "data": {
      "text/plain": [
       "[['Doctor Strange in the Multiverse of Madness',\n",
       "  'Downton Abbey: A New Era',\n",
       "  'The Lost City',\n",
       "  'Fantastic Beasts: The Secrets of Dumbledore',\n",
       "  'Sonic the Hedgehog 2',\n",
       "  'Operation Mincemeat',\n",
       "  'The Northman',\n",
       "  'The Bad Guys',\n",
       "  'The Unbearable Weight of Massive Talent',\n",
       "  'CBI 5: The Brain',\n",
       "  'Thunderball'],\n",
       " ['Doctor Strange in the Multiverse of Madness',\n",
       "  'Downton Abbey: A New Era',\n",
       "  'The Lost City',\n",
       "  'Fantastic Beasts: The Secrets of Dumbledore',\n",
       "  'Sonic the Hedgehog 2',\n",
       "  'Operation Mincemeat',\n",
       "  'Everything Everywhere All at Once',\n",
       "  'The Northman',\n",
       "  'The Bad Guys',\n",
       "  'The Unbearable Weight of Massive Talent',\n",
       "  'Dum Mastam'],\n",
       " ['Doctor Strange in the Multiverse of Madness',\n",
       "  'Downton Abbey: A New Era',\n",
       "  'The Lost City',\n",
       "  'Fantastic Beasts: The Secrets of Dumbledore',\n",
       "  'Sonic the Hedgehog 2',\n",
       "  'Operation Mincemeat',\n",
       "  'The Northman',\n",
       "  'The Bad Guys',\n",
       "  'The Unbearable Weight of Massive Talent',\n",
       "  'Sarkaru Vaari Paata'],\n",
       " ['Doctor Strange in the Multiverse of Madness',\n",
       "  'Downton Abbey: A New Era',\n",
       "  'The Lost City',\n",
       "  'Fantastic Beasts: The Secrets of Dumbledore',\n",
       "  'Sonic the Hedgehog 2',\n",
       "  'Operation Mincemeat',\n",
       "  'The Northman',\n",
       "  'The Bad Guys',\n",
       "  'The Unbearable Weight of Massive Talent',\n",
       "  'Dum Mastam',\n",
       "  'Sarkaru Vaari Paata'],\n",
       " ['Doctor Strange in the Multiverse of Madness',\n",
       "  'Everything Everywhere All at Once'],\n",
       " ['Doctor Strange in the Multiverse of Madness',\n",
       "  'Everything Everywhere All at Once'],\n",
       " ['Doctor Strange in the Multiverse of Madness',\n",
       "  'Everything Everywhere All at Once']]"
      ]
     },
     "execution_count": 131,
     "metadata": {},
     "output_type": "execute_result"
    }
   ],
   "source": [
    "ll"
   ]
  },
  {
   "cell_type": "code",
   "execution_count": 134,
   "id": "11ee7d91",
   "metadata": {},
   "outputs": [],
   "source": [
    "for l in ll:\n",
    "    {movie for movie in l}"
   ]
  },
  {
   "cell_type": "code",
   "execution_count": 125,
   "id": "b057e4bb",
   "metadata": {},
   "outputs": [
    {
     "name": "stdout",
     "output_type": "stream",
     "text": [
      "Doctor Strange in the Multiverse of Madness\n",
      "Downton Abbey: A New Era\n",
      "The Lost City\n",
      "Fantastic Beasts: The Secrets of Dumbledore\n",
      "Sonic the Hedgehog 2\n",
      "Operation Mincemeat\n",
      "The Northman\n",
      "The Bad Guys\n",
      "The Unbearable Weight of Massive Talent\n",
      "CBI 5: The Brain\n",
      "Thunderball\n",
      "Doctor Strange in the Multiverse of Madness\n",
      "Downton Abbey: A New Era\n",
      "The Lost City\n",
      "Fantastic Beasts: The Secrets of Dumbledore\n",
      "Sonic the Hedgehog 2\n",
      "Operation Mincemeat\n",
      "Everything Everywhere All at Once\n",
      "The Northman\n",
      "The Bad Guys\n",
      "The Unbearable Weight of Massive Talent\n",
      "Dum Mastam\n",
      "Doctor Strange in the Multiverse of Madness\n",
      "Downton Abbey: A New Era\n",
      "The Lost City\n",
      "Fantastic Beasts: The Secrets of Dumbledore\n",
      "Sonic the Hedgehog 2\n",
      "Operation Mincemeat\n",
      "The Northman\n",
      "The Bad Guys\n",
      "The Unbearable Weight of Massive Talent\n",
      "Sarkaru Vaari Paata\n",
      "Doctor Strange in the Multiverse of Madness\n",
      "Downton Abbey: A New Era\n",
      "The Lost City\n",
      "Fantastic Beasts: The Secrets of Dumbledore\n",
      "Sonic the Hedgehog 2\n",
      "Operation Mincemeat\n",
      "The Northman\n",
      "The Bad Guys\n",
      "The Unbearable Weight of Massive Talent\n",
      "Dum Mastam\n",
      "Sarkaru Vaari Paata\n",
      "Doctor Strange in the Multiverse of Madness\n",
      "Everything Everywhere All at Once\n",
      "Doctor Strange in the Multiverse of Madness\n",
      "Everything Everywhere All at Once\n",
      "Doctor Strange in the Multiverse of Madness\n",
      "Everything Everywhere All at Once\n"
     ]
    }
   ],
   "source": [
    "for day in days:\n",
    "    for movie in day:\n",
    "        print(movie['name'])"
   ]
  },
  {
   "cell_type": "code",
   "execution_count": 149,
   "id": "9815da04",
   "metadata": {},
   "outputs": [],
   "source": [
    "l = [['40', '20', '10', '30'], ['20', '20', '20', '20', '20', '30', '20'], ['30', '20', '30', '50', '10', '30', ['20', '20', '20']], ['100', ['100']], ['100', '100', '100', '100', '100'], [['100'], '100', '100', '100']]"
   ]
  },
  {
   "cell_type": "code",
   "execution_count": 150,
   "id": "a628fa1d",
   "metadata": {},
   "outputs": [
    {
     "data": {
      "text/plain": [
       "[['40', '20', '10', '30'],\n",
       " ['20', '20', '20', '20', '20', '30', '20'],\n",
       " ['30', '20', '30', '50', '10', '30', ['20', '20', '20']],\n",
       " ['100', ['100']],\n",
       " ['100', '100', '100', '100', '100'],\n",
       " [['100'], '100', '100', '100']]"
      ]
     },
     "execution_count": 150,
     "metadata": {},
     "output_type": "execute_result"
    }
   ],
   "source": [
    "l"
   ]
  },
  {
   "cell_type": "code",
   "execution_count": 147,
   "id": "94ec998e",
   "metadata": {},
   "outputs": [
    {
     "data": {
      "text/plain": [
       "'40'"
      ]
     },
     "execution_count": 147,
     "metadata": {},
     "output_type": "execute_result"
    }
   ],
   "source": [
    "l[0][0] # l[ml][y]"
   ]
  },
  {
   "cell_type": "code",
   "execution_count": 153,
   "id": "2d7b6fe1",
   "metadata": {},
   "outputs": [
    {
     "ename": "TypeError",
     "evalue": "'float' object is not iterable",
     "output_type": "error",
     "traceback": [
      "\u001b[0;31m---------------------------------------------------------------------------\u001b[0m",
      "\u001b[0;31mTypeError\u001b[0m                                 Traceback (most recent call last)",
      "\u001b[0;32m/tmp/ipykernel_3563/736602170.py\u001b[0m in \u001b[0;36m<module>\u001b[0;34m\u001b[0m\n\u001b[0;32m----> 1\u001b[0;31m \u001b[0;34m[\u001b[0m\u001b[0my\u001b[0m \u001b[0;32mfor\u001b[0m \u001b[0mml\u001b[0m \u001b[0;32min\u001b[0m \u001b[0ml\u001b[0m \u001b[0;32mfor\u001b[0m \u001b[0mmml\u001b[0m \u001b[0;32min\u001b[0m \u001b[0mml\u001b[0m \u001b[0;32mfor\u001b[0m \u001b[0my\u001b[0m \u001b[0;32min\u001b[0m \u001b[0mfloat\u001b[0m\u001b[0;34m(\u001b[0m\u001b[0mmml\u001b[0m\u001b[0;34m)\u001b[0m\u001b[0;34m]\u001b[0m\u001b[0;34m\u001b[0m\u001b[0;34m\u001b[0m\u001b[0m\n\u001b[0m",
      "\u001b[0;32m/tmp/ipykernel_3563/736602170.py\u001b[0m in \u001b[0;36m<listcomp>\u001b[0;34m(.0)\u001b[0m\n\u001b[0;32m----> 1\u001b[0;31m \u001b[0;34m[\u001b[0m\u001b[0my\u001b[0m \u001b[0;32mfor\u001b[0m \u001b[0mml\u001b[0m \u001b[0;32min\u001b[0m \u001b[0ml\u001b[0m \u001b[0;32mfor\u001b[0m \u001b[0mmml\u001b[0m \u001b[0;32min\u001b[0m \u001b[0mml\u001b[0m \u001b[0;32mfor\u001b[0m \u001b[0my\u001b[0m \u001b[0;32min\u001b[0m \u001b[0mfloat\u001b[0m\u001b[0;34m(\u001b[0m\u001b[0mmml\u001b[0m\u001b[0;34m)\u001b[0m\u001b[0;34m]\u001b[0m\u001b[0;34m\u001b[0m\u001b[0;34m\u001b[0m\u001b[0m\n\u001b[0m",
      "\u001b[0;31mTypeError\u001b[0m: 'float' object is not iterable"
     ]
    }
   ],
   "source": [
    "[y for ml in l for mml in ml for y in float(mml)]"
   ]
  },
  {
   "cell_type": "code",
   "execution_count": 138,
   "id": "2d435cba",
   "metadata": {},
   "outputs": [
    {
     "data": {
      "text/plain": [
       "['40',\n",
       " '20',\n",
       " '10',\n",
       " '30',\n",
       " '20',\n",
       " '20',\n",
       " '20',\n",
       " '20',\n",
       " '20',\n",
       " '30',\n",
       " '20',\n",
       " '30',\n",
       " '20',\n",
       " '30',\n",
       " '50',\n",
       " '10',\n",
       " '30',\n",
       " '20',\n",
       " '20',\n",
       " '20',\n",
       " '100',\n",
       " '100',\n",
       " '100',\n",
       " '100',\n",
       " '100',\n",
       " '100',\n",
       " '100',\n",
       " '100',\n",
       " '100',\n",
       " '100',\n",
       " '100']"
      ]
     },
     "execution_count": 138,
     "metadata": {},
     "output_type": "execute_result"
    }
   ],
   "source": [
    "[(y) for x in l for y in x]"
   ]
  },
  {
   "cell_type": "code",
   "execution_count": null,
   "id": "e6b784d8",
   "metadata": {},
   "outputs": [],
   "source": []
  }
 ],
 "metadata": {
  "kernelspec": {
   "display_name": "Python 3 (ipykernel)",
   "language": "python",
   "name": "python3"
  },
  "language_info": {
   "codemirror_mode": {
    "name": "ipython",
    "version": 3
   },
   "file_extension": ".py",
   "mimetype": "text/x-python",
   "name": "python",
   "nbconvert_exporter": "python",
   "pygments_lexer": "ipython3",
   "version": "3.8.12"
  },
  "toc": {
   "base_numbering": 1,
   "nav_menu": {},
   "number_sections": true,
   "sideBar": true,
   "skip_h1_title": false,
   "title_cell": "Table of Contents",
   "title_sidebar": "Contents",
   "toc_cell": false,
   "toc_position": {},
   "toc_section_display": true,
   "toc_window_display": false
  }
 },
 "nbformat": 4,
 "nbformat_minor": 5
}
