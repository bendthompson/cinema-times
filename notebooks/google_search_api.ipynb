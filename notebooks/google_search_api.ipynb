{
 "cells": [
  {
   "cell_type": "markdown",
   "id": "84f9c895",
   "metadata": {},
   "source": [
    "## Using SerpAPI to webscrape google's showtimes scraper"
   ]
  },
  {
   "cell_type": "code",
   "execution_count": 39,
   "id": "3df534be",
   "metadata": {},
   "outputs": [],
   "source": [
    "import re\n",
    "import requests"
   ]
  },
  {
   "cell_type": "markdown",
   "id": "397e03dd",
   "metadata": {},
   "source": [
    "### Example"
   ]
  },
  {
   "cell_type": "code",
   "execution_count": 29,
   "id": "6b0e0d58",
   "metadata": {},
   "outputs": [],
   "source": [
    "url = 'https://serpapi.com/search.json?q=AMC+Barton+Creek+Square+14&location=Austin%2C+Texas%2C+United+States&hl=en&gl=us&api_key=795f9ca654b1031eb177ec72c1b14382c12a781a6db5e4a739c719fb308e47c8'"
   ]
  },
  {
   "cell_type": "code",
   "execution_count": 30,
   "id": "65e55aaa",
   "metadata": {},
   "outputs": [],
   "source": [
    "respons = requests.get(url)"
   ]
  },
  {
   "cell_type": "code",
   "execution_count": 31,
   "id": "93536eaf",
   "metadata": {},
   "outputs": [
    {
     "data": {
      "text/plain": [
       "{'name': 'Doctor Strange in the Multiverse of Madness',\n",
       " 'link': 'https://www.google.com/search?q=&si=AC1wQDAGEQiTPWsvhpPV4-xl97AcUfloRjKp4qat4I8-Kg1HxUZlh2hLOg8aj__svnrQzhOeuRt0XWQO0aQ5e0fgfdZ5L_-DKOa8yWulzvNv7DmICt36IVJV-SCeXHRkJm5uPYvHtnnvHV0ggIt9zeGAwpAdjOYR7j3fHrM0Dpq4qwD5xhOiM0RH5nV40o5n_co7tcOFzsWeZX4vzMK-IJ-FcPoF4paOQ-W6kweqp0GF3nimu3iPjqEocCTwjrfZUttKOz-BaNfPYr2mmh45HkAEBqhIyhigRw%3D%3D&sa=X&ved=2ahUKEwj7qPfg6eD3AhUhl3IEHWAMBe4QxyZ6BAgbEBM',\n",
       " 'showing': [{'time': ['10:30am',\n",
       "    '11:00am',\n",
       "    '11:30am',\n",
       "    '12:30pm',\n",
       "    '1:30pm',\n",
       "    '2:00pm',\n",
       "    '3:30pm',\n",
       "    '4:30pm',\n",
       "    '4:45pm',\n",
       "    '5:00pm',\n",
       "    '6:30pm',\n",
       "    '7:30pm',\n",
       "    '8:00pm',\n",
       "    '9:30pm',\n",
       "    '10:30pm',\n",
       "    '11:00pm'],\n",
       "   'type': 'Standard'},\n",
       "  {'time': ['12:00pm', '3:00pm', '6:00pm', '9:00pm'], 'type': 'IMAX'},\n",
       "  {'time': ['2:30pm', '5:30pm', '8:30pm'], 'type': '3D'},\n",
       "  {'time': ['10:00am', '1:00pm', '4:00pm', '7:00pm', '10:00pm'],\n",
       "   'type': 'Dolby Cinema'}]}"
      ]
     },
     "execution_count": 31,
     "metadata": {},
     "output_type": "execute_result"
    }
   ],
   "source": [
    "respons.json()['showtimes'][0]['movies'][0]"
   ]
  },
  {
   "cell_type": "markdown",
   "id": "5f1b5aa6",
   "metadata": {},
   "source": [
    "### Applying to Japan"
   ]
  },
  {
   "cell_type": "code",
   "execution_count": 32,
   "id": "22900bc7",
   "metadata": {},
   "outputs": [],
   "source": [
    "url = 'https://serpapi.com/search.json'"
   ]
  },
  {
   "cell_type": "code",
   "execution_count": 33,
   "id": "aafee79c",
   "metadata": {},
   "outputs": [],
   "source": [
    "query = 'united cinemas urawa'\n",
    "query = 'movix saitama'\n",
    "query = 'toho cinema lalaport fujimi'"
   ]
  },
  {
   "cell_type": "code",
   "execution_count": 34,
   "id": "fcd52bc2",
   "metadata": {},
   "outputs": [],
   "source": [
    "params = {\n",
    "  \"q\": query, \n",
    "  \"hl\": \"en\",\n",
    "  \"gl\": \"us\",\n",
    "  \"api_key\": \"795f9ca654b1031eb177ec72c1b14382c12a781a6db5e4a739c719fb308e47c8\"\n",
    "}"
   ]
  },
  {
   "cell_type": "code",
   "execution_count": 35,
   "id": "d6f1147b",
   "metadata": {},
   "outputs": [],
   "source": [
    "response = requests.get(url, params=params)"
   ]
  },
  {
   "cell_type": "code",
   "execution_count": 36,
   "id": "3fd92c44",
   "metadata": {
    "scrolled": false
   },
   "outputs": [],
   "source": [
    "showtimes = response.json()['showtimes']"
   ]
  },
  {
   "cell_type": "code",
   "execution_count": null,
   "id": "4d553057",
   "metadata": {},
   "outputs": [],
   "source": []
  },
  {
   "cell_type": "code",
   "execution_count": 40,
   "id": "450ea99c",
   "metadata": {},
   "outputs": [],
   "source": [
    "st=showtimes"
   ]
  },
  {
   "cell_type": "code",
   "execution_count": 47,
   "id": "7d1b29af",
   "metadata": {},
   "outputs": [],
   "source": [
    "def search(query):\n",
    "    '''\n",
    "    takes cinema query and returns googles showtimes, a list of dictionaries for each day\n",
    "    '''\n",
    "    url = 'https://serpapi.com/search.json'\n",
    "    params = {\"q\": query, \"hl\": \"en\",\"gl\": \"us\",\n",
    "              \"api_key\": \"795f9ca654b1031eb177ec72c1b14382c12a781a6db5e4a739c719fb308e47c8\"}\n",
    "    \n",
    "    response = requests.get(url, params=params)\n",
    "    print(f\"Response :{response.status_code}\")\n",
    "    showtimes = response.json()['showtimes']\n",
    "    \n",
    "    return showtimes"
   ]
  },
  {
   "cell_type": "code",
   "execution_count": 48,
   "id": "628bb9e0",
   "metadata": {},
   "outputs": [
    {
     "name": "stdout",
     "output_type": "stream",
     "text": [
      "Response :200\n"
     ]
    }
   ],
   "source": [
    "showtimes = search('united cinemas urawa')"
   ]
  },
  {
   "cell_type": "markdown",
   "id": "4b6ec9e3",
   "metadata": {},
   "source": [
    "### Extracting relevant info"
   ]
  },
  {
   "cell_type": "code",
   "execution_count": null,
   "id": "b31f299a",
   "metadata": {},
   "outputs": [],
   "source": [
    "def showtimes_remove_jp(title_list):\n",
    "    pattern = r'[\\u3040-\\u30ff\\u3400-\\u4dbf\\u4e00-\\u9fff\\uf900-\\ufaff\\uff66-\\uff9f]' \n",
    "    return [title for title in title_list if bool(re.search(pattern, title)) == False]\n",
    "    "
   ]
  },
  {
   "cell_type": "markdown",
   "id": "5588a7d7",
   "metadata": {},
   "source": [
    "#### Dates collected"
   ]
  },
  {
   "cell_type": "markdown",
   "id": "ccfd1d19",
   "metadata": {},
   "source": [
    "##### function"
   ]
  },
  {
   "cell_type": "code",
   "execution_count": null,
   "id": "28576d33",
   "metadata": {},
   "outputs": [],
   "source": [
    "def start_end(showtimes):\n",
    "    '''\n",
    "    takes showtimes dictionary given by googlesearch and returns tuple of startday and endday\n",
    "    '''\n",
    "    startday = showtimes[0]['day'] + ' ' + showtimes[0]['date']\n",
    "    endday   = showtimes[-1]['day'] + ' ' + showtimes[-1]['date']\n",
    "    \n",
    "    return (startday,endday)"
   ]
  },
  {
   "cell_type": "code",
   "execution_count": null,
   "id": "b9e6c991",
   "metadata": {},
   "outputs": [],
   "source": [
    "start_end(st)"
   ]
  },
  {
   "cell_type": "markdown",
   "id": "33681476",
   "metadata": {},
   "source": [
    "#### List of movies showing each day"
   ]
  },
  {
   "cell_type": "code",
   "execution_count": null,
   "id": "1ec4b879",
   "metadata": {
    "scrolled": true
   },
   "outputs": [],
   "source": [
    "showtimes[0]"
   ]
  },
  {
   "cell_type": "code",
   "execution_count": null,
   "id": "f004b0f9",
   "metadata": {},
   "outputs": [],
   "source": [
    "daymovies = {}\n",
    "for day in showtimes:\n",
    "    print()\n",
    "    daymovies[day['day'].lower] = [movie['name'] for movie in day['movies']]\n"
   ]
  },
  {
   "cell_type": "code",
   "execution_count": null,
   "id": "a8d858c1",
   "metadata": {},
   "outputs": [],
   "source": [
    "daymovies = {day['date'].split()[1] : [movie['name'] for movie in day['movies']] for day in showtimes }\n",
    "#makes a dictionary with each date value as key and a list of movies that day as the value"
   ]
  },
  {
   "cell_type": "markdown",
   "id": "72115867",
   "metadata": {},
   "source": [
    "##### function"
   ]
  },
  {
   "cell_type": "code",
   "execution_count": 85,
   "id": "b8991a17",
   "metadata": {},
   "outputs": [],
   "source": [
    "def eng_movies_by_day(showtimes):\n",
    "    '''\n",
    "    takes showtimes dict and returns a dictionary- keys are each day, values are lists of movie titles\n",
    "    '''\n",
    "    pattern = r'[\\u3040-\\u30ff\\u3400-\\u4dbf\\u4e00-\\u9fff\\uf900-\\ufaff\\uff66-\\uff9f]' \n",
    "    moviesbyday = {day['date'].split()[1] : [movie['name'] for movie in day['movies'] if bool(re.search(pattern, movie['name'])) == False] for day in showtimes }\n",
    "    return moviesbyday\n",
    "\n",
    "def movies_by_day(showtimes):\n",
    "    '''\n",
    "    takes showtimes dict and returns a dictionary- keys are each day, values are lists of movie titles\n",
    "    '''\n",
    "    moviesbyday = {day['date'].split()[1] : [movie['name'] for movie in day['movies']] for day in showtimes }\n",
    "    return moviesbyday"
   ]
  },
  {
   "cell_type": "code",
   "execution_count": 80,
   "id": "8dd0f8a9",
   "metadata": {},
   "outputs": [],
   "source": [
    "def mbd_to_df(mbd):\n",
    "    maxlength = max([len(movies) for movies in mbd.values()])\n",
    "    for key in mbd.keys():\n",
    "        while len(mbd[key]) < maxlength:\n",
    "            mbd[key].append('-')\n",
    "    return pd.DataFrame(mbd)"
   ]
  },
  {
   "cell_type": "code",
   "execution_count": 81,
   "id": "879b5caf",
   "metadata": {},
   "outputs": [
    {
     "data": {
      "text/html": [
       "<div>\n",
       "<style scoped>\n",
       "    .dataframe tbody tr th:only-of-type {\n",
       "        vertical-align: middle;\n",
       "    }\n",
       "\n",
       "    .dataframe tbody tr th {\n",
       "        vertical-align: top;\n",
       "    }\n",
       "\n",
       "    .dataframe thead th {\n",
       "        text-align: right;\n",
       "    }\n",
       "</style>\n",
       "<table border=\"1\" class=\"dataframe\">\n",
       "  <thead>\n",
       "    <tr style=\"text-align: right;\">\n",
       "      <th></th>\n",
       "      <th>15</th>\n",
       "      <th>16</th>\n",
       "      <th>17</th>\n",
       "      <th>18</th>\n",
       "      <th>19</th>\n",
       "    </tr>\n",
       "  </thead>\n",
       "  <tbody>\n",
       "    <tr>\n",
       "      <th>0</th>\n",
       "      <td>Shin Ultraman</td>\n",
       "      <td>Shin Ultraman</td>\n",
       "      <td>Shin Ultraman</td>\n",
       "      <td>Shin Ultraman</td>\n",
       "      <td>Shin Ultraman</td>\n",
       "    </tr>\n",
       "    <tr>\n",
       "      <th>1</th>\n",
       "      <td>Detective Conan: The Bride of Halloween</td>\n",
       "      <td>Detective Conan: The Bride of Halloween</td>\n",
       "      <td>Detective Conan: The Bride of Halloween</td>\n",
       "      <td>Detective Conan: The Bride of Halloween</td>\n",
       "      <td>Detective Conan: The Bride of Halloween</td>\n",
       "    </tr>\n",
       "    <tr>\n",
       "      <th>2</th>\n",
       "      <td>Doctor Strange in the Multiverse of Madness</td>\n",
       "      <td>Doctor Strange in the Multiverse of Madness</td>\n",
       "      <td>Doctor Strange in the Multiverse of Madness</td>\n",
       "      <td>Doctor Strange in the Multiverse of Madness</td>\n",
       "      <td>Doctor Strange in the Multiverse of Madness</td>\n",
       "    </tr>\n",
       "    <tr>\n",
       "      <th>3</th>\n",
       "      <td>Bubble</td>\n",
       "      <td>Bubble</td>\n",
       "      <td>Bubble</td>\n",
       "      <td>Bubble</td>\n",
       "      <td>Bubble</td>\n",
       "    </tr>\n",
       "    <tr>\n",
       "      <th>4</th>\n",
       "      <td>Fantastic Beasts: The Secrets of Dumbledore</td>\n",
       "      <td>Fantastic Beasts: The Secrets of Dumbledore</td>\n",
       "      <td>Fantastic Beasts: The Secrets of Dumbledore</td>\n",
       "      <td>Fantastic Beasts: The Secrets of Dumbledore</td>\n",
       "      <td>Fantastic Beasts: The Secrets of Dumbledore</td>\n",
       "    </tr>\n",
       "    <tr>\n",
       "      <th>5</th>\n",
       "      <td>Free! – the Final Stroke – the first volume</td>\n",
       "      <td>Crayon Shin-chan: Mononoke Ninja Chinpūden</td>\n",
       "      <td>Crayon Shin-chan: Mononoke Ninja Chinpūden</td>\n",
       "      <td>Crayon Shin-chan: Mononoke Ninja Chinpūden</td>\n",
       "      <td>Crayon Shin-chan: Mononoke Ninja Chinpūden</td>\n",
       "    </tr>\n",
       "    <tr>\n",
       "      <th>6</th>\n",
       "      <td>Jujutsu Kaisen 0</td>\n",
       "      <td>Free! – the Final Stroke – the first volume</td>\n",
       "      <td>Free! – the Final Stroke – the first volume</td>\n",
       "      <td>Free! – the Final Stroke – the first volume</td>\n",
       "      <td>Free! – the Final Stroke – the first volume</td>\n",
       "    </tr>\n",
       "    <tr>\n",
       "      <th>7</th>\n",
       "      <td>-</td>\n",
       "      <td>C'mon C'mon</td>\n",
       "      <td>C'mon C'mon</td>\n",
       "      <td>C'mon C'mon</td>\n",
       "      <td>C'mon C'mon</td>\n",
       "    </tr>\n",
       "  </tbody>\n",
       "</table>\n",
       "</div>"
      ],
      "text/plain": [
       "                                            15  \\\n",
       "0                                Shin Ultraman   \n",
       "1      Detective Conan: The Bride of Halloween   \n",
       "2  Doctor Strange in the Multiverse of Madness   \n",
       "3                                       Bubble   \n",
       "4  Fantastic Beasts: The Secrets of Dumbledore   \n",
       "5  Free! – the Final Stroke – the first volume   \n",
       "6                             Jujutsu Kaisen 0   \n",
       "7                                            -   \n",
       "\n",
       "                                            16  \\\n",
       "0                                Shin Ultraman   \n",
       "1      Detective Conan: The Bride of Halloween   \n",
       "2  Doctor Strange in the Multiverse of Madness   \n",
       "3                                       Bubble   \n",
       "4  Fantastic Beasts: The Secrets of Dumbledore   \n",
       "5   Crayon Shin-chan: Mononoke Ninja Chinpūden   \n",
       "6  Free! – the Final Stroke – the first volume   \n",
       "7                                  C'mon C'mon   \n",
       "\n",
       "                                            17  \\\n",
       "0                                Shin Ultraman   \n",
       "1      Detective Conan: The Bride of Halloween   \n",
       "2  Doctor Strange in the Multiverse of Madness   \n",
       "3                                       Bubble   \n",
       "4  Fantastic Beasts: The Secrets of Dumbledore   \n",
       "5   Crayon Shin-chan: Mononoke Ninja Chinpūden   \n",
       "6  Free! – the Final Stroke – the first volume   \n",
       "7                                  C'mon C'mon   \n",
       "\n",
       "                                            18  \\\n",
       "0                                Shin Ultraman   \n",
       "1      Detective Conan: The Bride of Halloween   \n",
       "2  Doctor Strange in the Multiverse of Madness   \n",
       "3                                       Bubble   \n",
       "4  Fantastic Beasts: The Secrets of Dumbledore   \n",
       "5   Crayon Shin-chan: Mononoke Ninja Chinpūden   \n",
       "6  Free! – the Final Stroke – the first volume   \n",
       "7                                  C'mon C'mon   \n",
       "\n",
       "                                            19  \n",
       "0                                Shin Ultraman  \n",
       "1      Detective Conan: The Bride of Halloween  \n",
       "2  Doctor Strange in the Multiverse of Madness  \n",
       "3                                       Bubble  \n",
       "4  Fantastic Beasts: The Secrets of Dumbledore  \n",
       "5   Crayon Shin-chan: Mononoke Ninja Chinpūden  \n",
       "6  Free! – the Final Stroke – the first volume  \n",
       "7                                  C'mon C'mon  "
      ]
     },
     "execution_count": 81,
     "metadata": {},
     "output_type": "execute_result"
    }
   ],
   "source": [
    "mbd_to_df(movies_by_day(showtimes))"
   ]
  },
  {
   "cell_type": "markdown",
   "id": "972d18aa",
   "metadata": {},
   "source": [
    "#### list of all movies showing"
   ]
  },
  {
   "cell_type": "code",
   "execution_count": null,
   "id": "4a6ac81d",
   "metadata": {},
   "outputs": [],
   "source": [
    "movie_set = {movie['name'] for movie in day['movies'] for day in showtimes}"
   ]
  },
  {
   "cell_type": "code",
   "execution_count": null,
   "id": "1d261e9b",
   "metadata": {},
   "outputs": [],
   "source": [
    "{movie['name'] for movie in day['movies'] for day in showtimes}"
   ]
  },
  {
   "cell_type": "code",
   "execution_count": null,
   "id": "195404b1",
   "metadata": {},
   "outputs": [],
   "source": [
    "list(movie_set)"
   ]
  },
  {
   "cell_type": "code",
   "execution_count": 90,
   "id": "723a2b7e",
   "metadata": {},
   "outputs": [],
   "source": [
    "def movie_list(showtimes):\n",
    "    '''\n",
    "    goes through showtimes and returns a list of each unique movie\n",
    "    '''\n",
    "    movie_set = {movie['name'] for day in showtimes for movie in day['movies']}\n",
    "    return list(movie_set)\n",
    "\n",
    "def eng_movie_list(showtimes):\n",
    "    '''\n",
    "    goes through showtimes and returns a list of each unique movie\n",
    "    '''\n",
    "    pattern = r'[\\u3040-\\u30ff\\u3400-\\u4dbf\\u4e00-\\u9fff\\uf900-\\ufaff\\uff66-\\uff9f]'\n",
    "    movie_set = {movie['name'] for day in showtimes for movie in day['movies'] if bool(re.search(pattern, movie['name'])) == False}\n",
    "    return list(movie_set)"
   ]
  },
  {
   "cell_type": "code",
   "execution_count": 91,
   "id": "951d2048",
   "metadata": {
    "scrolled": true
   },
   "outputs": [
    {
     "data": {
      "text/plain": [
       "['Free! – the Final Stroke – the first volume',\n",
       " 'Shin Ultraman',\n",
       " \"C'mon C'mon\",\n",
       " '劇場版ラジエーションハウス',\n",
       " '流浪の月',\n",
       " 'Detective Conan: The Bride of Halloween',\n",
       " 'Doctor Strange in the Multiverse of Madness',\n",
       " 'Jujutsu Kaisen 0',\n",
       " '映画 おそ松さん',\n",
       " 'Fantastic Beasts: The Secrets of Dumbledore',\n",
       " 'Bubble',\n",
       " 'ホリック xxxHOLiC',\n",
       " 'Crayon Shin-chan: Mononoke Ninja Chinpūden']"
      ]
     },
     "execution_count": 91,
     "metadata": {},
     "output_type": "execute_result"
    }
   ],
   "source": [
    "movie_list(showtimes)"
   ]
  },
  {
   "cell_type": "code",
   "execution_count": 92,
   "id": "24f5e56c",
   "metadata": {
    "scrolled": true
   },
   "outputs": [
    {
     "data": {
      "text/plain": [
       "['Free! – the Final Stroke – the first volume',\n",
       " 'Shin Ultraman',\n",
       " \"C'mon C'mon\",\n",
       " 'Detective Conan: The Bride of Halloween',\n",
       " 'Doctor Strange in the Multiverse of Madness',\n",
       " 'Jujutsu Kaisen 0',\n",
       " 'Fantastic Beasts: The Secrets of Dumbledore',\n",
       " 'Bubble',\n",
       " 'Crayon Shin-chan: Mononoke Ninja Chinpūden']"
      ]
     },
     "execution_count": 92,
     "metadata": {},
     "output_type": "execute_result"
    }
   ],
   "source": [
    "eng_movie_list(showtimes)"
   ]
  },
  {
   "cell_type": "markdown",
   "id": "1f08889b",
   "metadata": {},
   "source": [
    "Daily Showtimes DF"
   ]
  },
  {
   "cell_type": "code",
   "execution_count": null,
   "id": "cf364a2c",
   "metadata": {},
   "outputs": [],
   "source": [
    "def daily_df_list(showtimes):\n",
    "    "
   ]
  },
  {
   "cell_type": "code",
   "execution_count": 152,
   "id": "e0a0303d",
   "metadata": {},
   "outputs": [
    {
     "data": {
      "text/plain": [
       "'Sun May 15'"
      ]
     },
     "execution_count": 152,
     "metadata": {},
     "output_type": "execute_result"
    }
   ],
   "source": [
    "i=0\n",
    "showtimes[0]['day'] +' '+ showtimes[0]['date']\n"
   ]
  },
  {
   "cell_type": "code",
   "execution_count": 192,
   "id": "39018b7b",
   "metadata": {},
   "outputs": [],
   "source": [
    "day = showtimes[0]"
   ]
  },
  {
   "cell_type": "code",
   "execution_count": 336,
   "id": "ba246f3e",
   "metadata": {},
   "outputs": [],
   "source": [
    "showtimes[2]['movies'][0]['showing'][0]['time'] = '8:15am'+'9:10am'+'10:30am'+'1:00pm'+'3:30pm'+'5:55pm'+'7:00pm'+'8:25pm'+'8:55pm'"
   ]
  },
  {
   "cell_type": "code",
   "execution_count": 327,
   "id": "61841e51",
   "metadata": {},
   "outputs": [],
   "source": [
    "def eng_day_to_df(day):\n",
    "    pattern = r'[\\u3040-\\u30ff\\u3400-\\u4dbf\\u4e00-\\u9fff\\uf900-\\ufaff\\uff66-\\uff9f]'\n",
    "    daydict=[{'name':movie['name'],'times':movie['showing']} for movie in day['movies'] if bool(re.search(pattern, movie['name'])) == False]\n",
    "    for movie in daydict:\n",
    "        movie['Movie'] = movie.pop('name')\n",
    "        for typedict in movie['times']:\n",
    "            movie[typedict['type']] = typedict['time']\n",
    "        movie.pop('times')\n",
    "    daydf = pd.DataFrame(daydict).set_index('Movie').fillna('-')\n",
    "    return daydf\n",
    "\n",
    "def day_to_df(day):\n",
    "    daydict=[{'name':movie['name'],'times':movie['showing']} for movie in day['movies']]\n",
    "    for movie in daydict:\n",
    "        movie['Movie'] = movie.pop('name')\n",
    "        for typedict in movie['times']:\n",
    "            movie[typedict['type']] = typedict['time']\n",
    "        movie.pop('times')\n",
    "    daydf = pd.DataFrame(daydict).set_index('Movie').fillna('-')\n",
    "    return daydf\n",
    "\n",
    "def eng_daily_df_list(showtimes):\n",
    "    return [eng_day_to_df(day) for day in showtimes]\n",
    "\n",
    "def daily_df_list(showtimes):\n",
    "    return [day_to_df(day) for day in showtimes]"
   ]
  },
  {
   "cell_type": "code",
   "execution_count": 318,
   "id": "b5b0302b",
   "metadata": {},
   "outputs": [
    {
     "data": {
      "text/html": [
       "<div>\n",
       "<style scoped>\n",
       "    .dataframe tbody tr th:only-of-type {\n",
       "        vertical-align: middle;\n",
       "    }\n",
       "\n",
       "    .dataframe tbody tr th {\n",
       "        vertical-align: top;\n",
       "    }\n",
       "\n",
       "    .dataframe thead th {\n",
       "        text-align: right;\n",
       "    }\n",
       "</style>\n",
       "<table border=\"1\" class=\"dataframe\">\n",
       "  <thead>\n",
       "    <tr style=\"text-align: right;\">\n",
       "      <th></th>\n",
       "      <th>Standard</th>\n",
       "      <th>IMAX</th>\n",
       "      <th>IMAX 3D</th>\n",
       "    </tr>\n",
       "    <tr>\n",
       "      <th>Movie</th>\n",
       "      <th></th>\n",
       "      <th></th>\n",
       "      <th></th>\n",
       "    </tr>\n",
       "  </thead>\n",
       "  <tbody>\n",
       "    <tr>\n",
       "      <th>Shin Ultraman</th>\n",
       "      <td>[2:45pm, 3:30pm, 5:55pm, 7:00pm, 8:25pm]</td>\n",
       "      <td>[4:25pm, 9:35pm]</td>\n",
       "      <td>-</td>\n",
       "    </tr>\n",
       "    <tr>\n",
       "      <th>Detective Conan: The Bride of Halloween</th>\n",
       "      <td>[3:50pm, 6:15pm, 8:40pm]</td>\n",
       "      <td>-</td>\n",
       "      <td>-</td>\n",
       "    </tr>\n",
       "    <tr>\n",
       "      <th>Doctor Strange in the Multiverse of Madness</th>\n",
       "      <td>[2:55pm, 5:35pm, 8:15pm]</td>\n",
       "      <td>-</td>\n",
       "      <td>[6:50pm]</td>\n",
       "    </tr>\n",
       "    <tr>\n",
       "      <th>Bubble</th>\n",
       "      <td>[3:45pm, 8:55pm]</td>\n",
       "      <td>-</td>\n",
       "      <td>-</td>\n",
       "    </tr>\n",
       "    <tr>\n",
       "      <th>Fantastic Beasts: The Secrets of Dumbledore</th>\n",
       "      <td>[3:40pm]</td>\n",
       "      <td>-</td>\n",
       "      <td>-</td>\n",
       "    </tr>\n",
       "    <tr>\n",
       "      <th>Free! – the Final Stroke – the first volume</th>\n",
       "      <td>[6:35pm]</td>\n",
       "      <td>-</td>\n",
       "      <td>-</td>\n",
       "    </tr>\n",
       "    <tr>\n",
       "      <th>Jujutsu Kaisen 0</th>\n",
       "      <td>[9:25pm]</td>\n",
       "      <td>-</td>\n",
       "      <td>-</td>\n",
       "    </tr>\n",
       "  </tbody>\n",
       "</table>\n",
       "</div>"
      ],
      "text/plain": [
       "                                                                             Standard  \\\n",
       "Movie                                                                                   \n",
       "Shin Ultraman                                [2:45pm, 3:30pm, 5:55pm, 7:00pm, 8:25pm]   \n",
       "Detective Conan: The Bride of Halloween                      [3:50pm, 6:15pm, 8:40pm]   \n",
       "Doctor Strange in the Multiverse of Madness                  [2:55pm, 5:35pm, 8:15pm]   \n",
       "Bubble                                                               [3:45pm, 8:55pm]   \n",
       "Fantastic Beasts: The Secrets of Dumbledore                                  [3:40pm]   \n",
       "Free! – the Final Stroke – the first volume                                  [6:35pm]   \n",
       "Jujutsu Kaisen 0                                                             [9:25pm]   \n",
       "\n",
       "                                                         IMAX   IMAX 3D  \n",
       "Movie                                                                    \n",
       "Shin Ultraman                                [4:25pm, 9:35pm]         -  \n",
       "Detective Conan: The Bride of Halloween                     -         -  \n",
       "Doctor Strange in the Multiverse of Madness                 -  [6:50pm]  \n",
       "Bubble                                                      -         -  \n",
       "Fantastic Beasts: The Secrets of Dumbledore                 -         -  \n",
       "Free! – the Final Stroke – the first volume                 -         -  \n",
       "Jujutsu Kaisen 0                                            -         -  "
      ]
     },
     "execution_count": 318,
     "metadata": {},
     "output_type": "execute_result"
    }
   ],
   "source": [
    "eng_day_to_df(day)"
   ]
  },
  {
   "cell_type": "code",
   "execution_count": 337,
   "id": "1d9bd765",
   "metadata": {},
   "outputs": [
    {
     "data": {
      "text/html": [
       "<div>\n",
       "<style scoped>\n",
       "    .dataframe tbody tr th:only-of-type {\n",
       "        vertical-align: middle;\n",
       "    }\n",
       "\n",
       "    .dataframe tbody tr th {\n",
       "        vertical-align: top;\n",
       "    }\n",
       "\n",
       "    .dataframe thead th {\n",
       "        text-align: right;\n",
       "    }\n",
       "</style>\n",
       "<table border=\"1\" class=\"dataframe\">\n",
       "  <thead>\n",
       "    <tr style=\"text-align: right;\">\n",
       "      <th></th>\n",
       "      <th>Standard</th>\n",
       "      <th>IMAX</th>\n",
       "      <th>IMAX 3D</th>\n",
       "    </tr>\n",
       "    <tr>\n",
       "      <th>Movie</th>\n",
       "      <th></th>\n",
       "      <th></th>\n",
       "      <th></th>\n",
       "    </tr>\n",
       "  </thead>\n",
       "  <tbody>\n",
       "    <tr>\n",
       "      <th>Shin Ultraman</th>\n",
       "      <td>8:15am9:10am10:30am1:00pm3:30pm5:55pm7:00pm8:2...</td>\n",
       "      <td>[8:40am, 1:55pm, 4:25pm, 9:35pm]</td>\n",
       "      <td>-</td>\n",
       "    </tr>\n",
       "    <tr>\n",
       "      <th>Detective Conan: The Bride of Halloween</th>\n",
       "      <td>[10:55am, 1:25pm, 3:50pm, 6:15pm, 8:40pm]</td>\n",
       "      <td>-</td>\n",
       "      <td>-</td>\n",
       "    </tr>\n",
       "    <tr>\n",
       "      <th>Doctor Strange in the Multiverse of Madness</th>\n",
       "      <td>[10:20am, 2:55pm]</td>\n",
       "      <td>-</td>\n",
       "      <td>[11:10am, 6:50pm]</td>\n",
       "    </tr>\n",
       "    <tr>\n",
       "      <th>Bubble</th>\n",
       "      <td>[8:10am, 10:20am, 1:00pm, 3:50pm, 6:00pm, 9:25pm]</td>\n",
       "      <td>-</td>\n",
       "      <td>-</td>\n",
       "    </tr>\n",
       "    <tr>\n",
       "      <th>Fantastic Beasts: The Secrets of Dumbledore</th>\n",
       "      <td>[11:40am, 3:40pm]</td>\n",
       "      <td>-</td>\n",
       "      <td>-</td>\n",
       "    </tr>\n",
       "    <tr>\n",
       "      <th>Crayon Shin-chan: Mononoke Ninja Chinpūden</th>\n",
       "      <td>[8:10am, 1:45pm]</td>\n",
       "      <td>-</td>\n",
       "      <td>-</td>\n",
       "    </tr>\n",
       "    <tr>\n",
       "      <th>Free! – the Final Stroke – the first volume</th>\n",
       "      <td>[8:30am, 6:35pm]</td>\n",
       "      <td>-</td>\n",
       "      <td>-</td>\n",
       "    </tr>\n",
       "    <tr>\n",
       "      <th>C'mon C'mon</th>\n",
       "      <td>[3:05pm]</td>\n",
       "      <td>-</td>\n",
       "      <td>-</td>\n",
       "    </tr>\n",
       "  </tbody>\n",
       "</table>\n",
       "</div>"
      ],
      "text/plain": [
       "                                                                                      Standard  \\\n",
       "Movie                                                                                            \n",
       "Shin Ultraman                                8:15am9:10am10:30am1:00pm3:30pm5:55pm7:00pm8:2...   \n",
       "Detective Conan: The Bride of Halloween              [10:55am, 1:25pm, 3:50pm, 6:15pm, 8:40pm]   \n",
       "Doctor Strange in the Multiverse of Madness                                  [10:20am, 2:55pm]   \n",
       "Bubble                                       [8:10am, 10:20am, 1:00pm, 3:50pm, 6:00pm, 9:25pm]   \n",
       "Fantastic Beasts: The Secrets of Dumbledore                                  [11:40am, 3:40pm]   \n",
       "Crayon Shin-chan: Mononoke Ninja Chinpūden                                    [8:10am, 1:45pm]   \n",
       "Free! – the Final Stroke – the first volume                                   [8:30am, 6:35pm]   \n",
       "C'mon C'mon                                                                           [3:05pm]   \n",
       "\n",
       "                                                                         IMAX  \\\n",
       "Movie                                                                           \n",
       "Shin Ultraman                                [8:40am, 1:55pm, 4:25pm, 9:35pm]   \n",
       "Detective Conan: The Bride of Halloween                                     -   \n",
       "Doctor Strange in the Multiverse of Madness                                 -   \n",
       "Bubble                                                                      -   \n",
       "Fantastic Beasts: The Secrets of Dumbledore                                 -   \n",
       "Crayon Shin-chan: Mononoke Ninja Chinpūden                                  -   \n",
       "Free! – the Final Stroke – the first volume                                 -   \n",
       "C'mon C'mon                                                                 -   \n",
       "\n",
       "                                                       IMAX 3D  \n",
       "Movie                                                           \n",
       "Shin Ultraman                                                -  \n",
       "Detective Conan: The Bride of Halloween                      -  \n",
       "Doctor Strange in the Multiverse of Madness  [11:10am, 6:50pm]  \n",
       "Bubble                                                       -  \n",
       "Fantastic Beasts: The Secrets of Dumbledore                  -  \n",
       "Crayon Shin-chan: Mononoke Ninja Chinpūden                   -  \n",
       "Free! – the Final Stroke – the first volume                  -  \n",
       "C'mon C'mon                                                  -  "
      ]
     },
     "execution_count": 337,
     "metadata": {},
     "output_type": "execute_result"
    }
   ],
   "source": [
    "eng_daily_df_list(showtimes)[2]"
   ]
  },
  {
   "cell_type": "code",
   "execution_count": 277,
   "id": "40010a00",
   "metadata": {},
   "outputs": [],
   "source": [
    "ddf.fillna('-', inplace=True)"
   ]
  },
  {
   "cell_type": "code",
   "execution_count": 278,
   "id": "8f062323",
   "metadata": {},
   "outputs": [
    {
     "data": {
      "text/html": [
       "<div>\n",
       "<style scoped>\n",
       "    .dataframe tbody tr th:only-of-type {\n",
       "        vertical-align: middle;\n",
       "    }\n",
       "\n",
       "    .dataframe tbody tr th {\n",
       "        vertical-align: top;\n",
       "    }\n",
       "\n",
       "    .dataframe thead th {\n",
       "        text-align: right;\n",
       "    }\n",
       "</style>\n",
       "<table border=\"1\" class=\"dataframe\">\n",
       "  <thead>\n",
       "    <tr style=\"text-align: right;\">\n",
       "      <th></th>\n",
       "      <th>Standard</th>\n",
       "      <th>IMAX</th>\n",
       "      <th>IMAX 3D</th>\n",
       "    </tr>\n",
       "    <tr>\n",
       "      <th>Movie</th>\n",
       "      <th></th>\n",
       "      <th></th>\n",
       "      <th></th>\n",
       "    </tr>\n",
       "  </thead>\n",
       "  <tbody>\n",
       "    <tr>\n",
       "      <th>Shin Ultraman</th>\n",
       "      <td>[2:45pm, 3:30pm, 5:55pm, 7:00pm, 8:25pm]</td>\n",
       "      <td>[4:25pm, 9:35pm]</td>\n",
       "      <td>-</td>\n",
       "    </tr>\n",
       "    <tr>\n",
       "      <th>Detective Conan: The Bride of Halloween</th>\n",
       "      <td>[3:50pm, 6:15pm, 8:40pm]</td>\n",
       "      <td>-</td>\n",
       "      <td>-</td>\n",
       "    </tr>\n",
       "    <tr>\n",
       "      <th>Doctor Strange in the Multiverse of Madness</th>\n",
       "      <td>[2:55pm, 5:35pm, 8:15pm]</td>\n",
       "      <td>-</td>\n",
       "      <td>[6:50pm]</td>\n",
       "    </tr>\n",
       "    <tr>\n",
       "      <th>Bubble</th>\n",
       "      <td>[3:45pm, 8:55pm]</td>\n",
       "      <td>-</td>\n",
       "      <td>-</td>\n",
       "    </tr>\n",
       "    <tr>\n",
       "      <th>Fantastic Beasts: The Secrets of Dumbledore</th>\n",
       "      <td>[3:40pm]</td>\n",
       "      <td>-</td>\n",
       "      <td>-</td>\n",
       "    </tr>\n",
       "    <tr>\n",
       "      <th>Free! – the Final Stroke – the first volume</th>\n",
       "      <td>[6:35pm]</td>\n",
       "      <td>-</td>\n",
       "      <td>-</td>\n",
       "    </tr>\n",
       "    <tr>\n",
       "      <th>Jujutsu Kaisen 0</th>\n",
       "      <td>[9:25pm]</td>\n",
       "      <td>-</td>\n",
       "      <td>-</td>\n",
       "    </tr>\n",
       "  </tbody>\n",
       "</table>\n",
       "</div>"
      ],
      "text/plain": [
       "                                                                             Standard  \\\n",
       "Movie                                                                                   \n",
       "Shin Ultraman                                [2:45pm, 3:30pm, 5:55pm, 7:00pm, 8:25pm]   \n",
       "Detective Conan: The Bride of Halloween                      [3:50pm, 6:15pm, 8:40pm]   \n",
       "Doctor Strange in the Multiverse of Madness                  [2:55pm, 5:35pm, 8:15pm]   \n",
       "Bubble                                                               [3:45pm, 8:55pm]   \n",
       "Fantastic Beasts: The Secrets of Dumbledore                                  [3:40pm]   \n",
       "Free! – the Final Stroke – the first volume                                  [6:35pm]   \n",
       "Jujutsu Kaisen 0                                                             [9:25pm]   \n",
       "\n",
       "                                                         IMAX   IMAX 3D  \n",
       "Movie                                                                    \n",
       "Shin Ultraman                                [4:25pm, 9:35pm]         -  \n",
       "Detective Conan: The Bride of Halloween                     -         -  \n",
       "Doctor Strange in the Multiverse of Madness                 -  [6:50pm]  \n",
       "Bubble                                                      -         -  \n",
       "Fantastic Beasts: The Secrets of Dumbledore                 -         -  \n",
       "Free! – the Final Stroke – the first volume                 -         -  \n",
       "Jujutsu Kaisen 0                                            -         -  "
      ]
     },
     "execution_count": 278,
     "metadata": {},
     "output_type": "execute_result"
    }
   ],
   "source": [
    "ddf\n"
   ]
  },
  {
   "cell_type": "code",
   "execution_count": null,
   "id": "8a0a5961",
   "metadata": {},
   "outputs": [],
   "source": []
  }
 ],
 "metadata": {
  "kernelspec": {
   "display_name": "Python 3 (ipykernel)",
   "language": "python",
   "name": "python3"
  },
  "language_info": {
   "codemirror_mode": {
    "name": "ipython",
    "version": 3
   },
   "file_extension": ".py",
   "mimetype": "text/x-python",
   "name": "python",
   "nbconvert_exporter": "python",
   "pygments_lexer": "ipython3",
   "version": "3.8.12"
  },
  "toc": {
   "base_numbering": 1,
   "nav_menu": {},
   "number_sections": true,
   "sideBar": true,
   "skip_h1_title": false,
   "title_cell": "Table of Contents",
   "title_sidebar": "Contents",
   "toc_cell": false,
   "toc_position": {},
   "toc_section_display": true,
   "toc_window_display": false
  }
 },
 "nbformat": 4,
 "nbformat_minor": 5
}
