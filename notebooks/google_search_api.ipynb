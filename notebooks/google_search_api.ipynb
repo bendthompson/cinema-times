{
 "cells": [
  {
   "cell_type": "markdown",
   "id": "6888d050",
   "metadata": {},
   "source": [
    "## Using SerpAPI to piggy back google's showtime scraper"
   ]
  },
  {
   "cell_type": "code",
   "execution_count": 1,
   "id": "a8df9e15",
   "metadata": {},
   "outputs": [],
   "source": [
    "import requests"
   ]
  },
  {
   "cell_type": "markdown",
   "id": "414c54e2",
   "metadata": {},
   "source": [
    "### Example"
   ]
  },
  {
   "cell_type": "code",
   "execution_count": 4,
   "id": "70cb5f88",
   "metadata": {},
   "outputs": [],
   "source": [
    "url = 'https://serpapi.com/search.json?q=AMC+Barton+Creek+Square+14&location=Austin%2C+Texas%2C+United+States&hl=en&gl=us&api_key=795f9ca654b1031eb177ec72c1b14382c12a781a6db5e4a739c719fb308e47c8'"
   ]
  },
  {
   "cell_type": "code",
   "execution_count": 5,
   "id": "63428893",
   "metadata": {},
   "outputs": [],
   "source": [
    "respons = requests.get(url)"
   ]
  },
  {
   "cell_type": "code",
   "execution_count": 18,
   "id": "0e61f4dd",
   "metadata": {},
   "outputs": [
    {
     "data": {
      "text/plain": [
       "{'name': 'The Bad Guys',\n",
       " 'link': 'https://www.google.com/search?gl=us&hl=en&q=&si=AC1wQDAGEQiTPWsvhpPV4-xl97AcUfloRjKp4qat4I8-Kg1HxfTik-_93U1ilcKEvVFgSHkrObhdLco3znZ0GSowTR_4T8j3FRRF1rpro2VFpzEII6hnJrwTJcyqkfSuVQEwz7xALIYzr1dC67ALPyR3FW6QSbVAzcblNTZX4P1KUchXSkMVhkruEYoFf6F2OXiT8RjmoyMI1N5KX2VbLcoVMXt6eDs9viG9IbwkwfI0S_iR9tvMfiisyYdfHan7EtcJd4ZZQsa6Y1x50tOvLM7OWuFMRKd4Gg%3D%3D&sa=X&ved=2ahUKEwjshPfYs8X3AhVjU98KHWcWA84QxyZ6BAgVEBM',\n",
       " 'showing': [{'time': ['11:30am',\n",
       "    '12:30pm',\n",
       "    '2:00pm',\n",
       "    '3:00pm',\n",
       "    '4:30pm',\n",
       "    '5:30pm',\n",
       "    '7:00pm',\n",
       "    '8:00pm'],\n",
       "   'type': 'Standard'}]}"
      ]
     },
     "execution_count": 18,
     "metadata": {},
     "output_type": "execute_result"
    }
   ],
   "source": [
    "respons.json()['showtimes'][0]['movies'][0]"
   ]
  },
  {
   "cell_type": "markdown",
   "id": "7e18feb8",
   "metadata": {},
   "source": [
    "### Applying to Japan"
   ]
  },
  {
   "cell_type": "code",
   "execution_count": 20,
   "id": "9c3a3d58",
   "metadata": {},
   "outputs": [],
   "source": [
    "url = 'https://serpapi.com/search.json'"
   ]
  },
  {
   "cell_type": "code",
   "execution_count": 21,
   "id": "72b3d9e1",
   "metadata": {},
   "outputs": [],
   "source": [
    "query = 'united cinemas urawa'"
   ]
  },
  {
   "cell_type": "code",
   "execution_count": 22,
   "id": "200c28f1",
   "metadata": {},
   "outputs": [],
   "source": [
    "params = {\n",
    "  \"q\": query, \n",
    "  \"hl\": \"en\",\n",
    "  \"gl\": \"us\",\n",
    "  \"api_key\": \"795f9ca654b1031eb177ec72c1b14382c12a781a6db5e4a739c719fb308e47c8\"\n",
    "}"
   ]
  },
  {
   "cell_type": "code",
   "execution_count": 23,
   "id": "0da0891c",
   "metadata": {},
   "outputs": [],
   "source": [
    "response = requests.get(url, params=params)"
   ]
  },
  {
   "cell_type": "code",
   "execution_count": 25,
   "id": "8849cf2f",
   "metadata": {
    "scrolled": false
   },
   "outputs": [],
   "source": [
    "st = response.json()"
   ]
  },
  {
   "cell_type": "code",
   "execution_count": 32,
   "id": "617eb03c",
   "metadata": {
    "scrolled": false
   },
   "outputs": [
    {
     "data": {
      "text/plain": [
       "('Wed', 'Thu')"
      ]
     },
     "execution_count": 32,
     "metadata": {},
     "output_type": "execute_result"
    }
   ],
   "source": [
    "st['showtimes'][0]['day'], st['showtimes'][1]['day'] #showtimes is a list of dictionaries for each day"
   ]
  },
  {
   "cell_type": "code",
   "execution_count": 35,
   "id": "c68e283b",
   "metadata": {},
   "outputs": [
    {
     "data": {
      "text/plain": [
       "dict_keys(['day', 'date', 'movies'])"
      ]
     },
     "execution_count": 35,
     "metadata": {},
     "output_type": "execute_result"
    }
   ],
   "source": [
    "st['showtimes'][0].keys()"
   ]
  },
  {
   "cell_type": "code",
   "execution_count": 49,
   "id": "aa9f5cb6",
   "metadata": {},
   "outputs": [
    {
     "data": {
      "text/plain": [
       "[{'name': 'Detective Conan: The Bride Of Halloween',\n",
       "  'link': 'https://www.google.com/search?ucbcb=1&gl=us&hl=en&q=&si=AC1wQDAGEQiTPWsvhpPV4-xl97AcUfloRjKp4qat4I8-Kg1HxUvLo3gVdcM4Zhd-wA9e_tiTarn73YB7gitgsAIvryAGZHBRbil5g2wROM5AxMyDE6vDSRPBAep2rfWEllDRGgyzGiqiv7E42D0EC3gDacx6sheiV0yh8dIHrGFt6R1FIbc5ekvq_F0RP6jq-bVKYH_c5KVFPgo7V1ZYf58nD5O3YpGVpVey03b67UxqG8AVkWP124bz84avo7LBgTzrMwjG6htvM1C1YmNahkzcC4LMig79PA%3D%3D&sa=X&ved=2ahUKEwi9jcb2s8X3AhWakWoFHZ9OBfEQxyZ6BAgMEA4',\n",
       "  'showing': [{'time': ['5:55pm', '7:00pm', '8:00pm'], 'type': 'Standard'},\n",
       "   {'time': ['6:25pm'], 'type': 'IMAX'}]},\n",
       " {'name': 'ドクター・ストレンジ／マルチバース・オブ・マッドネス',\n",
       "  'link': 'https://www.google.com/search?ucbcb=1&gl=us&hl=en&q=&si=AC1wQDDmkSORa3FH6anizpggOJ18HFgTlSHnpaMgvYkKkNrH1d-xkNrAVbnSn1dZ4-7R47TNF_2ttKdB680NQ0KsULENm8dPPRumiFkz41ZvnGBOdamT17uK-99hROxARNXveoabm3IEIyr-r0iqNK63SSflJj3woOq2mCLI2RqcfVexTGEqjMXjeWyTzcwC8oZmTLx4xQXhDdHiioc-Kcsei09Rut1MpngT4dOX5_MauI4VQ5NPXWRp_836p5iX7-Iw9uYCRkD2do4msgpy-PA-WwX6nxVo6xSRCqXuh9lpOpSNXpZAe3M8waHkMqyYjfNmyF9QlwbK3cIQtbVXI-Vk7xboye7FTQ%3D%3D&sa=X&ved=2ahUKEwi9jcb2s8X3AhWakWoFHZ9OBfEQxyZ6BAgMEBY',\n",
       "  'showing': [{'time': ['8:55pm'], 'type': 'IMAX 3D'},\n",
       "   {'time': ['6:40pm', '8:20pm'], 'type': 'Standard'},\n",
       "   {'time': ['8:35pm', '9:20pm'], 'type': 'Standard'}]}]"
      ]
     },
     "execution_count": 49,
     "metadata": {},
     "output_type": "execute_result"
    }
   ],
   "source": [
    "st['showtimes'][0]['movies'][0:2] #movies is a list of dictionaries for each movie"
   ]
  },
  {
   "cell_type": "code",
   "execution_count": 53,
   "id": "21479430",
   "metadata": {},
   "outputs": [
    {
     "data": {
      "text/plain": [
       "'Detective Conan: The Bride Of Halloween'"
      ]
     },
     "execution_count": 53,
     "metadata": {},
     "output_type": "execute_result"
    }
   ],
   "source": [
    "st['showtimes'][0]['movies'][0]['name']"
   ]
  },
  {
   "cell_type": "code",
   "execution_count": 54,
   "id": "e2def636",
   "metadata": {},
   "outputs": [
    {
     "data": {
      "text/plain": [
       "[{'time': ['5:55pm', '7:00pm', '8:00pm'], 'type': 'Standard'},\n",
       " {'time': ['6:25pm'], 'type': 'IMAX'}]"
      ]
     },
     "execution_count": 54,
     "metadata": {},
     "output_type": "execute_result"
    }
   ],
   "source": [
    "st['showtimes'][0]['movies'][0]['showing'] #showing is a list of dictionarys for each type of showing"
   ]
  },
  {
   "cell_type": "markdown",
   "id": "f6f7d627",
   "metadata": {},
   "source": [
    "### Extracting relevant info"
   ]
  },
  {
   "cell_type": "markdown",
   "id": "db0029be",
   "metadata": {},
   "source": [
    "#### List of movies showing"
   ]
  },
  {
   "cell_type": "code",
   "execution_count": null,
   "id": "9c755008",
   "metadata": {},
   "outputs": [],
   "source": []
  }
 ],
 "metadata": {
  "kernelspec": {
   "display_name": "Python 3 (ipykernel)",
   "language": "python",
   "name": "python3"
  },
  "language_info": {
   "codemirror_mode": {
    "name": "ipython",
    "version": 3
   },
   "file_extension": ".py",
   "mimetype": "text/x-python",
   "name": "python",
   "nbconvert_exporter": "python",
   "pygments_lexer": "ipython3",
   "version": "3.8.12"
  },
  "toc": {
   "base_numbering": 1,
   "nav_menu": {},
   "number_sections": true,
   "sideBar": true,
   "skip_h1_title": false,
   "title_cell": "Table of Contents",
   "title_sidebar": "Contents",
   "toc_cell": false,
   "toc_position": {},
   "toc_section_display": true,
   "toc_window_display": false
  }
 },
 "nbformat": 4,
 "nbformat_minor": 5
}
