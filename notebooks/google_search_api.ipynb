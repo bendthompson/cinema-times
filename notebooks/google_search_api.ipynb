{
 "cells": [
  {
   "cell_type": "markdown",
   "id": "84f9c895",
   "metadata": {},
   "source": [
    "## Using SerpAPI to webscrape google's showtimes scraper"
   ]
  },
  {
   "cell_type": "code",
   "execution_count": 1,
   "id": "3df534be",
   "metadata": {},
   "outputs": [],
   "source": [
    "import re\n",
    "import requests"
   ]
  },
  {
   "cell_type": "markdown",
   "id": "397e03dd",
   "metadata": {},
   "source": [
    "### Example"
   ]
  },
  {
   "cell_type": "code",
   "execution_count": 2,
   "id": "6b0e0d58",
   "metadata": {},
   "outputs": [],
   "source": [
    "url = 'https://serpapi.com/search.json?q=AMC+Barton+Creek+Square+14&location=Austin%2C+Texas%2C+United+States&hl=en&gl=us&api_key=795f9ca654b1031eb177ec72c1b14382c12a781a6db5e4a739c719fb308e47c8'"
   ]
  },
  {
   "cell_type": "code",
   "execution_count": 3,
   "id": "65e55aaa",
   "metadata": {},
   "outputs": [],
   "source": [
    "respons = requests.get(url)"
   ]
  },
  {
   "cell_type": "code",
   "execution_count": 4,
   "id": "93536eaf",
   "metadata": {},
   "outputs": [
    {
     "data": {
      "text/plain": [
       "{'name': 'Doctor Strange in the Multiverse of Madness',\n",
       " 'link': 'https://www.google.com/search?hl=en&gl=us&q=&si=AC1wQDAGEQiTPWsvhpPV4-xl97AcUfloRjKp4qat4I8-Kg1HxUZlh2hLOg8aj__svnrQzhOeuRt0XWQO0aQ5e0fgfdZ5L_-DKOa8yWulzvNv7DmICt36IVJV-SCeXHRkJm5uPYvHtnnvHV0ggIt9zeGAwpAdjOYR7j3fHrM0Dpq4qwD5xhOiM0RH5nV40o5n_co7tcOFzsWeZX4vzMK-IJ-FcPoF4paOQ-W6kweqp0GF3nimu3iPjqEocCTwjrfZUttKOz-BaNfPYr2mmh45HkAEBqhIyhigRw%3D%3D&sa=X&ved=2ahUKEwiVmI341-P3AhW_l3IEHS0pApoQxyZ6BAgbEBM',\n",
       " 'showing': [{'time': ['11:00am',\n",
       "    '12:00pm',\n",
       "    '1:30pm',\n",
       "    '2:00pm',\n",
       "    '3:00pm',\n",
       "    '4:00pm',\n",
       "    '4:30pm',\n",
       "    '6:00pm',\n",
       "    '7:00pm',\n",
       "    '7:30pm',\n",
       "    '9:00pm',\n",
       "    '10:00pm'],\n",
       "   'type': 'Standard'},\n",
       "  {'time': ['11:30am', '5:30pm', '8:30pm'], 'type': 'IMAX'},\n",
       "  {'time': ['2:30pm'], 'type': 'IMAX 3D'},\n",
       "  {'time': ['5:00pm', '8:00pm'], 'type': '3D'},\n",
       "  {'time': ['12:30pm', '3:30pm', '6:30pm', '9:30pm'], 'type': 'Dolby Cinema'}]}"
      ]
     },
     "execution_count": 4,
     "metadata": {},
     "output_type": "execute_result"
    }
   ],
   "source": [
    "respons.json()['showtimes'][0]['movies'][0]"
   ]
  },
  {
   "cell_type": "markdown",
   "id": "5f1b5aa6",
   "metadata": {},
   "source": [
    "### Applying to Japan"
   ]
  },
  {
   "cell_type": "code",
   "execution_count": 32,
   "id": "22900bc7",
   "metadata": {},
   "outputs": [],
   "source": [
    "url = 'https://serpapi.com/search.json'"
   ]
  },
  {
   "cell_type": "code",
   "execution_count": 33,
   "id": "aafee79c",
   "metadata": {},
   "outputs": [],
   "source": [
    "query = 'united cinemas urawa'\n",
    "query = 'movix saitama'\n",
    "query = 'toho cinema lalaport fujimi'"
   ]
  },
  {
   "cell_type": "code",
   "execution_count": 34,
   "id": "fcd52bc2",
   "metadata": {},
   "outputs": [],
   "source": [
    "params = {\n",
    "  \"q\": query, \n",
    "  \"hl\": \"en\",\n",
    "  \"gl\": \"us\",\n",
    "  \"api_key\": \"795f9ca654b1031eb177ec72c1b14382c12a781a6db5e4a739c719fb308e47c8\"\n",
    "}"
   ]
  },
  {
   "cell_type": "code",
   "execution_count": 35,
   "id": "d6f1147b",
   "metadata": {},
   "outputs": [],
   "source": [
    "response = requests.get(url, params=params)"
   ]
  },
  {
   "cell_type": "code",
   "execution_count": 36,
   "id": "3fd92c44",
   "metadata": {
    "scrolled": false
   },
   "outputs": [],
   "source": [
    "showtimes = response.json()['showtimes']"
   ]
  },
  {
   "cell_type": "code",
   "execution_count": null,
   "id": "41081431",
   "metadata": {},
   "outputs": [],
   "source": []
  },
  {
   "cell_type": "code",
   "execution_count": 40,
   "id": "42bdd8d1",
   "metadata": {},
   "outputs": [],
   "source": [
    "st=showtimes"
   ]
  },
  {
   "cell_type": "code",
   "execution_count": 5,
   "id": "7d1b29af",
   "metadata": {},
   "outputs": [],
   "source": [
    "def search(query):\n",
    "    '''\n",
    "    takes cinema query and returns googles showtimes, a list of dictionaries for each day\n",
    "    '''\n",
    "    url = 'https://serpapi.com/search.json'\n",
    "    params = {\"q\": query, \"hl\": \"en\",\"gl\": \"us\",\n",
    "              \"api_key\": \"795f9ca654b1031eb177ec72c1b14382c12a781a6db5e4a739c719fb308e47c8\"}\n",
    "    \n",
    "    response = requests.get(url, params=params)\n",
    "    print(f\"Response :{response.status_code}\")\n",
    "    showtimes = response.json()['showtimes']\n",
    "    \n",
    "    return showtimes"
   ]
  },
  {
   "cell_type": "code",
   "execution_count": 48,
   "id": "3d6c5998",
   "metadata": {},
   "outputs": [
    {
     "name": "stdout",
     "output_type": "stream",
     "text": [
      "Response :200\n"
     ]
    }
   ],
   "source": [
    "showtimes = search('united cinemas urawa')"
   ]
  },
  {
   "cell_type": "markdown",
   "id": "4b6ec9e3",
   "metadata": {},
   "source": [
    "### Extracting relevant info"
   ]
  },
  {
   "cell_type": "code",
   "execution_count": 6,
   "id": "7ee38b36",
   "metadata": {},
   "outputs": [],
   "source": [
    "def showtimes_remove_jp(title_list):\n",
    "    pattern = r'[\\u3040-\\u30ff\\u3400-\\u4dbf\\u4e00-\\u9fff\\uf900-\\ufaff\\uff66-\\uff9f]' \n",
    "    return [title for title in title_list if bool(re.search(pattern, title)) == False]\n",
    "    "
   ]
  },
  {
   "cell_type": "markdown",
   "id": "5588a7d7",
   "metadata": {},
   "source": [
    "#### Dates collected"
   ]
  },
  {
   "cell_type": "markdown",
   "id": "ccfd1d19",
   "metadata": {},
   "source": [
    "##### function"
   ]
  },
  {
   "cell_type": "code",
   "execution_count": null,
   "id": "28576d33",
   "metadata": {},
   "outputs": [],
   "source": [
    "def start_end(showtimes):\n",
    "    '''\n",
    "    takes showtimes dictionary given by googlesearch and returns tuple of startday and endday\n",
    "    '''\n",
    "    startday = showtimes[0]['day'] + ' ' + showtimes[0]['date']\n",
    "    endday   = showtimes[-1]['day'] + ' ' + showtimes[-1]['date']\n",
    "    \n",
    "    return (startday,endday)"
   ]
  },
  {
   "cell_type": "code",
   "execution_count": null,
   "id": "b9e6c991",
   "metadata": {},
   "outputs": [],
   "source": [
    "start_end(st)"
   ]
  },
  {
   "cell_type": "markdown",
   "id": "33681476",
   "metadata": {},
   "source": [
    "#### List of movies showing each day"
   ]
  },
  {
   "cell_type": "code",
   "execution_count": null,
   "id": "1ec4b879",
   "metadata": {
    "scrolled": true
   },
   "outputs": [],
   "source": [
    "showtimes[0]"
   ]
  },
  {
   "cell_type": "code",
   "execution_count": null,
   "id": "f004b0f9",
   "metadata": {},
   "outputs": [],
   "source": [
    "daymovies = {}\n",
    "for day in showtimes:\n",
    "    print()\n",
    "    daymovies[day['day'].lower] = [movie['name'] for movie in day['movies']]\n"
   ]
  },
  {
   "cell_type": "code",
   "execution_count": null,
   "id": "a8d858c1",
   "metadata": {},
   "outputs": [],
   "source": [
    "daymovies = {day['date'].split()[1] : [movie['name'] for movie in day['movies']] for day in showtimes }\n",
    "#makes a dictionary with each date value as key and a list of movies that day as the value"
   ]
  },
  {
   "cell_type": "markdown",
   "id": "72115867",
   "metadata": {},
   "source": [
    "##### function"
   ]
  },
  {
   "cell_type": "code",
   "execution_count": 7,
   "id": "b8991a17",
   "metadata": {},
   "outputs": [],
   "source": [
    "def eng_movies_by_day(showtimes):\n",
    "    '''\n",
    "    takes showtimes dict and returns a dictionary- keys are each day, values are lists of movie titles\n",
    "    '''\n",
    "    pattern = r'[\\u3040-\\u30ff\\u3400-\\u4dbf\\u4e00-\\u9fff\\uf900-\\ufaff\\uff66-\\uff9f]' \n",
    "    moviesbyday = {day['date'].split()[1] : [movie['name'] for movie in day['movies'] if bool(re.search(pattern, movie['name'])) == False] for day in showtimes }\n",
    "    return moviesbyday\n",
    "\n",
    "def movies_by_day(showtimes):\n",
    "    '''\n",
    "    takes showtimes dict and returns a dictionary- keys are each day, values are lists of movie titles\n",
    "    '''\n",
    "    moviesbyday = {day['date'].split()[1] : [movie['name'] for movie in day['movies']] for day in showtimes }\n",
    "    return moviesbyday"
   ]
  },
  {
   "cell_type": "code",
   "execution_count": 8,
   "id": "0d5745f0",
   "metadata": {},
   "outputs": [],
   "source": [
    "def mbd_to_df(mbd):\n",
    "    maxlength = max([len(movies) for movies in mbd.values()])\n",
    "    for key in mbd.keys():\n",
    "        while len(mbd[key]) < maxlength:\n",
    "            mbd[key].append('-')\n",
    "    return pd.DataFrame(mbd)"
   ]
  },
  {
   "cell_type": "code",
   "execution_count": 81,
   "id": "639df66d",
   "metadata": {},
   "outputs": [
    {
     "data": {
      "text/html": [
       "<div>\n",
       "<style scoped>\n",
       "    .dataframe tbody tr th:only-of-type {\n",
       "        vertical-align: middle;\n",
       "    }\n",
       "\n",
       "    .dataframe tbody tr th {\n",
       "        vertical-align: top;\n",
       "    }\n",
       "\n",
       "    .dataframe thead th {\n",
       "        text-align: right;\n",
       "    }\n",
       "</style>\n",
       "<table border=\"1\" class=\"dataframe\">\n",
       "  <thead>\n",
       "    <tr style=\"text-align: right;\">\n",
       "      <th></th>\n",
       "      <th>15</th>\n",
       "      <th>16</th>\n",
       "      <th>17</th>\n",
       "      <th>18</th>\n",
       "      <th>19</th>\n",
       "    </tr>\n",
       "  </thead>\n",
       "  <tbody>\n",
       "    <tr>\n",
       "      <th>0</th>\n",
       "      <td>Shin Ultraman</td>\n",
       "      <td>Shin Ultraman</td>\n",
       "      <td>Shin Ultraman</td>\n",
       "      <td>Shin Ultraman</td>\n",
       "      <td>Shin Ultraman</td>\n",
       "    </tr>\n",
       "    <tr>\n",
       "      <th>1</th>\n",
       "      <td>Detective Conan: The Bride of Halloween</td>\n",
       "      <td>Detective Conan: The Bride of Halloween</td>\n",
       "      <td>Detective Conan: The Bride of Halloween</td>\n",
       "      <td>Detective Conan: The Bride of Halloween</td>\n",
       "      <td>Detective Conan: The Bride of Halloween</td>\n",
       "    </tr>\n",
       "    <tr>\n",
       "      <th>2</th>\n",
       "      <td>Doctor Strange in the Multiverse of Madness</td>\n",
       "      <td>Doctor Strange in the Multiverse of Madness</td>\n",
       "      <td>Doctor Strange in the Multiverse of Madness</td>\n",
       "      <td>Doctor Strange in the Multiverse of Madness</td>\n",
       "      <td>Doctor Strange in the Multiverse of Madness</td>\n",
       "    </tr>\n",
       "    <tr>\n",
       "      <th>3</th>\n",
       "      <td>Bubble</td>\n",
       "      <td>Bubble</td>\n",
       "      <td>Bubble</td>\n",
       "      <td>Bubble</td>\n",
       "      <td>Bubble</td>\n",
       "    </tr>\n",
       "    <tr>\n",
       "      <th>4</th>\n",
       "      <td>Fantastic Beasts: The Secrets of Dumbledore</td>\n",
       "      <td>Fantastic Beasts: The Secrets of Dumbledore</td>\n",
       "      <td>Fantastic Beasts: The Secrets of Dumbledore</td>\n",
       "      <td>Fantastic Beasts: The Secrets of Dumbledore</td>\n",
       "      <td>Fantastic Beasts: The Secrets of Dumbledore</td>\n",
       "    </tr>\n",
       "    <tr>\n",
       "      <th>5</th>\n",
       "      <td>Free! – the Final Stroke – the first volume</td>\n",
       "      <td>Crayon Shin-chan: Mononoke Ninja Chinpūden</td>\n",
       "      <td>Crayon Shin-chan: Mononoke Ninja Chinpūden</td>\n",
       "      <td>Crayon Shin-chan: Mononoke Ninja Chinpūden</td>\n",
       "      <td>Crayon Shin-chan: Mononoke Ninja Chinpūden</td>\n",
       "    </tr>\n",
       "    <tr>\n",
       "      <th>6</th>\n",
       "      <td>Jujutsu Kaisen 0</td>\n",
       "      <td>Free! – the Final Stroke – the first volume</td>\n",
       "      <td>Free! – the Final Stroke – the first volume</td>\n",
       "      <td>Free! – the Final Stroke – the first volume</td>\n",
       "      <td>Free! – the Final Stroke – the first volume</td>\n",
       "    </tr>\n",
       "    <tr>\n",
       "      <th>7</th>\n",
       "      <td>-</td>\n",
       "      <td>C'mon C'mon</td>\n",
       "      <td>C'mon C'mon</td>\n",
       "      <td>C'mon C'mon</td>\n",
       "      <td>C'mon C'mon</td>\n",
       "    </tr>\n",
       "  </tbody>\n",
       "</table>\n",
       "</div>"
      ],
      "text/plain": [
       "                                            15  \\\n",
       "0                                Shin Ultraman   \n",
       "1      Detective Conan: The Bride of Halloween   \n",
       "2  Doctor Strange in the Multiverse of Madness   \n",
       "3                                       Bubble   \n",
       "4  Fantastic Beasts: The Secrets of Dumbledore   \n",
       "5  Free! – the Final Stroke – the first volume   \n",
       "6                             Jujutsu Kaisen 0   \n",
       "7                                            -   \n",
       "\n",
       "                                            16  \\\n",
       "0                                Shin Ultraman   \n",
       "1      Detective Conan: The Bride of Halloween   \n",
       "2  Doctor Strange in the Multiverse of Madness   \n",
       "3                                       Bubble   \n",
       "4  Fantastic Beasts: The Secrets of Dumbledore   \n",
       "5   Crayon Shin-chan: Mononoke Ninja Chinpūden   \n",
       "6  Free! – the Final Stroke – the first volume   \n",
       "7                                  C'mon C'mon   \n",
       "\n",
       "                                            17  \\\n",
       "0                                Shin Ultraman   \n",
       "1      Detective Conan: The Bride of Halloween   \n",
       "2  Doctor Strange in the Multiverse of Madness   \n",
       "3                                       Bubble   \n",
       "4  Fantastic Beasts: The Secrets of Dumbledore   \n",
       "5   Crayon Shin-chan: Mononoke Ninja Chinpūden   \n",
       "6  Free! – the Final Stroke – the first volume   \n",
       "7                                  C'mon C'mon   \n",
       "\n",
       "                                            18  \\\n",
       "0                                Shin Ultraman   \n",
       "1      Detective Conan: The Bride of Halloween   \n",
       "2  Doctor Strange in the Multiverse of Madness   \n",
       "3                                       Bubble   \n",
       "4  Fantastic Beasts: The Secrets of Dumbledore   \n",
       "5   Crayon Shin-chan: Mononoke Ninja Chinpūden   \n",
       "6  Free! – the Final Stroke – the first volume   \n",
       "7                                  C'mon C'mon   \n",
       "\n",
       "                                            19  \n",
       "0                                Shin Ultraman  \n",
       "1      Detective Conan: The Bride of Halloween  \n",
       "2  Doctor Strange in the Multiverse of Madness  \n",
       "3                                       Bubble  \n",
       "4  Fantastic Beasts: The Secrets of Dumbledore  \n",
       "5   Crayon Shin-chan: Mononoke Ninja Chinpūden  \n",
       "6  Free! – the Final Stroke – the first volume  \n",
       "7                                  C'mon C'mon  "
      ]
     },
     "execution_count": 81,
     "metadata": {},
     "output_type": "execute_result"
    }
   ],
   "source": [
    "mbd_to_df(movies_by_day(showtimes))"
   ]
  },
  {
   "cell_type": "markdown",
   "id": "972d18aa",
   "metadata": {},
   "source": [
    "#### list of all movies showing"
   ]
  },
  {
   "cell_type": "code",
   "execution_count": null,
   "id": "4a6ac81d",
   "metadata": {},
   "outputs": [],
   "source": [
    "movie_set = {movie['name'] for movie in day['movies'] for day in showtimes}"
   ]
  },
  {
   "cell_type": "code",
   "execution_count": null,
   "id": "1d261e9b",
   "metadata": {},
   "outputs": [],
   "source": [
    "{movie['name'] for movie in day['movies'] for day in showtimes}"
   ]
  },
  {
   "cell_type": "code",
   "execution_count": null,
   "id": "195404b1",
   "metadata": {},
   "outputs": [],
   "source": [
    "list(movie_set)"
   ]
  },
  {
   "cell_type": "code",
   "execution_count": 9,
   "id": "723a2b7e",
   "metadata": {},
   "outputs": [],
   "source": [
    "def movie_list(showtimes):\n",
    "    '''\n",
    "    goes through showtimes and returns a list of each unique movie\n",
    "    '''\n",
    "    movie_set = {movie['name'] for day in showtimes for movie in day['movies']}\n",
    "    return list(movie_set)\n",
    "\n",
    "def eng_movie_list(showtimes):\n",
    "    '''\n",
    "    goes through showtimes and returns a list of each unique movie\n",
    "    '''\n",
    "    pattern = r'[\\u3040-\\u30ff\\u3400-\\u4dbf\\u4e00-\\u9fff\\uf900-\\ufaff\\uff66-\\uff9f]'\n",
    "    movie_set = {movie['name'] for day in showtimes for movie in day['movies'] if bool(re.search(pattern, movie['name'])) == False}\n",
    "    return list(movie_set)"
   ]
  },
  {
   "cell_type": "code",
   "execution_count": 91,
   "id": "ceaf388e",
   "metadata": {
    "scrolled": true
   },
   "outputs": [
    {
     "data": {
      "text/plain": [
       "['Free! – the Final Stroke – the first volume',\n",
       " 'Shin Ultraman',\n",
       " \"C'mon C'mon\",\n",
       " '劇場版ラジエーションハウス',\n",
       " '流浪の月',\n",
       " 'Detective Conan: The Bride of Halloween',\n",
       " 'Doctor Strange in the Multiverse of Madness',\n",
       " 'Jujutsu Kaisen 0',\n",
       " '映画 おそ松さん',\n",
       " 'Fantastic Beasts: The Secrets of Dumbledore',\n",
       " 'Bubble',\n",
       " 'ホリック xxxHOLiC',\n",
       " 'Crayon Shin-chan: Mononoke Ninja Chinpūden']"
      ]
     },
     "execution_count": 91,
     "metadata": {},
     "output_type": "execute_result"
    }
   ],
   "source": [
    "movie_list(showtimes)"
   ]
  },
  {
   "cell_type": "code",
   "execution_count": 92,
   "id": "d7ab220a",
   "metadata": {
    "scrolled": true
   },
   "outputs": [
    {
     "data": {
      "text/plain": [
       "['Free! – the Final Stroke – the first volume',\n",
       " 'Shin Ultraman',\n",
       " \"C'mon C'mon\",\n",
       " 'Detective Conan: The Bride of Halloween',\n",
       " 'Doctor Strange in the Multiverse of Madness',\n",
       " 'Jujutsu Kaisen 0',\n",
       " 'Fantastic Beasts: The Secrets of Dumbledore',\n",
       " 'Bubble',\n",
       " 'Crayon Shin-chan: Mononoke Ninja Chinpūden']"
      ]
     },
     "execution_count": 92,
     "metadata": {},
     "output_type": "execute_result"
    }
   ],
   "source": [
    "eng_movie_list(showtimes)"
   ]
  },
  {
   "cell_type": "markdown",
   "id": "baee4fa5",
   "metadata": {},
   "source": [
    "Daily Showtimes DF"
   ]
  },
  {
   "cell_type": "code",
   "execution_count": 149,
   "id": "44a80975",
   "metadata": {},
   "outputs": [],
   "source": [
    "def eng_day_to_df(day):\n",
    "    pattern = r'[\\u3040-\\u30ff\\u3400-\\u4dbf\\u4e00-\\u9fff\\uf900-\\ufaff\\uff66-\\uff9f]'\n",
    "    daydict=[{'name':movie['name'],'times':movie['showing']} for movie in day['movies'] if bool(re.search(pattern, movie['name'])) == False]\n",
    "    for movie in daydict:\n",
    "        movie['Movie'] = movie.pop('name')\n",
    "        for typedict in movie['times']:\n",
    "            movie[typedict['type']] = ' '.join(typedict['time'])\n",
    "        movie.pop('times')\n",
    "    daydf = pd.DataFrame(daydict).set_index('Movie').fillna('-')\n",
    "    return daydf\n",
    "\n",
    "def day_to_df(day):\n",
    "    daydict=[{'name':movie['name'],'times':movie['showing']} for movie in day['movies']]\n",
    "    for movie in daydict:\n",
    "        movie['Movie'] = movie.pop('name')\n",
    "        for typedict in movie['times']:\n",
    "            movie[typedict['type']] = ' '.join(typedict['time'])\n",
    "        movie.pop('times')\n",
    "    daydf = pd.DataFrame(daydict).set_index('Movie').fillna('-')\n",
    "    return daydf\n",
    "\n",
    "def eng_daily_df_list(showtimes):\n",
    "    return [eng_day_to_df(day) for day in showtimes]\n",
    "\n",
    "def daily_df_list(showtimes):\n",
    "    return [day_to_df(day) for day in showtimes]"
   ]
  },
  {
   "cell_type": "code",
   "execution_count": 154,
   "id": "448b603b",
   "metadata": {},
   "outputs": [
    {
     "data": {
      "text/html": [
       "<div>\n",
       "<style scoped>\n",
       "    .dataframe tbody tr th:only-of-type {\n",
       "        vertical-align: middle;\n",
       "    }\n",
       "\n",
       "    .dataframe tbody tr th {\n",
       "        vertical-align: top;\n",
       "    }\n",
       "\n",
       "    .dataframe thead th {\n",
       "        text-align: right;\n",
       "    }\n",
       "</style>\n",
       "<table border=\"1\" class=\"dataframe\">\n",
       "  <thead>\n",
       "    <tr style=\"text-align: right;\">\n",
       "      <th></th>\n",
       "      <th>Standard</th>\n",
       "      <th>IMAX</th>\n",
       "      <th>3D 4DX</th>\n",
       "      <th>ScreenX</th>\n",
       "    </tr>\n",
       "    <tr>\n",
       "      <th>Movie</th>\n",
       "      <th></th>\n",
       "      <th></th>\n",
       "      <th></th>\n",
       "      <th></th>\n",
       "    </tr>\n",
       "  </thead>\n",
       "  <tbody>\n",
       "    <tr>\n",
       "      <th>Doctor Strange in the Multiverse of Madness</th>\n",
       "      <td>11:00am 12:00pm 1:00pm 2:00pm 3:00pm 4:00pm 5:...</td>\n",
       "      <td>1:30pm 4:30pm 7:30pm</td>\n",
       "      <td>2:30pm 5:30pm 8:30pm</td>\n",
       "      <td>12:30pm 3:30pm 6:30pm</td>\n",
       "    </tr>\n",
       "    <tr>\n",
       "      <th>Downton Abbey: A New Era</th>\n",
       "      <td>11:20am 2:15pm 5:10pm 7:40pm</td>\n",
       "      <td>-</td>\n",
       "      <td>-</td>\n",
       "      <td>-</td>\n",
       "    </tr>\n",
       "    <tr>\n",
       "      <th>Firestarter</th>\n",
       "      <td>11:00am 1:20pm 3:50pm 6:20pm 8:50pm</td>\n",
       "      <td>-</td>\n",
       "      <td>-</td>\n",
       "      <td>-</td>\n",
       "    </tr>\n",
       "    <tr>\n",
       "      <th>Everything Everywhere All at Once</th>\n",
       "      <td>1:30pm 4:40pm 8:20pm</td>\n",
       "      <td>-</td>\n",
       "      <td>-</td>\n",
       "      <td>-</td>\n",
       "    </tr>\n",
       "    <tr>\n",
       "      <th>The Lost City</th>\n",
       "      <td>11:15am 2:40pm 4:20pm 8:40pm</td>\n",
       "      <td>-</td>\n",
       "      <td>-</td>\n",
       "      <td>-</td>\n",
       "    </tr>\n",
       "    <tr>\n",
       "      <th>Fantastic Beasts: The Secrets of Dumbledore</th>\n",
       "      <td>5:20pm</td>\n",
       "      <td>-</td>\n",
       "      <td>-</td>\n",
       "      <td>-</td>\n",
       "    </tr>\n",
       "    <tr>\n",
       "      <th>Sonic the Hedgehog 2</th>\n",
       "      <td>4:50pm</td>\n",
       "      <td>-</td>\n",
       "      <td>-</td>\n",
       "      <td>-</td>\n",
       "    </tr>\n",
       "    <tr>\n",
       "      <th>Operation Mincemeat</th>\n",
       "      <td>1:20pm</td>\n",
       "      <td>-</td>\n",
       "      <td>-</td>\n",
       "      <td>-</td>\n",
       "    </tr>\n",
       "    <tr>\n",
       "      <th>The Northman</th>\n",
       "      <td>11:30am 2:00pm 5:10pm</td>\n",
       "      <td>-</td>\n",
       "      <td>-</td>\n",
       "      <td>-</td>\n",
       "    </tr>\n",
       "    <tr>\n",
       "      <th>Father Stu</th>\n",
       "      <td>10:50am 1:50pm 8:10pm</td>\n",
       "      <td>-</td>\n",
       "      <td>-</td>\n",
       "      <td>-</td>\n",
       "    </tr>\n",
       "    <tr>\n",
       "      <th>Sarkaru Vaari Paata</th>\n",
       "      <td>7:10pm</td>\n",
       "      <td>-</td>\n",
       "      <td>-</td>\n",
       "      <td>-</td>\n",
       "    </tr>\n",
       "    <tr>\n",
       "      <th>You Only Live Twice</th>\n",
       "      <td>7:50pm</td>\n",
       "      <td>-</td>\n",
       "      <td>-</td>\n",
       "      <td>-</td>\n",
       "    </tr>\n",
       "  </tbody>\n",
       "</table>\n",
       "</div>"
      ],
      "text/plain": [
       "                                                                                      Standard  \\\n",
       "Movie                                                                                            \n",
       "Doctor Strange in the Multiverse of Madness  11:00am 12:00pm 1:00pm 2:00pm 3:00pm 4:00pm 5:...   \n",
       "Downton Abbey: A New Era                                          11:20am 2:15pm 5:10pm 7:40pm   \n",
       "Firestarter                                                11:00am 1:20pm 3:50pm 6:20pm 8:50pm   \n",
       "Everything Everywhere All at Once                                         1:30pm 4:40pm 8:20pm   \n",
       "The Lost City                                                     11:15am 2:40pm 4:20pm 8:40pm   \n",
       "Fantastic Beasts: The Secrets of Dumbledore                                             5:20pm   \n",
       "Sonic the Hedgehog 2                                                                    4:50pm   \n",
       "Operation Mincemeat                                                                     1:20pm   \n",
       "The Northman                                                             11:30am 2:00pm 5:10pm   \n",
       "Father Stu                                                               10:50am 1:50pm 8:10pm   \n",
       "Sarkaru Vaari Paata                                                                     7:10pm   \n",
       "You Only Live Twice                                                                     7:50pm   \n",
       "\n",
       "                                                             IMAX  \\\n",
       "Movie                                                               \n",
       "Doctor Strange in the Multiverse of Madness  1:30pm 4:30pm 7:30pm   \n",
       "Downton Abbey: A New Era                                        -   \n",
       "Firestarter                                                     -   \n",
       "Everything Everywhere All at Once                               -   \n",
       "The Lost City                                                   -   \n",
       "Fantastic Beasts: The Secrets of Dumbledore                     -   \n",
       "Sonic the Hedgehog 2                                            -   \n",
       "Operation Mincemeat                                             -   \n",
       "The Northman                                                    -   \n",
       "Father Stu                                                      -   \n",
       "Sarkaru Vaari Paata                                             -   \n",
       "You Only Live Twice                                             -   \n",
       "\n",
       "                                                           3D 4DX  \\\n",
       "Movie                                                               \n",
       "Doctor Strange in the Multiverse of Madness  2:30pm 5:30pm 8:30pm   \n",
       "Downton Abbey: A New Era                                        -   \n",
       "Firestarter                                                     -   \n",
       "Everything Everywhere All at Once                               -   \n",
       "The Lost City                                                   -   \n",
       "Fantastic Beasts: The Secrets of Dumbledore                     -   \n",
       "Sonic the Hedgehog 2                                            -   \n",
       "Operation Mincemeat                                             -   \n",
       "The Northman                                                    -   \n",
       "Father Stu                                                      -   \n",
       "Sarkaru Vaari Paata                                             -   \n",
       "You Only Live Twice                                             -   \n",
       "\n",
       "                                                           ScreenX  \n",
       "Movie                                                               \n",
       "Doctor Strange in the Multiverse of Madness  12:30pm 3:30pm 6:30pm  \n",
       "Downton Abbey: A New Era                                         -  \n",
       "Firestarter                                                      -  \n",
       "Everything Everywhere All at Once                                -  \n",
       "The Lost City                                                    -  \n",
       "Fantastic Beasts: The Secrets of Dumbledore                      -  \n",
       "Sonic the Hedgehog 2                                             -  \n",
       "Operation Mincemeat                                              -  \n",
       "The Northman                                                     -  \n",
       "Father Stu                                                       -  \n",
       "Sarkaru Vaari Paata                                              -  \n",
       "You Only Live Twice                                              -  "
      ]
     },
     "execution_count": 154,
     "metadata": {},
     "output_type": "execute_result"
    }
   ],
   "source": [
    "eng_daily_df_list(showtimes)[0]"
   ]
  },
  {
   "cell_type": "code",
   "execution_count": 205,
   "id": "5a39a0bc",
   "metadata": {},
   "outputs": [],
   "source": [
    "def extrasearch(query):\n",
    "    '''\n",
    "    takes extra query and returns googles showtimes if they exist\n",
    "    '''\n",
    "    url = 'https://serpapi.com/search.json'\n",
    "    params = {\"q\": query, \"hl\": \"en\",\"gl\": \"us\",\n",
    "              \"api_key\": \"795f9ca654b1031eb177ec72c1b14382c12a781a6db5e4a739c719fb308e47c8\"}\n",
    "    response = requests.get(url, params=params)\n",
    "    print(response.status_code)\n",
    "    \n",
    "    if response.status_code == 200:\n",
    "        checkst = response.json().get('showtimes')\n",
    "        if checkst:\n",
    "            showtimes = response.json()['showtimes']\n",
    "        else:\n",
    "            showtimes = 'No results'\n",
    "    else:\n",
    "        showtimes = 'No response'\n",
    "        \n",
    "    return showtimes"
   ]
  },
  {
   "cell_type": "code",
   "execution_count": 213,
   "id": "cb41358d",
   "metadata": {},
   "outputs": [
    {
     "name": "stdout",
     "output_type": "stream",
     "text": [
      "200\n"
     ]
    }
   ],
   "source": [
    "st = extrasearch('abcd')"
   ]
  },
  {
   "cell_type": "code",
   "execution_count": 214,
   "id": "dc2cccec",
   "metadata": {},
   "outputs": [
    {
     "data": {
      "text/plain": [
       "'No results'"
      ]
     },
     "execution_count": 214,
     "metadata": {},
     "output_type": "execute_result"
    }
   ],
   "source": [
    "st"
   ]
  },
  {
   "cell_type": "code",
   "execution_count": null,
   "id": "2bacd65d",
   "metadata": {},
   "outputs": [],
   "source": []
  }
 ],
 "metadata": {
  "kernelspec": {
   "display_name": "Python 3 (ipykernel)",
   "language": "python",
   "name": "python3"
  },
  "language_info": {
   "codemirror_mode": {
    "name": "ipython",
    "version": 3
   },
   "file_extension": ".py",
   "mimetype": "text/x-python",
   "name": "python",
   "nbconvert_exporter": "python",
   "pygments_lexer": "ipython3",
   "version": "3.8.12"
  },
  "toc": {
   "base_numbering": 1,
   "nav_menu": {},
   "number_sections": true,
   "sideBar": true,
   "skip_h1_title": false,
   "title_cell": "Table of Contents",
   "title_sidebar": "Contents",
   "toc_cell": false,
   "toc_position": {},
   "toc_section_display": true,
   "toc_window_display": false
  }
 },
 "nbformat": 4,
 "nbformat_minor": 5
}
