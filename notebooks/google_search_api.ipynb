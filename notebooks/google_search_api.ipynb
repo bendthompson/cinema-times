{
 "cells": [
  {
   "cell_type": "markdown",
   "id": "ebe0a9a9",
   "metadata": {},
   "source": [
    "## Using SerpAPI to piggy back google's showtime scraper"
   ]
  },
  {
   "cell_type": "code",
   "execution_count": 1,
   "id": "2ec3d2b6",
   "metadata": {},
   "outputs": [],
   "source": [
    "import requests"
   ]
  },
  {
   "cell_type": "markdown",
   "id": "d38d0f23",
   "metadata": {},
   "source": [
    "### Example"
   ]
  },
  {
   "cell_type": "code",
   "execution_count": 4,
   "id": "fc37b25f",
   "metadata": {},
   "outputs": [],
   "source": [
    "url = 'https://serpapi.com/search.json?q=AMC+Barton+Creek+Square+14&location=Austin%2C+Texas%2C+United+States&hl=en&gl=us&api_key=795f9ca654b1031eb177ec72c1b14382c12a781a6db5e4a739c719fb308e47c8'"
   ]
  },
  {
   "cell_type": "code",
   "execution_count": 5,
   "id": "0cf4a28d",
   "metadata": {},
   "outputs": [],
   "source": [
    "respons = requests.get(url)"
   ]
  },
  {
   "cell_type": "code",
   "execution_count": 18,
   "id": "22c42a79",
   "metadata": {},
   "outputs": [
    {
     "data": {
      "text/plain": [
       "{'name': 'The Bad Guys',\n",
       " 'link': 'https://www.google.com/search?gl=us&hl=en&q=&si=AC1wQDAGEQiTPWsvhpPV4-xl97AcUfloRjKp4qat4I8-Kg1HxfTik-_93U1ilcKEvVFgSHkrObhdLco3znZ0GSowTR_4T8j3FRRF1rpro2VFpzEII6hnJrwTJcyqkfSuVQEwz7xALIYzr1dC67ALPyR3FW6QSbVAzcblNTZX4P1KUchXSkMVhkruEYoFf6F2OXiT8RjmoyMI1N5KX2VbLcoVMXt6eDs9viG9IbwkwfI0S_iR9tvMfiisyYdfHan7EtcJd4ZZQsa6Y1x50tOvLM7OWuFMRKd4Gg%3D%3D&sa=X&ved=2ahUKEwjshPfYs8X3AhVjU98KHWcWA84QxyZ6BAgVEBM',\n",
       " 'showing': [{'time': ['11:30am',\n",
       "    '12:30pm',\n",
       "    '2:00pm',\n",
       "    '3:00pm',\n",
       "    '4:30pm',\n",
       "    '5:30pm',\n",
       "    '7:00pm',\n",
       "    '8:00pm'],\n",
       "   'type': 'Standard'}]}"
      ]
     },
     "execution_count": 18,
     "metadata": {},
     "output_type": "execute_result"
    }
   ],
   "source": [
    "respons.json()['showtimes'][0]['movies'][0]"
   ]
  },
  {
   "cell_type": "markdown",
   "id": "d72cfe07",
   "metadata": {},
   "source": [
    "### Applying to Japan"
   ]
  },
  {
   "cell_type": "code",
   "execution_count": 20,
   "id": "7f13c3f2",
   "metadata": {},
   "outputs": [],
   "source": [
    "url = 'https://serpapi.com/search.json'"
   ]
  },
  {
   "cell_type": "code",
   "execution_count": 21,
   "id": "5b0d23bb",
   "metadata": {},
   "outputs": [],
   "source": [
    "query = 'united cinemas urawa'"
   ]
  },
  {
   "cell_type": "code",
   "execution_count": 22,
   "id": "c66b3baf",
   "metadata": {},
   "outputs": [],
   "source": [
    "params = {\n",
    "  \"q\": query, \n",
    "  \"hl\": \"en\",\n",
    "  \"gl\": \"us\",\n",
    "  \"api_key\": \"795f9ca654b1031eb177ec72c1b14382c12a781a6db5e4a739c719fb308e47c8\"\n",
    "}"
   ]
  },
  {
   "cell_type": "code",
   "execution_count": 23,
   "id": "d0c2702f",
   "metadata": {},
   "outputs": [],
   "source": [
    "response = requests.get(url, params=params)"
   ]
  },
  {
   "cell_type": "code",
   "execution_count": 59,
   "id": "b8d1a1ce",
   "metadata": {
    "scrolled": false
   },
   "outputs": [],
   "source": [
    "showtimes = response.json()['showtimes']"
   ]
  },
  {
   "cell_type": "code",
   "execution_count": 32,
   "id": "884aa497",
   "metadata": {
    "scrolled": false
   },
   "outputs": [
    {
     "data": {
      "text/plain": [
       "('Wed', 'Thu')"
      ]
     },
     "execution_count": 32,
     "metadata": {},
     "output_type": "execute_result"
    }
   ],
   "source": [
    "st['showtimes'][0]['day'], st['showtimes'][1]['day'] #showtimes is a list of dictionaries for each day"
   ]
  },
  {
   "cell_type": "code",
   "execution_count": 35,
   "id": "6bba0efa",
   "metadata": {},
   "outputs": [
    {
     "data": {
      "text/plain": [
       "dict_keys(['day', 'date', 'movies'])"
      ]
     },
     "execution_count": 35,
     "metadata": {},
     "output_type": "execute_result"
    }
   ],
   "source": [
    "st['showtimes'][0].keys()"
   ]
  },
  {
   "cell_type": "code",
   "execution_count": 49,
   "id": "ca1e4dad",
   "metadata": {},
   "outputs": [
    {
     "data": {
      "text/plain": [
       "[{'name': 'Detective Conan: The Bride Of Halloween',\n",
       "  'link': 'https://www.google.com/search?ucbcb=1&gl=us&hl=en&q=&si=AC1wQDAGEQiTPWsvhpPV4-xl97AcUfloRjKp4qat4I8-Kg1HxUvLo3gVdcM4Zhd-wA9e_tiTarn73YB7gitgsAIvryAGZHBRbil5g2wROM5AxMyDE6vDSRPBAep2rfWEllDRGgyzGiqiv7E42D0EC3gDacx6sheiV0yh8dIHrGFt6R1FIbc5ekvq_F0RP6jq-bVKYH_c5KVFPgo7V1ZYf58nD5O3YpGVpVey03b67UxqG8AVkWP124bz84avo7LBgTzrMwjG6htvM1C1YmNahkzcC4LMig79PA%3D%3D&sa=X&ved=2ahUKEwi9jcb2s8X3AhWakWoFHZ9OBfEQxyZ6BAgMEA4',\n",
       "  'showing': [{'time': ['5:55pm', '7:00pm', '8:00pm'], 'type': 'Standard'},\n",
       "   {'time': ['6:25pm'], 'type': 'IMAX'}]},\n",
       " {'name': 'ドクター・ストレンジ／マルチバース・オブ・マッドネス',\n",
       "  'link': 'https://www.google.com/search?ucbcb=1&gl=us&hl=en&q=&si=AC1wQDDmkSORa3FH6anizpggOJ18HFgTlSHnpaMgvYkKkNrH1d-xkNrAVbnSn1dZ4-7R47TNF_2ttKdB680NQ0KsULENm8dPPRumiFkz41ZvnGBOdamT17uK-99hROxARNXveoabm3IEIyr-r0iqNK63SSflJj3woOq2mCLI2RqcfVexTGEqjMXjeWyTzcwC8oZmTLx4xQXhDdHiioc-Kcsei09Rut1MpngT4dOX5_MauI4VQ5NPXWRp_836p5iX7-Iw9uYCRkD2do4msgpy-PA-WwX6nxVo6xSRCqXuh9lpOpSNXpZAe3M8waHkMqyYjfNmyF9QlwbK3cIQtbVXI-Vk7xboye7FTQ%3D%3D&sa=X&ved=2ahUKEwi9jcb2s8X3AhWakWoFHZ9OBfEQxyZ6BAgMEBY',\n",
       "  'showing': [{'time': ['8:55pm'], 'type': 'IMAX 3D'},\n",
       "   {'time': ['6:40pm', '8:20pm'], 'type': 'Standard'},\n",
       "   {'time': ['8:35pm', '9:20pm'], 'type': 'Standard'}]}]"
      ]
     },
     "execution_count": 49,
     "metadata": {},
     "output_type": "execute_result"
    }
   ],
   "source": [
    "st['showtimes'][0]['movies'][0:2] #movies is a list of dictionaries for each movie"
   ]
  },
  {
   "cell_type": "code",
   "execution_count": 53,
   "id": "3f5f6bb0",
   "metadata": {},
   "outputs": [
    {
     "data": {
      "text/plain": [
       "'Detective Conan: The Bride Of Halloween'"
      ]
     },
     "execution_count": 53,
     "metadata": {},
     "output_type": "execute_result"
    }
   ],
   "source": [
    "st['showtimes'][0]['movies'][0]['name']"
   ]
  },
  {
   "cell_type": "code",
   "execution_count": 55,
   "id": "a10fb65c",
   "metadata": {},
   "outputs": [
    {
     "data": {
      "text/plain": [
       "[{'time': ['5:55pm', '7:00pm', '8:00pm'], 'type': 'Standard'},\n",
       " {'time': ['6:25pm'], 'type': 'IMAX'}]"
      ]
     },
     "execution_count": 55,
     "metadata": {},
     "output_type": "execute_result"
    }
   ],
   "source": [
    "st['showtimes'][0]['movies'][0]['showing'] #showing is a list of dictionarys for each type of showing"
   ]
  },
  {
   "cell_type": "markdown",
   "id": "fa659df9",
   "metadata": {},
   "source": [
    "### Extracting relevant info"
   ]
  },
  {
   "cell_type": "code",
   "execution_count": 60,
   "id": "749ee687",
   "metadata": {},
   "outputs": [
    {
     "data": {
      "text/plain": [
       "[{'day': 'Wed',\n",
       "  'date': 'May 4',\n",
       "  'movies': [{'name': 'Detective Conan: The Bride Of Halloween',\n",
       "    'link': 'https://www.google.com/search?ucbcb=1&gl=us&hl=en&q=&si=AC1wQDAGEQiTPWsvhpPV4-xl97AcUfloRjKp4qat4I8-Kg1HxUvLo3gVdcM4Zhd-wA9e_tiTarn73YB7gitgsAIvryAGZHBRbil5g2wROM5AxMyDE6vDSRPBAep2rfWEllDRGgyzGiqiv7E42D0EC3gDacx6sheiV0yh8dIHrGFt6R1FIbc5ekvq_F0RP6jq-bVKYH_c5KVFPgo7V1ZYf58nD5O3YpGVpVey03b67UxqG8AVkWP124bz84avo7LBgTzrMwjG6htvM1C1YmNahkzcC4LMig79PA%3D%3D&sa=X&ved=2ahUKEwi9jcb2s8X3AhWakWoFHZ9OBfEQxyZ6BAgMEA4',\n",
       "    'showing': [{'time': ['5:55pm', '7:00pm', '8:00pm'], 'type': 'Standard'},\n",
       "     {'time': ['6:25pm'], 'type': 'IMAX'}]},\n",
       "   {'name': 'ドクター・ストレンジ／マルチバース・オブ・マッドネス',\n",
       "    'link': 'https://www.google.com/search?ucbcb=1&gl=us&hl=en&q=&si=AC1wQDDmkSORa3FH6anizpggOJ18HFgTlSHnpaMgvYkKkNrH1d-xkNrAVbnSn1dZ4-7R47TNF_2ttKdB680NQ0KsULENm8dPPRumiFkz41ZvnGBOdamT17uK-99hROxARNXveoabm3IEIyr-r0iqNK63SSflJj3woOq2mCLI2RqcfVexTGEqjMXjeWyTzcwC8oZmTLx4xQXhDdHiioc-Kcsei09Rut1MpngT4dOX5_MauI4VQ5NPXWRp_836p5iX7-Iw9uYCRkD2do4msgpy-PA-WwX6nxVo6xSRCqXuh9lpOpSNXpZAe3M8waHkMqyYjfNmyF9QlwbK3cIQtbVXI-Vk7xboye7FTQ%3D%3D&sa=X&ved=2ahUKEwi9jcb2s8X3AhWakWoFHZ9OBfEQxyZ6BAgMEBY',\n",
       "    'showing': [{'time': ['8:55pm'], 'type': 'IMAX 3D'},\n",
       "     {'time': ['6:40pm', '8:20pm'], 'type': 'Standard'},\n",
       "     {'time': ['8:35pm', '9:20pm'], 'type': 'Standard'}]},\n",
       "   {'name': '劇場版ラジエーションハウス',\n",
       "    'link': 'https://www.google.com/search?ucbcb=1&gl=us&hl=en&q=&si=AC1wQDAGEQiTPWsvhpPV4-xl97AcUfloRjKp4qat4I8-Kg1HxdSWPSazo1k7_bkWdvqRhACJDr_gVhAiACEmBGWLk_I-LHDNN1dFs11hQYQhzQXiC3inVhHwRUGes6pWAp5LHsman5SciE2oM1Aw2pGSrPlSx2cvQDx7_BESx9IY8-mS5LvSwjIFVjYVq91jMIfToXooZqS11OOdTjofNhibdzF0N2HMHM0A_7SeZnZrX8B5qYs7p_mK0WszZ_B3WeAl1S7biDrCXZnwrtOt1dz3FDYrdeLnaA%3D%3D&sa=X&ved=2ahUKEwi9jcb2s8X3AhWakWoFHZ9OBfEQxyZ6BAgMECA',\n",
       "    'showing': [{'time': ['6:15pm', '8:45pm'], 'type': 'Standard'}]},\n",
       "   {'name': 'ホリック xxxHOLiC',\n",
       "    'link': 'https://www.google.com/search?ucbcb=1&gl=us&hl=en&q=&si=AC1wQDAGEQiTPWsvhpPV4-xl97AcUfloRjKp4qat4I8-Kg1HxSHDFSwx2683f1Yl2XtMJJzF5xcHG8Ta2I07Ko3WaEd8fej5g4xjtEhp6e7Khz7zN6dbO7mTY0I9ehaOGUP0okOhlbM041Z-4A_Zk3XaotPmXUftCyk69OpztJKWiKoixf8rFrhCrGgwIujg0X4Ul1dyA_1xg6KZyC0m38pzEDk4_3UZSkzFIbrO3TDUX5diCqqpUrncmCmRSbHseR0vuy_f0SzMv_r8GkWYS6__PdOQojBOeQ%3D%3D',\n",
       "    'showing': [{'time': ['6:30pm', '8:55pm'], 'type': 'Standard'}]},\n",
       "   {'name': 'Free! – the Final Stroke – the first volume',\n",
       "    'link': 'https://www.google.com/search?ucbcb=1&gl=us&hl=en&q=&si=AC1wQDAGEQiTPWsvhpPV4-xl97AcUfloRjKp4qat4I8-Kg1HxRqH3QdP9qtVnm8M1wEpSxupQrMz32byGvSDPHNL5IMZpHu_dOd5VP3ZoP-SitGpJqssivE0zY-ZjvYWZfTargCovjNvpZh9LR5B3zbVv68M1ECOEDJrtKEKzH2ZaPy0ORg_mKJIBBlU6N5TA7pAdBOzI2dzRP7J2N8ruckyDgXlxfFXJy42HhrLZMM_juIAbce6mxFG-UEbyga7K_Fd5M2W3Un-umXMBg8WaPFHLZ0qFCUKKQ%3D%3D',\n",
       "    'showing': [{'time': ['5:55pm', '6:55pm', '9:20pm'], 'type': 'Standard'}]},\n",
       "   {'name': \"C'mon C'mon\",\n",
       "    'link': 'https://www.google.com/search?ucbcb=1&gl=us&hl=en&q=&si=AC1wQDAGEQiTPWsvhpPV4-xl97AcUfloRjKp4qat4I8-Kg1HxR6_S1o0Xxkkf2vpYBJKU1OY14SCxkYD1GnpqHR2QeJnF4Shdthsk5wgnNNcOYrNS2k6dGyw73BlSWbKBtZqBJV9257Zaf8yewjg6xWiMsPM2-sm48teS1wvp6BgQ0YJwW6rfBee7NSOsYySzcBbgEi8iFLQRBa6Yxa5R_i-_ektaHVGtIaQIfG7XwtKnDgQIPJir-fJh66m0w8stqMcf6Sqy0h4ktYPXBMvLocOMCMZXCtEyw%3D%3D',\n",
       "    'showing': [{'time': ['9:30pm'], 'type': 'Standard'}]}]},\n",
       " {'day': 'Thu',\n",
       "  'date': 'May 5',\n",
       "  'movies': [{'name': 'Detective Conan: The Bride Of Halloween',\n",
       "    'link': 'https://www.google.com/search?ucbcb=1&gl=us&hl=en&q=&si=AC1wQDAGEQiTPWsvhpPV4-xl97AcUfloRjKp4qat4I8-Kg1HxUvLo3gVdcM4Zhd-wA9e_tiTarn73YB7gitgsAIvryAGZHBRbil5g2wROM5AxMyDE6vDSRPBAep2rfWEllDRGgyzGiqiv7E42D0EC3gDacx6sheiV0yh8dIHrGFt6R1FIbc5ekvq_F0RP6jq-bVKYH_c5KVFPgo7V1ZYf58nD5O3YpGVpVey03b67UxqG8AVkWP124bz84avo7LBgTzrMwjG6htvM1C1YmNahkzcC4LMig79PA%3D%3D',\n",
       "    'showing': [{'time': ['10:25am',\n",
       "       '11:15am',\n",
       "       '12:55pm',\n",
       "       '2:00pm',\n",
       "       '3:25pm',\n",
       "       '4:30pm',\n",
       "       '5:55pm',\n",
       "       '7:00pm',\n",
       "       '8:00pm'],\n",
       "      'type': 'Standard'},\n",
       "     {'time': ['9:00pm'], 'type': 'IMAX'}]},\n",
       "   {'name': 'Fantastic Beasts: The Secrets of Dumbledore',\n",
       "    'link': 'https://www.google.com/search?ucbcb=1&gl=us&hl=en&q=&si=AC1wQDAGEQiTPWsvhpPV4-xl97AcUfloRjKp4qat4I8-Kg1HxToG1fUDCzFoV9qNyABxtmi2MZsoHTDPMQ4tHmq4NvtOwYpNz96REEudP73sQK0wJIy2D83lob_11aA9DH1G21YwC_IcCzrcVlQS-oK8leZQ1Q2eYtup8fLC63OX4Vi1-WXgSIg1QDnhFnm-x41DJXxlYRnV-_v866rbvIIbssRjEWBsNMz5u6noj_vi4F3lfvj1-YvILAbuY6hf2Z58-9unQ3ktsfus4mYfyTaAiLZpx0-dAg%3D%3D',\n",
       "    'showing': [{'time': ['12:25pm'], 'type': 'IMAX'},\n",
       "     {'time': ['11:00am', '3:25pm'], 'type': 'Standard'},\n",
       "     {'time': ['10:35am', '1:35pm', '4:35pm'], 'type': 'Standard'}]},\n",
       "   {'name': 'ドクター・ストレンジ／マルチバース・オブ・マッドネス',\n",
       "    'link': 'https://www.google.com/search?ucbcb=1&gl=us&hl=en&q=&si=AC1wQDDmkSORa3FH6anizpggOJ18HFgTlSHnpaMgvYkKkNrH1d-xkNrAVbnSn1dZ4-7R47TNF_2ttKdB680NQ0KsULENm8dPPRumiFkz41ZvnGBOdamT17uK-99hROxARNXveoabm3IEIyr-r0iqNK63SSflJj3woOq2mCLI2RqcfVexTGEqjMXjeWyTzcwC8oZmTLx4xQXhDdHiioc-Kcsei09Rut1MpngT4dOX5_MauI4VQ5NPXWRp_836p5iX7-Iw9uYCRkD2do4msgpy-PA-WwX6nxVo6xSRCqXuh9lpOpSNXpZAe3M8waHkMqyYjfNmyF9QlwbK3cIQtbVXI-Vk7xboye7FTQ%3D%3D',\n",
       "    'showing': [{'time': ['9:40am', '3:30pm', '6:15pm'], 'type': 'IMAX 3D'},\n",
       "     {'time': ['1:15pm', '6:40pm', '8:20pm'], 'type': 'Standard'},\n",
       "     {'time': ['8:30am', '10:30am', '4:00pm', '9:20pm'], 'type': 'Standard'}]},\n",
       "   {'name': '劇場版ラジエーションハウス',\n",
       "    'link': 'https://www.google.com/search?ucbcb=1&gl=us&hl=en&q=&si=AC1wQDAGEQiTPWsvhpPV4-xl97AcUfloRjKp4qat4I8-Kg1HxdSWPSazo1k7_bkWdvqRhACJDr_gVhAiACEmBGWLk_I-LHDNN1dFs11hQYQhzQXiC3inVhHwRUGes6pWAp5LHsman5SciE2oM1Aw2pGSrPlSx2cvQDx7_BESx9IY8-mS5LvSwjIFVjYVq91jMIfToXooZqS11OOdTjofNhibdzF0N2HMHM0A_7SeZnZrX8B5qYs7p_mK0WszZ_B3WeAl1S7biDrCXZnwrtOt1dz3FDYrdeLnaA%3D%3D',\n",
       "    'showing': [{'time': ['10:40am', '1:10pm', '3:45pm', '6:15pm', '8:45pm'],\n",
       "      'type': 'Standard'}]},\n",
       "   {'name': 'Crayon Shin-chan: Mononoke Ninja Chinpūden',\n",
       "    'link': 'https://www.google.com/search?ucbcb=1&gl=us&hl=en&q=&si=AC1wQDAGEQiTPWsvhpPV4-xl97AcUfloRjKp4qat4I8-Kg1HxcYfLKw2cjvy4rxmZqX68DhEPAg2jVIDeDaX8WuECq2httymYvplIIE0Btc7Z0NBIQ3tbAwrzChY3Al4SRzs5leunIe4pOcuMOTnwEs5cXJrGo77955kD-y1VUxkScjhWkDyfreKIEwKqJvsC7nUD56S7lpIchC0LZYURqqYPyvEmAXGDE_dSdHRl_7av4tie-cfn9NYz5TyvOi-T-D0h7lHBaFC4leGutdr_EK4kwBapNuYEg%3D%3D',\n",
       "    'showing': [{'time': ['8:40am', '11:00am', '1:20pm', '3:40pm'],\n",
       "      'type': 'Standard'}]},\n",
       "   {'name': 'ホリック xxxHOLiC',\n",
       "    'link': 'https://www.google.com/search?ucbcb=1&gl=us&hl=en&q=&si=AC1wQDAGEQiTPWsvhpPV4-xl97AcUfloRjKp4qat4I8-Kg1HxSHDFSwx2683f1Yl2XtMJJzF5xcHG8Ta2I07Ko3WaEd8fej5g4xjtEhp6e7Khz7zN6dbO7mTY0I9ehaOGUP0okOhlbM041Z-4A_Zk3XaotPmXUftCyk69OpztJKWiKoixf8rFrhCrGgwIujg0X4Ul1dyA_1xg6KZyC0m38pzEDk4_3UZSkzFIbrO3TDUX5diCqqpUrncmCmRSbHseR0vuy_f0SzMv_r8GkWYS6__PdOQojBOeQ%3D%3D',\n",
       "    'showing': [{'time': ['8:10am', '1:40pm', '4:05pm', '6:30pm', '8:55pm'],\n",
       "      'type': 'Standard'}]},\n",
       "   {'name': 'Free! – the Final Stroke – the first volume',\n",
       "    'link': 'https://www.google.com/search?ucbcb=1&gl=us&hl=en&q=&si=AC1wQDAGEQiTPWsvhpPV4-xl97AcUfloRjKp4qat4I8-Kg1HxRqH3QdP9qtVnm8M1wEpSxupQrMz32byGvSDPHNL5IMZpHu_dOd5VP3ZoP-SitGpJqssivE0zY-ZjvYWZfTargCovjNvpZh9LR5B3zbVv68M1ECOEDJrtKEKzH2ZaPy0ORg_mKJIBBlU6N5TA7pAdBOzI2dzRP7J2N8ruckyDgXlxfFXJy42HhrLZMM_juIAbce6mxFG-UEbyga7K_Fd5M2W3Un-umXMBg8WaPFHLZ0qFCUKKQ%3D%3D',\n",
       "    'showing': [{'time': ['8:10am', '5:55pm', '6:55pm', '9:20pm'],\n",
       "      'type': 'Standard'}]},\n",
       "   {'name': 'Sing 2',\n",
       "    'link': 'https://www.google.com/search?ucbcb=1&gl=us&hl=en&q=&si=AC1wQDAGEQiTPWsvhpPV4-xl97AcUfloRjKp4qat4I8-Kg1HxeE2N5MJ9cDAvfRJ-vTKs49yyU1F9AMfgC5xO6AunV5suN9ZEUoyglxTjLtUy3UjAjdG00Susc0reDUg06hqUfqKTUqIU3OcnbizAXVf2IKWCxDzVBiFAWZsk4ncgDoCkK237H3SoxeU-HqLRtlF3jueup8eGUAE1Xo0wIiZHBO40neojLjUUDvUEDYmRZDmdXQIXUCKuL4IIxyDP0oaiu7mBs5MNyRUV7-hCm2LfMcNv0XfAA%3D%3D',\n",
       "    'showing': [{'time': ['1:00pm'], 'type': 'Standard'}]},\n",
       "   {'name': \"Doraemon: Nobita's Little Star Wars 2021\",\n",
       "    'link': 'https://www.google.com/search?ucbcb=1&gl=us&hl=en&q=&si=AC1wQDAGEQiTPWsvhpPV4-xl97AcUfloRjKp4qat4I8-Kg1HxZiKu41Vnc5X2jQNeAkVCL9O85uip2jzg-7EhrznYoBiA2TXMLQd8Tg1tBJkR5yFSaNPBgd-bvY7UTISQTB-rx5vLxuN_aSwna4EY75BvKGTa5t4wc8EEXSdXououXaRcuY8_OXMdpz4wE9dO5pbNWL17JxnvrgHWvT5v9OjbcMWZPLd3cvQxKD4S4r6GHbv2qSjYJM4nQMhjUFrM8eHZdG-fChv6SEh-AuaRUVBwrFC6Pv6Dw%3D%3D',\n",
       "    'showing': [{'time': ['10:25am'], 'type': 'Standard'}]},\n",
       "   {'name': 'Jujutsu Kaisen 0',\n",
       "    'link': 'https://www.google.com/search?ucbcb=1&gl=us&hl=en&q=&si=AC1wQDAGEQiTPWsvhpPV4-xl97AcUfloRjKp4qat4I8-Kg1HxYmedplKdB9u-mo2Ef8L1uLq2pHapE7lLZkPwn36c4dNyK9MN-hJJuhi6Gc2bCnlThZmMcMKMP7qLvbbooD3X3BjzVrWC2t8M5-8Xr56So2xOKO92HCbKNvoWzx2bRhGxOE0vCKpV2R7Avx052Z-EiaRydJua-5CP9CAuytSaA40jdFOseP_CGFqNP9uIQPg8DbEyaf9Ga1ai77B4k8DnxZ1Sh39nDWCzLD1RlB14joUrTV9-w%3D%3D',\n",
       "    'showing': [{'time': ['8:10am'], 'type': 'Standard'}]},\n",
       "   {'name': '映画 おそ松さん',\n",
       "    'link': 'https://www.google.com/search?ucbcb=1&gl=us&hl=en&q=&si=AC1wQDAGEQiTPWsvhpPV4-xl97AcUfloRjKp4qat4I8-Kg1HxXwZUpavb-ocyeOtfsRT3wRFqzGz2FApnKELKtCsS9uGx85W-ZJ1Zb6RR8jTGTqkwPCQ4EJsOH6zVTHi3mdAfAAqsfUiKZzXcGKcz89fh5z7bJ5J7r2-z6bVft1flCpNHo2IEkSsn6wjZfRUuBJYKgQAhrO6lCBBDWDRc40Agm9uRISBLacWGUA2VXVgxo1qybN7ZidIKtWAoJktGbcbheGspI_EM2rzphmxRqIsBMcJuyap1g%3D%3D',\n",
       "    'showing': [{'time': ['8:15am'], 'type': 'Standard'}]},\n",
       "   {'name': 'Tonbi',\n",
       "    'link': 'https://www.google.com/search?ucbcb=1&gl=us&hl=en&q=&si=AC1wQDAGEQiTPWsvhpPV4-xl97AcUfloRjKp4qat4I8-Kg1HxeIsYhSfl-N-6KRy7Gq7LOwGCrCeKh_aoFd_jsacD5z4p0UZ9VGTijnaCP_VblnUl8iPmr7dxe83R5OHECXoVS7JYi3WStjuv0rp_crIO3h27wQ1VQ-hfFK5Py12fgMfmNwKcbVkyUJMuv8PYFSaMRmzA_eTtOiIigVrkP88Y5nwgZvUChIH4aDi-cYR_PUbsnXlvq8E6onmC8dRPKQ2Ned5ZqMeiH9ieXHWZIDpXdRZ28A_lA%3D%3D',\n",
       "    'showing': [{'time': ['8:15pm'], 'type': 'Standard'}]},\n",
       "   {'name': '余命10年',\n",
       "    'link': 'https://www.google.com/search?ucbcb=1&gl=us&hl=en&q=&si=AC1wQDAGEQiTPWsvhpPV4-xl97AcUfloRjKp4qat4I8-Kg1Hxf1lqhUApWsMXDIHDJG8aOETaefC4wJ2PdOhVFFzTA4w6DzS7D_1VgthW9m80QSowI840MoQ1_y1tw9YRexfsbM9IM35DRR8O_q0PSqD6Ku9WxHyF-t3wDmLktPLBnoe1y9VQ8aYbt047jcj0Aydcekp7q0aOEOSPwDh5F06p013-QVV2mU8js574wA6ylKy6RXhMPK99PtHHoMKlwtsQRWNQrZfrOQZQjNsgNdKULElVC-r7w%3D%3D',\n",
       "    'showing': [{'time': ['8:25am'], 'type': 'Standard'}]},\n",
       "   {'name': \"C'mon C'mon\",\n",
       "    'link': 'https://www.google.com/search?ucbcb=1&gl=us&hl=en&q=&si=AC1wQDAGEQiTPWsvhpPV4-xl97AcUfloRjKp4qat4I8-Kg1HxR6_S1o0Xxkkf2vpYBJKU1OY14SCxkYD1GnpqHR2QeJnF4Shdthsk5wgnNNcOYrNS2k6dGyw73BlSWbKBtZqBJV9257Zaf8yewjg6xWiMsPM2-sm48teS1wvp6BgQ0YJwW6rfBee7NSOsYySzcBbgEi8iFLQRBa6Yxa5R_i-_ektaHVGtIaQIfG7XwtKnDgQIPJir-fJh66m0w8stqMcf6Sqy0h4ktYPXBMvLocOMCMZXCtEyw%3D%3D',\n",
       "    'showing': [{'time': ['8:10am', '9:30pm'], 'type': 'Standard'}]}]}]"
      ]
     },
     "execution_count": 60,
     "metadata": {},
     "output_type": "execute_result"
    }
   ],
   "source": [
    "showtimes\n"
   ]
  },
  {
   "cell_type": "markdown",
   "id": "ff199e1f",
   "metadata": {},
   "source": [
    "#### Dates collected"
   ]
  },
  {
   "cell_type": "code",
   "execution_count": 65,
   "id": "a0a11b83",
   "metadata": {},
   "outputs": [
    {
     "data": {
      "text/plain": [
       "('Wed May 4', 'Thu May 5')"
      ]
     },
     "execution_count": 65,
     "metadata": {},
     "output_type": "execute_result"
    }
   ],
   "source": [
    "startday = showtimes[0]['day'] + ' ' + showtimes[0]['date']\n",
    "endday   = showtimes[-1]['day'] + ' ' + showtimes[-1]['date']\n",
    "\n",
    "startday, endday"
   ]
  },
  {
   "cell_type": "markdown",
   "id": "f8a0d35a",
   "metadata": {},
   "source": [
    "#### List of movies showing each day"
   ]
  },
  {
   "cell_type": "code",
   "execution_count": 77,
   "id": "27e62892",
   "metadata": {
    "scrolled": true
   },
   "outputs": [
    {
     "data": {
      "text/plain": [
       "{'day': 'Wed',\n",
       " 'date': 'May 4',\n",
       " 'movies': [{'name': 'Detective Conan: The Bride Of Halloween',\n",
       "   'link': 'https://www.google.com/search?ucbcb=1&gl=us&hl=en&q=&si=AC1wQDAGEQiTPWsvhpPV4-xl97AcUfloRjKp4qat4I8-Kg1HxUvLo3gVdcM4Zhd-wA9e_tiTarn73YB7gitgsAIvryAGZHBRbil5g2wROM5AxMyDE6vDSRPBAep2rfWEllDRGgyzGiqiv7E42D0EC3gDacx6sheiV0yh8dIHrGFt6R1FIbc5ekvq_F0RP6jq-bVKYH_c5KVFPgo7V1ZYf58nD5O3YpGVpVey03b67UxqG8AVkWP124bz84avo7LBgTzrMwjG6htvM1C1YmNahkzcC4LMig79PA%3D%3D&sa=X&ved=2ahUKEwi9jcb2s8X3AhWakWoFHZ9OBfEQxyZ6BAgMEA4',\n",
       "   'showing': [{'time': ['5:55pm', '7:00pm', '8:00pm'], 'type': 'Standard'},\n",
       "    {'time': ['6:25pm'], 'type': 'IMAX'}]},\n",
       "  {'name': 'ドクター・ストレンジ／マルチバース・オブ・マッドネス',\n",
       "   'link': 'https://www.google.com/search?ucbcb=1&gl=us&hl=en&q=&si=AC1wQDDmkSORa3FH6anizpggOJ18HFgTlSHnpaMgvYkKkNrH1d-xkNrAVbnSn1dZ4-7R47TNF_2ttKdB680NQ0KsULENm8dPPRumiFkz41ZvnGBOdamT17uK-99hROxARNXveoabm3IEIyr-r0iqNK63SSflJj3woOq2mCLI2RqcfVexTGEqjMXjeWyTzcwC8oZmTLx4xQXhDdHiioc-Kcsei09Rut1MpngT4dOX5_MauI4VQ5NPXWRp_836p5iX7-Iw9uYCRkD2do4msgpy-PA-WwX6nxVo6xSRCqXuh9lpOpSNXpZAe3M8waHkMqyYjfNmyF9QlwbK3cIQtbVXI-Vk7xboye7FTQ%3D%3D&sa=X&ved=2ahUKEwi9jcb2s8X3AhWakWoFHZ9OBfEQxyZ6BAgMEBY',\n",
       "   'showing': [{'time': ['8:55pm'], 'type': 'IMAX 3D'},\n",
       "    {'time': ['6:40pm', '8:20pm'], 'type': 'Standard'},\n",
       "    {'time': ['8:35pm', '9:20pm'], 'type': 'Standard'}]},\n",
       "  {'name': '劇場版ラジエーションハウス',\n",
       "   'link': 'https://www.google.com/search?ucbcb=1&gl=us&hl=en&q=&si=AC1wQDAGEQiTPWsvhpPV4-xl97AcUfloRjKp4qat4I8-Kg1HxdSWPSazo1k7_bkWdvqRhACJDr_gVhAiACEmBGWLk_I-LHDNN1dFs11hQYQhzQXiC3inVhHwRUGes6pWAp5LHsman5SciE2oM1Aw2pGSrPlSx2cvQDx7_BESx9IY8-mS5LvSwjIFVjYVq91jMIfToXooZqS11OOdTjofNhibdzF0N2HMHM0A_7SeZnZrX8B5qYs7p_mK0WszZ_B3WeAl1S7biDrCXZnwrtOt1dz3FDYrdeLnaA%3D%3D&sa=X&ved=2ahUKEwi9jcb2s8X3AhWakWoFHZ9OBfEQxyZ6BAgMECA',\n",
       "   'showing': [{'time': ['6:15pm', '8:45pm'], 'type': 'Standard'}]},\n",
       "  {'name': 'ホリック xxxHOLiC',\n",
       "   'link': 'https://www.google.com/search?ucbcb=1&gl=us&hl=en&q=&si=AC1wQDAGEQiTPWsvhpPV4-xl97AcUfloRjKp4qat4I8-Kg1HxSHDFSwx2683f1Yl2XtMJJzF5xcHG8Ta2I07Ko3WaEd8fej5g4xjtEhp6e7Khz7zN6dbO7mTY0I9ehaOGUP0okOhlbM041Z-4A_Zk3XaotPmXUftCyk69OpztJKWiKoixf8rFrhCrGgwIujg0X4Ul1dyA_1xg6KZyC0m38pzEDk4_3UZSkzFIbrO3TDUX5diCqqpUrncmCmRSbHseR0vuy_f0SzMv_r8GkWYS6__PdOQojBOeQ%3D%3D',\n",
       "   'showing': [{'time': ['6:30pm', '8:55pm'], 'type': 'Standard'}]},\n",
       "  {'name': 'Free! – the Final Stroke – the first volume',\n",
       "   'link': 'https://www.google.com/search?ucbcb=1&gl=us&hl=en&q=&si=AC1wQDAGEQiTPWsvhpPV4-xl97AcUfloRjKp4qat4I8-Kg1HxRqH3QdP9qtVnm8M1wEpSxupQrMz32byGvSDPHNL5IMZpHu_dOd5VP3ZoP-SitGpJqssivE0zY-ZjvYWZfTargCovjNvpZh9LR5B3zbVv68M1ECOEDJrtKEKzH2ZaPy0ORg_mKJIBBlU6N5TA7pAdBOzI2dzRP7J2N8ruckyDgXlxfFXJy42HhrLZMM_juIAbce6mxFG-UEbyga7K_Fd5M2W3Un-umXMBg8WaPFHLZ0qFCUKKQ%3D%3D',\n",
       "   'showing': [{'time': ['5:55pm', '6:55pm', '9:20pm'], 'type': 'Standard'}]},\n",
       "  {'name': \"C'mon C'mon\",\n",
       "   'link': 'https://www.google.com/search?ucbcb=1&gl=us&hl=en&q=&si=AC1wQDAGEQiTPWsvhpPV4-xl97AcUfloRjKp4qat4I8-Kg1HxR6_S1o0Xxkkf2vpYBJKU1OY14SCxkYD1GnpqHR2QeJnF4Shdthsk5wgnNNcOYrNS2k6dGyw73BlSWbKBtZqBJV9257Zaf8yewjg6xWiMsPM2-sm48teS1wvp6BgQ0YJwW6rfBee7NSOsYySzcBbgEi8iFLQRBa6Yxa5R_i-_ektaHVGtIaQIfG7XwtKnDgQIPJir-fJh66m0w8stqMcf6Sqy0h4ktYPXBMvLocOMCMZXCtEyw%3D%3D',\n",
       "   'showing': [{'time': ['9:30pm'], 'type': 'Standard'}]}]}"
      ]
     },
     "execution_count": 77,
     "metadata": {},
     "output_type": "execute_result"
    }
   ],
   "source": [
    "showtimes[0]"
   ]
  },
  {
   "cell_type": "code",
   "execution_count": 87,
   "id": "8477dd85",
   "metadata": {},
   "outputs": [
    {
     "name": "stdout",
     "output_type": "stream",
     "text": [
      "\n",
      "\n"
     ]
    }
   ],
   "source": [
    "daymovies = {}\n",
    "for day in showtimes:\n",
    "    print()\n",
    "    daymovies[day['day'].lower] = [movie['name'] for movie in day['movies']]\n"
   ]
  },
  {
   "cell_type": "code",
   "execution_count": 99,
   "id": "6de03548",
   "metadata": {},
   "outputs": [],
   "source": [
    "daymovies = {day['date'].split()[1] : [movie['name'] for movie in day['movies']] for day in showtimes }\n",
    "#makes a dictionary with each date value as key and a list of movies that day as the value"
   ]
  },
  {
   "cell_type": "code",
   "execution_count": 105,
   "id": "82fbf562",
   "metadata": {
    "scrolled": true
   },
   "outputs": [
    {
     "data": {
      "text/plain": [
       "{'4': ['Detective Conan: The Bride Of Halloween',\n",
       "  'ドクター・ストレンジ／マルチバース・オブ・マッドネス',\n",
       "  '劇場版ラジエーションハウス',\n",
       "  'ホリック xxxHOLiC',\n",
       "  'Free! – the Final Stroke – the first volume',\n",
       "  \"C'mon C'mon\"],\n",
       " '5': ['Detective Conan: The Bride Of Halloween',\n",
       "  'Fantastic Beasts: The Secrets of Dumbledore',\n",
       "  'ドクター・ストレンジ／マルチバース・オブ・マッドネス',\n",
       "  '劇場版ラジエーションハウス',\n",
       "  'Crayon Shin-chan: Mononoke Ninja Chinpūden',\n",
       "  'ホリック xxxHOLiC',\n",
       "  'Free! – the Final Stroke – the first volume',\n",
       "  'Sing 2',\n",
       "  \"Doraemon: Nobita's Little Star Wars 2021\",\n",
       "  'Jujutsu Kaisen 0',\n",
       "  '映画 おそ松さん',\n",
       "  'Tonbi',\n",
       "  '余命10年',\n",
       "  \"C'mon C'mon\"]}"
      ]
     },
     "execution_count": 105,
     "metadata": {},
     "output_type": "execute_result"
    }
   ],
   "source": [
    "daymovies"
   ]
  },
  {
   "cell_type": "code",
   "execution_count": null,
   "id": "3cb11875",
   "metadata": {},
   "outputs": [],
   "source": []
  }
 ],
 "metadata": {
  "kernelspec": {
   "display_name": "Python 3 (ipykernel)",
   "language": "python",
   "name": "python3"
  },
  "language_info": {
   "codemirror_mode": {
    "name": "ipython",
    "version": 3
   },
   "file_extension": ".py",
   "mimetype": "text/x-python",
   "name": "python",
   "nbconvert_exporter": "python",
   "pygments_lexer": "ipython3",
   "version": "3.8.12"
  },
  "toc": {
   "base_numbering": 1,
   "nav_menu": {},
   "number_sections": true,
   "sideBar": true,
   "skip_h1_title": false,
   "title_cell": "Table of Contents",
   "title_sidebar": "Contents",
   "toc_cell": false,
   "toc_position": {},
   "toc_section_display": true,
   "toc_window_display": false
  }
 },
 "nbformat": 4,
 "nbformat_minor": 5
}
