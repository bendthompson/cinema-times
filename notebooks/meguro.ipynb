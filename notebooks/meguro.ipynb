{
 "cells": [
  {
   "cell_type": "code",
   "execution_count": 104,
   "id": "b6145632",
   "metadata": {},
   "outputs": [],
   "source": [
    "import requests\n",
    "from bs4 import BeautifulSoup, Comment\n",
    "\n",
    "import numpy as np\n",
    "import pandas as pd\n",
    "import re"
   ]
  },
  {
   "cell_type": "code",
   "execution_count": 4,
   "id": "cb249e8f",
   "metadata": {},
   "outputs": [],
   "source": [
    "url = 'http://www.okura-movie.co.jp/meguro_cinema/now_showing.html'"
   ]
  },
  {
   "cell_type": "code",
   "execution_count": 5,
   "id": "7907b543",
   "metadata": {},
   "outputs": [],
   "source": [
    "response = requests.get(url)"
   ]
  },
  {
   "cell_type": "code",
   "execution_count": 9,
   "id": "9ed7e7e3",
   "metadata": {},
   "outputs": [],
   "source": [
    "soup = BeautifulSoup(response.content, 'html.parser')"
   ]
  },
  {
   "cell_type": "markdown",
   "id": "f75fd46b",
   "metadata": {},
   "source": [
    "One Movie"
   ]
  },
  {
   "cell_type": "code",
   "execution_count": 181,
   "id": "25a5de59",
   "metadata": {},
   "outputs": [],
   "source": [
    "movie = soup.find_all(id=\"sakuhin_detail\")[0]"
   ]
  },
  {
   "cell_type": "code",
   "execution_count": 183,
   "id": "80ddca5a",
   "metadata": {},
   "outputs": [
    {
     "data": {
      "text/plain": [
       "'THE WICKER MAN : THE FINAL CUT'"
      ]
     },
     "execution_count": 183,
     "metadata": {},
     "output_type": "execute_result"
    }
   ],
   "source": [
    "engtitle = movie.find('span', class_='text_small').text\n",
    "engtitle"
   ]
  },
  {
   "cell_type": "code",
   "execution_count": 184,
   "id": "715e3ffd",
   "metadata": {},
   "outputs": [
    {
     "data": {
      "text/plain": [
       "'タイトル☆-->ウィッカーマン ｆｉｎａｌ ｃｕｔ<!--☆ここまで'"
      ]
     },
     "execution_count": 184,
     "metadata": {},
     "output_type": "execute_result"
    }
   ],
   "source": [
    "pattern = r\"タイトル☆-->.*<!--☆ここまで\"\n",
    "\n",
    "jptitle = re.findall(pattern, str(movie))[0].replace('\\u3000', ' ')\n",
    "jptitle"
   ]
  },
  {
   "cell_type": "markdown",
   "id": "71446980",
   "metadata": {},
   "source": [
    "Every Movie"
   ]
  },
  {
   "cell_type": "code",
   "execution_count": 186,
   "id": "4b335404",
   "metadata": {},
   "outputs": [
    {
     "data": {
      "text/plain": [
       "<div id=\"sakuhin_detail\">\n",
       "<div class=\"sakuhin_title\">\n",
       "<p><span class=\"jp_small2\"><!--☆２本立てタイトル☆→-->〜この恐ろしさにあなたは耐えられますか〜<!--<font color=\"red\">★併映作品は近日発表！<!--←☆２本立てタイトル☆--></span></p>\n",
       "</div>\n",
       "<div class=\"mgn10\"><!-- space --></div>\n",
       "<div class=\"sakuhin_title\">\n",
       "<p>\n",
       "<span class=\"jp\"><!--☆ここから☆作品タイトル☆-->ウィッカーマン　ｆｉｎａｌ　ｃｕｔ<!--☆ここまで☆作品タイトル☆-->\n",
       "<!--☆ここから☆原題☆--><span class=\"text_small\">THE WICKER MAN : THE FINAL CUT<!--The Hidden Fortress--></span><!--☆ここまで☆原題☆-->\n",
       "</span>\n",
       "<span class=\"bikou\"><!--☆ここから☆視聴制限☆--><!--<img src=\"img/PG12.gif\" alt=\"■■■\" /><!--☆ここまで☆視聴制限☆--></span>\n",
       "</p>\n",
       "</div><!--//sakuhin_title area.-->\n",
       "<div class=\"mgn00\"><!-- space --></div>\n",
       "<div class=\"sakuhin_story\">\n",
       "<div id=\"story_r\" style=\"height: 1000px;\">\n",
       "<p class=\"catch\">\n",
       "<!--☆↓キャッチ↓☆-->\n",
       "<!--☆↑キャッチ↑☆-->\n",
       "</p>\n",
       "<p class=\"story_type3\" style=\"height: 500px;\"><span></span>\n",
       "<!--☆↓物語↓☆-->\n",
       "<a href=\"\" target=\"_blank\"><img div=\"\" src=\"img/event/com925.png\" style=\"margin-top : -5px\" width=\"650\"/></a>\n",
       "<!--☆↑物語↑☆-->\n",
       "<p class=\"story_type3\" style=\"height: 200px;\"><span>【物語】</span>\n",
       "<!--☆↓物語↓☆-->\n",
       "\t\t\t行方不明の少女捜索のためスコットランドの孤島に上陸したハウィー警部は捜査に取り掛かるのだが、島はサマーアイル卿(C・リー)が統治するケルト神話に支配された禁断の地だった……。『ウィッカ―マン final cut』は88分公開バージョンより6分長くなっており『ウィッカ―マン』(1973)の製作40周年記念作品としてロビン・ハーディ監督が未使用のフーテージも使用し再編集して完成させたカルト作。\n",
       "\t\t</p>\n",
       "<p class=\"director\">\n",
       "<!--☆↓監督↓☆-->\n",
       "<span>【監督】</span>ロビン・ハーディ \n",
       "<span>【脚本】</span>アンソニー・シェーファー \n",
       "<span>【製作】</span>ピーター・スネル \n",
       "<span>【撮影】</span>ハリー・ワックスマン \n",
       "<!--☆↑監督↑☆-->\n",
       "</p>\n",
       "<p class=\"cast\">\n",
       "<!--☆↓出演↓☆-->\n",
       "<span>【出演】</span>エドワード・ウッドワード / クリストファー・リー / ブリット・エクランド / ダイアン・シレント / イングリッド・ピット / リンゼイ・ケンプ / ラッセル・ウォーターズ / オールド・ガーデナー / オーブリー・モリス / イレーヌ・サンタース 他\n",
       "\t\t\t<!--☆↑出演↑☆-->\n",
       "</p>\n",
       "<p class=\"haikyu\">\n",
       "<span>【<!--☆↓ここから☆配給↓☆-->\n",
       "\t\t\t2013 / イギリス / ホラー / ドラマ / 字幕版 / デジタル / １時間３４分<!-- / ＰＧ−１２<font color=\"blue\">　※小学生以下のお子様が視聴する際、保護者の助言・指導が必要です。\n",
       "\t\t\t<!--☆↑ここまで☆配給↑☆-->】\n",
       "</span>\n",
       "</p>\n",
       "</p></div>\n",
       "<div id=\"story_l\">\n",
       "<!--☆ここから☆作品写真・公式サイト↓☆381-->\n",
       "<!--☆ここまで☆作品写真・公式サイト↑☆-->\n",
       "</div>\n",
       "</div><!--//sakuhin_story area.-->\n",
       "</div>"
      ]
     },
     "execution_count": 186,
     "metadata": {},
     "output_type": "execute_result"
    }
   ],
   "source": [
    "movies = soup.find_all(id=\"sakuhin_detail\")\n",
    "movies[0]\n"
   ]
  },
  {
   "cell_type": "code",
   "execution_count": 204,
   "id": "dee9d245",
   "metadata": {},
   "outputs": [],
   "source": [
    "\n",
    "movie_info = []\n",
    "\n",
    "pattern = r\"タイトル☆-->(.*)<!--☆ここまで\""
   ]
  },
  {
   "cell_type": "code",
   "execution_count": 205,
   "id": "b58c9a25",
   "metadata": {},
   "outputs": [],
   "source": [
    "for movie in movies:\n",
    "    engtitle = movie.find('span', class_='text_small').text\n",
    "    jptitle = re.findall(pattern, str(movie))[0].replace('\\u3000', ' ')\n",
    "    movie_dict = {'engtitle':engtitle, 'jptitle':jptitle}\n",
    "    movie_info.append(movie_dict)"
   ]
  },
  {
   "cell_type": "code",
   "execution_count": 206,
   "id": "b8bb6e17",
   "metadata": {},
   "outputs": [
    {
     "name": "stdout",
     "output_type": "stream",
     "text": [
      "{'engtitle': 'THE WICKER MAN : THE FINAL CUT', 'jptitle': 'ウィッカーマン ｆｉｎａｌ ｃｕｔ'}\n",
      "{'engtitle': 'SORCERER / WAGES OF FEAR', 'jptitle': '恐怖の報酬 オリジナル完全版'}\n",
      "{'engtitle': 'HEREDITARY', 'jptitle': 'ヘレディタリー／継承'}\n",
      "{'engtitle': 'GHOSTBUSTERS: AFTERLIFE', 'jptitle': 'ゴーストバスターズ アフターライフ'}\n",
      "{'engtitle': 'GHOSTBUSTERS', 'jptitle': 'ゴーストバスターズ'}\n",
      "{'engtitle': 'SPIDER-MAN: NO WAY HOME', 'jptitle': 'スパイダーマン：ノー・ウェイ・ホーム'}\n",
      "{'engtitle': 'UNCHARTED', 'jptitle': 'アンチャーテッド'}\n",
      "{'engtitle': 'SPIDER-MAN: INTO THE SPIDER-VERSE', 'jptitle': 'スパイダーマン：スパイダーバース'}\n",
      "{'engtitle': '', 'jptitle': 'ハッピーアワー'}\n",
      "{'engtitle': 'EL PLANETA', 'jptitle': 'エル プラネタ'}\n",
      "{'engtitle': 'LAS NINAS / SCHOOLGIRLS', 'jptitle': 'スクールガールズ'}\n",
      "{'engtitle': '', 'jptitle': '新幹線大爆破'}\n",
      "{'engtitle': '', 'jptitle': '家族ゲーム'}\n",
      "{'engtitle': '', 'jptitle': '太陽を盗んだ男'}\n",
      "{'engtitle': '', 'jptitle': '炎の肖像'}\n",
      "{'engtitle': '怒火・重案 / RAGING FIRE', 'jptitle': 'レイジング・ファイア'}\n",
      "{'engtitle': '肥龍過江 / ENTER THE FAT DRAGON', 'jptitle': '燃えよデブゴン ＴＯＫＹＯ ＭＩＳＳＩＯＮ'}\n"
     ]
    }
   ],
   "source": [
    "for m in movie_info:\n",
    "    print(m)"
   ]
  },
  {
   "cell_type": "code",
   "execution_count": 207,
   "id": "1c5626bc",
   "metadata": {},
   "outputs": [
    {
     "ename": "NameError",
     "evalue": "name 'done' is not defined",
     "output_type": "error",
     "traceback": [
      "\u001b[0;31m---------------------------------------------------------------------------\u001b[0m",
      "\u001b[0;31mNameError\u001b[0m                                 Traceback (most recent call last)",
      "\u001b[0;32m/tmp/ipykernel_14163/3992015586.py\u001b[0m in \u001b[0;36m<module>\u001b[0;34m\u001b[0m\n\u001b[0;32m----> 1\u001b[0;31m \u001b[0mdone\u001b[0m\u001b[0;34m\u001b[0m\u001b[0;34m\u001b[0m\u001b[0m\n\u001b[0m",
      "\u001b[0;31mNameError\u001b[0m: name 'done' is not defined"
     ]
    }
   ],
   "source": [
    "done"
   ]
  },
  {
   "cell_type": "code",
   "execution_count": null,
   "id": "5d895410",
   "metadata": {},
   "outputs": [],
   "source": []
  }
 ],
 "metadata": {
  "kernelspec": {
   "display_name": "Python 3 (ipykernel)",
   "language": "python",
   "name": "python3"
  },
  "language_info": {
   "codemirror_mode": {
    "name": "ipython",
    "version": 3
   },
   "file_extension": ".py",
   "mimetype": "text/x-python",
   "name": "python",
   "nbconvert_exporter": "python",
   "pygments_lexer": "ipython3",
   "version": "3.8.12"
  },
  "toc": {
   "base_numbering": 1,
   "nav_menu": {},
   "number_sections": true,
   "sideBar": true,
   "skip_h1_title": false,
   "title_cell": "Table of Contents",
   "title_sidebar": "Contents",
   "toc_cell": false,
   "toc_position": {},
   "toc_section_display": true,
   "toc_window_display": false
  }
 },
 "nbformat": 4,
 "nbformat_minor": 5
}
