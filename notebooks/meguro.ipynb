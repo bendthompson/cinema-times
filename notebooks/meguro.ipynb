{
 "cells": [
  {
   "cell_type": "code",
   "execution_count": 1,
   "id": "b6145632",
   "metadata": {},
   "outputs": [],
   "source": [
    "import requests\n",
    "from bs4 import BeautifulSoup, Comment\n",
    "\n",
    "import numpy as np\n",
    "import pandas as pd\n",
    "import re"
   ]
  },
  {
   "cell_type": "code",
   "execution_count": 2,
   "id": "cb249e8f",
   "metadata": {},
   "outputs": [],
   "source": [
    "url = 'http://www.okura-movie.co.jp/meguro_cinema/now_showing.html'"
   ]
  },
  {
   "cell_type": "code",
   "execution_count": 3,
   "id": "7907b543",
   "metadata": {},
   "outputs": [],
   "source": [
    "response = requests.get(url)"
   ]
  },
  {
   "cell_type": "code",
   "execution_count": 4,
   "id": "9ed7e7e3",
   "metadata": {},
   "outputs": [],
   "source": [
    "soup = BeautifulSoup(response.content, 'html.parser')"
   ]
  },
  {
   "cell_type": "code",
   "execution_count": 5,
   "id": "348edaee",
   "metadata": {},
   "outputs": [],
   "source": [
    "def get_soup():\n",
    "    '''\n",
    "    html request to meguro cinema website to get soup\n",
    "    '''\n",
    "    url = 'http://www.okura-movie.co.jp/meguro_cinema/now_showing.html'\n",
    "    response = requests.get(url)\n",
    "    soup = BeautifulSoup(response.content, 'html.parser')\n",
    "    return soup"
   ]
  },
  {
   "cell_type": "markdown",
   "id": "e3b4fe44",
   "metadata": {},
   "source": [
    "### Movies"
   ]
  },
  {
   "cell_type": "markdown",
   "id": "f75fd46b",
   "metadata": {},
   "source": [
    "One Movie"
   ]
  },
  {
   "cell_type": "code",
   "execution_count": 6,
   "id": "25a5de59",
   "metadata": {},
   "outputs": [],
   "source": [
    "movie = soup.find_all(id=\"sakuhin_detail\")[0]"
   ]
  },
  {
   "cell_type": "code",
   "execution_count": 7,
   "id": "80ddca5a",
   "metadata": {},
   "outputs": [
    {
     "data": {
      "text/plain": [
       "''"
      ]
     },
     "execution_count": 7,
     "metadata": {},
     "output_type": "execute_result"
    }
   ],
   "source": [
    "engtitle = movie.find('span', class_='text_small').text\n",
    "engtitle"
   ]
  },
  {
   "cell_type": "code",
   "execution_count": 9,
   "id": "715e3ffd",
   "metadata": {},
   "outputs": [
    {
     "data": {
      "text/plain": [
       "'タイトル☆-->ハッピーアワー<!--☆ここまで'"
      ]
     },
     "execution_count": 9,
     "metadata": {},
     "output_type": "execute_result"
    }
   ],
   "source": [
    "pattern = r\"タイトル☆-->.*<!--☆ここまで\"\n",
    "\n",
    "jptitle = re.findall(pattern, str(movie))[0].replace('\\u3000', ' ')\n",
    "jptitle"
   ]
  },
  {
   "cell_type": "markdown",
   "id": "71446980",
   "metadata": {},
   "source": [
    "Every Movie"
   ]
  },
  {
   "cell_type": "code",
   "execution_count": 10,
   "id": "4b335404",
   "metadata": {
    "scrolled": true
   },
   "outputs": [
    {
     "data": {
      "text/plain": [
       "<div id=\"sakuhin_detail\">\n",
       "<div class=\"sakuhin_title\">\n",
       "<p><span class=\"jp_small2\"><!--☆２本立てタイトル☆→--><font color=\"red\">★5月14日(土)・5月15日(日)　2日間（1日1回・計2回上映）※途中2回休憩あり　※1本立て・全席指定・オンライン予約有チケット販売開始：各回上映3日前の午前0時より入場料金：オンライン：3,050円　劇場窓口：3,000円<!--←☆２本立てタイトル☆--></font></span></p>\n",
       "</div>\n",
       "<!--☆**************************************************************************************************************☆-->\n",
       "<!--☆  作品タイムテーブル部                                                                            ☆-->\n",
       "<!--☆**************************************************************************************************************☆-->\n",
       "<div id=\"timetable_detail\">\n",
       "<h3 id=\"show_time\"><!--上映時間--></h3>\n",
       "<div class=\"mgn05\"><!-- space --></div>\n",
       "<div id=\"timetable\">\n",
       "<!-- ↓上映日程↓ -->\n",
       "<!-- ↑上映日程↑ -->\n",
       "<!-- ↓上映時間 ↓-->\n",
       "<!--<a target=\"_blank\" href=\"https://eigaland.com/cinema/143\"><img src=\"img/event/zyun1.png\"width=\"650\" div style=\"margin-top : 10px\"\"></a></br>\n",
       "          </li>\n",
       " <span>\n",
       "</span>\n",
       "\n",
       "<a target=\"_blank\" href=\"https://eigaland.com/cinema/143\"><img src=\"img/event/zyun2.png\"width=\"650\" div style=\"margin-top : 10px\"\"></a></br>\n",
       "          </li>\n",
       " <span>\n",
       "</span>-->\n",
       "<a href=\"\" target=\"_blank\"><img \"=\"\" div=\"\" src=\"img/event/happy1.jpg\" style=\"margin-top : 10px\" width=\"650\"/></a>\n",
       "\n",
       "<span>\n",
       "</span>\n",
       "<!--↑上映時間 ↑-->\n",
       "\n",
       "</div><!-- /timetable-->\n",
       "<div id=\"bikou\">\n",
       "<!-- ↓備考↓-->\n",
       "<!-- ↑備考↑ -->\n",
       "</div><!--//bikou-->\n",
       "</div><!--//timetable_detail-->\n",
       "<div class=\"mgn10\"><!-- space --></div>\n",
       "<div class=\"sakuhin_title\">\n",
       "<p>\n",
       "<span class=\"jp\"><!--☆ここから☆作品タイトル☆-->ハッピーアワー<!--☆ここまで☆作品タイトル☆-->\n",
       "<!--☆ここから☆原題☆--><span class=\"text_small\"><!--The Hidden Fortress--></span><!--☆ここまで☆原題☆-->\n",
       "</span>\n",
       "<span class=\"bikou\"><!--☆ここから☆視聴制限☆--><!--<img src=\"img/PG12.gif\" alt=\"■■■\" />--><!--☆ここまで☆視聴制限☆--></span>\n",
       "</p>\n",
       "</div><!--//sakuhin_title area.-->\n",
       "<div class=\"mgn00\"><!-- space --></div>\n",
       "<div class=\"sakuhin_story\">\n",
       "<div id=\"story_r\" style=\"height: 1250px;\">\n",
       "<p class=\"catch\">\n",
       "<!--☆↓キャッチ↓☆-->\n",
       "<!--☆↑キャッチ↑☆-->\n",
       "</p>\n",
       "<p class=\"story_type3\" style=\"height: 500px;\"><span></span>\n",
       "<!--☆↓物語↓☆-->\n",
       "<a href=\"http://hh.fictive.jp/ja/\" target=\"_blank\"><img div=\"\" src=\"img/event/com914.png\" style=\"margin-top : 30px\" width=\"650\"/></a>\n",
       "<!--☆↑物語↑☆-->\n",
       "<p class=\"story_type3\" style=\"height: 350px;\"><span>【物語】</span>\n",
       "<!--☆↓物語↓☆-->\n",
       "\t\t\t神戸在住のあかり（田中幸恵）、桜子（菊池葉月）、 芙美（三原麻衣子）、純（川村りら）の4人は、30代後半を迎えた親友同士。桜子と純は中学からの付き合いであるものの、あかりと芙美は30歳を超えてから知り合った。久々に集まり、近々旅行しようと相談し合う4人。屈託なく話す一方で、それぞれ親友にも話せない悩みや不安があった。専業主婦の桜子は最近同居し始めた姑との関係に気を遣う日々。アートセンターPORTOに勤めるキャリアウーマンの芙美は、編集者の夫と表向きは仲が良いが、夫との間に言いようのない不安を感じていた。バツイチの看護師あかりは多忙な毎日を過ごし、病院で知り合った男性からアプローチされても恋愛する気になれない。ある日、4人はPORTOで開催されたアーティスト鵜飼によるワークショップに参加し、打ち上げに流れていく。その席で純は、1年近く離婚協議をしていると告白。戸惑いを感じる3人。やがて3人もまた人生を大きく揺るがす局面を迎える……。30代後半を迎え人生の岐路に立つ女性4人の心情を掬い取るヒューマンドラマ。ほとんどの登場人物を演技未経験者がつとめ、これまでにない試みでつくりあげた三部構成の本作で、主演4人は演技未経験ながら第68回ロカルノ国際映画祭最優秀女優賞を受賞。同映画祭脚本スペシャル・メンションにも輝いた。監督は「親密さ」の濱口竜介。市民参加の『即興演技ワークショップ in Kobe』から生まれた。蜷川幸雄演出作品など数々の舞台、テレビ番組を担当してきた阿部海太郎が音楽を手がける。\n",
       "\t\t\t<!--☆↑物語↑☆-->\n",
       "</p>\n",
       "<p class=\"director\">\n",
       "<!--☆↓監督↓☆-->\n",
       "<span>【監督】</span>濱口竜介 \n",
       "<span>【脚本】</span>はたのこうぼう（高橋知由 / 野原位 / 濱口竜介）\n",
       "<span>【製作総指揮】</span>原田将 / 徳山勝巳 \n",
       "<span>【プロデューサー】</span>高田聡 / 岡本英之 / 野原位 \n",
       "<span>【撮影】</span>北川喜雄 \n",
       "<span>【照明】</span>秋山恵二郎 \n",
       "<span>【録音】</span>松野泉 \n",
       "<span>【音楽】</span>阿部海太郎 \n",
       "<!--☆↑監督↑☆-->\n",
       "</p>\n",
       "<p class=\"cast\">\n",
       "<!--☆↓出演↓☆-->\n",
       "<span>【出演】</span>田中幸恵 / 菊池葉月 / 三原麻衣子 / 川村りら / 申芳夫 / 三浦博之 / 謝花喜天 / 柴田修平 / 出村弘美 / 坂庄基 / 久貝亜美 / 田辺泰信 / 渋谷采郁 / 福永祥子 / 伊藤勇一郎 / 殿井歩 / 椎橋怜奈 他\n",
       "\t\t\t<!--☆↑出演↑☆-->\n",
       "</p>\n",
       "<p class=\"haikyu\">\n",
       "<span>【<!--☆↓ここから☆配給↓☆-->\n",
       "\t\t\t2015 / 日本 / ドラマ / デジタル / ５時間１７分<!-- / ＰＧ−１２</br><font color=\"blue\">　※小学生以下のお子様が視聴する際、保護者の助言・指導が必要です。-->\n",
       "<!--☆↑ここまで☆配給↑☆-->】\n",
       "</span>\n",
       "</p>\n",
       "</p></div>\n",
       "<div id=\"story_l\">\n",
       "<!--☆ここから☆作品写真・公式サイト↓☆381-->\n",
       "<!--☆ここまで☆作品写真・公式サイト↑☆-->\n",
       "</div>\n",
       "</div><!--//sakuhin_story area.-->\n",
       "</div>"
      ]
     },
     "execution_count": 10,
     "metadata": {},
     "output_type": "execute_result"
    }
   ],
   "source": [
    "movies = soup.find_all(id=\"sakuhin_detail\")\n",
    "movies[0]\n"
   ]
  },
  {
   "cell_type": "code",
   "execution_count": 11,
   "id": "dee9d245",
   "metadata": {},
   "outputs": [],
   "source": [
    "movie_info = []\n",
    "\n",
    "pattern = r\"タイトル☆-->(.*)<!--☆ここまで\""
   ]
  },
  {
   "cell_type": "code",
   "execution_count": 12,
   "id": "b58c9a25",
   "metadata": {},
   "outputs": [],
   "source": [
    "for movie in movies:\n",
    "    engtitle = movie.find('span', class_='text_small').text\n",
    "    jptitle = re.findall(pattern, str(movie))[0].replace('\\u3000', ' ')\n",
    "    movie_dict = {'engtitle':engtitle, 'jptitle':jptitle}\n",
    "    movie_info.append(movie_dict)"
   ]
  },
  {
   "cell_type": "code",
   "execution_count": 13,
   "id": "b8bb6e17",
   "metadata": {
    "scrolled": false
   },
   "outputs": [
    {
     "name": "stdout",
     "output_type": "stream",
     "text": [
      "{'engtitle': '', 'jptitle': 'ハッピーアワー'}\n",
      "{'engtitle': 'EL PLANETA', 'jptitle': 'エル プラネタ'}\n",
      "{'engtitle': 'LAS NINAS / SCHOOLGIRLS', 'jptitle': 'スクールガールズ'}\n",
      "{'engtitle': 'The Blues Brothers', 'jptitle': 'ブルース・ブラザース'}\n",
      "{'engtitle': '（あるいは、革命がテレビ放映されなかった時）\\nSUMMER OF SOUL (OR, WHEN THE REVOLUTION COULD NOT BE TELEVISED)\\n', 'jptitle': 'サマー・オブ・ソウル<span class=\"text_small\">（あるいは、革命がテレビ放映されなかった時）'}\n",
      "{'engtitle': 'BELUSHI', 'jptitle': 'ＢＥＬＵＳＨＩ ベルーシ'}\n",
      "{'engtitle': '', 'jptitle': '新幹線大爆破'}\n",
      "{'engtitle': '', 'jptitle': '家族ゲーム'}\n",
      "{'engtitle': '', 'jptitle': '太陽を盗んだ男'}\n",
      "{'engtitle': '', 'jptitle': '炎の肖像'}\n",
      "{'engtitle': '怒火・重案 / RAGING FIRE', 'jptitle': 'レイジング・ファイア'}\n",
      "{'engtitle': 'FLASH POINT', 'jptitle': '導火線 FLASH POINT'}\n",
      "{'engtitle': '肥龍過江 / ENTER THE FAT DRAGON', 'jptitle': '燃えよデブゴン ＴＯＫＹＯ ＭＩＳＳＩＯＮ'}\n",
      "{'engtitle': '', 'jptitle': 'ひらいて'}\n",
      "{'engtitle': '', 'jptitle': '私は白鳥'}\n",
      "{'engtitle': '', 'jptitle': 'くじらびと'}\n",
      "{'engtitle': 'THE TRUFFLE HUNTERS', 'jptitle': '白いトリュフの宿る森'}\n",
      "{'engtitle': 'FANTASTIC FUNGI', 'jptitle': '素晴らしき、きのこの世界'}\n"
     ]
    }
   ],
   "source": [
    "for m in movie_info:\n",
    "    print(m)"
   ]
  },
  {
   "cell_type": "markdown",
   "id": "b8615f1c",
   "metadata": {},
   "source": [
    "### Movies + Dates"
   ]
  },
  {
   "cell_type": "code",
   "execution_count": 14,
   "id": "fd0290f1",
   "metadata": {
    "scrolled": true
   },
   "outputs": [
    {
     "data": {
      "text/plain": [
       "<div id=\"sakuhin_detail\">\n",
       "<div class=\"sakuhin_title\">\n",
       "<p><span class=\"jp_small2\"><!--☆２本立てタイトル☆→-->〜スペインに生きる女性たち〜<!--←☆２本立てタイトル☆--></span></p>\n",
       "</div>\n",
       "<div class=\"mgn10\"><!-- space --></div>\n",
       "<div class=\"sakuhin_title\">\n",
       "<p>\n",
       "<span class=\"jp\"><!--☆ここから☆作品タイトル☆-->エル プラネタ<!--☆ここまで☆作品タイトル☆-->\n",
       "<!--☆ここから☆原題☆--><span class=\"text_small\">EL PLANETA<!--Seven Samurai--></span><!--☆ここまで☆原題☆-->\n",
       "</span>\n",
       "<span class=\"bikou\"><!--☆ここから☆視聴制限☆--><!--<img src=\"img/R18.gif\" alt=\"■■■\" /><!--☆ここまで☆視聴制限☆--></span>\n",
       "</p>\n",
       "</div><!--//sakuhin_title area.-->\n",
       "<div class=\"mgn00\"><!-- space --></div>\n",
       "<div class=\"sakuhin_story\">\n",
       "<div id=\"story_r\" style=\"height: 1100px;\">\n",
       "<p class=\"catch\">\n",
       "<!--☆↓キャッチ↓☆-->\n",
       "<!--☆↑キャッチ↑☆-->\n",
       "</p>\n",
       "<p class=\"story_type3\" style=\"height: 500px;\"><span></span>\n",
       "<!--☆↓物語↓☆-->\n",
       "<a href=\"https://synca.jp/elplaneta/\" target=\"_blank\"><img div=\"\" src=\"img/event/com992.png\" style=\"margin-top : 20px\" width=\"650\"/></a>\n",
       "<!--☆↑物語↑☆-->\n",
       "<p class=\"story_type3\" style=\"height: 200px;\"><span>【物語】</span>\n",
       "<!--☆↓物語↓☆-->\n",
       "\t\t\t父の死後、ロンドンでファッション学生としての生活を終えたレオ（アマリア・ウルマン）は、母（アレ・ウルマン）が立ち退きを迫られている故郷スペインのヒホンに帰ってくる。身の回りのものをネットで売り、ハッタリをきかせてお金を稼ぐなど、崖っぷちにありながら、巧みにスタイリッシュな生活を送る母娘。そんなある日、２人は立ち寄った雑貨屋で、店員の男（チェン・ジョウ）と出会うが……。注目の新鋭アーティスト、アマリア・ウルマンが主演＆脚本兼任で長編初監督を務めたオフビートなコメディ。アマリア・ウルマンの母、アレ・ウルマンが主人公の母親役で出演。\n",
       "\t\t\t<!--☆↑物語↑☆-->\n",
       "</p>\n",
       "<p class=\"director\">\n",
       "<!--☆↓監督↓☆-->\n",
       "<span>【監督・脚本】</span>アマリア・ウルマン \n",
       "<span>【製作総指揮】</span>リカルド・マダロッソ \n",
       "<span>【製作】</span>アマリア・ウルマン / キャスリーン・ヘファーナン / クウェク・マンデラ \n",
       "<span>【撮影】</span>カルロス・リゴ・ベルベル \n",
       "<span>【音楽】</span>chicken \n",
       "<!--☆↑監督↑☆-->\n",
       "</p>\n",
       "<p class=\"cast\">\n",
       "<!--☆↓出演↓☆-->\n",
       "<span>【出演】</span>アマリア・ウルマン / アレ・ウルマン / チェン・ジョウ / ナチョ・ビガロンド 他\n",
       "\t\t\t<!--☆↑出演↑☆-->\n",
       "</p>\n",
       "<p class=\"haikyu\">\n",
       "<span>【<!--☆↓ここから☆配給↓☆-->\n",
       "\t\t\t2021 / アメリカ＝スペイン / コメディ / ドラマ / モノクロ / 字幕版 / デジタル / １時間２２分<!-- / </br>Ｒ１５＋　or Ｒ１８＋<font color=\"red\">　※18歳未満の方の入場・鑑賞が禁止です。-->\n",
       "<!--☆↑ここまで☆配給↑☆-->】\n",
       "</span>\n",
       "</p>\n",
       "</p></div>\n",
       "<div id=\"story_l\">\n",
       "<!--☆ここから☆作品写真・公式サイト↓☆381-->\n",
       "<!--☆ここまで☆作品写真・公式サイト↑☆-->\n",
       "</div>\n",
       "</div><!--//sakuhin_story area.-->\n",
       "</div>"
      ]
     },
     "execution_count": 14,
     "metadata": {},
     "output_type": "execute_result"
    }
   ],
   "source": [
    "soup.find_all(id=['jyouei_kikan','sakuhin_detail'])[3] \n",
    "\n",
    "#dates and movies are sequential in the html and not distributed into common parents\n",
    "#so go through the soup searching for both the dates (j_k) and movie info (s_d)"
   ]
  },
  {
   "cell_type": "code",
   "execution_count": null,
   "id": "1f502193",
   "metadata": {},
   "outputs": [],
   "source": [
    "dateandmovie = soup.find_all(id=['jyouei_kikan','sakuhin_detail'])"
   ]
  },
  {
   "cell_type": "code",
   "execution_count": null,
   "id": "1858932d",
   "metadata": {},
   "outputs": [],
   "source": [
    "meguro_info = [\n",
    "    date_extract(dateormovie) if dateormovie.attrs['id'] == 'jyouei_kikan' \n",
    "    else movie_extract(dateormovie)\n",
    "    for dateormovie in dateandmovie]"
   ]
  },
  {
   "cell_type": "code",
   "execution_count": 58,
   "id": "59730d7b",
   "metadata": {},
   "outputs": [],
   "source": [
    "def date_extract(soup):\n",
    "    datespans = soup.find_all(class_='date')\n",
    "    dates = [date.text.replace('.','/') for date in datespans]\n",
    "    return dates\n",
    "\n",
    "def movie_extract(soup):\n",
    "    engpattern = r'[\\u3040-\\u30ff\\u3400-\\u4dbf\\u4e00-\\u9fff\\uf900-\\ufaff\\uff66-\\uff9f]' #unicode for chinese/jp chars\n",
    "    jppattern = r\"タイトル☆-->(.*)<!--☆ここまで\"\n",
    "    \n",
    "    engtitle = soup.find('span', class_='text_small').text.replace('\\n','')\n",
    "    engtitle = re.sub(engpattern,'', engtitle)\n",
    "\n",
    "    jptitle = re.findall(jppattern, str(soup))[0].replace('\\u3000', ' ')\n",
    "    \n",
    "    movie_dict = {'engtitle':engtitle, 'jptitle':jptitle}\n",
    "    return(movie_dict)"
   ]
  },
  {
   "cell_type": "code",
   "execution_count": 59,
   "id": "8d01908d",
   "metadata": {},
   "outputs": [],
   "source": [
    "def meguro_info(soup):\n",
    "    dateormovie = soup.find_all(id=['jyouei_kikan','sakuhin_detail'])\n",
    "    meguro_info = [\n",
    "    date_extract(dateormovie) if dateormovie.attrs['id'] == 'jyouei_kikan' \n",
    "    else movie_extract(dateormovie)\n",
    "    for dateormovie in dateormovie]\n",
    "    return meguro_info"
   ]
  },
  {
   "cell_type": "code",
   "execution_count": 67,
   "id": "c5af40fc",
   "metadata": {},
   "outputs": [],
   "source": [
    "def meguro_eng_list(meguro_info):\n",
    "    return [title for movie in meg_info if type(movie) == dict for title in [movie['engtitle']] if title != '']"
   ]
  },
  {
   "cell_type": "markdown",
   "id": "dfe3b868",
   "metadata": {},
   "source": [
    " - "
   ]
  },
  {
   "cell_type": "code",
   "execution_count": 214,
   "id": "394b3aa2",
   "metadata": {},
   "outputs": [
    {
     "data": {
      "text/plain": [
       "[['5/14', '5/15'],\n",
       " {'engtitle': '', 'jptitle': 'ハッピーアワー'},\n",
       " ['5/14', '5/20'],\n",
       " {'engtitle': 'EL PLANETA', 'jptitle': 'エル プラネタ'},\n",
       " {'engtitle': 'LAS NINAS / SCHOOLGIRLS', 'jptitle': 'スクールガールズ'},\n",
       " ['5/21', '5/27'],\n",
       " {'engtitle': 'The Blues Brothers', 'jptitle': 'ブルース・ブラザース'},\n",
       " {'engtitle': '（、）SUMMER OF SOUL (OR, WHEN THE REVOLUTION COULD NOT BE TELEVISED)',\n",
       "  'jptitle': 'サマー・オブ・ソウル<span class=\"text_small\">（あるいは、革命がテレビ放映されなかった時）'},\n",
       " {'engtitle': 'BELUSHI', 'jptitle': 'ＢＥＬＵＳＨＩ ベルーシ'},\n",
       " ['5/28', '6/3'],\n",
       " {'engtitle': '', 'jptitle': '新幹線大爆破'},\n",
       " {'engtitle': '', 'jptitle': '家族ゲーム'},\n",
       " {'engtitle': '', 'jptitle': '太陽を盗んだ男'},\n",
       " {'engtitle': '', 'jptitle': '炎の肖像'},\n",
       " ['6/4', '6/10'],\n",
       " {'engtitle': ' / RAGING FIRE', 'jptitle': 'レイジング・ファイア'},\n",
       " {'engtitle': 'FLASH POINT', 'jptitle': '導火線 FLASH POINT'},\n",
       " {'engtitle': ' / ENTER THE FAT DRAGON', 'jptitle': '燃えよデブゴン ＴＯＫＹＯ ＭＩＳＳＩＯＮ'},\n",
       " ['6/18', '6/24'],\n",
       " {'engtitle': '', 'jptitle': 'ひらいて'},\n",
       " ['6/25', '7/1'],\n",
       " {'engtitle': '', 'jptitle': '私は白鳥'},\n",
       " {'engtitle': '', 'jptitle': 'くじらびと'},\n",
       " {'engtitle': 'THE TRUFFLE HUNTERS', 'jptitle': '白いトリュフの宿る森'},\n",
       " {'engtitle': 'FANTASTIC FUNGI', 'jptitle': '素晴らしき、きのこの世界'}]"
      ]
     },
     "execution_count": 214,
     "metadata": {},
     "output_type": "execute_result"
    }
   ],
   "source": [
    "meg_info = meguro_info(soup)\n",
    "meg_info"
   ]
  },
  {
   "cell_type": "code",
   "execution_count": 68,
   "id": "8c3621ef",
   "metadata": {},
   "outputs": [
    {
     "data": {
      "text/plain": [
       "['EL PLANETA',\n",
       " 'LAS NINAS / SCHOOLGIRLS',\n",
       " 'The Blues Brothers',\n",
       " '（、）SUMMER OF SOUL (OR, WHEN THE REVOLUTION COULD NOT BE TELEVISED)',\n",
       " 'BELUSHI',\n",
       " ' / RAGING FIRE',\n",
       " 'FLASH POINT',\n",
       " ' / ENTER THE FAT DRAGON',\n",
       " 'THE TRUFFLE HUNTERS',\n",
       " 'FANTASTIC FUNGI']"
      ]
     },
     "execution_count": 68,
     "metadata": {},
     "output_type": "execute_result"
    }
   ],
   "source": [
    "meg_list = meguro_eng_list(meg_info)\n",
    "meg_list"
   ]
  },
  {
   "cell_type": "code",
   "execution_count": 66,
   "id": "1d576651",
   "metadata": {},
   "outputs": [],
   "source": [
    "from cinematimes import imdb"
   ]
  },
  {
   "cell_type": "code",
   "execution_count": 69,
   "id": "76370b81",
   "metadata": {},
   "outputs": [],
   "source": [
    "meg_imdb_search = [imdb.moviesearch(title) for title in meg_list]"
   ]
  },
  {
   "cell_type": "code",
   "execution_count": 70,
   "id": "6ed87821",
   "metadata": {},
   "outputs": [
    {
     "data": {
      "text/plain": [
       "[{'id': 'tt12788368',\n",
       "  'resultType': 'Title',\n",
       "  'image': 'https://imdb-api.com/images/original/MV5BYjVlZWM2N2UtOWMzMC00NjgzLWEzNjktNjI3NGNlZjgwNjk3XkEyXkFqcGdeQXVyOTE2NTc3MjY@._V1_Ratio0.7273_AL_.jpg',\n",
       "  'title': 'El Planeta',\n",
       "  'description': '(2021)'},\n",
       " 'none',\n",
       " {'id': 'tt0080455',\n",
       "  'resultType': 'Title',\n",
       "  'image': 'https://imdb-api.com/images/original/MV5BYTdlMDExOGUtN2I3MS00MjY5LWE1NTAtYzc3MzIxN2M3OWY1XkEyXkFqcGdeQXVyNzkwMjQ5NzM@._V1_Ratio0.7273_AL_.jpg',\n",
       "  'title': 'The Blues Brothers',\n",
       "  'description': '(1980)'},\n",
       " {'id': 'tt11422728',\n",
       "  'resultType': 'Title',\n",
       "  'image': 'https://imdb-api.com/images/original/MV5BNDE0MDRkODUtMTEwMC00ZWE2LWEyNzgtYzM5ZmVkZGMwMDg4XkEyXkFqcGdeQXVyMTkxNjUyNQ@@._V1_Ratio0.7273_AL_.jpg',\n",
       "  'title': 'Summer of Soul (...Or, When the Revolution Could Not Be Televised)',\n",
       "  'description': '(2021)'},\n",
       " {'id': 'tt5752346',\n",
       "  'resultType': 'Title',\n",
       "  'image': 'https://imdb-api.com/images/original/MV5BZDljNGUzMmUtNWQwYS00Yzc3LTg4OTktNTgwY2EzODAyYjk1XkEyXkFqcGdeQXVyOTA3MTMyOTk@._V1_Ratio0.7273_AL_.jpg',\n",
       "  'title': 'Belushi',\n",
       "  'description': '(2020)'},\n",
       " 'none',\n",
       " {'id': 'tt0087268',\n",
       "  'resultType': 'Title',\n",
       "  'image': 'https://imdb-api.com/images/original/MV5BNTMzNTYwZTMtYmYyNC00N2ZiLWEwYzItYjE4ZWNhY2M1Mjc3L2ltYWdlXkEyXkFqcGdeQXVyMTQxNzMzNDI@._V1_Ratio0.7273_AL_.jpg',\n",
       "  'title': 'Flashpoint',\n",
       "  'description': '(1984) aka \"Flash Point\"'},\n",
       " 'none',\n",
       " {'id': 'tt11394318',\n",
       "  'resultType': 'Title',\n",
       "  'image': 'https://imdb-api.com/images/original/MV5BNjBiN2QyZDQtZGJkZS00YjJlLThlNTctYTZlYjU4NzdmYjNkXkEyXkFqcGdeQXVyMTkxNjUyNQ@@._V1_Ratio0.7273_AL_.jpg',\n",
       "  'title': 'The Truffle Hunters',\n",
       "  'description': '(2020)'},\n",
       " {'id': 'tt8258074',\n",
       "  'resultType': 'Title',\n",
       "  'image': 'https://imdb-api.com/images/original/MV5BYmVhZGYwNjgtMzMzYi00ZDAwLTk5YmYtMzVhZDVjMjhiOWQyXkEyXkFqcGdeQXVyMTc3MTI1NzE@._V1_Ratio0.7273_AL_.jpg',\n",
       "  'title': 'Fantastic Fungi',\n",
       "  'description': '(2019)'}]"
      ]
     },
     "execution_count": 70,
     "metadata": {},
     "output_type": "execute_result"
    }
   ],
   "source": [
    "meg_imdb_search"
   ]
  },
  {
   "cell_type": "code",
   "execution_count": 82,
   "id": "c4a791f1",
   "metadata": {},
   "outputs": [],
   "source": [
    "def meguro_imdb_search(meguro_list):\n",
    "    resp = [imdb.moviesearch(title) for title in meg_list]\n",
    "    cleanresp = [movie for movie in resp if movie != 'none']\n",
    "    return cleanresp"
   ]
  },
  {
   "cell_type": "code",
   "execution_count": 91,
   "id": "392897d6",
   "metadata": {},
   "outputs": [],
   "source": [
    "def meguro_imdb_info(meg_imdb_search):\n",
    "    info = [imdb.moviedetails(movie['m_id']) for movie in meg_imdb_search]\n",
    "    for movie in info:\n",
    "        movie['image']=movie['image'].replace('original', '384x528')\n",
    "    return info"
   ]
  },
  {
   "cell_type": "markdown",
   "id": "9463c46d",
   "metadata": {},
   "source": [
    "To DF"
   ]
  },
  {
   "cell_type": "code",
   "execution_count": 223,
   "id": "66f21bf5",
   "metadata": {},
   "outputs": [],
   "source": [
    "def meg_info_df(meguro_info):\n",
    "    \n",
    "    infodict={}\n",
    "    \n",
    "    m_info = meguro_info.copy()\n",
    "    \n",
    "    for item in m_info:\n",
    "        if type(item) == list:\n",
    "            key=item[0]+' - '+item[1]\n",
    "            infodict[key] = []\n",
    "        if type(item) == dict:\n",
    "            value = item['engtitle']\n",
    "            if value == '':\n",
    "                value = 'japanese movie' \n",
    "                infodict[key].insert(-1,value)\n",
    "            else:\n",
    "                infodict[key].insert(0,value)\n",
    "            \n",
    "    maxlength = max([len(movies) for movies in infodict.values()]) #padding to make lists same length for df\n",
    "    for key in infodict.keys():\n",
    "        while len(infodict[key]) < maxlength:\n",
    "            infodict[key].append('-')\n",
    "            \n",
    "    return pd.DataFrame(infodict)"
   ]
  },
  {
   "cell_type": "code",
   "execution_count": 227,
   "id": "352facec",
   "metadata": {},
   "outputs": [
    {
     "data": {
      "text/plain": [
       "7"
      ]
     },
     "execution_count": 227,
     "metadata": {},
     "output_type": "execute_result"
    }
   ],
   "source": [
    "len(meg_imdb_info)"
   ]
  },
  {
   "cell_type": "code",
   "execution_count": null,
   "id": "4eea77d0",
   "metadata": {},
   "outputs": [],
   "source": [
    "le"
   ]
  }
 ],
 "metadata": {
  "kernelspec": {
   "display_name": "Python 3 (ipykernel)",
   "language": "python",
   "name": "python3"
  },
  "language_info": {
   "codemirror_mode": {
    "name": "ipython",
    "version": 3
   },
   "file_extension": ".py",
   "mimetype": "text/x-python",
   "name": "python",
   "nbconvert_exporter": "python",
   "pygments_lexer": "ipython3",
   "version": "3.8.12"
  },
  "toc": {
   "base_numbering": 1,
   "nav_menu": {},
   "number_sections": true,
   "sideBar": true,
   "skip_h1_title": false,
   "title_cell": "Table of Contents",
   "title_sidebar": "Contents",
   "toc_cell": false,
   "toc_position": {},
   "toc_section_display": true,
   "toc_window_display": false
  }
 },
 "nbformat": 4,
 "nbformat_minor": 5
}
