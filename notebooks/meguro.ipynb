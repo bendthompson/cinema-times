{
 "cells": [
  {
   "cell_type": "code",
   "execution_count": 2,
   "id": "b6145632",
   "metadata": {},
   "outputs": [],
   "source": [
    "import requests\n",
    "from bs4 import BeautifulSoup, Comment\n",
    "\n",
    "import numpy as np\n",
    "import pandas as pd\n",
    "import re"
   ]
  },
  {
   "cell_type": "code",
   "execution_count": 3,
   "id": "cb249e8f",
   "metadata": {},
   "outputs": [],
   "source": [
    "url = 'http://www.okura-movie.co.jp/meguro_cinema/now_showing.html'"
   ]
  },
  {
   "cell_type": "code",
   "execution_count": 4,
   "id": "7907b543",
   "metadata": {},
   "outputs": [],
   "source": [
    "response = requests.get(url)"
   ]
  },
  {
   "cell_type": "code",
   "execution_count": 5,
   "id": "9ed7e7e3",
   "metadata": {},
   "outputs": [],
   "source": [
    "soup = BeautifulSoup(response.content, 'html.parser')"
   ]
  },
  {
   "cell_type": "code",
   "execution_count": null,
   "id": "348edaee",
   "metadata": {},
   "outputs": [],
   "source": [
    "def get_soup():\n",
    "    '''\n",
    "    html request to meguro cinema website to get soup\n",
    "    '''\n",
    "    url = 'http://www.okura-movie.co.jp/meguro_cinema/now_showing.html'\n",
    "    response = requests.get(url)\n",
    "    soup = BeautifulSoup(response.content, 'html.parser')\n",
    "    return soup"
   ]
  },
  {
   "cell_type": "markdown",
   "id": "e3b4fe44",
   "metadata": {},
   "source": [
    "### Movies"
   ]
  },
  {
   "cell_type": "markdown",
   "id": "f75fd46b",
   "metadata": {},
   "source": [
    "One Movie"
   ]
  },
  {
   "cell_type": "code",
   "execution_count": 6,
   "id": "25a5de59",
   "metadata": {},
   "outputs": [],
   "source": [
    "movie = soup.find_all(id=\"sakuhin_detail\")[0]"
   ]
  },
  {
   "cell_type": "code",
   "execution_count": null,
   "id": "9d9ddb8d",
   "metadata": {},
   "outputs": [],
   "source": []
  },
  {
   "cell_type": "code",
   "execution_count": 7,
   "id": "80ddca5a",
   "metadata": {},
   "outputs": [
    {
     "data": {
      "text/plain": [
       "'GHOSTBUSTERS: AFTERLIFE'"
      ]
     },
     "execution_count": 7,
     "metadata": {},
     "output_type": "execute_result"
    }
   ],
   "source": [
    "engtitle = movie.find('span', class_='text_small').text\n",
    "engtitle"
   ]
  },
  {
   "cell_type": "code",
   "execution_count": 8,
   "id": "715e3ffd",
   "metadata": {},
   "outputs": [
    {
     "data": {
      "text/plain": [
       "'タイトル☆-->ゴーストバスターズ アフターライフ<!--☆ここまで'"
      ]
     },
     "execution_count": 8,
     "metadata": {},
     "output_type": "execute_result"
    }
   ],
   "source": [
    "pattern = r\"タイトル☆-->.*<!--☆ここまで\"\n",
    "\n",
    "jptitle = re.findall(pattern, str(movie))[0].replace('\\u3000', ' ')\n",
    "jptitle"
   ]
  },
  {
   "cell_type": "markdown",
   "id": "71446980",
   "metadata": {},
   "source": [
    "Every Movie"
   ]
  },
  {
   "cell_type": "code",
   "execution_count": 9,
   "id": "4b335404",
   "metadata": {
    "scrolled": true
   },
   "outputs": [
    {
     "data": {
      "text/plain": [
       "<div id=\"sakuhin_detail\">\n",
       "<div class=\"sakuhin_title\">\n",
       "<p><span class=\"jp_small2\"><!--☆２本立てタイトル☆→-->〜ＧＷはゴースト退治だ！！〜<!--←☆２本立てタイトル☆--></span></p>\n",
       "</div>\n",
       "<div class=\"mgn10\"><!-- space --></div>\n",
       "<div class=\"sakuhin_title\">\n",
       "<p>\n",
       "<span class=\"jp\"><!--☆ここから☆作品タイトル☆-->ゴーストバスターズ　アフターライフ<!--☆ここまで☆作品タイトル☆-->\n",
       "<!--☆ここから☆原題☆--><span class=\"text_small\">GHOSTBUSTERS: AFTERLIFE</span><!--☆ここまで☆原題☆-->\n",
       "</span>\n",
       "<span class=\"bikou\"><!--☆ここから☆視聴制限☆--><img alt=\"■■■\" src=\"img/PG12.gif\"/><!--☆ここまで☆視聴制限☆--></span>\n",
       "</p>\n",
       "</div><!--//sakuhin_title area.-->\n",
       "<div class=\"mgn00\"><!-- space --></div>\n",
       "<div class=\"sakuhin_story\">\n",
       "<div id=\"story_r\" style=\"height: 1200px;\">\n",
       "<p class=\"catch\">\n",
       "<!--☆↓キャッチ↓☆-->\n",
       "<!--☆↑キャッチ↑☆-->\n",
       "</p>\n",
       "<p class=\"story_type3\" style=\"height: 500px;\"><span></span>\n",
       "<!--☆↓物語↓☆-->\n",
       "<a href=\"https://www.ghostbusters.jp/\" target=\"_blank\"><img div=\"\" src=\"img/event/com919.jpg\" style=\"margin-top : 40px\" width=\"650\"/></a>\n",
       "<!--☆↑物語↑☆-->\n",
       "<p class=\"story_type3\" style=\"height: 350px;\"><span>【物語】</span>\n",
       "<!--☆↓物語↓☆-->\n",
       "\t\t\t都会での生活が苦しくなったフィービー（マッケナ・グレイス）と母と兄（フィン・ウルフハード）の一家は、田舎町へと引っ越す。地殻プレートや断層、採掘場やライブハウスさえもないにも関わらず、この街では30年間にわたり原因不明の地震が頻発していた。荒れ果てた小麦畑に祖父が遺した古びた屋敷で暮らし始めたフィービーは、リビングの床に奇妙な仕掛けが施されているのに気づく。パズルのように床をスライドさせると、床下に謎の装置が隠されていた。さらにフィービーが屋敷を探っていくと、祖父の地下研究室で見たことのないハイテク装備の数々を目にする。そして、ゴーストを捕獲するための装置・プロトンパックを見つける。祖父が、かつてゴーストだらけだったニューヨークを救ったゴーストバスターズの一員だったことを知ったフィービーは、床下で見つけたゴーストトラップと呼ばれる装置を誤って開封してしまう。すると、不気味な緑色の光が解き放たれ、それをきっかけに、街ではさらなる異変が起こり始める……。80年代の大ヒット作「ゴーストバスターズ」シリーズの続編。出演は、「gifted／ギフテッド」のマッケナ・グレイス、「アントマン」シリーズのポール・ラッド、「IT／イット　“それ”が見えたら、終わり。」のフィン・ウルフハード。監督は、「ゴーストバスターズ」シリーズの監督アイヴァン・ライトマンの息子で、「マイレージ、マイライフ」のジェイソン・ライトマン。\n",
       "\t\t\t<!--☆↑物語↑☆-->\n",
       "</p>\n",
       "<p class=\"director\">\n",
       "<!--☆↓監督↓☆-->\n",
       "<span>【監督】</span>ジェイソン・ライトマン \n",
       "<span>【脚本】</span>ジェイソン・ライトマン / ギル・キーナン \n",
       "<span>【原作映画脚本】</span>ダン・エイクロイド / ハロルド・ライミス \n",
       "<!--☆↑監督↑☆-->\n",
       "</p>\n",
       "<p class=\"cast\">\n",
       "<!--☆↓出演↓☆-->\n",
       "<span>【出演】</span>ポール・ラッド / マッケンナ・グレイス / フィン・ウルフハード / キャリー・クーン / ローガン・キム / セレステ・オコナー 他\n",
       "<!--☆↑出演↑☆-->\n",
       "</p>\n",
       "<p class=\"haikyu\">\n",
       "<span>【<!--☆↓ここから☆配給↓☆-->\n",
       "\t\t\t2020 / アメリカ / アクション / コメディ / ドラマ / 字幕版 / デジタル / ２時間０４分 / ＰＧ−１２<font color=\"blue\">　※小学生以下のお子様が視聴する際、保護者の助言・指導が必要です。\n",
       "\t\t\t<!--☆↑ここまで☆配給↑☆-->】\n",
       "\t\t\t</font></span>\n",
       "</p>\n",
       "</p></div>\n",
       "<div id=\"story_l\">\n",
       "<!--☆ここから☆作品写真・公式サイト↓☆381-->\n",
       "<!--☆ここまで☆作品写真・公式サイト↑☆-->\n",
       "</div>\n",
       "</div><!--//sakuhin_story area.-->\n",
       "</div>"
      ]
     },
     "execution_count": 9,
     "metadata": {},
     "output_type": "execute_result"
    }
   ],
   "source": [
    "movies = soup.find_all(id=\"sakuhin_detail\")\n",
    "movies[0]\n"
   ]
  },
  {
   "cell_type": "code",
   "execution_count": 10,
   "id": "dee9d245",
   "metadata": {},
   "outputs": [],
   "source": [
    "movie_info = []\n",
    "\n",
    "pattern = r\"タイトル☆-->(.*)<!--☆ここまで\""
   ]
  },
  {
   "cell_type": "code",
   "execution_count": 11,
   "id": "b58c9a25",
   "metadata": {},
   "outputs": [],
   "source": [
    "for movie in movies:\n",
    "    engtitle = movie.find('span', class_='text_small').text\n",
    "    jptitle = re.findall(pattern, str(movie))[0].replace('\\u3000', ' ')\n",
    "    movie_dict = {'engtitle':engtitle, 'jptitle':jptitle}\n",
    "    movie_info.append(movie_dict)"
   ]
  },
  {
   "cell_type": "code",
   "execution_count": 12,
   "id": "b8bb6e17",
   "metadata": {
    "scrolled": false
   },
   "outputs": [
    {
     "name": "stdout",
     "output_type": "stream",
     "text": [
      "{'engtitle': 'GHOSTBUSTERS: AFTERLIFE', 'jptitle': 'ゴーストバスターズ アフターライフ'}\n",
      "{'engtitle': 'GHOSTBUSTERS', 'jptitle': 'ゴーストバスターズ'}\n",
      "{'engtitle': 'SPIDER-MAN: NO WAY HOME', 'jptitle': 'スパイダーマン：ノー・ウェイ・ホーム'}\n",
      "{'engtitle': 'UNCHARTED', 'jptitle': 'アンチャーテッド'}\n",
      "{'engtitle': 'SPIDER-MAN: INTO THE SPIDER-VERSE', 'jptitle': 'スパイダーマン：スパイダーバース'}\n",
      "{'engtitle': '', 'jptitle': 'ハッピーアワー'}\n",
      "{'engtitle': 'EL PLANETA', 'jptitle': 'エル プラネタ'}\n",
      "{'engtitle': 'LAS NINAS / SCHOOLGIRLS', 'jptitle': 'スクールガールズ'}\n",
      "{'engtitle': 'The Blues Brothers', 'jptitle': 'ブルース・ブラザース'}\n",
      "{'engtitle': '（あるいは、革命がテレビ放映されなかった時）\\nSUMMER OF SOUL (OR, WHEN THE REVOLUTION COULD NOT BE TELEVISED)\\n', 'jptitle': 'サマー・オブ・ソウル<span class=\"text_small\">（あるいは、革命がテレビ放映されなかった時）'}\n",
      "{'engtitle': 'BELUSHI', 'jptitle': 'ＢＥＬＵＳＨＩ ベルーシ'}\n",
      "{'engtitle': '', 'jptitle': '新幹線大爆破'}\n",
      "{'engtitle': '', 'jptitle': '家族ゲーム'}\n",
      "{'engtitle': '', 'jptitle': '太陽を盗んだ男'}\n",
      "{'engtitle': '', 'jptitle': '炎の肖像'}\n",
      "{'engtitle': '怒火・重案 / RAGING FIRE', 'jptitle': 'レイジング・ファイア'}\n",
      "{'engtitle': '肥龍過江 / ENTER THE FAT DRAGON', 'jptitle': '燃えよデブゴン ＴＯＫＹＯ ＭＩＳＳＩＯＮ'}\n",
      "{'engtitle': '', 'jptitle': 'ひらいて'}\n",
      "{'engtitle': '', 'jptitle': '私は白鳥'}\n",
      "{'engtitle': '', 'jptitle': 'くじらびと'}\n",
      "{'engtitle': 'THE TRUFFLE HUNTERS', 'jptitle': '白いトリュフの宿る森'}\n",
      "{'engtitle': 'FANTASTIC FUNGI', 'jptitle': '素晴らしき、きのこの世界'}\n"
     ]
    }
   ],
   "source": [
    "for m in movie_info:\n",
    "    print(m)"
   ]
  },
  {
   "cell_type": "markdown",
   "id": "b8615f1c",
   "metadata": {},
   "source": [
    "### Movies + Dates"
   ]
  },
  {
   "cell_type": "code",
   "execution_count": 276,
   "id": "fd0290f1",
   "metadata": {
    "scrolled": false
   },
   "outputs": [
    {
     "data": {
      "text/plain": [
       "<div id=\"jyouei_kikan\">\n",
       "<div id=\"detail_l\">\n",
       "<p><span class=\"date\">5.7</span><span class=\"week\">sat</span><span class=\"week\">〜</span>\n",
       "<span class=\"date\">5.13</span><span class=\"week\">fri</span></p>\n",
       "</div>\n",
       "<div id=\"detail_r\">\n",
       "<p><span class=\"period\"> 1週間上映 </span></p>\n",
       "</div>\n",
       "<div id=\"detail_line\"><!-- line space --></div>\n",
       "</div>"
      ]
     },
     "execution_count": 276,
     "metadata": {},
     "output_type": "execute_result"
    }
   ],
   "source": [
    "soup.find_all(id=['jyouei_kikan','sakuhin_detail'])[3] \n",
    "\n",
    "#dates and movies are sequential in the html and not distributed into common parents\n",
    "#so go through the soup searching for both the dates (j_k) and movie info (s_d)"
   ]
  },
  {
   "cell_type": "code",
   "execution_count": 374,
   "id": "ac87a40f",
   "metadata": {},
   "outputs": [],
   "source": [
    "dateandmovie = soup.find_all(id=['jyouei_kikan','sakuhin_detail'])"
   ]
  },
  {
   "cell_type": "code",
   "execution_count": 369,
   "id": "d9528327",
   "metadata": {},
   "outputs": [],
   "source": [
    "meguro_info = [\n",
    "    date_extract(dateormovie) if dateormovie.attrs['id'] == 'jyouei_kikan' \n",
    "    else movie_extract(dateormovie)\n",
    "    for dateormovie in datesandmovies]"
   ]
  },
  {
   "cell_type": "code",
   "execution_count": 376,
   "id": "59730d7b",
   "metadata": {},
   "outputs": [],
   "source": [
    "def date_extract(soup):\n",
    "    datespans = soup.find_all(class_='date')\n",
    "    dates = [date.text.replace('.','/') for date in datespans]\n",
    "    return dates\n",
    "\n",
    "def movie_extract(soup):\n",
    "    pattern = r\"タイトル☆-->.*<!--☆ここまで\"\n",
    "    engtitle = soup.find('span', class_='text_small').text\n",
    "    jptitle = re.findall(pattern, str(soup))[0].replace('\\u3000', ' ')\n",
    "    movie_dict = {'engtitle':engtitle, 'jptitle':jptitle}\n",
    "    return(movie_dict)"
   ]
  },
  {
   "cell_type": "code",
   "execution_count": 382,
   "id": "8d01908d",
   "metadata": {},
   "outputs": [],
   "source": [
    "def meguro_info(soup):\n",
    "    dateormovie = soup.find_all(id=['jyouei_kikan','sakuhin_detail'])\n",
    "    meguro_info = [\n",
    "    date_extract(dateormovie) if dateormovie.attrs['id'] == 'jyouei_kikan' \n",
    "    else movie_extract(dateormovie)\n",
    "    for dateormovie in dateormovie]\n",
    "    return meguro_info"
   ]
  },
  {
   "cell_type": "code",
   "execution_count": 385,
   "id": "b37d5128",
   "metadata": {},
   "outputs": [],
   "source": [
    "abc = meguro_info(soup)"
   ]
  },
  {
   "cell_type": "code",
   "execution_count": 387,
   "id": "dac35440",
   "metadata": {},
   "outputs": [
    {
     "data": {
      "text/plain": [
       "[['4/30', '5/6'],\n",
       " {'engtitle': 'GHOSTBUSTERS: AFTERLIFE', 'jptitle': 'ゴーストバスターズ アフターライフ'},\n",
       " {'engtitle': 'GHOSTBUSTERS', 'jptitle': 'ゴーストバスターズ'},\n",
       " ['5/7', '5/13'],\n",
       " {'engtitle': 'SPIDER-MAN: NO WAY HOME', 'jptitle': 'スパイダーマン：ノー・ウェイ・ホーム'},\n",
       " {'engtitle': 'UNCHARTED', 'jptitle': 'アンチャーテッド'},\n",
       " {'engtitle': 'SPIDER-MAN: INTO THE SPIDER-VERSE',\n",
       "  'jptitle': 'スパイダーマン：スパイダーバース'},\n",
       " ['5/14', '5/15'],\n",
       " {'engtitle': '', 'jptitle': 'ハッピーアワー'},\n",
       " ['5/14', '5/20'],\n",
       " {'engtitle': 'EL PLANETA', 'jptitle': 'エル プラネタ'},\n",
       " {'engtitle': 'LAS NINAS / SCHOOLGIRLS', 'jptitle': 'スクールガールズ'},\n",
       " ['5/21', '5/27'],\n",
       " {'engtitle': 'The Blues Brothers', 'jptitle': 'ブルース・ブラザース'},\n",
       " {'engtitle': '（あるいは、革命がテレビ放映されなかった時）\\nSUMMER OF SOUL (OR, WHEN THE REVOLUTION COULD NOT BE TELEVISED)\\n',\n",
       "  'jptitle': 'サマー・オブ・ソウル<span class=\"text_small\">（あるいは、革命がテレビ放映されなかった時）'},\n",
       " {'engtitle': 'BELUSHI', 'jptitle': 'ＢＥＬＵＳＨＩ ベルーシ'},\n",
       " ['5/28', '6/3'],\n",
       " {'engtitle': '', 'jptitle': '新幹線大爆破'},\n",
       " {'engtitle': '', 'jptitle': '家族ゲーム'},\n",
       " {'engtitle': '', 'jptitle': '太陽を盗んだ男'},\n",
       " {'engtitle': '', 'jptitle': '炎の肖像'},\n",
       " ['6/4', '6/10'],\n",
       " {'engtitle': '怒火・重案 / RAGING FIRE', 'jptitle': 'レイジング・ファイア'},\n",
       " {'engtitle': '肥龍過江 / ENTER THE FAT DRAGON',\n",
       "  'jptitle': '燃えよデブゴン ＴＯＫＹＯ ＭＩＳＳＩＯＮ'},\n",
       " ['6/18', '6/24'],\n",
       " {'engtitle': '', 'jptitle': 'ひらいて'},\n",
       " ['6/25', '7/1'],\n",
       " {'engtitle': '', 'jptitle': '私は白鳥'},\n",
       " {'engtitle': '', 'jptitle': 'くじらびと'},\n",
       " {'engtitle': 'THE TRUFFLE HUNTERS', 'jptitle': '白いトリュフの宿る森'},\n",
       " {'engtitle': 'FANTASTIC FUNGI', 'jptitle': '素晴らしき、きのこの世界'}]"
      ]
     },
     "execution_count": 387,
     "metadata": {},
     "output_type": "execute_result"
    }
   ],
   "source": [
    "abc"
   ]
  },
  {
   "cell_type": "code",
   "execution_count": null,
   "id": "4d6c47b0",
   "metadata": {},
   "outputs": [],
   "source": []
  }
 ],
 "metadata": {
  "kernelspec": {
   "display_name": "Python 3 (ipykernel)",
   "language": "python",
   "name": "python3"
  },
  "language_info": {
   "codemirror_mode": {
    "name": "ipython",
    "version": 3
   },
   "file_extension": ".py",
   "mimetype": "text/x-python",
   "name": "python",
   "nbconvert_exporter": "python",
   "pygments_lexer": "ipython3",
   "version": "3.8.12"
  },
  "toc": {
   "base_numbering": 1,
   "nav_menu": {},
   "number_sections": true,
   "sideBar": true,
   "skip_h1_title": false,
   "title_cell": "Table of Contents",
   "title_sidebar": "Contents",
   "toc_cell": false,
   "toc_position": {},
   "toc_section_display": true,
   "toc_window_display": false
  }
 },
 "nbformat": 4,
 "nbformat_minor": 5
}
